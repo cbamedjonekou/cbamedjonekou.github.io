{
 "cells": [
  {
   "cell_type": "markdown",
   "metadata": {},
   "source": [
    "**Name: Christ-Brian Amedjonekou**  \n",
    "**Date: 12/03/2018**  \n",
    "**EET 2140 - E236 (Communications Electronics) Homework 7**  \n",
    "**Fall 2018, Section: D278, Code: 37580**  \n",
    "**Instructor: Song Tang**"
   ]
  },
  {
   "cell_type": "markdown",
   "metadata": {},
   "source": [
    "#### Q: 14, 26, 27\n",
    "\n",
    "14. **An audio signal is band-limited to 15 kHz. What is the minimum sample frequency if this signal is to be digitized?**\n",
    "\n",
    "    * Using Nyquist rate $f_s \\geq 2f_i$.\n",
    "    \n",
    "    $$2*15 \\text{ KHz} = 30 \\text{ KHz}$$\n",
    "    \n",
    "    * So at least twice the intelligence frequency"
   ]
  },
  {
   "cell_type": "markdown",
   "metadata": {},
   "source": [
    "26. **Determine the distance between the following two digital values:**\n",
    "$$\\space$$\n",
    "$$110001010$$\n",
    "$$010000010$$\n",
    "$$-------$$\n",
    "$$\\mathbf{100001000}$$  \n",
    "    * Based on the XOR gate"
   ]
  },
  {
   "cell_type": "markdown",
   "metadata": {},
   "source": [
    "27. What is the minimum distance between data words if\n",
    "\n",
    "    *  Five errors are to be detected\n",
    "    $$\\space$$\n",
    "    $$\\text{# of Errors} = D_{min} - 1 \\text{, therefore } D_{min} = 5 + 1 = 6$$\n",
    "    *  Eight errors are to be detected\n",
    "    $$\\space$$\n",
    "    $$\\text{# of Errors} = D_{min} - 1 \\text{, therefore } D_{min} = 8 + 1 = 9$$"
   ]
  }
 ],
 "metadata": {
  "kernelspec": {
   "display_name": "Python 3",
   "language": "python",
   "name": "python3"
  },
  "language_info": {
   "codemirror_mode": {
    "name": "ipython",
    "version": 3
   },
   "file_extension": ".py",
   "mimetype": "text/x-python",
   "name": "python",
   "nbconvert_exporter": "python",
   "pygments_lexer": "ipython3",
   "version": "3.7.0"
  }
 },
 "nbformat": 4,
 "nbformat_minor": 2
}
