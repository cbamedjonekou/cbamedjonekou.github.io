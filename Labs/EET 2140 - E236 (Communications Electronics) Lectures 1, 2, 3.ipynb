{
 "cells": [
  {
   "cell_type": "markdown",
   "metadata": {},
   "source": [
    "# Communications Electronics Lecture 1 (08/30/18), 2 (09/06/18), and 3 (09/13/18)"
   ]
  },
  {
   "cell_type": "markdown",
   "metadata": {},
   "source": [
    "### This chapter discusses Electronic Communications. One of two fundamental themes unifying the study of communications systems is the notion of bandwidth. The other is noise (Note: Remember electrical Signals are comprised of two components; they are comprised of information and Noise.). We'll briefly talk about both here and go in depth in later notes.\n",
    "\n",
    "* The function of any communication system is to transfer information from one point to another. All systems fundamentally consist of three elements: \n",
    "\n",
    "    1. A transmitter\n",
    "    2. A receiver \n",
    "    3. A channel (or link) for information transfer\n",
    " \n",
    "        * The channel can be, and often is, wireless.\n",
    "        * For example:  the Earth’s atmosphere, free space—a vacuum—can form the path between transmitter and receiver. \n",
    "        * Channels can also be formed from physical media.\n",
    "        * For example: copper wires, transmission lines, waveguides, or optical fibers.\n",
    "        \n",
    "        "
   ]
  },
  {
   "cell_type": "markdown",
   "metadata": {},
   "source": [
    "### Modulation is a technique we use transmit signals/information\n",
    "\n",
    "* An important but basic communication concept is <b>modulation</b>. <b>Modulation</b> is the process of impressing relatively low-frequency voltages that represent information (E.g.: voices, images, or data) onto a high-frequency signal called a carrier for transmission.\n",
    "    "
   ]
  },
  {
   "cell_type": "markdown",
   "metadata": {},
   "source": [
    "### The discipline of communications engineering is ultimately concerned with making the best use of finite spectrum, and many techniques described in this text evolved specifically to promote spectrum efficiency through the minimization of transmission bandwidth. The Frequency Power Spectra can be considered one of them.\n",
    "\n",
    "*  In addition to the process of impressing <b>intelligence</b> onto a <b>carrier</b>, the process of modulation is also involved in the production of frequencies:\n",
    "\n",
    "\n",
    "* <b>Detail about the Frequencies:</b> These additional frequencies reside both above and below the carrier and represent the physical manifestation of Hartley’s law, It goes as follows: \n",
    "    \n",
    "    <p><ol>\n",
    "    <li>Bandwidth is determined by the locations on the spectrum of all the frequencies produced as the result of modulation.</li>\n",
    "    <p></p>\n",
    "    <li> The amplitude and frequency characteristics of both the carrier, which is usually a sine wave, and the modulating signal, which is often not a sine wave, plays a large role in determining the overall bandwidth characteristics of the modulated signal.</li>\n",
    "    <p></p>\n",
    "    <li>To develop a complete picture of occupied bandwidth, one must have a means of resolving (identifying) all the significant frequency components and amplitude characteristics of modulated signals. To do so, we make use of a mathematical technique known as Fourier analysis.</li>\n",
    "  \n",
    "    </ol></p>\n",
    "    \n",
    "* A Fourier series, as applied to a time-varying signal, can be expressed as follows:\n",
    "\n",
    "$$f(t) = A_0 + A_1\\sin \\omega t + A_2\\sin 2 \\omega t + A_3\\sin 3 \\omega t + ... + A_n\\sin n \\omega t$$\n",
    "$$+ B_1\\cos \\omega t + B_2\\cos 2 \\omega t + B_3\\cos 3 \\omega t +... +B_n\\cos n \\omega t $$\n",
    "\n",
    "\n",
    "* Where the following applies:\n",
    "\n",
    "$$f(t) = \\text{ a function of anytime.}$$\n",
    "\n",
    "$$A_n \\text{ and } B_n = \\text{ real-number coefficients. (Positive, Negative, and zero)}$$\n",
    "\n",
    "$$\\omega = \\text{ the radian frequency of the fundamental.}$$\n",
    "\n",
    "*  The first frequency term in the fourier series is called the fundamental. It's the frequency of the waveform being represented and must be present in any Fourier series representation. \n",
    "\n",
    "\n",
    "* The sine and cosine terms following the fundamental are called harmonic terms because they are integer multiples of the frequency of the first term in their respective series. \n",
    "\n",
    "\n",
    "### The Big Idea?\n",
    "\n",
    "* Basically with enough odd harmonics we can form a square wave form (digital)."
   ]
  },
  {
   "cell_type": "markdown",
   "metadata": {},
   "source": [
    "### What about Electrical Signals? You can think of a Modulated signal as a type of Electrical Signal...\n",
    "\n",
    "* Electrical Signals are comprised of two parts:\n",
    "\n",
    "    1. One is <b>Noise</b>. \n",
    "    2. The other is the <b>Original Information</b>. \n",
    "\n",
    "\n",
    "* Virtually all telecommunication/electronic communications systems are affected by noise in some way. \n",
    "\n",
    "\n",
    "* Noise is always superimposed (on top of) the Original Information you are trying to transmit. This is the reason why noise is a huge issue.\n",
    "\n",
    "    * Noise interferes w/ receiving the Original Information. Thus, we try to mitigate its effects."
   ]
  },
  {
   "cell_type": "markdown",
   "metadata": {},
   "source": [
    "### Electrical Noise is inherit in all transmitted and received signals. The effects of Electrical Noise severely hamper systems performance. All of this was aforementioned. \n",
    "\n",
    "* The following are some of the factors that cause telecommunication systems to be vulnerable.\n",
    "\n",
    "    * Increased traffic volume in call switching centers\n",
    "    * Enormous channel capacities of trunk circuits\n",
    "    * Trends toward high speed digital and data transmissions\n",
    "    \n",
    "    \n",
    "* As aforementioned we try to remove the noise because it degrades our original information. The following are examples of ways we try to do so:\n",
    "\n",
    "    * Special Encoding and Decoding Techniques (optimizes recovery of signal)\n",
    "    * Extensive Conditioning of the signal (we use filters and amplifiers for this)\n",
    "    * Like in \"Lecture Notes 1\" the following are some that can affect transmissions, so we pay careful attention to them:\n",
    "    \n",
    "        <p><ol>\n",
    "        <li>Transmission Route</li>\n",
    "        <li>Transmission Type</li>\n",
    "        <li>Transmission Medium</li>\n",
    "        </ol></p>       \n",
    "        \n",
    "    * Elaborate error detection and correction mechanisms."
   ]
  },
  {
   "cell_type": "markdown",
   "metadata": {},
   "source": [
    "### Because noise/noise measurements/noise reductions are so important we'll introduce a method for measurement here:\n",
    "\n",
    "* Historically speaking we use sound to transmit and receive signals.  Analysis of the human audible response shows that it is logarithmic in nature. \n",
    "\n",
    "\n",
    "* Thus, We use decibels to measure that sound.\n",
    "\n",
    "\n",
    "* Usually the decibel (a logarithmic unit) is defined for power ratios (power gain/loss, $A_P$) but is is commonly used for voltage (voltage gain/loss, $A_V$) and current ratios (current gain/loss, $A_I$) in decibels, too.  "
   ]
  },
  {
   "cell_type": "markdown",
   "metadata": {},
   "source": [
    "#### Relative Power Gain: \n",
    "\n",
    "* We'll start with what we previously defined in the previous lecture (<b>Power Gain</b>). We can use what we know about the <b>Power Gain</b> to define/derive an equation for <b>Voltage Gain</b> later. We define <b>Power Gain</b> by the following:\n",
    "\n",
    "$$A_P = \\frac{P_O}{P_I}$$\n",
    "\n",
    "* where $P_O$ and $P_I$ are defined as the following:\n",
    "\n",
    "$$P_I = \\frac{V_I^2}{R_I}$$\n",
    "\n",
    "$$P_O = \\frac{V_O^2}{R_O}$$\n",
    "\n",
    "$$\\text{These definitions above (Ohm's Law) will be used later to derive voltage gain}$$"
   ]
  },
  {
   "cell_type": "markdown",
   "metadata": {},
   "source": [
    "* We can then calculate the <b>Power Gain in Decibals, $A_P(db),$</b> by using logarithms. This is shown below:\n",
    "\n",
    "$$A_P(db) = 10 \\log_{10}A_P = 10 \\log_{10}\\big(\\frac{P_O}{P_I}\\big) = 10 \\log_{10}\\big(\\frac{\\frac{V_O^2}{R_O}}{\\frac{V_I^2}{R_I}}\\big) = 10 \\log_{10}\\big(\\frac{V_O^2}{V_I^2}\\big)$$ \n",
    "\n",
    "$$\\text{, Given that } R_O = R_I$$\n",
    "\n",
    "* If $R_O \\neq R_I$ then the general form is given by the following:\n",
    "\n",
    "$$A_P(db) = 10 \\log_{10}\\big(\\frac{V_O^2}{V_I^2}\\big) - 10 \\log_{10}\\big(\\frac{R_O}{R_I}\\big) \\text{ or } A_P(db) = 10 \\log_{10}\\big(\\frac{\\frac{V_O^2}{R_O}}{\\frac{V_I^2}{R_I}}\\big)$$\n",
    "\n",
    "* <b><i>Relative</i></b> as used here refers to the values of Power being <b><i>relative to each other</i></b>."
   ]
  },
  {
   "cell_type": "markdown",
   "metadata": {},
   "source": [
    "#### Relative Voltage Gain\n",
    "\n",
    "* <b><i>Relative Voltage Gain</i></b> exists as a result of wanting to analyze a circuit in terms of its respective voltages and currents. We'll recall the Ohm's Law Equations for power mentioned above.\n",
    "\n",
    "* we can represent $P_O$ and $P_I$ as the following (Ohm's Law):\n",
    "\n",
    "$$P_I = \\frac{V_I^2}{R_I}$$\n",
    "\n",
    "$$P_O = \\frac{V_O^2}{R_O}$$\n",
    "\n",
    "\n",
    "* By substituting the values for $P_O$ and $P_I$ into the <b>Power Gain in Decibals, $A_P(db)$</b> equation we get the following:\n",
    "\n",
    "$$A_{P(dB)} = 10 \\log_{10} \\frac{P_O}{P_I} = 10 \\log_{10} \\frac{\\frac{V_O^2}{R_O}}{\\frac{V_I^2}{R_I}}$$\n",
    "\n",
    "* Using the logarithm property dealing w/ quotients <b>($\\log_{b}\\frac{M}{N} = \\log_{b}M - \\log_{10}N$)</b> we get the following:\n",
    "\n",
    "$$= 10 \\log_{10}(V_O^2) -  10 \\log_{10}(R_O) - 10 \\log_{10}(V_I^2) - 10 \\log_{10}(R_I)$$\n",
    "\n",
    "* Rearranging the terms we get the following (<b>an equation featuring only voltages</b>) :\n",
    "\n",
    "$$= 10 \\log_{10}(V_O^2) - 10 \\log_{10}(V_I^2) -  10 \\log_{10}(R_O) - 10 \\log_{10}(R_I)$$\n",
    "\n",
    "$$= 10 \\log_{10}\\big(\\frac{V_O^2}{V_I^2}\\big) -  10 \\log_{10}\\big(\\frac{R_O}{R_I}\\big)$$\n",
    "\n",
    "$$= 10 \\log_{10}\\big(\\frac{V_O^2}{V_I^2}\\big) \\text{, Given that } R_O = R_I$$\n",
    "\n",
    "* By using another log identity we can further simplify to get the following (<b><i>an equation for Relative Voltage Gain</i></b>):\n",
    "\n",
    "$$A_V(db) = 10 \\log_{10}\\big(\\frac{V_O^2}{V_I^2}\\big) = 20 \\log_{10}\\big(\\frac{V_O}{V_I}\\big) = 20 \\log_{10} A_V$$\n",
    "\n",
    "* If $R_O \\neq R_I$ then the general form is given by the following:\n",
    "\n",
    "$$A_V(db) = 10 \\log_{10}\\big(\\frac{V_O^2}{V_I^2}\\big) - 10 \\log_{10}\\big(\\frac{R_O}{R_I}\\big) = 20 \\log_{10}\\big(\\frac{V_O}{V_I}\\big) - 10 \\log_{10}\\big(\\frac{R_O}{R_I}\\big)$$"
   ]
  },
  {
   "cell_type": "markdown",
   "metadata": {},
   "source": [
    "#### The dBm and Absolute Power Gain\n",
    "\n",
    "* We consider <b><i>Absolute Power Gain</i></b> when we want to know more about the signal level at the input power, output power, or any point within the telecommunication system. \n",
    "\n",
    "\n",
    "* This is all with reference to some standardized level. This standardized level is the \"$dBm$\" which represents <b><i>decibels referenced to 1 mW</i></b>\n",
    "\n",
    "\n",
    "* The <b><i>Absolute Power Gain</i></b>, denoted by $A_{P(dBm)}$ (\"$dBm$\" represents <b><i>decibels referenced to 1 mW</i></b>), can be calculated using the following:\n",
    "\n",
    "$$A_{P(dBm)} = 10 \\log_{10} \\big(\\frac{P}{1 \\text{ mW}}\\big), \\text{ dBm}$$\n",
    "\n",
    "#### The dBw and Absolute Power Gain\n",
    "\n",
    "* <b><i>Absolute Power Gain</i></b> can also be calculated with a different reference point. This \"other\" standardized level is the \"$dBw$\" which represents <b><i>decibels referenced to 1 W</i></b>\n",
    "\n",
    "\n",
    "* The <b><i>Absolute Power Gain</i></b>, denoted by $A_{P(dBm)}$ (\"$dBw$\" represents <b><i>decibels referenced to 1 W</i></b>), can be calculated using the following:\n",
    "\n",
    "$$A_{P(dBm)} = 10 \\log_{10} \\big(\\frac{P}{1 \\text{ W}}\\big), \\text{ dBw}$$"
   ]
  },
  {
   "attachments": {},
   "cell_type": "markdown",
   "metadata": {},
   "source": [
    "### Now we'll discuss Noise Types before moving on relevent formulae and ratios\n",
    "\n",
    "#### Atmospheric and Extraterrestrial Noise\n",
    "    \n",
    "<p><ul><li>Lightning (Frequency Rng: 0-30 MHz)</li>\n",
    "<li>Solar Noise</li>\n",
    "<li>Cosmic Noise (Frequency Rng: 20 Hz - 26 KHz)</li></ul></p>\n",
    "\n",
    "#### Gaussian Noise\n",
    "\n",
    "##### Thermal Noise (aka: White Noise, Johnson Noise) (Frequency Rng: up to 300 GHz). It's noise that occurs from thermal reactions between free electrons and wibrating ions in a conductor. These reactions (occuring at all temperatures) create random noise voltages to appear across the resistor. J.B. Johnson studied this at Bell Labs which is why it's named after him (Johnson). It's synonymously called white noise, since white as a color contains all frequencies, all colors. There's a formula that calculates the power of this type of noise (Credit to J.B. Johnson again.)\n",
    "\n",
    "\n",
    "$$P_n = kT\\Delta f $$\n",
    "\n",
    "$$k = \\text{ Boltzmann's Constant }(1.38 * 10^{-23})\\text{ J/K}$$\n",
    "\n",
    "$$T = \\text{ resistor temperature in Kelvin }(K)$$\n",
    "\n",
    "$$\\Delta f = \\text{ system bandwidth.}$$\n",
    "\n",
    "##### Using the above proportionality we can relate bandwidth to noise, shown below:\n",
    "\n",
    "* Given the noise can be represented as $e_n$ then we can say the following:\n",
    "\n",
    "$$P_n = \\frac{V_n^2}{R} =  kT\\Delta f, \\text{ where } V_n = \\frac{e_n}{2}$$\n",
    "\n",
    "* This is true by Ohm's law. By solving in terms of $e_n$ we get the following:\n",
    "\n",
    "$$\\frac{V_n^2}{R} =  kT\\Delta f \\text{ where } V_n = \\frac{e_n}{2}$$\n",
    "\n",
    "$$\\frac{\\big(\\frac{e_n}{2}\\big)^2}{R} = \\frac{\\big(\\frac{e_n^2}{4}\\big)}{R} = kT\\Delta f$$\n",
    "\n",
    "$$\\big(\\frac{e_n^2}{4}\\big) =  kT\\Delta f R$$\n",
    "\n",
    "$$e_n =  \\sqrt{4kT\\Delta f R}$$"
   ]
  },
  {
   "cell_type": "markdown",
   "metadata": {},
   "source": [
    "#### Crosstalk\n",
    "\n",
    "<p><ul><li>Near End Cross Talk</li>\n",
    "<li>Far End Cross Talk</li></ul></p>\n",
    "\n",
    "#### Impulse Noise\n",
    "\n",
    "* Human Auditory Response:\n",
    "\n",
    "\t$$ dB_S = 20 \\log_{10} \\big(\\frac{P}{0.0002 \\space \\bar{\\mu}}\\big) \\text{, where P is sound pressure in } \\bar{\\mu}$$\n",
    "\n",
    "\t$$ \\bar{\\mu} = 1 \\space \\frac{\\text{dyne}}{\\text{cm}^2} = 10^{-6} \\text{ of atmospheric pressure at sea level}$$"
   ]
  },
  {
   "cell_type": "markdown",
   "metadata": {},
   "source": [
    "### This section covers Noise Designation and Calculation\n",
    "\n",
    "#### Signal to Noise Ratio (SNR)\n",
    "\n",
    "* <b><i>Signal to Noise Ratio (SNR)</i></b> is one of the most useful ways to noise. It considers the Signal Power and Noise Power (by ext. Signal and Noise Voltage)\n",
    "\n",
    "* It allows us to evaluate and anticipate extraneous effects of noise. It is also usually measured at the receiving end of the communication system before the detection of the signal. \n",
    "\n",
    "* It can be calculated by the following:\n",
    "\n",
    "\n",
    "$$ \\text{SNR } = 10 \\log_{10}\\big(\\frac{\\text{Signal Power}}{\\text{Noise Power}}\\big)$$ \n",
    "\n",
    "$$\\text{SNR } = 10 \\log_{10} \\big(\\frac{\\frac{V_S^2}{R_1}}{\\frac{V_N^2}{R_1}}\\big)$$\n",
    "\n",
    "$$\\text{And given that } R_O = R_I,$$\n",
    "\n",
    "$$\\text{SNR } = 10 \\log_{10} \\big(\\frac{V_S^2}{V_N^2}\\big)$$\n",
    "\n",
    "\n",
    "* A formula for considering voltage can be derived and is shown below:\n",
    "\n",
    "\n",
    "$$\\text{SNR } = 20 \\log_{10} \\big(\\frac{V_S}{V_N}\\big)\\text{dB}$$"
   ]
  },
  {
   "cell_type": "markdown",
   "metadata": {},
   "source": [
    "#### Noise Figure\n",
    "\n",
    "* The <b>S/N ratio identifies</b> the noise content at a specific point but is not useful in relating how much additional noise a particular device (either an individual component such as a tran- sistor or an entire stage such as an amplifier) has injected into the signal path. The noise figure (NF) specifies exactly how noisy a device is. It is defined as follows:\n",
    "\n",
    "\n",
    "$$NF = 10 \\log_{10} \\frac{\\frac{S_i}{N_i}}{\\frac{S_o}{N_o}} = 10 \\log_{10} NR$$\n",
    "\n",
    "$$NR = \\frac{\\frac{S_i}{N_i}}{\\frac{S_o}{N_o}} \\text{ is the Noise Ratio}$$\n",
    "\n",
    "$$\\frac{S_i}{N_i} = \\text{ input SNR}$$\n",
    "\n",
    "$$\\frac{S_o}{N_o} = \\text{ output SNR}$$"
   ]
  },
  {
   "cell_type": "markdown",
   "metadata": {},
   "source": [
    "#### Reactance Noise Effects\n",
    "\n",
    "* In theory, reactive components do not introduce noise into systems of which they are a part because ideal capacitors and inductors contain no resistance. The ideal cannot occur in the real world but resistances within capacitors and inductors produce negligible noise effects as compared with semiconductors and other resistances.\n",
    "\n",
    "\n",
    "*  The equivalent bandwidth ($\\Delta f_{eq}$) to be used in noise calculations with reactive circuits is given by\n",
    "\n",
    "$$\\Delta f_{eq} = \\frac{\\pi}{2} BW$$\n",
    "\n",
    "* where $BW = 3 \\text{ dB}$ bandwidth for $RC$, $LC$, or $RLC$ circuits. \n",
    "\n",
    "    * The fact that the “noise” bandwidth is greater than the “3-dB” bandwidth is not surprising. Significant noise is still being passed through a system beyond the 3-dB cutoff frequency.\n"
   ]
  },
  {
   "cell_type": "markdown",
   "metadata": {},
   "source": [
    "#### Noise Created by Amplifiers in Cascade\n",
    "\n",
    "\n",
    "* We previously specified that the first stage of a system is dominant with regard to noise effect. We are now going to show that effect numerically. Friiss’s formula is used to provide the overall noise effect of a multistage system.\n",
    "\n",
    "$$NR = NR_1 + \\frac{NR_2 - 1}{P_{G_1}} + ... + \\frac{NR_n - 1}{P_{G_1} * P_{G_2} * P_{G_{(n-1)}}}$$\n",
    "\n",
    "\n",
    "* where the following is true:\n",
    "\n",
    "$$NR = \\text{overall noise ratio of } n \\text{ stages}.$$\n",
    "\n",
    "$$P_G = \\text{power gain ratio}$$"
   ]
  },
  {
   "cell_type": "markdown",
   "metadata": {},
   "source": [
    "#### Equivalent Noise Temperature\n",
    "\n",
    "* Another way of representing noise is through the concept of equivalent noise temperature.\n",
    "\n",
    "*  The concept has nothing to do with actual operating temperature. \n",
    "\n",
    "\n",
    "*  It's a means of representing the noise produced at the output of a real-world device (such as an amplifier) or system (such as a receiver, transmission line, and antenna) in terms of the noise generated by a resistor placed at the input to a noiseless (theoretically perfect) amplifier with the same gain as the device or system under consideration. \n",
    "\n",
    "\n",
    "* The concept actually conveniently allows for the handling of noise calculations involved with microwave receivers (1 GHz and above) and their associated antenna systems, especially space communication systems. \n",
    "\n",
    "\n",
    "* It allows for easy calculation of noise power at a receiver using the decibel relationships.\n",
    "\n",
    "\n",
    "* The $T_{eq}$ of a receiver is related to its noise ratio, $NR$, by\n",
    "\n",
    "$$T_{eq} = T_0(NR-1)$$\n",
    "\n",
    "$$\\text{where } T_0 = 290 \\text{ K, a reference temperature in Kelvin.} $$\n",
    "\n",
    "#### Equivalent Noise Resistance\n",
    "\n",
    "* Manufacturers sometimes represent the noise generated by a device with a fictitious resistance termed the equivalent noise resistance ($R_{eq}$). \n",
    "\n",
    "\n",
    "* It is the resistance that generates the same amount of noise predicted by $\\sqrt{4kT\\Delta f R}$ as the device does. \n",
    "\n",
    "\n",
    "* The device (or complete amplifier) is then assumed to be noiseless in making subsequent noise calculations. The latest trends use noise figure or noise temperatures more.\n"
   ]
  },
  {
   "cell_type": "markdown",
   "metadata": {},
   "source": [
    "## Homework Questions (Chapter 1)\n",
    "\n",
    "#### Questions: 8, 11, 13, 24, 25, 34, 36"
   ]
  },
  {
   "cell_type": "markdown",
   "metadata": {},
   "source": [
    "* <b>Question 8:</b>"
   ]
  },
  {
   "cell_type": "markdown",
   "metadata": {},
   "source": [
    "* <b>Question 11:</b> A 600 $\\Omega$ microphone output at -70 dBM level. Calculate the equivalent output voltage"
   ]
  },
  {
   "cell_type": "code",
   "execution_count": 1,
   "metadata": {
    "collapsed": true
   },
   "outputs": [],
   "source": [
    "import math\n",
    "\n",
    "expo = -70/20\n",
    "R = 600\n",
    "P = 1 * math.pow(10, -3)\n",
    "v1mw = math.sqrt(P * R)\n",
    "v = math.pow(10,expo) * v1mw"
   ]
  },
  {
   "cell_type": "code",
   "execution_count": 30,
   "metadata": {},
   "outputs": [
    {
     "data": {
      "text/plain": [
       "0.00024494897427831784"
      ]
     },
     "execution_count": 30,
     "metadata": {},
     "output_type": "execute_result"
    }
   ],
   "source": [
    "v"
   ]
  },
  {
   "cell_type": "markdown",
   "metadata": {},
   "source": [
    "* <b>Question 13:</b> A 2.15 $V$ <b>rms</b> signal is measured across a 600 $\\Omega$ load. Convert this measure value to is dBm equivalent.\n",
    "\n",
    "$$P = \\frac{V^2}{R}$$\n",
    "\n",
    "$$dBm = 10 \\log_{10}\\big(\\frac{P}{1 \\text{ mW}}\\big)$$"
   ]
  },
  {
   "cell_type": "code",
   "execution_count": 20,
   "metadata": {
    "collapsed": true
   },
   "outputs": [],
   "source": [
    "# Using the above equations\n",
    "\n",
    "V = 2.15\n",
    "R = 600\n",
    "p = math.pow(V,2)/R\n",
    "mW = 1 * math.pow(10,-3)\n",
    "dBm = 10 * math.log(p/mV, 10)"
   ]
  },
  {
   "cell_type": "code",
   "execution_count": 21,
   "metadata": {},
   "outputs": [
    {
     "data": {
      "text/plain": [
       "8.86725669447567"
      ]
     },
     "execution_count": 21,
     "metadata": {},
     "output_type": "execute_result"
    }
   ],
   "source": [
    "dBm"
   ]
  },
  {
   "cell_type": "markdown",
   "metadata": {},
   "source": [
    "$$P = \\frac{V_{1 \\text{ mW}}^2}{R}$$\n",
    "\n",
    "$$1 \\text{ mW} = \\frac{V_{1 \\text{ mW}}^2}{600}$$\n",
    "\n",
    "$$V_{1 \\text{ mW}}^2 = 1 \\text{ mW} * 600 \\Omega = 0.001 \\text{ W} * 600 \\Omega = 0.6$$\n",
    "\n",
    "$$V_{1 \\text{ mW}} = \\sqrt{0.6} = 0.774$$\n",
    "\n",
    "$$dBm = 20 \\log_{10}\\big(\\frac{V}{V_{1 \\text{ mW}}}\\big)$$"
   ]
  },
  {
   "cell_type": "code",
   "execution_count": 22,
   "metadata": {
    "collapsed": true
   },
   "outputs": [],
   "source": [
    "# Using the above equations\n",
    "\n",
    "V = 2.15\n",
    "dBm = 20*math.log(V/v1mw, 10)"
   ]
  },
  {
   "cell_type": "code",
   "execution_count": 23,
   "metadata": {},
   "outputs": [
    {
     "data": {
      "text/plain": [
       "8.86725669447567"
      ]
     },
     "execution_count": 23,
     "metadata": {},
     "output_type": "execute_result"
    }
   ],
   "source": [
    "dBm"
   ]
  },
  {
   "cell_type": "markdown",
   "metadata": {},
   "source": [
    "* <b>Question 24:</b>"
   ]
  },
  {
   "cell_type": "markdown",
   "metadata": {},
   "source": [
    "* <b>Question 25:</b>"
   ]
  },
  {
   "cell_type": "markdown",
   "metadata": {},
   "source": [
    "* <b>Question 34:</b>"
   ]
  },
  {
   "cell_type": "markdown",
   "metadata": {},
   "source": [
    "* <b>Question 36:</b>"
   ]
  }
 ],
 "metadata": {
  "kernelspec": {
   "display_name": "Python 3",
   "language": "python",
   "name": "python3"
  },
  "language_info": {
   "codemirror_mode": {
    "name": "ipython",
    "version": 3
   },
   "file_extension": ".py",
   "mimetype": "text/x-python",
   "name": "python",
   "nbconvert_exporter": "python",
   "pygments_lexer": "ipython3",
   "version": "3.7.0"
  }
 },
 "nbformat": 4,
 "nbformat_minor": 2
}
