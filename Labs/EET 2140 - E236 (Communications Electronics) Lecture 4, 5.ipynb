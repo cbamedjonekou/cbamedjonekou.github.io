{
 "cells": [
  {
   "cell_type": "markdown",
   "metadata": {},
   "source": [
    "# EET 2140 - E236 (Communications Electronics) Lecture 4  09/20/18 & Lecture 5 09/27/18"
   ]
  },
  {
   "cell_type": "markdown",
   "metadata": {},
   "source": [
    "## Lecture 4: AM Modulation (09/20/18)\n",
    "\n",
    "$$\\space$$"
   ]
  },
  {
   "cell_type": "markdown",
   "metadata": {},
   "source": [
    "**Modulation was the topic of discussion, specifically amplitude modulation.**\n",
    "\n",
    "\n",
    "**Previous Lecture Notes try to show the importance of modulation in communications systems. Modulation involves combining an information signal with a carrier**\n",
    "\n",
    "* Information signal: An information signal is often a signal whose instantaneous peak voltage is constantly changing and whose range of occupied frequencies is relatively low.\n",
    "\n",
    "\n",
    "* Carrier signal: A carrier signal is a relatively high-frequency sine wave of constant amplitude.\n",
    "\n",
    "**In the case of amplitude modulation (AM), the carrier is also of constant frequency. Under certain conditions combining any two (or more) signals of different frequencies will cause them to interact in a way that creates additional frequencies, each bearing a mathematical relationship to those being combined. The process just hightlighted is called *Mixing*. We'll cover a special case in these lecture notes. Since we're dealing with Waves, knowing the following is important:**\n",
    "\n",
    "$$v(t) = V_P\\sin(\\omega t + \\theta)$$\n",
    "\n",
    "** There are 3 characteristics we're concerned with and that we can modify to convey information. They are:\n",
    "\n",
    "* Amplitude -- $V_P$\n",
    "* Frequency -- $\\omega t$\n",
    "* Phase -- $\\theta$\n",
    "\n",
    "*** Recall also that the information signal is generally termed the \"intelligence\". Other terms for intelligence are modulating signal, audio signal, or modulating wave. AM, which conveys information through changes in the instantaneous peak voltage (amplitude) of the modulated carrier, is the oldest and most straightforward of the approaches and is the focus of this section.***\n",
    "\n",
    "**AM has virtue of simplicity, both in generation at the transmitter and detection at the receiver. AM takes several forms. They are the following:**\n",
    "\n",
    "* Double-sideband, full-carrier (DSBFC) -  transmits the entire modulated signal at full power and is used in broadcasting and aviation (aircraft-to-tower) radio.\n",
    "\n",
    "\n",
    "* Single-sideband (SSB) -  is extensively used by the military services and also finds application in marine and citizens band (CB) radio as well as use by hobbyists known as amateur (ham) radio operators. "
   ]
  },
  {
   "cell_type": "markdown",
   "metadata": {},
   "source": [
    "#### Now we'll start discussing AM Waveforms:\n",
    "\n",
    "*** There are two ways to combine carrier and intelligence signals. Combine them in a linear device (resistor), or combine them within a non linear device (silicon diode). We'll start with describing combining them in a linear device (resistor)***\n",
    "\n",
    "* Combining two sine waves in a linear fashion results in the simple algebraic addition of the two waves. There are circuits that perform this action (where two signals of two different frequencies are combined in a linear device such as a resistor.). \n",
    "\n",
    "\n",
    "* A linear device is one where current is directly proportional to voltage (current is a linear function of voltage). Ohm’s law confirms this relationship for a resistor: $R = \\frac{V}{I}$. But unfortunately, the result is not suitable for transmission as an AM (**Amplitude Modulated**) waveform. If it were transmitted, the receiving antenna would detect just the carrier signal because the low-frequency intelligence component cannot be propagated efficiently as a radio wave.\n",
    "\n",
    "*** \"For modulation to occur, a specific kind of interaction must take place between the input frequencies. Such an interaction occurs when the carrier and intelligence are combined within a nonlinear device.\" ***\n",
    "\n",
    "*  A nonlinear device or circuit is one where changes in current are not directly proportional to changes in applied voltage.\n",
    "\n",
    "\n",
    "* As a result, the net effect of the interaction produced calls for the carrier and intelligence signals to be multiplied rather than added. \n",
    "\n",
    "\n",
    "* As a result, interference (that's desirable) takes place between the high-frequency carrier and the low-frequency intelligence. The modulated waveform carries useful information because of the instantaneous addition and subtraction of the constant-amplitude carrier with the varying-amplitude modulating signal.\n",
    "\n",
    "***Now that we've discussed the basis of AM Modulation (combining signal, carrier signals through non-linear device, we'll consider important characteristics of the AM Modulated Waveforms)***\n",
    "\n",
    "* AM Modulated Waveforms has its maximum amplitude when intelligence amplitude reaches maximum positive value\n",
    "\n",
    "\n",
    "* AM Modulated Waveforms has its minimum when intelligence amplitude is at maximum negative value.\n",
    "\n",
    "#### Now we'll discuss the Modulation Index: It's used to quantify the amount of modulation. Knowing the amount of modulation helps to prevent overmodulation."
   ]
  },
  {
   "cell_type": "code",
   "execution_count": 1,
   "metadata": {
    "collapsed": true
   },
   "outputs": [],
   "source": [
    "import math as m"
   ]
  },
  {
   "cell_type": "code",
   "execution_count": null,
   "metadata": {
    "collapsed": true
   },
   "outputs": [],
   "source": [
    "def modIndex(min_PeakPeak, intelligence= 1, carrier= 1, percent= 0, via_B_A= 0, am_waveform=1):\n",
    "    \"\"\"Calculates Modulation Index. Takes 3 Arguments: Intelligence, Carrier, percent.\n",
    "    'Percent' by default is set to '0', or 'OFF'. To turn on, set equal to 1. \n",
    "    Returns the modulation index\"\"\"\n",
    "    if percent == 1:\n",
    "        if via_B_A == 1:\n",
    "            if min_PeakPeak == 0:\n",
    "                return ((am_waveform)/(am_waveform))*100\n",
    "            else:\n",
    "                return ((am_waveform - min_PeakPeak)/(am_waveform + min_PeakPeak))*100 \n",
    "        else: \n",
    "            return (intelligence/carrier) * 100\n",
    "    else:\n",
    "        return intelligence/carrier"
   ]
  },
  {
   "cell_type": "markdown",
   "metadata": {},
   "source": [
    "* The modulation index is denoted by $m$ and is the ratio between $E_c$, the carrier voltage, and $e_i$, the intelligence voltage. This is shown below:\n",
    "\n",
    "$$m = \\frac{E_i}{E_c}$$\n",
    "\n",
    "* We can also express this as a percentage. This is shown below:\n",
    "\n",
    "$$\\%m = \\frac{E_i}{E_c} * 100\\%$$  \n",
    "\n",
    "* We can also express the percentage as the following:\n",
    "\n",
    "$$\\%m = \\frac{B-A}{B+A} * 100\\%$$  \n",
    "$$B = \\text{ AM Waveform}$$  \n",
    "$$A = \\text{ The Minimum Peak-to-Peak value}$$  "
   ]
  },
  {
   "cell_type": "markdown",
   "metadata": {},
   "source": [
    "#### We'll continue on to Overmodulation:\n",
    "\n",
    "* Generally, we want to avoid Overmodulation.\n",
    "\n",
    "\n",
    "* Overmodulation occurs when the AM waveform’s minimum value, $A$, falls to zero or less ($A\\leq 0$) as a result of an increase in the intelligence amplitude. \n",
    "\n",
    "\n",
    "* In this situation the carrier is being varied between zero and double its unmodulated value. Any further increase in the intelligence amplitude will cause ***overmodulation***, where the modulated carrier will go to more than double its unmodulated value but will fall to zero for an interval of time.\n",
    "\n",
    "\n",
    "* This “gap” produces distortion termed ***sideband splatter***, which results in the transmission of frequencies outside a station’s normal allocated range. Luckily AM Transmitters have limiting circuits to prevent this.\n",
    "\n",
    "\n",
    "* To calculate overmodulation we modify the Modulation Index Formula to get the following:\n",
    "\n",
    "\n",
    "$$\\%m = \\frac{B-O}{B+O} * 100\\%$$  \n",
    "$$B = \\text{ AM Waveform}$$  \n",
    "$$O = \\text{ The Minimum Peak-to-Peak value} \\leq 0$$  \n"
   ]
  },
  {
   "cell_type": "markdown",
   "metadata": {},
   "source": [
    "####  Amplitude Modulation/Mixing in Frequency Domain\n",
    "\n",
    "* Mixing, as aforementioned, is another name for Amplitube Modulation. Mixing is effectively a translation process where signals over a range of frequencies can be shifted up or down to a different range as needed. \n",
    "\n",
    "    * Two signals at different frequencies combined in nonlinear device.    \n",
    "    * Combining any two sine waves through nonlinear device produces following frequency components:\n",
    "    \n",
    "        * A dc level\n",
    "        * Components at each of the two original frequencies\n",
    "        * Components at sum and difference frequencies of two original frequencies\n",
    "        * Harmonics of two original frequencies\n",
    "    \n",
    "    \n",
    "* Transmitter modulator circuit\n",
    "\n",
    "    * Combines carrier and intelligence signals widely separated in frequency\n",
    "    \n",
    "    \n",
    "***Fourier analysis demonstrates that, in the frequency domain, the modulated signal is composed of the spectral components just identified. However, a similar result can be obtained more simply by defining the instantaneous value of both the sine wave carrier, $e_c$, and intelligence signal, $e_i$, in forms derived from the general expression for a sine wave first introduced in Chapter 1. ***\n",
    "\n",
    "\n",
    "* The carrier signal, $e_c$, can be expressed as the following equation:\n",
    "\n",
    "$$e_c = E_C \\sin \\omega_{c}t$$  \n",
    "$$\\text{where }e_i = \\text{ is the instantaneous value of the carrier}$$  \n",
    "$$E_C = \\text{ is the maximum peak value of the carrier when unmodulated}$$  \n",
    "$$\\omega = 2 \\pi f \\text{ (\"f\" is the carrier frequency)}$$ \n",
    "$$t = \\text{ is a unit of measure}$$  \n",
    "\n",
    "* The information signal, $e_i$, can be expressed as the following equation:\n",
    "\n",
    "$$e_i = E_I \\sin \\omega_{i}t$$  \n",
    "$$\\text{where }e_i = \\text{ is the instantaneous value of the information}$$  \n",
    "$$E_i = \\text{ is the maximum peak value of the intelligence when unmodulated}$$  \n",
    "$$\\omega = 2 \\pi f \\text{ (\"f\" is the carrier frequency)}$$ \n",
    "$$t = \\text{ is a unit of measure}$$  \n",
    "\n",
    "* The amplitude of a modulated AM waveform can be written as the carrier peak amplitude, $E_c$, plus the intelligence signal, $e_i$. Thus, the amplitude $E$ is defined by the following:\n",
    "\n",
    "$$E = E_c + e_i$$  \n",
    "$$\\textbf{Given that } e_i = E_I \\sin \\omega_{c}t \\textbf{ we can say the following}$$  \n",
    "$$E = E_c + E_I \\sin \\omega_{c}t$$  \n",
    "$$\\textbf{Rearranging }m = \\frac{E_i}{E_c} \\textbf{ we get } E_i = mE_c$$  \n",
    "$$\\textbf{Substituting in the equation above we get } E_c + mE_c \\sin \\omega_{i}t$$   \n",
    "$$\\textbf{This simplifies to }E_c(1 + m) \\sin \\omega_{c}t$$\n",
    "\n",
    "* Therefore the instantaneous value of the AM wave is derived to be:\n",
    "\n",
    "$$e = E \\sin \\omega_{c}t = E_c(1 + m \\sin \\omega_{i}t)\\sin \\omega_{c}t$$  \n",
    "\n",
    "* Using the trig identity $\\sin x \\sin y = \\frac{1}{2}\\cos (x-y) - \\frac{1}{2}\\cos (x+y)$ we get the following\n",
    "\n",
    "$$e = E_c \\sin \\omega_{c}t + \\frac{mE_c}{2} \\cos (\\omega_{c} - \\omega_{i})t - \\frac{mE_c}{2} \\cos (\\omega_{c} + \\omega_{i})t$$  \n",
    "\n",
    "* The preceding equation proves that the AM wave contains the three terms previously listed: the carrier $(1)$, the upper sideband at $f_c + f_i \\space(3)$, and the lower sideband at $f_c - f_i \\space(2)$. \n",
    "\n",
    "$$E_c \\sin \\omega_{c}t \\textbf{ relates to the carrier } (1)$$  \n",
    "$$\\frac{mE_c}{2} \\cos (\\omega_{c} - \\omega_{i})t \\textbf{ relates to the the lower sideband at } f_c - f_i \\space(2)$$  \n",
    "$$\\frac{mE_c}{2} \\cos (\\omega_{c} + \\omega_{i})t \\textbf{ relates to the the upper sideband at } f_c + f_i \\space(3)$$  \n",
    "\n",
    "* The band of frequencies **above the carrier is termed the upper sideband**, while that **below the carrier is termed the lower sideband**.\n"
   ]
  },
  {
   "cell_type": "code",
   "execution_count": null,
   "metadata": {
    "collapsed": true
   },
   "outputs": [],
   "source": [
    "def am_ModWave(mod_Index, omega_c, omega_i, timE, carrier_Peak, lowerSideBand= 0, upperSideBand= 0, allval= 0):\n",
    "    \"\"\"Calculates the value of the modulated wave, the value of the lower and upper sidebands.\n",
    "    It takes in 8 arguments. If the arguments are set to 0 then they are switched off, \n",
    "    else they are switched on. We'll use the value one calculate that.\"\"\"\n",
    "    carrier = carrier_Peak*m.sin(omega_c)*timE\n",
    "    sideband_coefficient = (mod_Index*carrier_Peak)/2\n",
    "    lsb = sideband_coefficient*m.cos(omega_c - omega_i)*timE\n",
    "    rsb = sideband_coefficient*m.cos(omega_c + omega_i)*timE\n",
    "    am_Mod = carrier + lsb + rsb\n",
    "    if allval == 0:\n",
    "        if lowerSideBand == 0 and upperSideBand == 0:\n",
    "            return am_Mod\n",
    "        else:\n",
    "            if lowerSideBand == 1:\n",
    "                return lsb\n",
    "\n",
    "            if upperSideBand == 1:\n",
    "                return rsb\n",
    "    else:\n",
    "        allval_list = {'AM Waveform': am_Mod, 'Lower Side Band': lsb, 'Upper Side Band': rsb}\n",
    "        return allval_list    "
   ]
  },
  {
   "cell_type": "markdown",
   "metadata": {},
   "source": [
    "## Lecture 5: Finishing AM Modulation, Move on to FM (Frequency) Modulation\n"
   ]
  },
  {
   "cell_type": "markdown",
   "metadata": {},
   "source": [
    "## Power Distribution in Carriers and Sidebands\n",
    "\n",
    "**In the case where a carrier is modulated by a pure sine wave, it can be shown that at 100% modulation, the upper- and lower-side frequencies are one-half the amplitude of the carrier. We use the formula below to calculate this quantity:**\n",
    "\n",
    "$$E_{SF} = \\frac{mE_C}{2}$$  \n",
    "$$E_{SF} = \\text{ side frequency amplitude}$$  \n",
    "$$m = \\text{ modulation index}$$  \n",
    "$$E_C = \\text{ carrier amplitude}$$  "
   ]
  },
  {
   "cell_type": "code",
   "execution_count": 3,
   "metadata": {
    "collapsed": true
   },
   "outputs": [],
   "source": [
    "def sideFrequencyAmp(mod_index, e_C):\n",
    "    \"\"\"This function calculates side frequency amplitude. Takes in two argument. Returns the result.\"\"\"\n",
    "    return (mod_index*e_C)/2"
   ]
  },
  {
   "cell_type": "markdown",
   "metadata": {},
   "source": [
    "* **In an AM transmission, the carrier amplitude and frequency always remain constant, while the sidebands are usually changing in amplitude and frequency. The carrier contains no information since it never changes. However, it does contain the most power since its amplitude is always at least double (when m = 100%) the amplitude of each sideband. It is the sidebands that contain the information.**\n",
    "\n",
    "\n",
    "* **It is important to use as high a percentage modulation as possible while ensuring that over-modulation does not occur. The sidebands contain the information and have maximum at 100% modulation.**\n",
    "\n",
    "    * **The Reason for this is because a decrease in modulation percentage significantly affects the sideband power which is important for information transmission. Since carrier is constant total power remains insignificantly impacted but what's important (and the focus) is the sidebands (information signal/power)**\n",
    "    <p></p>\n",
    "    * **As a result of these considerations, most AM transmitters attempt to maintain between 90 and 95% modulation as a compromise between efficiency and the chance of drifting into overmodulation.**"
   ]
  },
  {
   "cell_type": "markdown",
   "metadata": {},
   "source": [
    "### We can calculate the Total Transmitted Power using the following formula:\n",
    "\n",
    "$$P_{t} = P_c \\left( 1 +\\frac{m^2}{2} \\right)$$  \n",
    "$$P_{t} = \\text{ Total Transmitted Power (sidebands and carrier)}$$  \n",
    "$$m = \\text{ modulation index}$$  \n",
    "$$P_c = \\text{ carrier power}$$  "
   ]
  },
  {
   "cell_type": "code",
   "execution_count": 2,
   "metadata": {
    "collapsed": true
   },
   "outputs": [],
   "source": [
    "def totalPowerTransmitted(P_C, mod_Index):\n",
    "    \"\"\"This function calculates side frequency amplitude. Takes in two argument. Returns the result.\"\"\"\n",
    "    return P_C*(1 + (m.pow(mod_Index,2)/2))"
   ]
  },
  {
   "cell_type": "markdown",
   "metadata": {},
   "source": [
    "### We can modify the Total Transmitted Power formular turning it into the following formula which is in terms of current:\n",
    "\n",
    "$$I_{t} = I_c \\sqrt{ 1 +\\frac{m^2}{2}}$$  \n",
    "$$I_{t} = \\text{ Total Transmitted Current (sidebands and carrier)}$$  \n",
    "$$I = \\text{ modulation index}$$  \n",
    "$$I_c = \\text{ carrier current}$$  "
   ]
  },
  {
   "cell_type": "code",
   "execution_count": 6,
   "metadata": {},
   "outputs": [],
   "source": [
    "def totalCurrentTransmitted(I_C, mod_Index):\n",
    "    \"\"\"This function calculates side frequency amplitude. Takes in two argument. Returns the result.\"\"\"\n",
    "    return I_C*m.sqrt(1 + (m.pow(mod_Index,2)/2))"
   ]
  },
  {
   "cell_type": "markdown",
   "metadata": {},
   "source": [
    "### FM (Frequency) Modulation"
   ]
  },
  {
   "cell_type": "code",
   "execution_count": null,
   "metadata": {
    "collapsed": true
   },
   "outputs": [],
   "source": []
  }
 ],
 "metadata": {
  "kernelspec": {
   "display_name": "Python 3",
   "language": "python",
   "name": "python3"
  },
  "language_info": {
   "codemirror_mode": {
    "name": "ipython",
    "version": 3
   },
   "file_extension": ".py",
   "mimetype": "text/x-python",
   "name": "python",
   "nbconvert_exporter": "python",
   "pygments_lexer": "ipython3",
   "version": "3.7.0"
  }
 },
 "nbformat": 4,
 "nbformat_minor": 2
}
