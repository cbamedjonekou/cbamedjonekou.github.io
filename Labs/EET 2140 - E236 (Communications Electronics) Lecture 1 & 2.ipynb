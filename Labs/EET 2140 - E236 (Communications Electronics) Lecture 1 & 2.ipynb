{
 "cells": [
  {
   "cell_type": "markdown",
   "metadata": {},
   "source": [
    "# Communications Electronics Lecture 1 (08/30/18) and 2 (09/06/18)"
   ]
  },
  {
   "cell_type": "markdown",
   "metadata": {},
   "source": [
    "<b>This chapter discusses Electrical Signals and one of the two components they are comprised of, Noise.</b>\n",
    "\n",
    "* Electrical Signals are comprised of two parts:\n",
    "\n",
    "    1. One is <b>Noise</b>. \n",
    "    2. The other is the <b>Original Information</b>. \n",
    "\n",
    "\n",
    "* Virtually all telecommunication systems are affected by noise in some way. \n",
    "\n",
    "\n",
    "* Noise is always superimposed (on top of) the Original Information you are trying to transmit. This is the reason why noise is a huge issue.\n",
    "\n",
    "    * Noise interferes w/ receiving the Original Information. Thus, we try to mitigate its effects."
   ]
  },
  {
   "cell_type": "markdown",
   "metadata": {},
   "source": [
    "#### Electrical Noise is inherit in all transmitted and received signals. The effects of Electrical Noise severely hamper systems performance. All of this was aforementioned. \n",
    "\n",
    "* The following are some of the factors that cause telecommunication systems to be vulnerable.\n",
    "\n",
    "    * Increased traffic volume in call switching centers\n",
    "    * Enormous channel capacities of trunk circuits\n",
    "    * Trends toward high speed digital and data transmissions\n",
    "    \n",
    "    \n",
    "* As aforementioned we try to remove the noise because it degrades our original information. The following are examples of ways we try to do so:\n",
    "\n",
    "    * Special Encoding and Decoding Techniques (optimizes recovery of signal)\n",
    "    * Extensive Conditioning of the signal (we use filters and amplifiers for this)\n",
    "    * Like in \"Lecture Notes 1\" the following are some that can affect transmissions, so we pay careful attention to them:\n",
    "    \n",
    "        <p><ol>\n",
    "        <li>Transmission Route</li>\n",
    "        <li>Transmission Type</li>\n",
    "        <li>Transmission Medium</li>\n",
    "        </ol></p>       \n",
    "        \n",
    "    * Elaborate error detection and correction mechanisms."
   ]
  },
  {
   "cell_type": "markdown",
   "metadata": {},
   "source": [
    "#### Because noise/noise measurements/noise reductions are so important we'll introduce a method for measurement here:\n",
    "\n",
    "* Historically speaking we use sound to transmit and receive signals.  Analysis of the human audible response shows that it is logarithmic in nature. \n",
    "\n",
    "\n",
    "* Thus, We use decibels to measure that sound.\n",
    "\n",
    "\n",
    "* Usually the decibel (a logarithmic unit) is defined for power ratios (power gain/loss, $A_P$) but is is commonly used for voltage (voltage gain/loss, $A_V$) and current ratios (current gain/loss, $A_I$) in decibels, too.  "
   ]
  },
  {
   "cell_type": "markdown",
   "metadata": {},
   "source": [
    "#### Relative Power Gain: \n",
    "\n",
    "* We'll start with what we previously defined in the previous lecture (<b>Power Gain</b>). We can use what we know about the <b>Power Gain</b> to define/derive an equation for <b>Voltage Gain</b> later. We define <b>Power Gain</b> by the following:\n",
    "\n",
    "$$A_P = \\frac{P_O}{P_I}$$\n",
    "\n",
    "* where $P_O$ and $P_I$ are defined as the following:\n",
    "\n",
    "$$P_I = \\frac{V_I^2}{R_I}$$\n",
    "\n",
    "$$P_O = \\frac{V_O^2}{R_O}$$\n",
    "\n",
    "$$\\text{These definitions above (Ohm's Law) will be used later to derive voltage gain}$$"
   ]
  },
  {
   "cell_type": "markdown",
   "metadata": {},
   "source": [
    "* We can then calculate the <b>Power Gain in Decibals, $A_P(db),$</b> by using logarithms. This is shown below:\n",
    "\n",
    "$$A_P(db) = 10 \\log_{10}A_P = 10 \\log_{10}\\big(\\frac{P_O}{P_I}\\big) = 10 \\log_{10}\\big(\\frac{\\frac{V_O^2}{R_O}}{\\frac{V_I^2}{R_I}}\\big) = 10 \\log_{10}\\big(\\frac{V_O^2}{V_I^2}\\big)$$ \n",
    "\n",
    "$$\\text{, Given that } R_O = R_I$$\n",
    "\n",
    "* If $R_O \\neq R_I$ then the general form is given by the following:\n",
    "\n",
    "$$A_P(db) = 10 \\log_{10}\\big(\\frac{V_O^2}{V_I^2}\\big) - 10 \\log_{10}\\big(\\frac{R_O}{R_I}\\big) \\text{ or } A_P(db) = 10 \\log_{10}\\big(\\frac{\\frac{V_O^2}{R_O}}{\\frac{V_I^2}{R_I}}\\big)$$\n",
    "\n",
    "* <b><i>Relative</i></b> as used here refers to the values of Power being <b><i>relative to each other</i></b>."
   ]
  },
  {
   "cell_type": "markdown",
   "metadata": {},
   "source": [
    "#### Relative Voltage Gain\n",
    "\n",
    "* <b><i>Relative Voltage Gain</i></b> exists as a result of wanting to analyze a circuit in terms of its respective voltages and currents. We'll recall the Ohm's Law Equations for power mentioned above.\n",
    "\n",
    "* we can represent $P_O$ and $P_I$ as the following (Ohm's Law):\n",
    "\n",
    "$$P_I = \\frac{V_I^2}{R_I}$$\n",
    "\n",
    "$$P_O = \\frac{V_O^2}{R_O}$$\n",
    "\n",
    "\n",
    "* By substituting the values for $P_O$ and $P_I$ into the <b>Power Gain in Decibals, $A_P(db)$</b> equation we get the following:\n",
    "\n",
    "$$A_{P(dB)} = 10 \\log_{10} \\frac{P_O}{P_I} = 10 \\log_{10} \\frac{\\frac{V_O^2}{R_O}}{\\frac{V_I^2}{R_I}}$$\n",
    "\n",
    "* Using the logarithm property dealing w/ quotients <b>($\\log_{b}\\frac{M}{N} = \\log_{b}M - \\log_{10}N$)</b> we get the following:\n",
    "\n",
    "$$= 10 \\log_{10}(V_O^2) -  10 \\log_{10}(R_O) - 10 \\log_{10}(V_I^2) - 10 \\log_{10}(R_I)$$\n",
    "\n",
    "* Rearranging the terms we get the following (<b>an equation featuring only voltages</b>) :\n",
    "\n",
    "$$= 10 \\log_{10}(V_O^2) - 10 \\log_{10}(V_I^2) -  10 \\log_{10}(R_O) - 10 \\log_{10}(R_I)$$\n",
    "\n",
    "$$= 10 \\log_{10}\\big(\\frac{V_O^2}{V_I^2}\\big) -  10 \\log_{10}\\big(\\frac{R_O}{R_I}\\big)$$\n",
    "\n",
    "$$= 10 \\log_{10}\\big(\\frac{V_O^2}{V_I^2}\\big) \\text{, Given that } R_O = R_I$$\n",
    "\n",
    "* By using another log identity we can further simplify to get the following (<b><i>an equation for Relative Voltage Gain</i></b>):\n",
    "\n",
    "$$A_V(db) = 10 \\log_{10}\\big(\\frac{V_O^2}{V_I^2}\\big) = 20 \\log_{10}\\big(\\frac{V_O}{V_I}\\big) = 20 \\log_{10} A_V$$\n",
    "\n",
    "* If $R_O \\neq R_I$ then the general form is given by the following:\n",
    "\n",
    "$$A_V(db) = 10 \\log_{10}\\big(\\frac{V_O^2}{V_I^2}\\big) - 10 \\log_{10}\\big(\\frac{R_O}{R_I}\\big) = 20 \\log_{10}\\big(\\frac{V_O}{V_I}\\big) - 10 \\log_{10}\\big(\\frac{R_O}{R_I}\\big)$$"
   ]
  },
  {
   "cell_type": "markdown",
   "metadata": {},
   "source": [
    "#### The dBm and Absolute Power Gain\n",
    "\n",
    "* We consider <b><i>Absolute Power Gain</i></b> when we want to know more about the signal level at the input power, output power, or any point within the telecommunication system. \n",
    "\n",
    "\n",
    "* This is all with reference to some standardized level. This standardized level is the \"$dBm$\" which represents <b><i>decibels referenced to 1 mW</i></b>\n",
    "\n",
    "\n",
    "* The <b><i>Absolute Power Gain</i></b>, denoted by $A_{P(dBm)}$ (\"$dBm$\" represents <b><i>decibels referenced to 1 mW</i></b>), can be calculated using the following:\n",
    "\n",
    "$$A_{P(dBm)} = 10 \\log_{10} \\big(\\frac{P}{1 \\text{ mW}}\\big), \\text{ dBm}$$\n",
    "\n",
    "#### The dBw and Absolute Power Gain\n",
    "\n",
    "* <b><i>Absolute Power Gain</i></b> can also be calculated with a different reference point. This \"other\" standardized level is the \"$dBw$\" which represents <b><i>decibels referenced to 1 W</i></b>\n",
    "\n",
    "\n",
    "* The <b><i>Absolute Power Gain</i></b>, denoted by $A_{P(dBm)}$ (\"$dBw$\" represents <b><i>decibels referenced to 1 W</i></b>), can be calculated using the following:\n",
    "\n",
    "$$A_{P(dBm)} = 10 \\log_{10} \\big(\\frac{P}{1 \\text{ W}}\\big), \\text{ dBw}$$"
   ]
  },
  {
   "cell_type": "markdown",
   "metadata": {},
   "source": [
    "#### Signal to Noise Ratio (SNR)\n",
    "\n",
    "* <b><i>Signal to Noise Ratio (SNR)</i></b> is one of the most useful ways to noise. It considers the Signal Power and Noise Power (by ext. Signal and Noise Voltage)\n",
    "\n",
    "* It allows us to evaluate and anticipate extraneous effects of noise. It is also usually measured at the receiving end of the communication system before the detection of the signal. \n",
    "\n",
    "* It can be calculated by the following:\n",
    "\n",
    "\n",
    "$$ \\text{SNR } = 10 \\log_{10}\\big(\\frac{\\text{Signal Power}}{\\text{Noise Power}}\\big)$$ \n",
    "\n",
    "$$\\text{SNR } = 10 \\log_{10} \\big(\\frac{\\frac{V_S^2}{R_1}}{\\frac{V_N^2}{R_1}}\\big)$$\n",
    "\n",
    "$$\\text{And given that } R_O = R_I,$$\n",
    "\n",
    "$$\\text{SNR } = 10 \\log_{10} \\big(\\frac{V_S^2}{V_N^2}\\big)$$\n",
    "\n",
    "\n",
    "* A formula for considering voltage can be derived and is shown below:\n",
    "\n",
    "\n",
    "$$\\text{SNR } = 20 \\log_{10} \\big(\\frac{V_S}{V_N}\\big)\\text{dB}$$"
   ]
  },
  {
   "cell_type": "markdown",
   "metadata": {},
   "source": [
    "#### Noise Types \n",
    "\n",
    "1. Atmospheric and Extraterrestrial Noise\n",
    "    \n",
    "    <p><ul><li>Lightning (Frequency Rng: 0-30 MHz)</li>\n",
    "    <li>Solar Noise</li>\n",
    "    <li>Cosmic Noise (Frequency Rng: 20 Hz - 26 KHz)</li></ul></p>\n",
    "\n",
    "2. Gaussian Noise\n",
    "\n",
    "    <p><ul><li>Thermal Noise (aka: White Noise, Jhonson Noise) (Frequency Rng: up to 300 GHz)</li>\n",
    "    <li>Shot Noise</li></ul></p>\n",
    "\n",
    "3. Crosstalk\n",
    "\n",
    "    <p><ul><li>Near End Cross Talk</li>\n",
    "   <li>Far End Cross Talk</li></ul></p>\n",
    "\n",
    "4. Impulse Noise\n",
    "\n",
    "    * Human Auditory Response:\n",
    "\n",
    "\t$$ dB_S = 20 \\log_{10} \\big(\\frac{P}{0.0002 \\space \\bar{\\mu}}\\big) \\text{, where P is sound pressure in } \\bar{\\mu}$$\n",
    "\n",
    "\t$$ \\bar{\\mu} = 1 \\space \\frac{\\text{dyne}}{\\text{cm}^2} = 10^{-6} \\text{ of atmospheric pressure at sea level}$$"
   ]
  },
  {
   "cell_type": "markdown",
   "metadata": {},
   "source": [
    "## Homework Questions (Chapter 1)\n",
    "\n",
    "#### Questions: 8, 11, 13, 24, 25"
   ]
  },
  {
   "cell_type": "markdown",
   "metadata": {},
   "source": [
    "* <b>Question 11:</b> A 600 $\\Omega$ microphone output at -70 dBM level. Calculate the equivalent output voltage"
   ]
  },
  {
   "cell_type": "code",
   "execution_count": 1,
   "metadata": {
    "collapsed": true
   },
   "outputs": [],
   "source": [
    "import math\n",
    "\n",
    "expo = -70/20\n",
    "R = 600\n",
    "P = 1 * math.pow(10, -3)\n",
    "v1mw = math.sqrt(P * R)\n",
    "v = math.pow(10,expo) * v1mw"
   ]
  },
  {
   "cell_type": "code",
   "execution_count": 30,
   "metadata": {},
   "outputs": [
    {
     "data": {
      "text/plain": [
       "0.00024494897427831784"
      ]
     },
     "execution_count": 30,
     "metadata": {},
     "output_type": "execute_result"
    }
   ],
   "source": [
    "v"
   ]
  },
  {
   "cell_type": "markdown",
   "metadata": {},
   "source": [
    "* <b>Question 13:</b> A 2.15 $V$ <b>rms</b> signal is measured across a 600 $\\Omega$ load. Convert this measure value to is dBm equivalent.\n",
    "\n",
    "$$P = \\frac{V^2}{R}$$\n",
    "\n",
    "$$dBm = 10 \\log_{10}\\big(\\frac{P}{1 \\text{ mW}}\\big)$$"
   ]
  },
  {
   "cell_type": "code",
   "execution_count": 20,
   "metadata": {
    "collapsed": true
   },
   "outputs": [],
   "source": [
    "# Using the above equations\n",
    "\n",
    "V = 2.15\n",
    "R = 600\n",
    "p = math.pow(V,2)/R\n",
    "mW = 1 * math.pow(10,-3)\n",
    "dBm = 10 * math.log(p/mV, 10)"
   ]
  },
  {
   "cell_type": "code",
   "execution_count": 21,
   "metadata": {},
   "outputs": [
    {
     "data": {
      "text/plain": [
       "8.86725669447567"
      ]
     },
     "execution_count": 21,
     "metadata": {},
     "output_type": "execute_result"
    }
   ],
   "source": [
    "dBm"
   ]
  },
  {
   "cell_type": "markdown",
   "metadata": {},
   "source": [
    "$$P = \\frac{V_{1 \\text{ mW}}^2}{R}$$\n",
    "\n",
    "$$1 \\text{ mW} = \\frac{V_{1 \\text{ mW}}^2}{600}$$\n",
    "\n",
    "$$V_{1 \\text{ mW}}^2 = 1 \\text{ mW} * 600 \\Omega = 0.001 \\text{ W} * 600 \\Omega = 0.6$$\n",
    "\n",
    "$$V_{1 \\text{ mW}} = \\sqrt{0.6} = 0.774$$\n",
    "\n",
    "$$dBm = 20 \\log_{10}\\big(\\frac{V}{V_{1 \\text{ mW}}}\\big)$$"
   ]
  },
  {
   "cell_type": "code",
   "execution_count": 22,
   "metadata": {
    "collapsed": true
   },
   "outputs": [],
   "source": [
    "# Using the above equations\n",
    "\n",
    "V = 2.15\n",
    "dBm = 20*math.log(V/v1mw, 10)"
   ]
  },
  {
   "cell_type": "code",
   "execution_count": 23,
   "metadata": {},
   "outputs": [
    {
     "data": {
      "text/plain": [
       "8.86725669447567"
      ]
     },
     "execution_count": 23,
     "metadata": {},
     "output_type": "execute_result"
    }
   ],
   "source": [
    "dBm"
   ]
  }
 ],
 "metadata": {
  "kernelspec": {
   "display_name": "Python 3",
   "language": "python",
   "name": "python3"
  },
  "language_info": {
   "codemirror_mode": {
    "name": "ipython",
    "version": 3
   },
   "file_extension": ".py",
   "mimetype": "text/x-python",
   "name": "python",
   "nbconvert_exporter": "python",
   "pygments_lexer": "ipython3",
   "version": "3.7.0"
  }
 },
 "nbformat": 4,
 "nbformat_minor": 2
}
