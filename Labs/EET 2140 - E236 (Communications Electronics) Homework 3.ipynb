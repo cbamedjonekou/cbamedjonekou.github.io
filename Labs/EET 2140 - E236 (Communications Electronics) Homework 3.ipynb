{
 "cells": [
  {
   "cell_type": "markdown",
   "metadata": {},
   "source": [
    "<b>Name: Christ-Brian Amedjonekou  \n",
    "Date: 10/11/2018  \n",
    "EET 2140 (Communications Electronics) Homework 3  \n",
    "Fall 2018, Section: E236, Code: 35757  \n",
    "Instructor: Song Tang</b>"
   ]
  },
  {
   "cell_type": "code",
   "execution_count": 1,
   "metadata": {
    "collapsed": true
   },
   "outputs": [],
   "source": [
    "from EETCET_modkit import ComElecMod as cem"
   ]
  },
  {
   "cell_type": "markdown",
   "metadata": {},
   "source": [
    "**Question 10:**  In an FM transmitter, the output is changing between 90.001 and 89.999 MHz 1000 times a second. The intelligence signal amplitude is 3 V. Determine the carrier frequency and intelligence signal frequency. If the output deviation changes to between 90.0015 and 89.9985 MHz, calculate the intelligence signal amplitude. (90 MHz, 1 kHz, 4.5 V)\n"
   ]
  },
  {
   "cell_type": "code",
   "execution_count": 2,
   "metadata": {
    "collapsed": true
   },
   "outputs": [],
   "source": [
    "intelligence_frequency = 1000"
   ]
  },
  {
   "cell_type": "code",
   "execution_count": 7,
   "metadata": {},
   "outputs": [
    {
     "data": {
      "text/plain": [
       "390.2439024390244"
      ]
     },
     "execution_count": 7,
     "metadata": {},
     "output_type": "execute_result"
    }
   ],
   "source": []
  },
  {
   "cell_type": "code",
   "execution_count": 8,
   "metadata": {},
   "outputs": [
    {
     "data": {
      "text/plain": [
       "109.7560975609756"
      ]
     },
     "execution_count": 8,
     "metadata": {},
     "output_type": "execute_result"
    }
   ],
   "source": []
  },
  {
   "cell_type": "markdown",
   "metadata": {},
   "source": [
    "**Question 27:** Determine the deviation ratio for an FM system that has a maximum possible deviation of 5 kHz and the maximum input frequency is 3 kHz. Is this narrow- or wideband FM? (1.67, wideband)"
   ]
  },
  {
   "cell_type": "code",
   "execution_count": 19,
   "metadata": {},
   "outputs": [
    {
     "data": {
      "text/plain": [
       "57.92995160021923"
      ]
     },
     "execution_count": 19,
     "metadata": {},
     "output_type": "execute_result"
    }
   ],
   "source": []
  }
 ],
 "metadata": {
  "kernelspec": {
   "display_name": "Python 3",
   "language": "python",
   "name": "python3"
  },
  "language_info": {
   "codemirror_mode": {
    "name": "ipython",
    "version": 3
   },
   "file_extension": ".py",
   "mimetype": "text/x-python",
   "name": "python",
   "nbconvert_exporter": "python",
   "pygments_lexer": "ipython3",
   "version": "3.7.0"
  }
 },
 "nbformat": 4,
 "nbformat_minor": 2
}
