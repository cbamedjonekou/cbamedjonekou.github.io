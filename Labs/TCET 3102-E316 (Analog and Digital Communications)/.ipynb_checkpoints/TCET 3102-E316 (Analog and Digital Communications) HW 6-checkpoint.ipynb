{
 "cells": [
  {
   "cell_type": "markdown",
   "metadata": {},
   "source": [
    "**Name: Christ-Brian Amedjonekou**  \n",
    "**Date: 04/29/2019**  \n",
    "**TCET 3102-E316 (Analog and Digital Communications) HW #6**  \n",
    "**Spring 2019, Section: E316, Code: 37251**  \n",
    "**Instructor: Song Tang**\n",
    "\n",
    "\n",
    "### Homework Questions\n",
    "\n",
    "1. A broadcast radio transmitter radiates 10KW, when the modulation percentage is 60%. How much of this is carrier power. "
   ]
  },
  {
   "cell_type": "code",
   "execution_count": 1,
   "metadata": {},
   "outputs": [
    {
     "name": "stdout",
     "output_type": "stream",
     "text": [
      "Carrier Power:  8474.57627118644\n"
     ]
    }
   ],
   "source": [
    "print('Carrier Power: ',10000/(1 + (0.6**2/2)))"
   ]
  },
  {
   "cell_type": "markdown",
   "metadata": {},
   "source": [
    "2. A radio transmitter radiates 10 KW and carrier power is 8.5 KW. Calculate modulation index"
   ]
  },
  {
   "cell_type": "code",
   "execution_count": 2,
   "metadata": {},
   "outputs": [
    {
     "name": "stdout",
     "output_type": "stream",
     "text": [
      "Modulation Index Approx: 59.409 percent\n"
     ]
    }
   ],
   "source": [
    "import math as m\n",
    "print('Modulation Index Approx: {} percent'.format(round(m.sqrt(((10000/8500) - 1)*2) * 100, 3)))"
   ]
  },
  {
   "attachments": {},
   "cell_type": "markdown",
   "metadata": {},
   "source": [
    "3. The antenna current of an AM transmitter is 8A, when only the carrier  is  sent,  but  it  increases  to  8.93A,  when  the  carrier  is  modulated  by  a  single  sine wave. Find  percentage  modulation. Determine  the  antenna  current  when  the  percent modulation changes to 0.8. "
   ]
  },
  {
   "cell_type": "code",
   "execution_count": 3,
   "metadata": {},
   "outputs": [
    {
     "name": "stdout",
     "output_type": "stream",
     "text": [
      "Modulation Index Approx: 24.601 percent\n"
     ]
    }
   ],
   "source": [
    "print('Modulation Index Approx: {} percent'.format(round(m.sqrt(((8.93/8)**2 - 1)**2)*100, 3)))"
   ]
  },
  {
   "cell_type": "code",
   "execution_count": 6,
   "metadata": {},
   "outputs": [
    {
     "name": "stdout",
     "output_type": "stream",
     "text": [
      "When the percent modulation changes 9.191300234460845 Amps is the the antenna current)\n"
     ]
    }
   ],
   "source": [
    "print('When the percent modulation changes {} Amps is the the antenna current)'.format(8 * m.sqrt(1 + 0.8**2/2)))"
   ]
  }
 ],
 "metadata": {
  "kernelspec": {
   "display_name": "Programming_Practice",
   "language": "python",
   "name": "programming_practice"
  },
  "language_info": {
   "codemirror_mode": {
    "name": "ipython",
    "version": 3
   },
   "file_extension": ".py",
   "mimetype": "text/x-python",
   "name": "python",
   "nbconvert_exporter": "python",
   "pygments_lexer": "ipython3",
   "version": "3.6.7"
  }
 },
 "nbformat": 4,
 "nbformat_minor": 2
}
