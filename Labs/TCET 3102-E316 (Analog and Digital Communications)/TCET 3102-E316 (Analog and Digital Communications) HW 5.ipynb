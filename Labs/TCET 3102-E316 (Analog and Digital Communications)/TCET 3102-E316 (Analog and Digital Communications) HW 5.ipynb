{
 "cells": [
  {
   "cell_type": "markdown",
   "metadata": {},
   "source": [
    "**Name: Christ-Brian Amedjonekou**  \n",
    "**Date: 3/13/2019**  \n",
    "**TCET 3102-E316 (Analog and Digital Communications) HW #5**  \n",
    "**Spring 2019, Section: E316, Code: 37251**  \n",
    "**Instructor: Song Tang**"
   ]
  },
  {
   "cell_type": "markdown",
   "metadata": {},
   "source": [
    "#### Question 2.51.1\n",
    "\n",
    "* A rectangular pulse has an amplitude of $5 \\space V$ and a width of $3 \\space ms$. Determine the voltage spectral density at frequencies: "
   ]
  },
  {
   "cell_type": "code",
   "execution_count": 24,
   "metadata": {},
   "outputs": [],
   "source": [
    "import math as m\n",
    "from scipy.fftpack import fft, ifft\n",
    "import numpy as np\n",
    "import matplotlib.pyplot as plt"
   ]
  },
  {
   "cell_type": "code",
   "execution_count": 31,
   "metadata": {},
   "outputs": [],
   "source": [
    "# Pulse width (Tau) = 3 microseconds ()\n",
    "# Amplitude (Amp) = 5 Volts\n",
    "# Frequency (Freq) = 30, 100, 3000\n",
    "# Voltage Spectral Density = Amp * Tau * (sin(freq*Tau*pi)/(freq*Tau*pi))\n",
    "def voltageSpectralDensity(freq, Tau= 3*m.pow(10, -3), Amp= 5):\n",
    "    \"\"\"Calculates the Voltage Spectral Density given Pulse Width (Tau), Amplitude\n",
    "    (Amp), Frequency.\"\"\"\n",
    "    sinc = lambda K: m.sin(K*m.pi)/(K*m.pi)\n",
    "    return Amp*Tau*sinc(freq*Tau)"
   ]
  },
  {
   "cell_type": "markdown",
   "metadata": {},
   "source": [
    "#### 30 Hertz"
   ]
  },
  {
   "cell_type": "code",
   "execution_count": 32,
   "metadata": {},
   "outputs": [
    {
     "name": "stdout",
     "output_type": "stream",
     "text": [
      "0.014800937868272824 Volts\n"
     ]
    }
   ],
   "source": [
    "print('{} Volts'.format(voltageSpectralDensity(30)))"
   ]
  },
  {
   "cell_type": "markdown",
   "metadata": {},
   "source": [
    "#### 100 Hertz"
   ]
  },
  {
   "cell_type": "code",
   "execution_count": 11,
   "metadata": {},
   "outputs": [
    {
     "name": "stdout",
     "output_type": "stream",
     "text": [
      "0.012875905370012094 Volts\n"
     ]
    }
   ],
   "source": [
    "print('{} Volts'.format(voltageSpectralDensity(100)))"
   ]
  },
  {
   "cell_type": "markdown",
   "metadata": {},
   "source": [
    "#### 3000 Hertz"
   ]
  },
  {
   "cell_type": "code",
   "execution_count": 15,
   "metadata": {},
   "outputs": [
    {
     "name": "stdout",
     "output_type": "stream",
     "text": [
      "5.847257748779063e-19 Volts\n"
     ]
    }
   ],
   "source": [
    "print('{} Volts'.format(voltageSpectralDensity(3000)))"
   ]
  },
  {
   "cell_type": "markdown",
   "metadata": {},
   "source": [
    "#### Question 2.51.2\n",
    "\n",
    "* Determine the spectrum for a $3\\text{-}V$ and $0.5\\text{-}s$ rectangular pulse such as shown in Fig 2.13.1(a), using a computer fft routine. Compare the results with the theoretical spectrum given by Eq. (2.13.3)"
   ]
  },
  {
   "cell_type": "code",
   "execution_count": 118,
   "metadata": {},
   "outputs": [
    {
     "data": {
      "text/plain": [
       "[<matplotlib.lines.Line2D at 0x11ae34c50>]"
      ]
     },
     "execution_count": 118,
     "metadata": {},
     "output_type": "execute_result"
    },
    {
     "data": {
      "image/png": "[encoded data removed]",
      "text/plain": [
       "<Figure size 432x288 with 1 Axes>"
      ]
     },
     "metadata": {
      "needs_background": "light"
     },
     "output_type": "display_data"
    }
   ],
   "source": [
    "x = np.linspace(-1000*0.5, 1000*0.5, 120)\n",
    "vpd_vectorized = np.vectorize(voltageSpectralDensity)\n",
    "y = vpd_vectorized(x, 0.5, 3)\n",
    "plt.plot(x, y)\n",
    "#plt."
   ]
  }
 ],
 "metadata": {
  "kernelspec": {
   "display_name": "Programming_Practice",
   "language": "python",
   "name": "programming_practice"
  },
  "language_info": {
   "codemirror_mode": {
    "name": "ipython",
    "version": 3
   },
   "file_extension": ".py",
   "mimetype": "text/x-python",
   "name": "python",
   "nbconvert_exporter": "python",
   "pygments_lexer": "ipython3",
   "version": "3.6.7"
  }
 },
 "nbformat": 4,
 "nbformat_minor": 2
}
