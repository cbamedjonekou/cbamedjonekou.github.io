{
 "cells": [
  {
   "cell_type": "markdown",
   "metadata": {},
   "source": [
    "**Name: Christ-Brian Amedjonekou**  \n",
    "**Date: 2/24/2019**  \n",
    "**TCET 3102-E316 (Analog and Digital Communications) HW 3**  \n",
    "**Spring 2019, Section: E316, Code: 37251**  \n",
    "**Instructor: Song Tang**"
   ]
  },
  {
   "cell_type": "markdown",
   "metadata": {},
   "source": [
    "### Solve the for the Fourier Series of the following function, using the generalized Fourier Series Equations.\n",
    "\n"
   ]
  },
  {
   "cell_type": "markdown",
   "metadata": {},
   "source": [
    "* Function\n",
    "\n",
    "$$\n",
    " f(x) =\n",
    "  \\begin{cases}\n",
    "    -1 & \\quad - \\frac{1}{2} T < x < 0 \\\\\n",
    "    1 & \\quad  0 < x < \\frac{1}{2} T \n",
    "  \\end{cases}\n",
    "$$\n",
    "\n",
    "* Generalized Fourier Series Equations\n",
    "\n",
    "$$a_0 = \\frac{1}{2L} \\int\\limits_{-L}^{L} f(x) dx$$  \n",
    "\n",
    "$$a_n = \\frac{1}{L} \\int\\limits_{-L}^{L} f(x) \\cos(\\frac{n \\pi x}{L})dx$$  \n",
    "\n",
    "$$b_n = \\frac{1}{L} \\int\\limits_{-L}^{L} f(x) \\sin(\\frac{n \\pi x}{L})dx$$  "
   ]
  },
  {
   "cell_type": "markdown",
   "metadata": {},
   "source": [
    "### Solution for the Fundamental; $a_0$\n",
    "\n",
    "$$a_0 = \\frac{1}{2L} \\int\\limits_{-L}^{L} f(x) dx$$  \n",
    "\n",
    "* Work\n",
    "\n",
    "$$a_0 = \\frac{1}{T} \\int\\limits_{-\\frac{1}{2}T}^{\\frac{1}{2}T} f(x) dx$$  \n",
    "\n",
    "$$ = \\frac{1}{T} \\int\\limits_{-\\frac{1}{2}T}^{0} -1 dx + \\frac{1}{T} \\int\\limits_{0}^{\\frac{1}{2}T} 1 dx$$  \n",
    "\n",
    "$$ = -\\frac{1}{T} x \\space \\bigg|_{-\\frac{1}{2}T}^{0} + \\frac{1}{T} x \\space \\bigg|_{0}^{\\frac{1}{2}T}$$    \n",
    "\n",
    "$$ = -\\frac{1}{T} \\Big( 0 + \\frac{1}{2}T \\Big) + \\frac{1}{T} \\Big( \\frac{1}{2}T - 0 \\Big) \\space$$    \n",
    "\n",
    "$$ = -\\frac{1}{2} + \\frac{1}{2} = 0$$    \n",
    "\n",
    "\n",
    "* **Answer: $a_0 = 0$**\n",
    "\n"
   ]
  },
  {
   "cell_type": "markdown",
   "metadata": {},
   "source": [
    "### Solution for the Harmonic; $a_n$\n",
    "\n",
    "$$a_n = \\frac{1}{L} \\int\\limits_{-L}^{L} f(x) \\cos(\\frac{n \\pi x}{L})dx$$  \n",
    "\n",
    "* Work\n",
    "\n",
    "$$a_n = \\frac{2}{T} \\int\\limits_{-\\frac{1}{2}T}^{\\frac{1}{2}T} f(x) \\cos(\\frac{2n \\pi x}{T})dx$$  \n",
    "\n",
    "$$ = \\frac{2}{T} \\int\\limits_{-\\frac{1}{2}T}^{0} -1 \\cos(\\frac{2n \\pi x}{T})dx + \\frac{2}{T} \\int\\limits_{0}^{\\frac{1}{2}T} \\cos(\\frac{2n \\pi x}{T})dx$$  \n",
    "\n",
    "$$ = -\\frac{2}{T} \\int\\limits_{-\\frac{1}{2}T}^{0} 1 \\cos(\\frac{2n \\pi x}{T})dx + \\frac{2}{T} \\int\\limits_{0}^{\\frac{1}{2}T} \\cos(\\frac{2n \\pi x}{T})dx$$  \n",
    "\n",
    "* **\"U\" substitution:** Let $1 = \\cfrac{\\frac{2n \\pi}{T}}{\\frac{2n \\pi}{T}}$, $u = \\frac{2n \\pi x}{T}$, $du = \\frac{2n \\pi}{T}$ \n",
    "\n",
    "$$ = -\\frac{1}{n \\pi} \\int\\limits_{-\\frac{1}{2}T}^{0} \\cos(u)du + \\frac{1}{n \\pi} \\int\\limits_{0}^{\\frac{1}{2}T} \\cos(u)du$$  \n",
    "\n",
    "$$ = -\\frac{1}{n \\pi} \\sin(\\frac{2n \\pi x}{T}) \\space \\bigg|_{-\\frac{1}{2}T}^{0} + \\frac{1}{n \\pi} \\sin(\\frac{2n \\pi x}{T}) \\space \\bigg|_{0}^{\\frac{1}{2}T}$$  \n",
    "\n",
    "$$ = -\\frac{1}{n \\pi} \\Big( \\sin(0) - \\sin(- n \\pi) \\Big) + \\frac{1}{n \\pi} \\Big( \\sin(n \\pi) - \\sin(0) \\Big) \\space$$    \n",
    "\n",
    "$$ = -\\frac{1}{n \\pi} \\Big( \\sin(0) + \\sin( n \\pi) \\Big) + \\frac{1}{n \\pi} \\Big( \\sin(n \\pi) - \\sin(0) \\Big) \\space$$    \n",
    "\n",
    "$$ = -\\frac{\\sin( n \\pi)}{n \\pi} + \\frac{\\sin( n \\pi)}{n \\pi} = 0$$    \n",
    "\n",
    "* **Answer: $a_n = 0$**\n"
   ]
  },
  {
   "cell_type": "markdown",
   "metadata": {},
   "source": [
    "### Solution for the Harmonic; $b_n$\n",
    "\n",
    "$$b_n = \\frac{1}{L} \\int\\limits_{-L}^{L} f(x) \\sin(\\frac{n \\pi x}{L})dx$$  \n",
    "\n",
    "* Work\n",
    "\n",
    "$$a_n = \\frac{2}{T} \\int\\limits_{-\\frac{1}{2}T}^{\\frac{1}{2}T} f(x) \\sin(\\frac{2n \\pi x}{T})dx$$  \n",
    "\n",
    "$$ = \\frac{2}{T} \\int\\limits_{-\\frac{1}{2}T}^{0} -1 \\sin(\\frac{2n \\pi x}{T})dx + \\frac{2}{T} \\int\\limits_{0}^{\\frac{1}{2}T} \\sin(\\frac{2n \\pi x}{T})dx$$  \n",
    "\n",
    "$$ = -\\frac{2}{T} \\int\\limits_{-\\frac{1}{2}T}^{0} 1 \\sin(\\frac{2n \\pi x}{T})dx + \\frac{2}{T} \\int\\limits_{0}^{\\frac{1}{2}T} \\sin(\\frac{2n \\pi x}{T})dx$$  \n",
    "\n",
    "* **\"U\" substitution:** Let $1 = \\cfrac{\\frac{2n \\pi}{T}}{\\frac{2n \\pi}{T}}$, $u = \\frac{2n \\pi x}{T}$, $du = \\frac{2n \\pi}{T}$ \n",
    "\n",
    "$$ = -\\frac{1}{n \\pi} \\int\\limits_{-\\frac{1}{2}T}^{0} \\sin(u)du + \\frac{1}{n \\pi} \\int\\limits_{0}^{\\frac{1}{2}T} \\sin(u)du$$  \n",
    "\n",
    "$$ = \\frac{1}{n \\pi} \\cos(\\frac{2n \\pi x}{T}) \\space \\bigg|_{-\\frac{1}{2}T}^{0} - \\frac{1}{n \\pi} \\cos(\\frac{2n \\pi x}{T}) \\space \\bigg|_{0}^{\\frac{1}{2}T}$$  "
   ]
  },
  {
   "cell_type": "markdown",
   "metadata": {},
   "source": [
    "$$ = \\frac{1}{n \\pi} \\Big( \\cos(0) - \\cos(- n \\pi) \\Big) - \\frac{1}{n \\pi} \\Big( \\cos(n \\pi) - \\cos(0) \\Big) \\space$$    \n",
    "\n",
    "$$ = \\frac{1}{n \\pi} \\Big( \\cos(0) + \\cos( n \\pi) \\Big) - \\frac{1}{n \\pi} \\Big( \\cos(n \\pi) - \\cos(0) \\Big) \\space$$  \n",
    "\n",
    "$$ = \\frac{\\Big( 1 + \\cos( n \\pi) \\Big)}{n \\pi}  - \\frac{\\Big( \\cos(n \\pi) - 1 \\Big)}{n \\pi}$$  \n",
    "\n",
    "* **Answer: $b_n = \\begin{cases}\n",
    "    0 & \\quad \\text{when } n \\text{ is even} \\\\\n",
    "    \\cfrac{4}{n \\pi} & \\quad  \\text{when } n \\text{ is odd}  \n",
    "  \\end{cases}$**"
   ]
  }
 ],
 "metadata": {
  "kernelspec": {
   "display_name": "Programming_Practice",
   "language": "python",
   "name": "programming_practice"
  },
  "language_info": {
   "codemirror_mode": {
    "name": "ipython",
    "version": 3
   },
   "file_extension": ".py",
   "mimetype": "text/x-python",
   "name": "python",
   "nbconvert_exporter": "python",
   "pygments_lexer": "ipython3",
   "version": "3.6.7"
  }
 },
 "nbformat": 4,
 "nbformat_minor": 2
}
