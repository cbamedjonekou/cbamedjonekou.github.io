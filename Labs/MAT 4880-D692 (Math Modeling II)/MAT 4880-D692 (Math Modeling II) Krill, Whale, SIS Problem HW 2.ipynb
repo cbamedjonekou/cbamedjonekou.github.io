{
 "cells": [
  {
   "cell_type": "markdown",
   "metadata": {},
   "source": [
    "**Name: Christ-Brian Amedjonekou**  \n",
    "**Date: 2/20/2019**  \n",
    "**MAT 4880-D692 (Math Modeling II) Krill vs Whale Problem; SIS Model HW**  \n",
    "**Spring 2019, Section: D692, Code: 36561**  \n",
    "**Instructor: Johann Thiel**"
   ]
  },
  {
   "cell_type": "markdown",
   "metadata": {},
   "source": [
    "# Blue Whale, Krill Coexistance Problem\n",
    "\n",
    "**7. One of the favorite foods of the blue whale is called krill. These tiny shrimp-like creatures are devoured in massive amounts to provide the principle food source for the blue whales. The maximum sustainable population for krill is 500 tons/acre. In the absence of predators, in uncrowded conditions, the growth rate of the krill population is 25%. The presence of 500 tons/acre of krill increases the blue whale population by 2% per year, and the presence of 150000 blue whales decreases krill population growth rate 10% per year.**\n",
    "\n",
    "1. Determine whether the whales and the Krill can coexist in equillibrium. Use the five-step, and the model as a dynamical system in steady state  \n",
    "\n",
    "2. Draw the vector field for this problem. Classify each equiillibrium point in the state space as stable or unstable\n",
    "\n",
    "3. Describe what happens to the two populations overtime. Assume we start off w/ 5000 blue whales and 750 ton/acre krill \n",
    "\n",
    "4. How sensitive are your conclusions in part (3) to the assumption of a 25% growth of per year for krill.\n"
   ]
  },
  {
   "cell_type": "markdown",
   "metadata": {},
   "source": [
    "**Variables**\n",
    "\n",
    "$B = \\text{number of blue whales}$  \n",
    "$K = \\text{number of krill}$  \n",
    "$g_B = \\text{growth rate for blue whales}$  \n",
    "$g_K = \\text{growth rate for krill}$  \n",
    "$c_B = \\text{competition term for blue whales}$  \n",
    "$c_K = \\text{competition term for krill}$  \n",
    "\n",
    "**Assumptions**\n",
    "\n",
    "$g_B = 0.05B\\Big(1 - \\dfrac{B}{150000}\\Big)$  \n",
    "\n",
    "$g_K = 0.25B\\Big(1 - \\dfrac{B}{400000}\\Big)$   \n",
    "\n",
    "$c_B = \\alpha BF; \\text{ where } \\alpha = \\frac{0.10}{150000}$  \n",
    "\n",
    "$c_K = \\alpha BF; \\text{ where } \\alpha = \\frac{0.02}{500}$ \n",
    "\n",
    "$\\frac{dB}{dt} = g_B - c_B$  \n",
    "\n",
    "$\\frac{dF}{dt} = g_K - c_K$  \n",
    "\n",
    "$B, K \\geq 0$\n",
    "\n",
    "**Objective**\n",
    "\n",
    "Find the equillibrium points and whether they're stable"
   ]
  },
  {
   "cell_type": "markdown",
   "metadata": {},
   "source": [
    "### Modules"
   ]
  },
  {
   "cell_type": "code",
   "execution_count": 1,
   "metadata": {},
   "outputs": [],
   "source": [
    "# Modules being called\n",
    "import math as m\n",
    "import numpy as np\n",
    "from sympy.solvers import solve\n",
    "import sympy as sp\n",
    "from matplotlib import pyplot as plt\n",
    "import pandas as pd"
   ]
  },
  {
   "cell_type": "markdown",
   "metadata": {},
   "source": [
    "### Variables"
   ]
  },
  {
   "cell_type": "code",
   "execution_count": 2,
   "metadata": {},
   "outputs": [],
   "source": [
    "# sympy.symbols() allows us to declare variables symbolically instead of numerically. \n",
    "# They remain as unknowns, which we solve for using other functions from the sympy library\n",
    "# For analytical solutions\n",
    "B,K = sp.symbols('B K')\n",
    "\n",
    "# Creates dynamical system (involving the the differential equations): \n",
    "# g_Ba, g_Ka are the growth rates the blue whale and krill populations respectively\n",
    "g_Ba, g_Ka = 0.05*B*(1-B/150000), 0.25*K*(1-K/500)\n",
    "\n",
    "# c_Ba, c_Ka are the competition terms for the blue whale and krill populations respectively\n",
    "c_Ka, c_Ba = (0.10/150000)*B*K, (0.02/500)*B*K\n",
    "\n",
    "# dBdta, dKdta is the dynamical system featuring the blue whale and krill populations.\n",
    "dBdta, dKdta = g_Ba - c_Ba, g_Ka - c_Ka"
   ]
  },
  {
   "cell_type": "code",
   "execution_count": 3,
   "metadata": {},
   "outputs": [],
   "source": [
    "# init_printing() displays LaTeX version of outputs; 'quiet= True' stops \n",
    "# init_printing from printing messages regarding its status\n",
    "\n",
    "sp.init_printing()\n",
    "\n",
    "# Solution to the system (Equillibrium Points)\n",
    "\n",
    "solution = solve([dBdta, dKdta], B, K)"
   ]
  },
  {
   "cell_type": "markdown",
   "metadata": {},
   "source": [
    "***The following is the Equillibrium Point to the system in terms of 'a'.***"
   ]
  },
  {
   "cell_type": "markdown",
   "metadata": {},
   "source": [
    "### Equillibrium Points"
   ]
  },
  {
   "cell_type": "code",
   "execution_count": 4,
   "metadata": {
    "scrolled": true
   },
   "outputs": [
    {
     "data": {
      "image/png": "[encoded data removed]",
      "text/latex": [
       "$$\\left [ \\left ( 0.0, \\quad 0.0\\right ), \\quad \\left ( 0.0, \\quad 500.0\\right ), \\quad \\left ( 107142.857142857, \\quad 357.142857142857\\right ), \\quad \\left ( 150000.0, \\quad 0.0\\right )\\right ]$$"
      ],
      "text/plain": [
       "[(0.0, 0.0), (0.0, 500.0), (107142.857142857, 357.142857142857), (150000.0, 0.\n",
       "0)]"
      ]
     },
     "execution_count": 4,
     "metadata": {},
     "output_type": "execute_result"
    }
   ],
   "source": [
    "solution"
   ]
  },
  {
   "cell_type": "markdown",
   "metadata": {},
   "source": [
    "### Nullclines"
   ]
  },
  {
   "cell_type": "code",
   "execution_count": 5,
   "metadata": {},
   "outputs": [
    {
     "data": {
      "image/png": "[encoded data removed]",
      "text/latex": [
       "$$0.0$$"
      ],
      "text/plain": [
       "0.0"
      ]
     },
     "execution_count": 5,
     "metadata": {},
     "output_type": "execute_result"
    }
   ],
   "source": [
    "solve(dBdta, B)[0]"
   ]
  },
  {
   "cell_type": "code",
   "execution_count": 6,
   "metadata": {},
   "outputs": [
    {
     "data": {
      "image/png": "[encoded data removed]",
      "text/latex": [
       "$$- 120.0 K + 150000.0$$"
      ],
      "text/plain": [
       "-120.0⋅K + 150000.0"
      ]
     },
     "execution_count": 6,
     "metadata": {},
     "output_type": "execute_result"
    }
   ],
   "source": [
    "solve(dBdta, B)[1]"
   ]
  },
  {
   "cell_type": "code",
   "execution_count": 7,
   "metadata": {},
   "outputs": [
    {
     "data": {
      "image/png": "[encoded data removed]",
      "text/latex": [
       "$$0.0$$"
      ],
      "text/plain": [
       "0.0"
      ]
     },
     "execution_count": 7,
     "metadata": {},
     "output_type": "execute_result"
    }
   ],
   "source": [
    "solve(dKdta, K)[0]"
   ]
  },
  {
   "cell_type": "code",
   "execution_count": 8,
   "metadata": {},
   "outputs": [
    {
     "data": {
      "image/png": "[encoded data removed]",
      "text/latex": [
       "$$- 0.00133333333333333 B + 500.0$$"
      ],
      "text/plain": [
       "-0.00133333333333333⋅B + 500.0"
      ]
     },
     "execution_count": 8,
     "metadata": {},
     "output_type": "execute_result"
    }
   ],
   "source": [
    "solve(dKdta, K)[1]"
   ]
  },
  {
   "cell_type": "markdown",
   "metadata": {},
   "source": [
    "### Functions"
   ]
  },
  {
   "cell_type": "code",
   "execution_count": 21,
   "metadata": {},
   "outputs": [],
   "source": [
    "def dB_dta(blue, krill):\n",
    "    \"\"\"This function is the numerical version of the symbolic rendition of dB/dt above\"\"\"\n",
    "    g_Ba1 = 0.05*blue*(1-blue/150000)\n",
    "    c_Ba1 = (0.02/500)*blue*krill\n",
    "    dBdta1 = g_Ba1 - c_Ba1\n",
    "    return dBdta1\n",
    "\n",
    "    \n",
    "def dK_dta(blue, krill):\n",
    "    \"\"\"This function is the numerical version of the symbolic rendition of dK/dt above\"\"\"\n",
    "    g_Ka1 = 0.25*krill*(1-krill/500)\n",
    "    c_Ka1 = (0.10/150000)*blue*krill\n",
    "    dKdta1 = g_Ka1 - c_Ka1\n",
    "    return dKdta1\n",
    "\n",
    "\n",
    "def sensitivityAnalysis(blue= 5000, krill= 750):\n",
    "    \"\"\"Outputs the sensitivity analysis of krill in table form. \n",
    "    Using different growth rates.\"\"\"\n",
    "    growth = np.arange(.15, .35, .01)\n",
    "    dKdta2 = growth*krill*(1-krill/500) - (0.10/150000)*blue*krill\n",
    "    krillChange = dKdta2 \n",
    "    dict1 = {'Growth1': growth,'dK/dt': krillChange}\n",
    "    df1 = pd.DataFrame.from_dict(dict1)\n",
    "    return df1\n",
    "\n",
    "def sensitivityAnalysisGraph(blue= 5000, krill= 750, loc= 10):\n",
    "    fig, ax1 = plt.subplots()\n",
    "    days = np.arange(0, 5, 1)\n",
    "    loss = sensitivityAnalysis()['dK/dt'].iloc[loc] * days\n",
    "    ax1.plot(days, loss, color= 'r', linestyle= '--', lw= 2, label= 'Krill L/D')\n",
    "    ax1.set(xlabel= 'Days', ylabel= 'Loss', title= 'Krill Sensitivity')\n",
    "    ax1.legend('upper right')\n",
    "    return ax1"
   ]
  },
  {
   "cell_type": "markdown",
   "metadata": {},
   "source": [
    "### Plot "
   ]
  },
  {
   "cell_type": "code",
   "execution_count": 10,
   "metadata": {},
   "outputs": [
    {
     "data": {
      "text/plain": [
       "<matplotlib.legend.Legend at 0x1104d8080>"
      ]
     },
     "execution_count": 10,
     "metadata": {},
     "output_type": "execute_result"
    },
    {
     "data": {
      "image/png": "[encoded data removed]",
      "text/plain": [
       "<Figure size 432x288 with 1 Axes>"
      ]
     },
     "metadata": {
      "needs_background": "light"
     },
     "output_type": "display_data"
    }
   ],
   "source": [
    "%matplotlib inline \n",
    "\n",
    "# Part 1: Creates the grid for the plot\n",
    "fig, ax1 = plt.subplots()\n",
    "x, y = np.linspace(0,200000), np.linspace(0,1000)\n",
    "X, Y = np.meshgrid(x, y)\n",
    "\n",
    "# Part 2: Creates the nullclines\n",
    "b, k = x, y\n",
    "B1 = 0 * k\n",
    "B2 = -120.0*k + 150000.0\n",
    "K1 = 0 * b\n",
    "K2 = -0.00133333333333333*b + 500.0\n",
    "\n",
    "# Part 3: Create the vector plot for dB/dt = 0; dK/dt = 0\n",
    "U, V = dB_dta(X, Y), dK_dta(X, Y)\n",
    "\n",
    "# Part 4: Plots the nullclines \n",
    "ax1.plot(B1, k, color= \"r\", linestyle= '--', linewidth= 2, label= 'blue-nullcline')\n",
    "ax1.plot(B2, k, color= \"r\", linestyle= '--', linewidth= 2)\n",
    "ax1.plot(b, K1, color= \"b\", linestyle= '--', linewidth= 2, label= 'krill-nullcline')\n",
    "ax1.plot(b, K2, color= \"b\", linestyle= '--', linewidth= 2)\n",
    "\n",
    "# Part 5: Plots the streamplot\n",
    "\n",
    "ax1.streamplot(X, Y, U, V)\n",
    "\n",
    "# Part 6: Creates the legend, axis names, title, etc.\n",
    "ax1.set(xlabel= 'Blue Whale', ylabel= 'Krill', title= 'Blue Whale vs. Krill')\n",
    "ax1.legend(loc= 'upper right')"
   ]
  },
  {
   "cell_type": "markdown",
   "metadata": {},
   "source": [
    "### Answer to the Questions\n",
    "\n",
    "1. Determine whether the whales and the Krill can coexist in equillibrium. Use the five-step, and the model as a dynamical system in steady state.\n",
    "\n",
    "    * **Yes they can coexist. Refer to graph above. You see the vectors in the vector plot points towards the equillibrium point. (This was answered last HW). Additionally the equillibrium is positive.** \n",
    "\n",
    "  \n",
    "2. Draw the vector field for this problem. Classify each equiillibrium point in the state space as stable or unstable.\n",
    "\n",
    "    * **Stable Equillibrium: $\\big(107142.857142857,357.142857142857\\big)$ as the vectors point towards it.**\n",
    "    * **Unstable Equillibrium: $\\big[(0.0,0.0),(0.0,500.0),(150000.0,0.0)\\big]$ as the vectors point away from them.**\n",
    "\n",
    "\n",
    "3. Describe what happens to the two populations overtime. Assume we start off w/ 5000 blue whales and 750 ton/acre krill \n",
    "\n",
    "    * **They move towards the equillibrium point $\\big(107142.857142857,357.142857142857\\big)$. The whale population increases substantially; the krill population decreases substantially as well.**\n",
    "\n",
    "\n",
    "4. How sensitive are your conclusions in part (3) to the assumption of a 25% growth of per year for krill.\n",
    "\n",
    "    * **View answer below**"
   ]
  },
  {
   "cell_type": "markdown",
   "metadata": {},
   "source": [
    "***The growth rate of 25% yields a decrease/loss ('-' sign) of approx. 97 ton/acres of krill***"
   ]
  },
  {
   "cell_type": "code",
   "execution_count": 11,
   "metadata": {},
   "outputs": [
    {
     "data": {
      "text/plain": [
       "Growth1     0.25\n",
       "dK/dt     -96.25\n",
       "Name: 10, dtype: float64"
      ]
     },
     "execution_count": 11,
     "metadata": {},
     "output_type": "execute_result"
    }
   ],
   "source": [
    "sensitivityAnalysis().iloc[10]"
   ]
  },
  {
   "cell_type": "markdown",
   "metadata": {},
   "source": [
    "***Also refer to graph***"
   ]
  },
  {
   "cell_type": "code",
   "execution_count": 22,
   "metadata": {},
   "outputs": [
    {
     "data": {
      "text/plain": [
       "<matplotlib.axes._subplots.AxesSubplot at 0x112aaff28>"
      ]
     },
     "execution_count": 22,
     "metadata": {},
     "output_type": "execute_result"
    },
    {
     "data": {
      "image/png": "[encoded data removed]",
      "text/plain": [
       "<Figure size 432x288 with 1 Axes>"
      ]
     },
     "metadata": {
      "needs_background": "light"
     },
     "output_type": "display_data"
    }
   ],
   "source": [
    "sensitivityAnalysisGraph()"
   ]
  },
  {
   "cell_type": "markdown",
   "metadata": {},
   "source": [
    "***If the growth rate where changed, you'd still experience a decrease/loss ('-' sign) of krill, but the amount per time (I did days) would be different. See below:***\n",
    "\n",
    "#### Loss at different growth rates"
   ]
  },
  {
   "cell_type": "code",
   "execution_count": 13,
   "metadata": {},
   "outputs": [
    {
     "name": "stdout",
     "output_type": "stream",
     "text": [
      "For a 0.15 growth rate, have a loss of 58.75 tons/acre per day\n",
      "For a 0.16 growth rate, have a loss of 62.5 tons/acre per day\n",
      "For a 0.17 growth rate, have a loss of 66.25 tons/acre per day\n",
      "For a 0.18 growth rate, have a loss of 70.0 tons/acre per day\n",
      "For a 0.19 growth rate, have a loss of 73.75 tons/acre per day\n",
      "For a 0.2 growth rate, have a loss of 77.5 tons/acre per day\n",
      "For a 0.21 growth rate, have a loss of 81.25 tons/acre per day\n",
      "For a 0.22 growth rate, have a loss of 85.0 tons/acre per day\n",
      "For a 0.23 growth rate, have a loss of 88.75 tons/acre per day\n",
      "For a 0.24 growth rate, have a loss of 92.5 tons/acre per day\n",
      "For a 0.25 growth rate, have a loss of 96.25 tons/acre per day\n",
      "For a 0.26 growth rate, have a loss of 100.0 tons/acre per day\n",
      "For a 0.27 growth rate, have a loss of 103.75 tons/acre per day\n",
      "For a 0.28 growth rate, have a loss of 107.5 tons/acre per day\n",
      "For a 0.29 growth rate, have a loss of 111.25 tons/acre per day\n",
      "For a 0.3 growth rate, have a loss of 115.0 tons/acre per day\n",
      "For a 0.31 growth rate, have a loss of 118.75 tons/acre per day\n",
      "For a 0.32 growth rate, have a loss of 122.5 tons/acre per day\n",
      "For a 0.33 growth rate, have a loss of 126.25 tons/acre per day\n",
      "For a 0.34 growth rate, have a loss of 130.0 tons/acre per day\n"
     ]
    }
   ],
   "source": [
    "for i in range(20):\n",
    "    print('For a {} growth rate, have a loss of {} tons/acre per day'.format(round(sensitivityAnalysis()['Growth1'].iloc[i], 2), \n",
    "                                                                         round(-1*sensitivityAnalysis()['dK/dt'].iloc[i],2)))"
   ]
  },
  {
   "cell_type": "markdown",
   "metadata": {},
   "source": [
    "# Discrete SIS Model"
   ]
  },
  {
   "cell_type": "markdown",
   "metadata": {},
   "source": [
    "#### Variables\n",
    "\n",
    "$t = \\text{time in weeks}$  \n",
    "$S = \\text{Susceptible Population}$  \n",
    "$I = \\text{Infected Population}$  \n",
    "$R = \\text{Recovered Population}$  \n",
    "$\\Delta S = \\text{change in Susceptible Population}$  \n",
    "$\\Delta I = \\text{change in Infected Population}$  \n",
    "$\\Delta R = \\text{change in Recoved Population}$  \n",
    "\n",
    "\n",
    "#### Assumptions\n",
    "\n",
    "$S + I + R = 100000$  \n",
    "\n",
    "$\\Delta S + \\Delta I + \\Delta R = 0$  \n",
    "$\\Delta S = -\\beta SI$  \n",
    "$\\Delta I = \\beta SI - \\zeta I $  \n",
    "$\\Delta R = \\zeta I$  \n",
    "\n",
    "***Between Last Week and this week***\n",
    "\n",
    "$\\text{Let } R_0 = 30000$  \n",
    "$\\text{Let } \\zeta = 0.30$  \n",
    "$\\text{Let } I_0 = 18$  \n",
    "$\\text{Let } S_0 = 70000 - 18 = 69982$  \n",
    "$\\Delta I_0 = 40 = \\beta (69982)(18) - (0.30)(18)$   \n",
    "\n",
    "$\\text{Let } \\beta = \\cfrac{40 - (0.30)(18)}{(69982)(18)}$\n",
    "\n",
    "\n",
    "#### Objective\n",
    "\n",
    "* Find eventual number of people who will get infected\n",
    "* Estimate maximum number of cases in one week\n",
    "* Conduct Sensitivety Analysis to investigate effect of any assumptions made not based on hard data\n",
    "* Perform sensitivity analysis for number of cases (18) reported last week\n",
    "    * Thought that in early weeks epidemic is underreported"
   ]
  },
  {
   "cell_type": "markdown",
   "metadata": {},
   "source": [
    "### Functions"
   ]
  },
  {
   "cell_type": "code",
   "execution_count": 24,
   "metadata": {},
   "outputs": [],
   "source": [
    "def beta(susceptibles, infected, zeta = 0.30):\n",
    "    \"\"\"Calculated Beta, the proportionality constant used in change for susceptibles and infected\"\"\"\n",
    "    i_0 = 40\n",
    "    return (i_0 + zeta*infected)/(susceptibles * infected)\n",
    "\n",
    "\n",
    "def delta_S(susceptibles, infected, beta):\n",
    "    \"\"\"Change in Susceptibles\"\"\"\n",
    "    return - beta * susceptibles * infected\n",
    "\n",
    "\n",
    "def delta_I(susceptibles, infected, beta, zeta= 0.30):\n",
    "    \"\"\"Change in Infected\"\"\"\n",
    "    return (beta * susceptibles * infected) - (zeta * infected)\n",
    "\n",
    "\n",
    "def delta_R(infected, zeta= 0.30):\n",
    "    \"\"\"Change in Recovered\"\"\"\n",
    "    return (zeta * infected)"
   ]
  },
  {
   "cell_type": "markdown",
   "metadata": {},
   "source": [
    "### Variables"
   ]
  },
  {
   "cell_type": "code",
   "execution_count": 15,
   "metadata": {},
   "outputs": [],
   "source": [
    "# My initial variables for the model \n",
    "s_0, i_0 = 69982, 18"
   ]
  },
  {
   "cell_type": "code",
   "execution_count": 19,
   "metadata": {},
   "outputs": [
    {
     "data": {
      "image/png": "[encoded data removed]",
      "text/latex": [
       "$$3.604101372098857e-05$$"
      ],
      "text/plain": [
       "3.604101372098857e-05"
      ]
     },
     "execution_count": 19,
     "metadata": {},
     "output_type": "execute_result"
    }
   ],
   "source": [
    "beta_const = beta(s_0, i_0)\n",
    "beta_const"
   ]
  },
  {
   "cell_type": "markdown",
   "metadata": {},
   "source": [
    "### Objective\n",
    "\n",
    "* Find eventual number of people who will get infected"
   ]
  },
  {
   "cell_type": "code",
   "execution_count": 42,
   "metadata": {},
   "outputs": [
    {
     "data": {
      "text/html": [
       "<div>\n",
       "<style scoped>\n",
       "    .dataframe tbody tr th:only-of-type {\n",
       "        vertical-align: middle;\n",
       "    }\n",
       "\n",
       "    .dataframe tbody tr th {\n",
       "        vertical-align: top;\n",
       "    }\n",
       "\n",
       "    .dataframe thead th {\n",
       "        text-align: right;\n",
       "    }\n",
       "</style>\n",
       "<table border=\"1\" class=\"dataframe\">\n",
       "  <thead>\n",
       "    <tr style=\"text-align: right;\">\n",
       "      <th></th>\n",
       "      <th>Weeks</th>\n",
       "      <th># of Infected/Week</th>\n",
       "    </tr>\n",
       "  </thead>\n",
       "  <tbody>\n",
       "    <tr>\n",
       "      <th>0</th>\n",
       "      <td>0</td>\n",
       "      <td>18.0</td>\n",
       "    </tr>\n",
       "    <tr>\n",
       "      <th>1</th>\n",
       "      <td>1</td>\n",
       "      <td>58.0</td>\n",
       "    </tr>\n",
       "    <tr>\n",
       "      <th>2</th>\n",
       "      <td>2</td>\n",
       "      <td>98.0</td>\n",
       "    </tr>\n",
       "    <tr>\n",
       "      <th>3</th>\n",
       "      <td>3</td>\n",
       "      <td>138.0</td>\n",
       "    </tr>\n",
       "  </tbody>\n",
       "</table>\n",
       "</div>"
      ],
      "text/plain": [
       "   Weeks  # of Infected/Week\n",
       "0      0                18.0\n",
       "1      1                58.0\n",
       "2      2                98.0\n",
       "3      3               138.0"
      ]
     },
     "execution_count": 42,
     "metadata": {},
     "output_type": "execute_result"
    }
   ],
   "source": [
    "infected_list = [i_0]\n",
    "for i in range(0, 3):\n",
    "    newInfected = infected_list[i] + delta_I(s_0, i_0, beta_const)\n",
    "    infected_list.append(newInfected)\n",
    "\n",
    "data1 = {'Weeks': np.arange(0, 4, 1), '# of Infected/Week': np.array(infected_list)}\n",
    "df1 = pd.DataFrame.from_dict(data1)\n",
    "df1"
   ]
  },
  {
   "cell_type": "code",
   "execution_count": 45,
   "metadata": {},
   "outputs": [
    {
     "name": "stdout",
     "output_type": "stream",
     "text": [
      "Eventual number of cases of infected is: 138.0\n"
     ]
    }
   ],
   "source": [
    "print('Eventual number of cases of infected is: {}'.format(df1['# of Infected/Week'].iloc[3]))"
   ]
  },
  {
   "cell_type": "markdown",
   "metadata": {},
   "source": [
    "* Estimate maximum number of cases in one week"
   ]
  },
  {
   "cell_type": "code",
   "execution_count": 47,
   "metadata": {},
   "outputs": [
    {
     "name": "stdout",
     "output_type": "stream",
     "text": [
      "Max number of cases of infected in 1 week is: 40.0\n"
     ]
    }
   ],
   "source": [
    "print('Max number of cases of infected in 1 week is: {}'.format(delta_I(s_0, i_0, beta_const)))"
   ]
  },
  {
   "cell_type": "markdown",
   "metadata": {},
   "source": [
    "* Conduct Sensitivety Analysis to investigate effect of any assumptions made not based on hard data\n",
    "* Perform sensitivity analysis for number of cases (18) reported last week\n",
    "    * Thought that in early weeks epidemic is underreported"
   ]
  }
 ],
 "metadata": {
  "kernelspec": {
   "display_name": "Programming_Practice",
   "language": "python",
   "name": "programming_practice"
  },
  "language_info": {
   "codemirror_mode": {
    "name": "ipython",
    "version": 3
   },
   "file_extension": ".py",
   "mimetype": "text/x-python",
   "name": "python",
   "nbconvert_exporter": "python",
   "pygments_lexer": "ipython3",
   "version": "3.6.7"
  }
 },
 "nbformat": 4,
 "nbformat_minor": 2
}
