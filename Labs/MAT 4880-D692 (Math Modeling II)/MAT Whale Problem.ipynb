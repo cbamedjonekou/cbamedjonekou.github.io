{
 "cells": [
  {
   "cell_type": "markdown",
   "metadata": {},
   "source": [
    "**Name: Christ-Brian Amedjonekou**  \n",
    "**Date: 1/30/2019**  \n",
    "**MAT -D278 (Telecommunications) Lab 1**  \n",
    "**Spring 2019, Section: D278, Code: 37580**  \n",
    "**Instructor: Layth Qaseer**"
   ]
  },
  {
   "cell_type": "markdown",
   "metadata": {},
   "source": [
    "# Whale Problem\n",
    "\n",
    "**Variables**\n",
    "\n",
    "$B = \\text{number of blue whales}$  \n",
    "$F = \\text{number of finn whales}$  \n",
    "$g_B = \\text{growth rate for blue whales}$  \n",
    "$g_F = \\text{growth rate for finn whales}$  \n",
    "$c_B = \\text{competition term for blue whales}$  \n",
    "$c_F = \\text{competition term for finn whales}$  \n",
    "\n",
    "**Assumptions**\n",
    "\n",
    "$g_B = 0.05B\\Big(1 - \\dfrac{B}{150000}\\Big)$\n",
    "\n",
    "$g_F = 0.08B\\Big(1 - \\dfrac{B}{400000}\\Big)$  \n",
    "\n",
    "$c_B = c_F = \\alpha BF; \\text{ where } \\alpha = 10^{-8}$\n",
    "\n",
    "$\\frac{dB}{dt} = g_B - c_B$\n",
    "\n",
    "$\\frac{dF}{dt} = g_F - c_F$\n",
    "\n",
    "$B, F \\geq 0$\n",
    "\n",
    "**Objective**\n",
    "\n",
    "$\\text{Find whether } B\\rightarrow 0 \\text{ as time continues}$"
   ]
  },
  {
   "cell_type": "markdown",
   "metadata": {},
   "source": [
    "### Modules"
   ]
  },
  {
   "cell_type": "code",
   "execution_count": 8,
   "metadata": {
    "collapsed": true
   },
   "outputs": [],
   "source": [
    "# Modules being called\n",
    "from sympy.solvers import solve\n",
    "from sympy import Symbol, Function"
   ]
  },
  {
   "cell_type": "markdown",
   "metadata": {},
   "source": [
    "### Variables"
   ]
  },
  {
   "cell_type": "code",
   "execution_count": 7,
   "metadata": {},
   "outputs": [],
   "source": [
    "B,F = Symbol('B'), Symbol('F')\n"
   ]
  },
  {
   "cell_type": "code",
   "execution_count": null,
   "metadata": {
    "collapsed": true
   },
   "outputs": [],
   "source": []
  }
 ],
 "metadata": {
  "kernelspec": {
   "display_name": "Python 3",
   "language": "python",
   "name": "python3"
  },
  "language_info": {
   "codemirror_mode": {
    "name": "ipython",
    "version": 3
   },
   "file_extension": ".py",
   "mimetype": "text/x-python",
   "name": "python",
   "nbconvert_exporter": "python",
   "pygments_lexer": "ipython3",
   "version": "3.7.0"
  }
 },
 "nbformat": 4,
 "nbformat_minor": 2
}
