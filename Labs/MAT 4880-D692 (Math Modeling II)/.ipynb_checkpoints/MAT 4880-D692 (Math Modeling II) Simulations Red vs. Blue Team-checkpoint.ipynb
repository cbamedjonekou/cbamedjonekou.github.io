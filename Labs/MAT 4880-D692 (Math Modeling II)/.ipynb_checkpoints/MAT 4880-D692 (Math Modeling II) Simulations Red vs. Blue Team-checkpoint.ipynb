{
 "cells": [
  {
   "cell_type": "code",
   "execution_count": 1,
   "metadata": {},
   "outputs": [],
   "source": [
    "import matplotlib.pyplot as plt\n",
    "import seaborn as sns\n",
    "import numpy as np"
   ]
  },
  {
   "cell_type": "markdown",
   "metadata": {},
   "source": [
    "# Red vs. Blue Simulation \n",
    "\n",
    "**Variables**\n",
    "\n",
    "$R = \\text{# of Red Divisions}$\n",
    "\n",
    "$B = \\text{# of Blue Divisions}$\n",
    "\n",
    "$D_R = \\text{red rate of attrition due to direct Fire (units/hour)}$\n",
    "\n",
    "$D_B = \\text{blue rate of attrition due to direct Fire (units/hour)}$\n",
    "\n",
    "$I_R = \\text{red rate of attrition due to indirect Fire (units/hour)}$\n",
    "\n",
    "$I_B = \\text{blue rate of attrition due to indirect Fire (units/hour)}$\n",
    "\n",
    "**Assumptions**\n",
    "\n",
    "$D_R = a_1B$\n",
    "\n",
    "$D_B = a_2R$\n",
    "\n",
    "$I_R = b_1BR$\n",
    "\n",
    "$I_B = b_2BR$\n",
    "\n",
    "$R, B \\geq 0$\n",
    "\n",
    "$R(0) = 5, B(0) = 2$\n",
    "\n",
    "$a_1, a_2, b_1, b_2 \\text{ are all positive}$\n",
    "\n",
    "$a_1 > a_2; b_1 > b_2$\n",
    "\n",
    "**Objective**\n",
    "\n",
    "Determine conditions under which $R \\rightarrow 0$ and $B \\rightarrow 0$"
   ]
  },
  {
   "cell_type": "markdown",
   "metadata": {},
   "source": [
    "### Version 1 w/ For Loop\n",
    "\n",
    "\n",
    "```python\n",
    "def deltaX1(R, B, lambda_): \n",
    "    return -lambda_*0.05*B - lambda_*0.005*B*R\n",
    "\n",
    "def deltaX2(R, B): \n",
    "    return-0.05*B - 0.005*B*R\n",
    "\n",
    "def red_vs_blueSIM(lambda_, L, N):  \n",
    "    for i in range(N):\n",
    "        x1_last, x2_last = L[-1][0], L[-1][1]\n",
    "        x1_next = x1_last + deltaX1(x1_last, x2_last, lambda_)\n",
    "        x2_next = x2_last + deltaX2(x1_last, x2_last)\n",
    "        L.append([x1_next, x2_next])\n",
    "        result = L\n",
    "    return result\n",
    "```"
   ]
  },
  {
   "cell_type": "markdown",
   "metadata": {},
   "source": [
    "### Version 2 w/ While Loop"
   ]
  },
  {
   "cell_type": "code",
   "execution_count": 2,
   "metadata": {},
   "outputs": [],
   "source": [
    "def deltaX1(R, B, lambda_): \n",
    "    return -lambda_*0.05*B - lambda_*0.005*B*R\n",
    "\n",
    "def deltaX2(R, B): \n",
    "    return-0.05*B - 0.005*B*R\n",
    "\n",
    "\n",
    "def red_vs_blueSIM(lambda_, L):   \n",
    "    count = 0\n",
    "    while (L[-1][0] > 0 and L[-1][1] > 0):\n",
    "        x1_last, x2_last = L[-1][0], L[-1][1]\n",
    "        x1_next = x1_last + deltaX1(x1_last, x2_last, lambda_)\n",
    "        x2_next = x2_last + deltaX2(x1_last, x2_last)\n",
    "        L.append([x1_next, x2_next])\n",
    "        count += 1\n",
    "        if count == 100:\n",
    "            return L\n",
    "    return L"
   ]
  },
  {
   "cell_type": "code",
   "execution_count": 33,
   "metadata": {
    "scrolled": true
   },
   "outputs": [
    {
     "data": {
      "text/plain": [
       "<matplotlib.collections.PathCollection at 0x11fd76a58>"
      ]
     },
     "execution_count": 33,
     "metadata": {},
     "output_type": "execute_result"
    },
    {
     "data": {
      "image/png": "[encoded data removed]",
      "text/plain": [
       "<Figure size 432x288 with 1 Axes>"
      ]
     },
     "metadata": {
      "needs_background": "light"
     },
     "output_type": "display_data"
    }
   ],
   "source": [
    "lambd = [3.6, 23, 7, 13, 16]\n",
    "L = [[4, 2]]\n",
    "result = np. array(red_vs_blueSIM(lambd[0], L))\n",
    "fig, ax1 = plt.subplots()\n",
    "ax1.scatter(result[:, 0], result[:, 1])"
   ]
  },
  {
   "cell_type": "code",
   "execution_count": 28,
   "metadata": {},
   "outputs": [
    {
     "data": {
      "text/plain": [
       "array([[ 4.        ,  2.        ],\n",
       "       [ 3.496     ,  1.86      ],\n",
       "       [ 3.04415392,  1.7344872 ],\n",
       "       [ 2.6369054 ,  1.62136261],\n",
       "       [ 2.26810329,  1.51891758],\n",
       "       [ 1.93268701,  1.42574639],\n",
       "       [ 1.62645327,  1.34068146],\n",
       "       [ 1.3458806 ,  1.26274461],\n",
       "       [ 1.08799551,  1.19110986],\n",
       "       [ 0.85026914,  1.12507476],\n",
       "       [ 0.63053659,  1.06403794],\n",
       "       [ 0.42693329,  1.00748147],\n",
       "       [ 0.23784433,  0.95495676],\n",
       "       [ 0.06186376,  0.90607327],\n",
       "       [-0.10223839,  0.86048934]])"
      ]
     },
     "execution_count": 28,
     "metadata": {},
     "output_type": "execute_result"
    }
   ],
   "source": [
    "result"
   ]
  },
  {
   "cell_type": "code",
   "execution_count": 31,
   "metadata": {},
   "outputs": [
    {
     "data": {
      "text/plain": [
       "<matplotlib.axes._subplots.AxesSubplot at 0x11fc46588>"
      ]
     },
     "execution_count": 31,
     "metadata": {},
     "output_type": "execute_result"
    },
    {
     "data": {
      "image/png": "[encoded data removed]",
      "text/plain": [
       "<Figure size 432x288 with 1 Axes>"
      ]
     },
     "metadata": {
      "needs_background": "light"
     },
     "output_type": "display_data"
    }
   ],
   "source": [
    "t = np.linspace(1, 25, result[:, 0].size)\n",
    "sns.scatterplot(t, result[:, 1])\n",
    "sns.scatterplot(t, result[:, 0])"
   ]
  }
 ],
 "metadata": {
  "kernelspec": {
   "display_name": "Programming_Practice",
   "language": "python",
   "name": "programming_practice"
  },
  "language_info": {
   "codemirror_mode": {
    "name": "ipython",
    "version": 3
   },
   "file_extension": ".py",
   "mimetype": "text/x-python",
   "name": "python",
   "nbconvert_exporter": "python",
   "pygments_lexer": "ipython3",
   "version": "3.6.7"
  }
 },
 "nbformat": 4,
 "nbformat_minor": 2
}
