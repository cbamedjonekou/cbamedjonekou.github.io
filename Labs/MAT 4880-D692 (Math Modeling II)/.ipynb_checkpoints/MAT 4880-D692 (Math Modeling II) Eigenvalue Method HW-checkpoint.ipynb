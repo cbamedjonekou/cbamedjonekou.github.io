{
 "cells": [
  {
   "cell_type": "markdown",
   "metadata": {},
   "source": [
    "**Name: Christ-Brian Amedjonekou**  \n",
    "**Date: 2/11/2019**  \n",
    "**MAT 4880-D692 (Math Modeling II) Eigenvalue Method HW**  \n",
    "**Spring 2019, Section: D692, Code: 36561**  \n",
    "**Instructor: Johann Thiel**"
   ]
  },
  {
   "cell_type": "markdown",
   "metadata": {},
   "source": [
    "# Section 5.1 - Eigenvalue Methods for Continuous Dynamical Systems\n",
    "\n",
    "* Look at [Tree Problem]() for Example and Theory of \"Eigenvalue Methods for Continuous Dynamical Systems\""
   ]
  },
  {
   "cell_type": "markdown",
   "metadata": {},
   "source": [
    "## The Tree Problem Using the Five-Step Method\n",
    "\n",
    "### Step 1: List all variables and Assumptions\n",
    "\n",
    "**Variables**\n",
    "\n",
    "* $H = \\text{Hardwood Tree Population}$  \n",
    "* $S = \\text{Softwood Tree Population}$  \n",
    "* $g_H = \\text{growth rate of the Hardwood Tree Population}$  \n",
    "* $g_S = \\text{growth rate of the Softwood Tree Population}$  \n",
    "* $a_H = \\text{self limiting factor of the Hardwood Tree Population}$  \n",
    "* $a_S = \\text{self limiting factor of the Softwood Tree Population}$  \n",
    "* $c_H = \\text{competition factor of the Hardwood Tree Population}$  \n",
    "* $c_S = \\text{competition factor of the Softwood Tree Population}$  \n",
    "\n",
    "\n",
    "**Assumptions**\n",
    "\n",
    "* $g_H = 0.10H$  \n",
    "* $g_S = 0.25S$    \n",
    "* $a_H = \\cfrac{0.10}{10000}H^2; \\space K_1 = 10000$  \n",
    "* $a_S = \\cfrac{0.25}{6000}S^2; \\space K_2 = 6000$  \n",
    "* $c_H = \\cfrac{0.05}{10000}HS$  \n",
    "* $c_S = \\cfrac{0.125}{6000}HS$  \n",
    "* $\\cfrac{dH}{dt} = 0.10H - \\cfrac{0.10}{10000}H^2 - \\cfrac{0.05}{10000}HS = 0.10H \\Big(1 - \\cfrac{H}{10000}\\Big) - \\cfrac{0.05}{10000}HS$\n",
    "* $\\cfrac{dS}{dt} = 0.25H - \\cfrac{0.25}{6000}S^2 - \\cfrac{0.125}{6000}HS = 0.25S \\Big(1 - \\cfrac{S}{6000}\\Big) - \\cfrac{0.125}{6000}HS$\n",
    "* $H, S \\geq 0$\n",
    "\n",
    "**Question: What do we want to find**\n",
    "\n",
    "* If there's a stable equilibrium point for the system"
   ]
  },
  {
   "cell_type": "markdown",
   "metadata": {},
   "source": [
    "### Step 2: Select your modeling approach\n",
    "\n",
    "* We'll evaluate the Tree Problem (non-linear dynamical system) using the Eigenvalue Method.\n",
    "* The theory for this modeling approach is as follows:\n",
    "    $$\\space$$\n",
    "    * We're given a dynamical system, $x' = f(x)$ where $x = (x_1, ....,x_n)$ is an element of the state space $S \\subseteq R^N $ and $F = (f_1,...,f_n)$\n",
    "    * A point, $X_0 \\in S$, is an equilibrium point or steady state, if and only if, $F(x_0) = 0$\n",
    "    * There's a theorem that states that an equilibrium point is asymptotically stable if the following matrix\n",
    "    $$\\space$$\n",
    "    $$\n",
    "   A=\n",
    "  \\left[{\\begin{array}{ccc}\n",
    "   \\cfrac{\\partial f_1}{x_1}x_0 & ... &\\cfrac{\\partial f_1}{x_n}x_0 \\\\\n",
    "   \\cfrac{\\partial f_n}{x_1}x_0 & ... &\\cfrac{\\partial f_n}{x_n}x_0 \\\\\n",
    "  \\end{array} } \\right]$$ \n",
    "  $$\\space$$ \n",
    "    * has eigenvalues w/ all negative real parts. If any of the eigenvalues have a positive real part, the the equilibrium point is unstable. If there are no real parts then you have an inconclusive case.\n",
    "    $$\\space$$\n",
    "    * The eigenvalue method is based on a linear approximation.\n",
    "        * Even if  $x' = F(x)$ is not linear, we have the following: $$F(x) \\approx A(x - x_0)$$\n",
    "        $$\\space$$\n",
    "        * in the neighborhood of the equilibrium point.\n",
    "        "
   ]
  },
  {
   "cell_type": "markdown",
   "metadata": {},
   "source": [
    "### Packages"
   ]
  },
  {
   "cell_type": "code",
   "execution_count": 36,
   "metadata": {},
   "outputs": [],
   "source": [
    "import numpy as np\n",
    "import pandas as pd\n",
    "from matplotlib import pyplot as plt\n",
    "from sympy.solvers import solve\n",
    "import sympy as sp\n",
    "import scipy as sci"
   ]
  },
  {
   "cell_type": "markdown",
   "metadata": {},
   "source": [
    "### Finding the Equilibrium Points"
   ]
  },
  {
   "cell_type": "code",
   "execution_count": 71,
   "metadata": {},
   "outputs": [
    {
     "data": {
      "image/png": "[encoded data removed]",
      "text/latex": [
       "$$\\left [ \\left ( 0.0, \\quad 0.0\\right ), \\quad \\left ( 0.0, \\quad 6000.0\\right ), \\quad \\left ( 9333.33333333333, \\quad 1333.33333333333\\right ), \\quad \\left ( 10000.0, \\quad 0.0\\right )\\right ]$$"
      ],
      "text/plain": [
       "[(0.0, 0.0), (0.0, 6000.0), (9333.33333333333, 1333.33333333333), (10000.0, 0.\n",
       "0)]"
      ]
     },
     "execution_count": 71,
     "metadata": {},
     "output_type": "execute_result"
    }
   ],
   "source": [
    "sp.init_printing()\n",
    "H, S = sp.symbols('H S')\n",
    "r1, r2 = 0.10, 0.25\n",
    "a1, a2 = r1/10000, r2/6000\n",
    "b1, b2 = a1/2, a2/2\n",
    "dHdt = r1*H - a1*H**2 - b1*H*S\n",
    "dSdt = r2*S - a2*S**2 - b2*H*S\n",
    "solve([dHdt, dSdt], H, S)"
   ]
  },
  {
   "cell_type": "markdown",
   "metadata": {},
   "source": [
    "### Step 3: Formulate your Model\n",
    "\n",
    "* Basically we find the equilibrium points\n",
    "* Then, we take partials of our two equations and evaluate at the equilibrium points \n",
    "* Then find $\\det(A - \\lambda I) = 0$\n",
    "* If the eigenvalues have negative real parts the system is stable."
   ]
  },
  {
   "cell_type": "code",
   "execution_count": 72,
   "metadata": {},
   "outputs": [
    {
     "data": {
      "image/png": "[encoded data removed]",
      "text/latex": [
       "$$\\left[\\begin{matrix}- 2.0 \\cdot 10^{-5} H - 5.0 \\cdot 10^{-6} S + 0.1 & - 5.0 \\cdot 10^{-6} H\\\\- 2.08333333333333 \\cdot 10^{-5} S & - 2.08333333333333 \\cdot 10^{-5} H - 8.33333333333333 \\cdot 10^{-5} S + 0.25\\end{matrix}\\right]$$"
      ],
      "text/plain": [
       "⎡-2.0e-5⋅H - 5.0e-6⋅S + 0.1                        -5.0e-6⋅H                  \n",
       "⎢                                                                             \n",
       "⎣  -2.08333333333333e-5⋅S    -2.08333333333333e-5⋅H - 8.33333333333333e-5⋅S + \n",
       "\n",
       "    ⎤\n",
       "    ⎥\n",
       "0.25⎦"
      ]
     },
     "execution_count": 72,
     "metadata": {},
     "output_type": "execute_result"
    }
   ],
   "source": [
    "solMatrix = sp.Array([[sp.diff(dHdt, H), sp.diff(dHdt, S)], [sp.diff(dSdt, H), sp.diff(dSdt, S)]])\n",
    "solMatrix"
   ]
  },
  {
   "cell_type": "markdown",
   "metadata": {},
   "source": [
    "### Step 4: Solve your Model\n",
    "\n",
    "* We evaluate the above matrix at the following equilibrium points:\n",
    "\n",
    "$$[(0.0,0.0),(0.0,6000.0),(9333.33333333333,1333.33333333333),(10000.0,0.0)]$$"
   ]
  },
  {
   "cell_type": "markdown",
   "metadata": {},
   "source": [
    "### Setting up the Matrix"
   ]
  },
  {
   "cell_type": "code",
   "execution_count": 83,
   "metadata": {},
   "outputs": [],
   "source": [
    "solMatrix1 = np.array([[float(sp.diff(dHdt, H).subs({H:0, S:0})), \n",
    "                        float(sp.diff(dHdt, S).subs({H:0, S:0}))], \n",
    "                       [float(sp.diff(dSdt, H).subs({H:0, S:0})), \n",
    "                        float(sp.diff(dSdt, S).subs({H:0, S:0}))]])\n",
    "\n",
    "solMatrix2 = np.array([[float(sp.diff(dHdt, H).subs({H:0, S:6000})), \n",
    "                        float(sp.diff(dHdt, S).subs({H:0, S:6000}))], \n",
    "                       [float(sp.diff(dSdt, H).subs({H:0, S:6000})), \n",
    "                        float(sp.diff(dSdt, S).subs({H:0, S:6000}))]])\n",
    "\n",
    "solMatrix3 = np.array([[float(sp.diff(dHdt, H).subs({H:9333.33333333333, S:1333.33333333333})), \n",
    "               float(sp.diff(dHdt, S).subs({H:9333.33333333333, S:1333.33333333333}))], \n",
    "              [float(sp.diff(dSdt, H).subs({H:9333.33333333333, S:1333.33333333333})), \n",
    "               float(sp.diff(dSdt, S).subs({H:9333.33333333333, S:1333.33333333333}))]])\n",
    "\n",
    "solMatrix4 = np.array([[float(sp.diff(dHdt, H).subs({H:10000, S:0})), \n",
    "                        float(sp.diff(dHdt, S).subs({H:10000, S:0}))], \n",
    "                       [float(sp.diff(dSdt, H).subs({H:10000, S:0})), \n",
    "                        float(sp.diff(dSdt, S).subs({H:10000, S:0}))]])\n",
    "\n"
   ]
  },
  {
   "cell_type": "markdown",
   "metadata": {},
   "source": [
    "### Step 5: Answer the Question\n",
    "\n",
    "* Yes there's a stable equilibrium points"
   ]
  },
  {
   "cell_type": "markdown",
   "metadata": {},
   "source": [
    "**For $(H = 0, S = 0)$, both eigenvalues have positive real parts which make it unstable.**"
   ]
  },
  {
   "cell_type": "code",
   "execution_count": 84,
   "metadata": {},
   "outputs": [
    {
     "data": {
      "text/plain": [
       "array([0.1 +0.j, 0.25+0.j])"
      ]
     },
     "execution_count": 84,
     "metadata": {},
     "output_type": "execute_result"
    }
   ],
   "source": [
    "sci.linalg.eigvals(solMatrix1)"
   ]
  },
  {
   "cell_type": "markdown",
   "metadata": {},
   "source": [
    "**For $(H = 0, S = 6000)$, one of the eigenvalues have a positive real part which make it unstable.**"
   ]
  },
  {
   "cell_type": "code",
   "execution_count": 85,
   "metadata": {},
   "outputs": [
    {
     "data": {
      "text/plain": [
       "array([-0.25+0.j,  0.07+0.j])"
      ]
     },
     "execution_count": 85,
     "metadata": {},
     "output_type": "execute_result"
    }
   ],
   "source": [
    "sci.linalg.eigvals(solMatrix2)"
   ]
  },
  {
   "cell_type": "markdown",
   "metadata": {},
   "source": [
    "**For $(H = 9333.\\overline{3}, S = 1333.\\overline{3})$, both eigenvalues have a negative real part which make it stable.**"
   ]
  },
  {
   "cell_type": "code",
   "execution_count": 88,
   "metadata": {},
   "outputs": [
    {
     "data": {
      "text/plain": [
       "(-0.03378627896992869+0j)"
      ]
     },
     "execution_count": 88,
     "metadata": {},
     "output_type": "execute_result"
    }
   ],
   "source": [
    "sci.linalg.eigvals(solMatrix3)[1]"
   ]
  },
  {
   "cell_type": "markdown",
   "metadata": {},
   "source": [
    "**For $(H = 10000, S = 0)$, one of the eigenvalues have a positive real part which make it unstable.**"
   ]
  },
  {
   "cell_type": "code",
   "execution_count": 82,
   "metadata": {},
   "outputs": [
    {
     "data": {
      "text/plain": [
       "array([-0.1       +0.j,  0.04166667+0.j])"
      ]
     },
     "execution_count": 82,
     "metadata": {},
     "output_type": "execute_result"
    }
   ],
   "source": [
    "sci.linalg.eigvals(solMatrix4)"
   ]
  }
 ],
 "metadata": {
  "kernelspec": {
   "display_name": "Programming_Practice",
   "language": "python",
   "name": "programming_practice"
  },
  "language_info": {
   "codemirror_mode": {
    "name": "ipython",
    "version": 3
   },
   "file_extension": ".py",
   "mimetype": "text/x-python",
   "name": "python",
   "nbconvert_exporter": "python",
   "pygments_lexer": "ipython3",
   "version": "3.6.7"
  }
 },
 "nbformat": 4,
 "nbformat_minor": 2
}
