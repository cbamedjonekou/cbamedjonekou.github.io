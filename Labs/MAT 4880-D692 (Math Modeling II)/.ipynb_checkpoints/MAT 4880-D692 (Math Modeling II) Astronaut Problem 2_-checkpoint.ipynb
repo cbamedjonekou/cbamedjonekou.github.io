{
 "cells": [
  {
   "cell_type": "markdown",
   "metadata": {},
   "source": [
    "**Name: Christ-Brian Amedjonekou**  \n",
    "**Date: 2/11/2019**  \n",
    "**MAT 4880-D692 (Math Modeling II) Astronaut**  \n",
    "**Spring 2019, Section: D692, Code: 36561**  \n",
    "**Instructor: Johann Thiel**"
   ]
  },
  {
   "cell_type": "markdown",
   "metadata": {},
   "source": [
    "# Section 5.2 - Eigenvalue Method for Discrete Dynamical Systems\n",
    "\n",
    "* You'll find the graphical approach along w/ supporting theory here ([Astronaut Problem](https://nbviewer.jupyter.org/github/deaththeberry/ML-AI-HKG_Portfolio/blob/master/Labs/MAT%204880-D692%20%28Math%20Modeling%20II%29/MAT%204880-D692%20%28Math%20Modeling%20II%29%20Astronaut%20Problem.ipynb?flush_cache=true))"
   ]
  },
  {
   "cell_type": "markdown",
   "metadata": {},
   "source": [
    "## The Astronaut Problem\n",
    "\n",
    "### Step 1: List all variables and Assumptions\n",
    "\n",
    "**Variables**\n",
    "\n",
    "$v_n = $ velocity at time step $n$\n",
    "\n",
    "$c = $ time to make control adjustment\n",
    "\n",
    "$w = $ wait time to next adjustment\n",
    "\n",
    "$a_n = $ acceleration at time step $n$\n",
    "\n",
    "**Assumptions**\n",
    "\n",
    "$v_{n+1} = v_n + \\Delta v_n$\n",
    "\n",
    "$a_n = -kv_n$\n",
    "\n",
    "$\\Delta v_n = a_{n-1}\\cdot c + a_n\\cdot w$\n",
    "\n",
    "\n",
    "**Objective**\n",
    "\n",
    "Determine if $v_n\\to 0$.\n",
    "\n",
    "To make matters simpler, we define $x_1(n) = v_n$ and $x_2(n)=v_{n-1}$ as our state variables."
   ]
  },
  {
   "cell_type": "markdown",
   "metadata": {},
   "source": [
    "### Step 2: Select your modeling approach\n",
    "\n",
    "* We'll evaluate the Astronaut Problem (discrete dynamical system) using the Eigenvalue Method.\n",
    "* The theory for this modeling approach is as follows:\n",
    "    $$\\space$$\n",
    "    * We're given a dynamical system, $\\Delta x = F(x)$ where $x = (x_1, ....,x_n)$ is an element of the state space $S \\subseteq R^N $ and $F = (f_1,...,f_n)$\n",
    "    * We also define an interation function: $$\\space$$ $$G(x) = x + F(x)$$ $$\\space$$\n",
    "    * We focus on the sequence $x(0), x(1), x(2),....,x(n)$ as it represent the solution the system, \n",
    "      but only if satisfies the following condition: $$\\space$$ $$x(n+1) = G(x(n)) = x(n) + F(x)$$ $$\\space$$ \n",
    "      for all $n$. \n",
    "    * \n",
    "    * A point, $X_0 \\in S$, is an equilibrium point or steady state. It is characterized by the fact that $x(0)$ \n",
    "      is a fixed point of the function $G(x)$, therefore $G(x(0)) = x(0)$\n",
    "    * There's a theorem that states that an equilibrium point is asymptotically stable if every eigenvalues of \n",
    "      the following matrix of partial derivatives has an absolute value less than 1.\n",
    "    $$\\space$$\n",
    "    $$\n",
    "   A=\n",
    "  \\left[{\\begin{array}{ccc}\n",
    "   \\cfrac{\\partial g_1}{x_1}x_0 & ... &\\cfrac{\\partial g_1}{x_n}x_0 \\\\\n",
    "   \\cfrac{\\partial g_n}{x_1}x_0 & ... &\\cfrac{\\partial g_n}{x_n}x_0 \\\\\n",
    "  \\end{array} } \\right]$$ \n",
    "  $$\\space$$ \n",
    "    * If the eigenvalue is complex, $a + ib$, then by absolute value we mean the complex absolute\n",
    "      value,$\\sqrt{a^2 + b^2}$. If any of the eigenvalues has an absolute value greater than 1, the \n",
    "      equilibrium point is unstable. If any of the eigenvalues has an absolute value equal to 1, \n",
    "      then you have an inconclusive case.\n",
    "    $$\\space$$\n",
    "    * The eigenvalue method is based on a linear approximation.\n",
    "        * Even if  the interation of $G(x)$ is not linear, we have the following: $$\\space$$  $$G(x) \\approx A(x - x_0)$$\n",
    "        $$\\space$$\n",
    "        * in the neighborhood of the equilibrium point, $x_0$.\n",
    "        * Since the behavior of the iteration function $G(x)$ (in the neighborhood of the equilibrium point, $x_0$) is approx the same as the behaviour for the linear function $Ax$ then we could say the following: $$\\space$$ $$x(n+1) = G(x(n)) = x(n) + F(x) = A(x(n) + x(0))$$ $$\\space$$\n",
    "        * Setting $x(0) = 0$ we get the following abbreviated form: $$\\space$$ $$x(n+1) = A(x(n))$$ $$\\space$$  \n",
    "        * For this method, the matrix $A$ is called a linear contraction if $A^nx \\rightarrow 0$ for every $x$\n",
    "        * $Ax = \\lambda x$, based on previous material covered in an Intro Linear Algebra course. \n",
    "          Therefore, according to ***Hirsch and Smale (1974)***: For matrix $A$ to be a linear contraction,\n",
    "          eigenvalue of matrix $A$ has to have an absolute value that is $|\\lambda| < 1$. \n",
    "          If that were to occur, then we have a stable equilibrium point as aforementioned.\n",
    "            $$\\space$$\n",
    "            * **If the eigenvalue is complex, $a + ib$, then by absolute value we mean the complex absolute\n",
    "              value,$\\sqrt{a^2 + b^2}$.** \n",
    "            * **If any of the eigenvalues has an absolute value less than 1, the equilibrium point is \n",
    "              asymptotically stable.** \n",
    "            * **If any of the eigenvalues has an absolute value greater than 1, the equilibrium point is \n",
    "              unstable.**\n",
    "            * **If any of the eigenvalues has an absolute value equal to 1, then you have an inconclusive case.**\n",
    "        "
   ]
  },
  {
   "cell_type": "markdown",
   "metadata": {},
   "source": [
    "### Packages"
   ]
  },
  {
   "cell_type": "code",
   "execution_count": 18,
   "metadata": {},
   "outputs": [],
   "source": [
    "import numpy as np\n",
    "import pandas as pd\n",
    "from matplotlib import pyplot as plt\n",
    "from sympy.solvers import solve\n",
    "import sympy as sp\n",
    "import scipy.linalg as sci"
   ]
  },
  {
   "cell_type": "markdown",
   "metadata": {},
   "source": [
    "### Finding the Equilibrium Points"
   ]
  },
  {
   "cell_type": "code",
   "execution_count": 13,
   "metadata": {},
   "outputs": [
    {
     "data": {
      "image/png": "[encoded data removed]",
      "text/latex": [
       "$$\\left \\{ x_{1} : 0.0, \\quad x_{2} : 0.0\\right \\}$$"
      ],
      "text/plain": [
       "{x₁: 0.0, x₂: 0.0}"
      ]
     },
     "execution_count": 13,
     "metadata": {},
     "output_type": "execute_result"
    }
   ],
   "source": [
    "sp.init_printing()\n",
    "x1, x2 = sp.symbols('x1 x2')\n",
    "delta_X1, delta_X2 = -0.1*8*x1-0.1*5*x2, x1-x2\n",
    "G1, G2 = x1 + delta_X1, x2 + delta_X2\n",
    "solve([G1, G2], x1, x2)"
   ]
  },
  {
   "cell_type": "markdown",
   "metadata": {},
   "source": [
    "### Step 3: Formulate your Model\n",
    "\n",
    "* Basically we find the equilibrium points\n",
    "* Then, we take partials of our two equations and evaluate at the equilibrium points \n",
    "* Then find $\\det(A - \\lambda I) = 0$\n",
    "* If the eigenvalues have an $|\\lambda | < 1$."
   ]
  },
  {
   "cell_type": "code",
   "execution_count": 14,
   "metadata": {},
   "outputs": [
    {
     "data": {
      "image/png": "[encoded data removed]",
      "text/latex": [
       "$$\\left[\\begin{matrix}0.2 & -0.5\\\\1 & 0\\end{matrix}\\right]$$"
      ],
      "text/plain": [
       "⎡0.2  -0.5⎤\n",
       "⎢         ⎥\n",
       "⎣ 1    0  ⎦"
      ]
     },
     "execution_count": 14,
     "metadata": {},
     "output_type": "execute_result"
    }
   ],
   "source": [
    "solMatrix = sp.Array([[sp.diff(G1, x1), sp.diff(G1, x2)], [sp.diff(G2, x1), sp.diff(G2, x2)]])\n",
    "solMatrix"
   ]
  },
  {
   "cell_type": "markdown",
   "metadata": {},
   "source": [
    "### Step 4: Solve your Model\n",
    "\n",
    "* We evaluate the above matrix at the following equilibrium points:\n",
    "\n",
    "$$[x_1 = 0; x_2 = 0]$$"
   ]
  },
  {
   "cell_type": "markdown",
   "metadata": {},
   "source": [
    "### Setting up the Matrix"
   ]
  },
  {
   "cell_type": "code",
   "execution_count": 17,
   "metadata": {},
   "outputs": [],
   "source": [
    "solMatrix1 = np.array([[float(sp.diff(G1, x1).subs({x1:0, x2:0})), \n",
    "                        float(sp.diff(G1, x2).subs({x1:0, x2:0}))], \n",
    "                       [float(sp.diff(G2, x1).subs({x1:0, x2:0})), \n",
    "                        float(sp.diff(G2, x2).subs({x1:0, x2:0}))]])"
   ]
  },
  {
   "cell_type": "markdown",
   "metadata": {},
   "source": [
    "### Step 5: Answer the Question\n",
    "\n",
    "* Yes there's a stable equilibrium points"
   ]
  },
  {
   "cell_type": "code",
   "execution_count": 20,
   "metadata": {
    "scrolled": true
   },
   "outputs": [],
   "source": [
    "solution = sci.eigvals(solMatrix1)"
   ]
  },
  {
   "cell_type": "markdown",
   "metadata": {},
   "source": [
    "**The absolute value: $|\\lambda| < 1$**"
   ]
  },
  {
   "cell_type": "code",
   "execution_count": 21,
   "metadata": {},
   "outputs": [
    {
     "data": {
      "image/png": "[encoded data removed]",
      "text/latex": [
       "$$0.7071067811865475$$"
      ],
      "text/plain": [
       "0.7071067811865475"
      ]
     },
     "execution_count": 21,
     "metadata": {},
     "output_type": "execute_result"
    }
   ],
   "source": [
    "abs(solution[0])"
   ]
  },
  {
   "cell_type": "code",
   "execution_count": 22,
   "metadata": {},
   "outputs": [
    {
     "data": {
      "image/png": "[encoded data removed]",
      "text/latex": [
       "$$0.7071067811865475$$"
      ],
      "text/plain": [
       "0.7071067811865475"
      ]
     },
     "execution_count": 22,
     "metadata": {},
     "output_type": "execute_result"
    }
   ],
   "source": [
    "abs(solution[1])"
   ]
  },
  {
   "cell_type": "markdown",
   "metadata": {},
   "source": [
    "### Functions"
   ]
  },
  {
   "cell_type": "code",
   "execution_count": 4,
   "metadata": {},
   "outputs": [],
   "source": [
    "def deltaX1(x_1, x_2, K = 0.1, W = 8, C = 5): \n",
    "    \"\"\"Returns the change in x1\"\"\"\n",
    "    return -K*W*x_1-K*C*x_2\n",
    "\n",
    "\n",
    "def deltaX2(x_1,x_2):\n",
    "    \"\"\"Returns the change in x1\"\"\"\n",
    "    return x_1-x_2\n",
    "\n",
    "\n",
    "def approxVectors(x1_0= -4, x2_0 = 3):\n",
    "    Lx, Ly = [x1_0], [x2_0]\n",
    "    for i in range(10):\n",
    "        x1_Last = Lx[-1]\n",
    "        x2_Last = Ly[-1]\n",
    "        x1_New = x1_Last + deltaX1(x1_Last,x2_Last)\n",
    "        x2_New = x2_Last + deltaX2(x1_Last,x2_Last)\n",
    "        Lx.append(x1_New)\n",
    "        Ly.append(x2_New)\n",
    "    return Lx, Ly"
   ]
  }
 ],
 "metadata": {
  "kernelspec": {
   "display_name": "Programming_Practice",
   "language": "python",
   "name": "programming_practice"
  },
  "language_info": {
   "codemirror_mode": {
    "name": "ipython",
    "version": 3
   },
   "file_extension": ".py",
   "mimetype": "text/x-python",
   "name": "python",
   "nbconvert_exporter": "python",
   "pygments_lexer": "ipython3",
   "version": "3.6.7"
  }
 },
 "nbformat": 4,
 "nbformat_minor": 2
}
