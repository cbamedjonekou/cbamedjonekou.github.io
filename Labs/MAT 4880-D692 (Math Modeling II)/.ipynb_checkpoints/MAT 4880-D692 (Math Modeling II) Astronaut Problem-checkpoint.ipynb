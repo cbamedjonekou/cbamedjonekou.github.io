{
 "cells": [
  {
   "cell_type": "markdown",
   "metadata": {},
   "source": [
    "**Name: Christ-Brian Amedjonekou**  \n",
    "**Date: 2/11/2019**  \n",
    "**MAT 4880-D692 (Math Modeling II) Astronaut**  \n",
    "**Spring 2019, Section: D692, Code: 36561**  \n",
    "**Instructor: Johann Thiel**"
   ]
  },
  {
   "cell_type": "markdown",
   "metadata": {},
   "source": [
    "# Section 4.3 - Discrete Time Dynamical Systems\n",
    "\n",
    "**As with Continuous Dynamical Systems, the following still applies for Discrete Dynamical Systems**\n",
    "$$\\space$$\n",
    "* When we model a dynamical model in steady state, we are given the functions:\n",
    "\n",
    "$$f_1(x_1,...,x_n)$$\n",
    "$$.$$\n",
    "$$.$$\n",
    "$$.$$\n",
    "$$f_n(x_1,...,x_n)$$\n",
    "$$\\space$$\n",
    "* which are defined on a subset, called $S$, in the set of real numbers called $R^N$. \n",
    "* The functions $f_1,...,f_n$ represent the rate of change $\\Big(\\cfrac{\\Delta x_1}{\\Delta t},...,\\cfrac{\\Delta x_n}{\\Delta t}\\Big)$ of each variable $x_1,...,x_n$, respectively.\n",
    "* A point, $x_1,...,x_n$, in the subset $S$ is called an equilibrium point given that:\n",
    "$$f_1(x_1,...,x_n) = 0$$\n",
    "$$.$$\n",
    "$$.$$\n",
    "$$.$$\n",
    "$$f_n(x_1,...,x_n) = 0$$\n",
    "\n",
    "* at that point. The rate of change of each of the variables, $x_1,...,x_n$, is equal to zero so the system is at rest.\n",
    "* The variables, $x_1,...,x_n$, are called state variables.\n",
    "* $S$, the subset of $R^N$, is called the state space.\n",
    "* Functions, $f(x_1,...,x_n)$, depend only on the current state, $x_1,...,x_n$, of the system. \n",
    "* State Space:\n",
    "\n",
    "$$S = \\{(x_1, x_2):x_1 \\geq 0, \\space x_2 \\geq 0\\}$$\n"
   ]
  },
  {
   "cell_type": "markdown",
   "metadata": {},
   "source": [
    "## The Astronaut Problem\n",
    "\n",
    "**Variables**\n",
    "\n",
    "$v_n = $ velocity at time step $n$\n",
    "\n",
    "$c = $ time to make control adjustment\n",
    "\n",
    "$w = $ wait time to next adjustment\n",
    "\n",
    "$a_n = $ acceleration at time step $n$\n",
    "\n",
    "**Assumptions**\n",
    "\n",
    "$v_{n+1} = v_n+a_{n-1}\\cdot c + a_n\\cdot w$\n",
    "\n",
    "$a_n = -kv_n$\n",
    "\n",
    "**Objective**\n",
    "\n",
    "Determine if $v_n\\to 0$.\n",
    "\n",
    "To make matters simpler, we define $x_1(n) = v_n$ and $x_2(n)=v_{n-1}$ as our state variables."
   ]
  },
  {
   "cell_type": "markdown",
   "metadata": {},
   "source": [
    "### Packages"
   ]
  },
  {
   "cell_type": "code",
   "execution_count": 3,
   "metadata": {},
   "outputs": [],
   "source": [
    "import numpy as np\n",
    "import pandas as pd\n",
    "from matplotlib import pyplot as plt"
   ]
  },
  {
   "cell_type": "markdown",
   "metadata": {},
   "source": [
    "### Functions"
   ]
  },
  {
   "cell_type": "code",
   "execution_count": 1,
   "metadata": {},
   "outputs": [],
   "source": [
    "def deltaX1(x1, x2, k = 0.02, w = 10, c = 5): \n",
    "    \"\"\"Returns the change in x1\"\"\"\n",
    "    return -k*w*x1-k*c*x2\n",
    "\n",
    "\n",
    "def deltaX2(x1,x2):\n",
    "    \"\"\"Returns the change in x1\"\"\"\n",
    "    return x1-x2\n",
    "\n",
    "\n",
    "def approxVectors(x1_0= -4, x2_0 = 3):\n",
    "    Lx, Ly = [x1_0], [x2_0]\n",
    "    for i in range(10):\n",
    "        x1_Last = Lx[-1]\n",
    "        x2_Last = Ly[-1]\n",
    "        x1_New = x1_Last + deltaX1(x1_Last,x2_Last)\n",
    "        x2_New = x2_Last + deltaX2(x1_Last,x2_Last)\n",
    "        Lx.append(x1_New)\n",
    "        Ly.append(x2_New)\n",
    "    return Lx, Ly"
   ]
  },
  {
   "cell_type": "markdown",
   "metadata": {},
   "source": [
    "### Plots\n",
    "\n",
    "* The plot shows the vector plot of the Astronaut Model. \n",
    "* However, the vectors on the vector plot do not accurately show the time delay\n",
    "* Therefore, the plot of the change represents the vectors w/ time delay.\n",
    "* This, however, is not enough to determine if the system here is stable or unstable. "
   ]
  },
  {
   "cell_type": "code",
   "execution_count": 2,
   "metadata": {},
   "outputs": [
    {
     "ename": "NameError",
     "evalue": "name 'np' is not defined",
     "output_type": "error",
     "traceback": [
      "\u001b[0;31m---------------------------------------------------------------------------\u001b[0m",
      "\u001b[0;31mNameError\u001b[0m                                 Traceback (most recent call last)",
      "\u001b[0;32m<ipython-input-2-aeefc16c434f>\u001b[0m in \u001b[0;36m<module>\u001b[0;34m\u001b[0m\n\u001b[1;32m      2\u001b[0m \u001b[0;34m\u001b[0m\u001b[0m\n\u001b[1;32m      3\u001b[0m \u001b[0;31m# Creates the grid for my vector field\u001b[0m\u001b[0;34m\u001b[0m\u001b[0;34m\u001b[0m\u001b[0;34m\u001b[0m\u001b[0m\n\u001b[0;32m----> 4\u001b[0;31m \u001b[0mx1\u001b[0m\u001b[0;34m,\u001b[0m \u001b[0mx2\u001b[0m \u001b[0;34m=\u001b[0m \u001b[0mnp\u001b[0m\u001b[0;34m.\u001b[0m\u001b[0mlinspace\u001b[0m\u001b[0;34m(\u001b[0m\u001b[0;34m-\u001b[0m\u001b[0;36m5\u001b[0m\u001b[0;34m,\u001b[0m \u001b[0;36m5\u001b[0m\u001b[0;34m)\u001b[0m\u001b[0;34m,\u001b[0m \u001b[0mnp\u001b[0m\u001b[0;34m.\u001b[0m\u001b[0mlinspace\u001b[0m\u001b[0;34m(\u001b[0m\u001b[0;34m-\u001b[0m\u001b[0;36m5\u001b[0m\u001b[0;34m,\u001b[0m \u001b[0;36m5\u001b[0m\u001b[0;34m)\u001b[0m\u001b[0;34m\u001b[0m\u001b[0;34m\u001b[0m\u001b[0m\n\u001b[0m\u001b[1;32m      5\u001b[0m \u001b[0mX1\u001b[0m\u001b[0;34m,\u001b[0m \u001b[0mX2\u001b[0m \u001b[0;34m=\u001b[0m \u001b[0mnp\u001b[0m\u001b[0;34m.\u001b[0m\u001b[0mmeshgrid\u001b[0m\u001b[0;34m(\u001b[0m\u001b[0mx1\u001b[0m\u001b[0;34m,\u001b[0m \u001b[0mx2\u001b[0m\u001b[0;34m)\u001b[0m\u001b[0;34m\u001b[0m\u001b[0;34m\u001b[0m\u001b[0m\n\u001b[1;32m      6\u001b[0m \u001b[0;34m\u001b[0m\u001b[0m\n",
      "\u001b[0;31mNameError\u001b[0m: name 'np' is not defined"
     ]
    }
   ],
   "source": [
    "%matplotlib inline\n",
    "\n",
    "# Creates the grid for my vector field\n",
    "x1, x2 = np.linspace(-5, 5), np.linspace(-5, 5)\n",
    "X1, X2 = np.meshgrid(x1, x2)\n",
    "\n",
    "# Creates the points the vector field\n",
    "U, V = deltaX1(X1, X2), deltaX2(X1, X2)\n",
    "\n",
    "# Creates the Figure for my plots\n",
    "fig, ax1 = plt.subplots()\n",
    "ax1.set(xlabel= 'x1', ylabel= 'x2', title= 'Astronaut Model')\n",
    "ax1.streamplot(X1, X2, U, V)\n",
    "ax1.scatter(approxVectors()[0], approxVectors()[1], color= 'blue')\n",
    "ax1.plot(approxVectors()[0], approxVectors()[1], color= 'red')"
   ]
  },
  {
   "cell_type": "code",
   "execution_count": null,
   "metadata": {},
   "outputs": [],
   "source": []
  }
 ],
 "metadata": {
  "kernelspec": {
   "display_name": "Programming_Practice",
   "language": "python",
   "name": "programming_practice"
  },
  "language_info": {
   "codemirror_mode": {
    "name": "ipython",
    "version": 3
   },
   "file_extension": ".py",
   "mimetype": "text/x-python",
   "name": "python",
   "nbconvert_exporter": "python",
   "pygments_lexer": "ipython3",
   "version": "3.6.7"
  }
 },
 "nbformat": 4,
 "nbformat_minor": 2
}
