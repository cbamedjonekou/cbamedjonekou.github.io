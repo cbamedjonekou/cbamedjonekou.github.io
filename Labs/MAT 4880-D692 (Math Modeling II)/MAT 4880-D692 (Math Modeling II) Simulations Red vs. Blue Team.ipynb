{
 "cells": [
  {
   "cell_type": "code",
   "execution_count": 1,
   "metadata": {},
   "outputs": [],
   "source": [
    "import matplotlib.pyplot as plt\n",
    "import seaborn as sns\n",
    "import numpy as np"
   ]
  },
  {
   "cell_type": "markdown",
   "metadata": {},
   "source": [
    "# Red vs. Blue Simulation \n",
    "\n",
    "**Variables**\n",
    "\n",
    "$R = \\text{# of Red Divisions}$\n",
    "\n",
    "$B = \\text{# of Blue Divisions}$\n",
    "\n",
    "$D_R = \\text{red rate of attrition due to direct Fire (units/hour)}$\n",
    "\n",
    "$D_B = \\text{blue rate of attrition due to direct Fire (units/hour)}$\n",
    "\n",
    "$I_R = \\text{red rate of attrition due to indirect Fire (units/hour)}$\n",
    "\n",
    "$I_B = \\text{blue rate of attrition due to indirect Fire (units/hour)}$\n",
    "\n",
    "**Assumptions**\n",
    "\n",
    "$D_R = a_1B$\n",
    "\n",
    "$D_B = a_2R$\n",
    "\n",
    "$I_R = b_1BR$\n",
    "\n",
    "$I_B = b_2BR$\n",
    "\n",
    "$R, B \\geq 0$\n",
    "\n",
    "$R(0) = 5, B(0) = 2$\n",
    "\n",
    "$a_1, a_2, b_1, b_2 \\text{ are all positive}$\n",
    "\n",
    "$a_1 > a_2; b_1 > b_2$\n",
    "\n",
    "**Objective**\n",
    "\n",
    "Determine conditions under which $R \\rightarrow 0$ and $B \\rightarrow 0$"
   ]
  },
  {
   "cell_type": "markdown",
   "metadata": {},
   "source": [
    "### Version 1 w/ For Loop\n",
    "\n",
    "\n",
    "```python\n",
    "def deltaX1(R, B, lambda_): \n",
    "    return -lambda_*0.05*B - lambda_*0.005*B*R\n",
    "\n",
    "def deltaX2(R, B): \n",
    "    return-0.05*B - 0.005*B*R\n",
    "\n",
    "def red_vs_blueSIM(lambda_, L, N):  \n",
    "    for i in range(N):\n",
    "        x1_last, x2_last = L[-1][0], L[-1][1]\n",
    "        x1_next = x1_last + deltaX1(x1_last, x2_last, lambda_)\n",
    "        x2_next = x2_last + deltaX2(x1_last, x2_last)\n",
    "        L.append([x1_next, x2_next])\n",
    "        result = L\n",
    "    return result\n",
    "```"
   ]
  },
  {
   "cell_type": "markdown",
   "metadata": {},
   "source": [
    "### Version 2 w/ While Loop"
   ]
  },
  {
   "cell_type": "code",
   "execution_count": 2,
   "metadata": {},
   "outputs": [],
   "source": [
    "def deltaX1(R, B, lambda_): \n",
    "    return -lambda_*0.05*B - lambda_*0.005*B*R\n",
    "\n",
    "def deltaX2(R, B): \n",
    "    return-0.05*B - 0.005*B*R\n",
    "\n",
    "\n",
    "def red_vs_blueSIM(lambda_, L):   \n",
    "    count = 0\n",
    "    while (L[-1][0] > 0 and L[-1][1] > 0):\n",
    "        x1_last, x2_last = L[-1][0], L[-1][1]\n",
    "        x1_next = x1_last + deltaX1(x1_last, x2_last, lambda_)\n",
    "        x2_next = x2_last + deltaX2(x1_last, x2_last)\n",
    "        L.append([x1_next, x2_next])\n",
    "        count += 1\n",
    "        if count == 1000:\n",
    "            return L\n",
    "    return L"
   ]
  },
  {
   "cell_type": "code",
   "execution_count": 3,
   "metadata": {
    "scrolled": true
   },
   "outputs": [
    {
     "data": {
      "text/plain": [
       "<matplotlib.collections.PathCollection at 0x11b455518>"
      ]
     },
     "execution_count": 3,
     "metadata": {},
     "output_type": "execute_result"
    },
    {
     "data": {
      "image/png": "[encoded data removed]",
      "text/plain": [
       "<Figure size 432x288 with 1 Axes>"
      ]
     },
     "metadata": {
      "needs_background": "light"
     },
     "output_type": "display_data"
    }
   ],
   "source": [
    "lambd = [6, 23, 7, 13, 16]\n",
    "L = [[5, 2]]\n",
    "result = np. array(red_vs_blueSIM(lambd[0], L))\n",
    "fig, ax1 = plt.subplots()\n",
    "ax1.scatter(result[:, 0], result[:, 1])"
   ]
  },
  {
   "cell_type": "code",
   "execution_count": 4,
   "metadata": {},
   "outputs": [
    {
     "data": {
      "text/plain": [
       "array([[ 5.        ,  2.        ],\n",
       "       [ 4.1       ,  1.85      ],\n",
       "       [ 3.31745   ,  1.719575  ],\n",
       "       [ 2.63043938,  1.60507323],\n",
       "       [ 2.02225597,  1.50370933],\n",
       "       [ 1.47991662,  1.41331944],\n",
       "       [ 0.99317294,  1.33219549],\n",
       "       [ 0.55382128,  1.25897021],\n",
       "       [ 0.15521288,  1.19253548],\n",
       "       [-0.20810067,  1.13198322]])"
      ]
     },
     "execution_count": 4,
     "metadata": {},
     "output_type": "execute_result"
    }
   ],
   "source": [
    "result"
   ]
  },
  {
   "cell_type": "code",
   "execution_count": 5,
   "metadata": {},
   "outputs": [
    {
     "data": {
      "text/plain": [
       "<matplotlib.axes._subplots.AxesSubplot at 0x11b4a4550>"
      ]
     },
     "execution_count": 5,
     "metadata": {},
     "output_type": "execute_result"
    },
    {
     "data": {
      "image/png": "[encoded data removed]",
      "text/plain": [
       "<Figure size 432x288 with 1 Axes>"
      ]
     },
     "metadata": {
      "needs_background": "light"
     },
     "output_type": "display_data"
    }
   ],
   "source": [
    "t = np.arange(0, result.shape[0])\n",
    "sns.scatterplot(t, result[:, 1])\n",
    "sns.scatterplot(t, result[:, 0])"
   ]
  }
 ],
 "metadata": {
  "kernelspec": {
   "display_name": "Programming_Practice",
   "language": "python",
   "name": "programming_practice"
  },
  "language_info": {
   "codemirror_mode": {
    "name": "ipython",
    "version": 3
   },
   "file_extension": ".py",
   "mimetype": "text/x-python",
   "name": "python",
   "nbconvert_exporter": "python",
   "pygments_lexer": "ipython3",
   "version": "3.6.7"
  }
 },
 "nbformat": 4,
 "nbformat_minor": 2
}
