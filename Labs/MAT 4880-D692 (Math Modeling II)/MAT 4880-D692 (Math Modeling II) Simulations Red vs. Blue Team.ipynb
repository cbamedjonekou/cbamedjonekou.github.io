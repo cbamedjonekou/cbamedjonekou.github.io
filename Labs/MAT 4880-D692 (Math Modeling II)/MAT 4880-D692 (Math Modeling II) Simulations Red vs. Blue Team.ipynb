{
 "cells": [
  {
   "cell_type": "code",
   "execution_count": 1,
   "metadata": {},
   "outputs": [],
   "source": [
    "import matplotlib.pyplot as plt\n",
    "import seaborn as sns\n",
    "import numpy as np"
   ]
  },
  {
   "cell_type": "markdown",
   "metadata": {},
   "source": [
    "# Red vs. Blue Simulation \n",
    "\n",
    "**Variables**\n",
    "\n",
    "$R = \\text{# of Red Divisions}$\n",
    "\n",
    "$B = \\text{# of Blue Divisions}$\n",
    "\n",
    "$D_R = \\text{red rate of attrition due to direct Fire (units/hour)}$\n",
    "\n",
    "$D_B = \\text{blue rate of attrition due to direct Fire (units/hour)}$\n",
    "\n",
    "$I_R = \\text{red rate of attrition due to indirect Fire (units/hour)}$\n",
    "\n",
    "$I_B = \\text{blue rate of attrition due to indirect Fire (units/hour)}$\n",
    "\n",
    "**Assumptions**\n",
    "\n",
    "$D_R = a_1B$\n",
    "\n",
    "$D_B = a_2R$\n",
    "\n",
    "$I_R = b_1BR$\n",
    "\n",
    "$I_B = b_2BR$\n",
    "\n",
    "$R, B \\geq 0$\n",
    "\n",
    "$R(0) = 5, B(0) = 2$\n",
    "\n",
    "$a_1, a_2, b_1, b_2 \\text{ are all positive}$\n",
    "\n",
    "$a_1 > a_2; b_1 > b_2$\n",
    "\n",
    "**Objective**\n",
    "\n",
    "Determine conditions under which $R \\rightarrow 0$ and $B \\rightarrow 0$"
   ]
  },
  {
   "cell_type": "code",
   "execution_count": 2,
   "metadata": {},
   "outputs": [],
   "source": [
    "def deltaX1(R, B, lambda_): \n",
    "    return -lambda_*0.05*B - lambda_*0.005*B*R\n",
    "\n",
    "def deltaX2(R, B): \n",
    "    return-0.05*B - 0.005*B*R\n",
    "\n",
    "def red_vs_blueSIM(lambda_, L, N):  \n",
    "    for i in range(N):\n",
    "        x1_last, x2_last = L[-1][0], L[-1][1]\n",
    "        x1_next = x1_last + deltaX1(x1_last, x2_last, lambda_)\n",
    "        x2_next = x2_last + deltaX2(x1_last, x2_last)\n",
    "        L.append([x1_next, x2_next])\n",
    "        result = L\n",
    "        return result\n",
    "\n",
    "    "
   ]
  },
  {
   "cell_type": "code",
   "execution_count": 3,
   "metadata": {},
   "outputs": [
    {
     "name": "stdout",
     "output_type": "stream",
     "text": [
      "[[5, 2], [4.85, 1.85]]\n",
      "\n",
      "\n",
      "[[5, 2], [4.775, 1.85]]\n",
      "\n",
      "\n",
      "[[5, 2], [4.7, 1.85]]\n",
      "\n",
      "\n",
      "[[5, 2], [4.55, 1.85]]\n",
      "\n",
      "\n",
      "[[5, 2], [4.1, 1.85]]\n",
      "\n",
      "\n"
     ]
    }
   ],
   "source": [
    "lambda_ = [1, 1.5, 2, 3, 6]\n",
    "for i in range(len(lambda_)): \n",
    "    L = [[5, 2]]\n",
    "    N = 10\n",
    "    lam = lambda_[i]\n",
    "    print(red_vs_blueSIM(lam, L, N))\n",
    "    print('\\n')"
   ]
  },
  {
   "cell_type": "markdown",
   "metadata": {},
   "source": []
  }
 ],
 "metadata": {
  "kernelspec": {
   "display_name": "Programming_Practice",
   "language": "python",
   "name": "programming_practice"
  },
  "language_info": {
   "codemirror_mode": {
    "name": "ipython",
    "version": 3
   },
   "file_extension": ".py",
   "mimetype": "text/x-python",
   "name": "python",
   "nbconvert_exporter": "python",
   "pygments_lexer": "ipython3",
   "version": "3.6.7"
  }
 },
 "nbformat": 4,
 "nbformat_minor": 2
}
