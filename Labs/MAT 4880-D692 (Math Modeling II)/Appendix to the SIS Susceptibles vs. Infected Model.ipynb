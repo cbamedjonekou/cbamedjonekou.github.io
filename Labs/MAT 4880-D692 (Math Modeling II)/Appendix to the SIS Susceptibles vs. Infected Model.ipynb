{
 "cells": [
  {
   "cell_type": "markdown",
   "metadata": {},
   "source": [
    "## SIS Problem"
   ]
  },
  {
   "cell_type": "markdown",
   "metadata": {},
   "source": [
    "## Variables\n",
    "\n",
    "* $g_S = \\text{Growth term of the Susceptibles}$  \n",
    "\n",
    "* $g_I = \\text{Growth term of the Infected}$  \n",
    "\n",
    "* $c_S = \\text{Competition term of the Susceptibles}$  \n",
    "\n",
    "* $c_I = \\text{Competition term of the Infected}$  \n",
    "\n",
    "* $N = \\text{the total, fixed size of the population}$\n",
    "\n",
    "* $I = \\text{number of infected, initially}$\n",
    "\n",
    "* $S = \\text{number of susceptibles}$\n",
    "\n",
    "* $\\gamma = \\text{Recovery Rate} = \\cfrac{1}{\\text{Infection Duration}}$\n",
    "\n",
    "* $\\beta = \\text{Infection Rate}$\n",
    "\n",
    "## Assumptions\n",
    "\n",
    "* $N = 10000; I = 120; S = 9880$\n",
    "\n",
    "* $\\gamma = \\cfrac{1}{6}; \\beta = 0.85$\n",
    "\n",
    "* $g_S = -\\cfrac{\\beta S I}{N}$  \n",
    "\n",
    "* $g_I = \\cfrac{\\beta S I}{N}$  \n",
    "\n",
    "* $c_S, c_I = \\gamma I$  \n",
    "\n",
    "* $\\frac{dS}{dt} = -\\cfrac{\\beta S I}{N} + \\gamma I = -\\beta I \\Big(1 - \\frac{I}{N}\\Big) + \\gamma I$\n",
    "\n",
    "* $\\frac{dI}{dt} = \\cfrac{\\beta S I}{N} - \\gamma I = \\beta I \\Big(1 - \\frac{I}{N}\\Big) - \\gamma I$\n",
    "\n",
    "* $S, I \\geq 0$"
   ]
  },
  {
   "cell_type": "markdown",
   "metadata": {},
   "source": [
    "### Packages"
   ]
  },
  {
   "cell_type": "code",
   "execution_count": 2,
   "metadata": {},
   "outputs": [],
   "source": [
    "import numpy as np\n",
    "import sympy as sp\n",
    "from sympy.solvers import solve\n",
    "from matplotlib import pyplot as plt\n",
    "import math as m"
   ]
  },
  {
   "cell_type": "markdown",
   "metadata": {},
   "source": [
    "### Variables"
   ]
  },
  {
   "cell_type": "code",
   "execution_count": 3,
   "metadata": {},
   "outputs": [],
   "source": [
    "I = sp.symbols('I')\n",
    "gS, gI, cS, cI = -0.85*I*(1 - I/10000), 0.85*I*(1 - I/10000), (1/6)*I, (1/6)*I\n",
    "dSdt, dIdt = gS + cS, gI - cI\n",
    "sp.init_printing()"
   ]
  },
  {
   "cell_type": "markdown",
   "metadata": {},
   "source": [
    "### Functions"
   ]
  },
  {
   "cell_type": "code",
   "execution_count": 4,
   "metadata": {},
   "outputs": [],
   "source": [
    "def susceptibles(infected):\n",
    "    \"\"\"Rate of Change (differential) for susceptibles\"\"\"\n",
    "    return (-0.85*infected*(1 - infected/10000)) + (1/6)*infected\n",
    "\n",
    "\n",
    "def infected(infected):\n",
    "    \"\"\"Rate of Change (differential) for infected\"\"\"\n",
    "    return 0.85*infected*(1 - infected/10000) - (1/6)*infected\n",
    "\n",
    "\n",
    "def reproductiveNumber(beta, gamma):\n",
    "    \"\"\"basic reproductive number, when (\\beta)/(\\gamma) > 1, the disease\n",
    "    will spread and approach the second steady state; otherwise, it \n",
    "    will eventually reach the disease-free state.\"\"\"\n",
    "    return beta/gamma\n",
    "\n",
    "def criticalThreshold(r0):\n",
    "    \"\"\" critical vaccination threshold, which is equal to 1-(1/ R0)\"\"\"\n",
    "    return  (1-(1/r0))"
   ]
  },
  {
   "cell_type": "markdown",
   "metadata": {},
   "source": [
    "### Equilibrium Points"
   ]
  },
  {
   "cell_type": "code",
   "execution_count": 5,
   "metadata": {},
   "outputs": [
    {
     "data": {
      "image/png": "[encoded data removed]",
      "text/latex": [
       "$$\\left [ \\left ( 0.0\\right ), \\quad \\left ( 8039.21568627451\\right )\\right ]$$"
      ],
      "text/plain": [
       "[(0.0,), (8039.21568627451,)]"
      ]
     },
     "execution_count": 5,
     "metadata": {},
     "output_type": "execute_result"
    }
   ],
   "source": [
    "solve([dSdt, dIdt], I)"
   ]
  },
  {
   "cell_type": "markdown",
   "metadata": {},
   "source": [
    "### Plot"
   ]
  },
  {
   "cell_type": "code",
   "execution_count": 10,
   "metadata": {},
   "outputs": [
    {
     "data": {
      "image/png": "[encoded data removed]",
      "text/plain": [
       "<Figure size 432x288 with 1 Axes>"
      ]
     },
     "metadata": {
      "needs_background": "light"
     },
     "output_type": "display_data"
    }
   ],
   "source": [
    "x, y = np.linspace(0, 10000), np.linspace(0, 10000)\n",
    "X, Y = np.meshgrid(x, y)\n",
    "U, V = 0 * susceptibles(X), infected(Y)\n",
    "fig, ax1 = plt.subplots()\n",
    "ax1.streamplot(X, Y, U, V)\n",
    "ax1.plot([0, 10000], [solve([dSdt, dIdt], I)[1][0], solve([dSdt, dIdt], I)[1][0]], \n",
    "         c= 'r', ls= '--', lw= 3)\n",
    "\n",
    "ax1.plot([0, 10000], [solve([dSdt, dIdt], I)[0][0], solve([dSdt, dIdt], I)[0][0]], \n",
    "         c= 'b', ls= '--', lw= 3)\n",
    "ax1.set(xlabel= 'Susceptibles', ylabel= 'Infected', \n",
    "        title= 'Susceptibles vs Infected');"
   ]
  },
  {
   "cell_type": "markdown",
   "metadata": {},
   "source": [
    "### Reproductive Number\n",
    "\n",
    "**To calculate this value, we'll use the following formula:**\n",
    "\n",
    "* $R_0 = \\cfrac{\\beta}{\\gamma}$ \n",
    "* $\\gamma = \\text{Recovery Rate} = \\cfrac{1}{\\text{Infection Duration}}$\n",
    "* $\\beta = \\text{Infection Rate}$"
   ]
  },
  {
   "cell_type": "code",
   "execution_count": 6,
   "metadata": {},
   "outputs": [
    {
     "data": {
      "image/png": "[encoded data removed]",
      "text/latex": [
       "$$5.1000000000000005$$"
      ],
      "text/plain": [
       "5.1000000000000005"
      ]
     },
     "execution_count": 6,
     "metadata": {},
     "output_type": "execute_result"
    }
   ],
   "source": [
    "beta, gamma = 0.85, 1/6\n",
    "r0 = reproductiveNumber(beta, gamma)\n",
    "r0"
   ]
  },
  {
   "cell_type": "markdown",
   "metadata": {},
   "source": [
    "### Critical Threshold"
   ]
  },
  {
   "cell_type": "code",
   "execution_count": 9,
   "metadata": {},
   "outputs": [
    {
     "data": {
      "image/png": "[encoded data removed]",
      "text/latex": [
       "$$0.803921568627451$$"
      ],
      "text/plain": [
       "0.803921568627451"
      ]
     },
     "execution_count": 9,
     "metadata": {},
     "output_type": "execute_result"
    }
   ],
   "source": [
    "criticalThreshold(r0)"
   ]
  }
 ],
 "metadata": {
  "kernelspec": {
   "display_name": "Programming_Practice",
   "language": "python",
   "name": "programming_practice"
  },
  "language_info": {
   "codemirror_mode": {
    "name": "ipython",
    "version": 3
   },
   "file_extension": ".py",
   "mimetype": "text/x-python",
   "name": "python",
   "nbconvert_exporter": "python",
   "pygments_lexer": "ipython3",
   "version": "3.6.7"
  }
 },
 "nbformat": 4,
 "nbformat_minor": 2
}
