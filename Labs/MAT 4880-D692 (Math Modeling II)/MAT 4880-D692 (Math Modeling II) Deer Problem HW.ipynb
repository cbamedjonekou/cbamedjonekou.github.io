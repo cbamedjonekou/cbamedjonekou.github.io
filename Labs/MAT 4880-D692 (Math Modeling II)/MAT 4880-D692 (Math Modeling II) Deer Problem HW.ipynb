{
 "cells": [
  {
   "cell_type": "markdown",
   "metadata": {},
   "source": [
    "**Name: Christ-Brian Amedjonekou**  \n",
    "**Date: 2/04/2019**  \n",
    "**MAT 4880-D692 (Math Modeling II) Deer Problem HW 1**  \n",
    "**Spring 2019, Section: D692, Code: 36561**  \n",
    "**Instructor: Johann Thiel**"
   ]
  },
  {
   "cell_type": "markdown",
   "metadata": {},
   "source": [
    "# Deer Problem:\n",
    "\n",
    "**Instructions: Complete the assignment on a separate sheet of paper. Show all work and justify all steps and conclusions unless told otherwise. You may use a computer as an aid, but be sure to include supporting work.**\n",
    "\n",
    "1. **Suppose the local deer population P ≥ 0 at any time t (in years) develops according to the model:**\n",
    "$$\\space$$\n",
    "$$\\frac{dP}{dt} = 0.75P \\Big(1−\\frac{P}{500}\\Big)$$  \n",
    "    * **Find the equilibrium points of the system.** \n",
    "    * **What is the sign of $\\frac{dP}{dt}$ if:**\n",
    "        * $P < 0$\n",
    "        * $0 < P <500$\n",
    "        * $P > 500$\n",
    "    $$\\space$$\n",
    "    * **What is the largest deer population that the system can sustain over time? (Hint: Think about your answer to part B)** \n",
    "$$\\space$$\n",
    "2. **Problem 7a on pg. 134.**\n",
    "\n",
    "**Variables**\n",
    "\n",
    "* $P = \\text{number of Dear}$  \n",
    "* $g_P = \\text{growth rate of the Deer Population}$  \n",
    "* $a_P = \\text{self limiting factor of the Deer Population}$  \n",
    "\n",
    "**Assumptions**\n",
    "\n",
    "* $g_P = 0.75P$\n",
    "* $a_P = \\frac{0.75P^2}{500}, \\text{ where } K = 500$\n",
    "* $P\\geq 0$"
   ]
  },
  {
   "cell_type": "markdown",
   "metadata": {},
   "source": [
    "### Modules"
   ]
  },
  {
   "cell_type": "code",
   "execution_count": 1,
   "metadata": {},
   "outputs": [],
   "source": [
    "# Modules being called\n",
    "import math as m\n",
    "import numpy as np\n",
    "from sympy.solvers import solve\n",
    "import sympy as sp\n",
    "from matplotlib import pyplot as plt\n",
    "import pandas as pd\n",
    "import sys\n"
   ]
  },
  {
   "cell_type": "markdown",
   "metadata": {},
   "source": [
    "### Variables"
   ]
  },
  {
   "cell_type": "code",
   "execution_count": 2,
   "metadata": {},
   "outputs": [],
   "source": [
    "# Writing the Model for the deer\n",
    "P = sp.symbols('P')\n",
    "dPdt = sp.Function('dPdt')\n",
    "\n",
    "# init_session() displays LaTeX version of outputs; 'quiet= True' stops \n",
    "# init_session from printing messages regarding its status\n",
    "sp.init_printing()"
   ]
  },
  {
   "cell_type": "markdown",
   "metadata": {},
   "source": [
    "### Scipy Rendition"
   ]
  },
  {
   "cell_type": "code",
   "execution_count": 3,
   "metadata": {},
   "outputs": [
    {
     "data": {
      "image/png": "[encoded data removed]",
      "text/latex": [
       "$$0.75 P \\left(- \\frac{P}{500} + 1\\right)$$"
      ],
      "text/plain": [
       "       ⎛   P     ⎞\n",
       "0.75⋅P⋅⎜- ─── + 1⎟\n",
       "       ⎝  500    ⎠"
      ]
     },
     "execution_count": 3,
     "metadata": {},
     "output_type": "execute_result"
    }
   ],
   "source": [
    "# Output\n",
    "dPdt = (0.75 * P)*(1 - P/500)\n",
    "dPdt"
   ]
  },
  {
   "cell_type": "markdown",
   "metadata": {},
   "source": [
    "### Equillibrium Points"
   ]
  },
  {
   "cell_type": "markdown",
   "metadata": {},
   "source": [
    "***(a) The equillibrium points to the Deer Population are shown below. They occur when $\\frac{dP}{dt} = 0$***"
   ]
  },
  {
   "cell_type": "code",
   "execution_count": 4,
   "metadata": {
    "scrolled": true
   },
   "outputs": [
    {
     "name": "stdout",
     "output_type": "stream",
     "text": [
      "Equillibrium Points: (0.0,) and (500.000000000000,)\n"
     ]
    }
   ],
   "source": [
    "# Solution to the model(Equillibrium Point)\n",
    "\n",
    "equillibrium_points = solve([dPdt], P)\n",
    "print('Equillibrium Points: {} and {}'.format(equillibrium_points[0], equillibrium_points[1]))"
   ]
  },
  {
   "cell_type": "markdown",
   "metadata": {},
   "source": [
    "### Functions"
   ]
  },
  {
   "cell_type": "code",
   "execution_count": 5,
   "metadata": {},
   "outputs": [],
   "source": [
    "def dP_dt(deer):\n",
    "    \"\"\"Calculates the rate of change of deer Population\"\"\"\n",
    "    dPxdt = (0.75 * deer)*(1 - deer/500)\n",
    "    return dPxdt\n",
    "\n",
    "\n",
    "def dPdt_table(start, finish):\n",
    "    \"\"\"Creates table for the above deer population. \n",
    "    Takes start and finish variables.\"\"\"\n",
    "    dictionary = {'P':np.arange(start,finish), 'dPdt': dP_dt(np.arange(start,finish))}\n",
    "    df = pd.DataFrame.from_dict(dictionary)\n",
    "    return df"
   ]
  },
  {
   "cell_type": "markdown",
   "metadata": {},
   "source": [
    "***(b,1) The sign of $\\frac{dP}{dt}$ if $P < 0$, is shown below; The sign is negative for all values. It should also be neglected as we cannot have negative Deer.***"
   ]
  },
  {
   "cell_type": "code",
   "execution_count": 6,
   "metadata": {},
   "outputs": [
    {
     "data": {
      "text/html": [
       "<div>\n",
       "<style scoped>\n",
       "    .dataframe tbody tr th:only-of-type {\n",
       "        vertical-align: middle;\n",
       "    }\n",
       "\n",
       "    .dataframe tbody tr th {\n",
       "        vertical-align: top;\n",
       "    }\n",
       "\n",
       "    .dataframe thead th {\n",
       "        text-align: right;\n",
       "    }\n",
       "</style>\n",
       "<table border=\"1\" class=\"dataframe\">\n",
       "  <thead>\n",
       "    <tr style=\"text-align: right;\">\n",
       "      <th></th>\n",
       "      <th>P</th>\n",
       "      <th>dPdt</th>\n",
       "    </tr>\n",
       "  </thead>\n",
       "  <tbody>\n",
       "    <tr>\n",
       "      <th>0</th>\n",
       "      <td>-9</td>\n",
       "      <td>-6.8715</td>\n",
       "    </tr>\n",
       "    <tr>\n",
       "      <th>1</th>\n",
       "      <td>-8</td>\n",
       "      <td>-6.0960</td>\n",
       "    </tr>\n",
       "    <tr>\n",
       "      <th>2</th>\n",
       "      <td>-7</td>\n",
       "      <td>-5.3235</td>\n",
       "    </tr>\n",
       "    <tr>\n",
       "      <th>3</th>\n",
       "      <td>-6</td>\n",
       "      <td>-4.5540</td>\n",
       "    </tr>\n",
       "    <tr>\n",
       "      <th>4</th>\n",
       "      <td>-5</td>\n",
       "      <td>-3.7875</td>\n",
       "    </tr>\n",
       "    <tr>\n",
       "      <th>5</th>\n",
       "      <td>-4</td>\n",
       "      <td>-3.0240</td>\n",
       "    </tr>\n",
       "    <tr>\n",
       "      <th>6</th>\n",
       "      <td>-3</td>\n",
       "      <td>-2.2635</td>\n",
       "    </tr>\n",
       "    <tr>\n",
       "      <th>7</th>\n",
       "      <td>-2</td>\n",
       "      <td>-1.5060</td>\n",
       "    </tr>\n",
       "    <tr>\n",
       "      <th>8</th>\n",
       "      <td>-1</td>\n",
       "      <td>-0.7515</td>\n",
       "    </tr>\n",
       "  </tbody>\n",
       "</table>\n",
       "</div>"
      ],
      "text/plain": [
       "   P    dPdt\n",
       "0 -9 -6.8715\n",
       "1 -8 -6.0960\n",
       "2 -7 -5.3235\n",
       "3 -6 -4.5540\n",
       "4 -5 -3.7875\n",
       "5 -4 -3.0240\n",
       "6 -3 -2.2635\n",
       "7 -2 -1.5060\n",
       "8 -1 -0.7515"
      ]
     },
     "execution_count": 6,
     "metadata": {},
     "output_type": "execute_result"
    }
   ],
   "source": [
    "dPdt_table(-9,0)"
   ]
  },
  {
   "cell_type": "markdown",
   "metadata": {},
   "source": [
    "***(b,2) The sign of $\\frac{dP}{dt}$ if $0< P < 500$, is shown below; The sign is positive for all values. You'll notice the equillibrian points at 0 and 500. The rate of change (growth) of the Deer Population equals 0 when there are no deer and when the deer reaches its carrying capacity.***"
   ]
  },
  {
   "cell_type": "code",
   "execution_count": 7,
   "metadata": {},
   "outputs": [
    {
     "data": {
      "text/html": [
       "<div>\n",
       "<style scoped>\n",
       "    .dataframe tbody tr th:only-of-type {\n",
       "        vertical-align: middle;\n",
       "    }\n",
       "\n",
       "    .dataframe tbody tr th {\n",
       "        vertical-align: top;\n",
       "    }\n",
       "\n",
       "    .dataframe thead th {\n",
       "        text-align: right;\n",
       "    }\n",
       "</style>\n",
       "<table border=\"1\" class=\"dataframe\">\n",
       "  <thead>\n",
       "    <tr style=\"text-align: right;\">\n",
       "      <th></th>\n",
       "      <th>P</th>\n",
       "      <th>dPdt</th>\n",
       "    </tr>\n",
       "  </thead>\n",
       "  <tbody>\n",
       "    <tr>\n",
       "      <th>0</th>\n",
       "      <td>0</td>\n",
       "      <td>0.0000</td>\n",
       "    </tr>\n",
       "    <tr>\n",
       "      <th>1</th>\n",
       "      <td>1</td>\n",
       "      <td>0.7485</td>\n",
       "    </tr>\n",
       "    <tr>\n",
       "      <th>2</th>\n",
       "      <td>2</td>\n",
       "      <td>1.4940</td>\n",
       "    </tr>\n",
       "    <tr>\n",
       "      <th>3</th>\n",
       "      <td>3</td>\n",
       "      <td>2.2365</td>\n",
       "    </tr>\n",
       "    <tr>\n",
       "      <th>4</th>\n",
       "      <td>4</td>\n",
       "      <td>2.9760</td>\n",
       "    </tr>\n",
       "    <tr>\n",
       "      <th>5</th>\n",
       "      <td>5</td>\n",
       "      <td>3.7125</td>\n",
       "    </tr>\n",
       "    <tr>\n",
       "      <th>6</th>\n",
       "      <td>6</td>\n",
       "      <td>4.4460</td>\n",
       "    </tr>\n",
       "  </tbody>\n",
       "</table>\n",
       "</div>"
      ],
      "text/plain": [
       "   P    dPdt\n",
       "0  0  0.0000\n",
       "1  1  0.7485\n",
       "2  2  1.4940\n",
       "3  3  2.2365\n",
       "4  4  2.9760\n",
       "5  5  3.7125\n",
       "6  6  4.4460"
      ]
     },
     "execution_count": 7,
     "metadata": {},
     "output_type": "execute_result"
    }
   ],
   "source": [
    "dPdt_table(0,501).head(7)"
   ]
  },
  {
   "cell_type": "code",
   "execution_count": 8,
   "metadata": {},
   "outputs": [
    {
     "data": {
      "text/html": [
       "<div>\n",
       "<style scoped>\n",
       "    .dataframe tbody tr th:only-of-type {\n",
       "        vertical-align: middle;\n",
       "    }\n",
       "\n",
       "    .dataframe tbody tr th {\n",
       "        vertical-align: top;\n",
       "    }\n",
       "\n",
       "    .dataframe thead th {\n",
       "        text-align: right;\n",
       "    }\n",
       "</style>\n",
       "<table border=\"1\" class=\"dataframe\">\n",
       "  <thead>\n",
       "    <tr style=\"text-align: right;\">\n",
       "      <th></th>\n",
       "      <th>P</th>\n",
       "      <th>dPdt</th>\n",
       "    </tr>\n",
       "  </thead>\n",
       "  <tbody>\n",
       "    <tr>\n",
       "      <th>494</th>\n",
       "      <td>494</td>\n",
       "      <td>4.4460</td>\n",
       "    </tr>\n",
       "    <tr>\n",
       "      <th>495</th>\n",
       "      <td>495</td>\n",
       "      <td>3.7125</td>\n",
       "    </tr>\n",
       "    <tr>\n",
       "      <th>496</th>\n",
       "      <td>496</td>\n",
       "      <td>2.9760</td>\n",
       "    </tr>\n",
       "    <tr>\n",
       "      <th>497</th>\n",
       "      <td>497</td>\n",
       "      <td>2.2365</td>\n",
       "    </tr>\n",
       "    <tr>\n",
       "      <th>498</th>\n",
       "      <td>498</td>\n",
       "      <td>1.4940</td>\n",
       "    </tr>\n",
       "    <tr>\n",
       "      <th>499</th>\n",
       "      <td>499</td>\n",
       "      <td>0.7485</td>\n",
       "    </tr>\n",
       "    <tr>\n",
       "      <th>500</th>\n",
       "      <td>500</td>\n",
       "      <td>0.0000</td>\n",
       "    </tr>\n",
       "  </tbody>\n",
       "</table>\n",
       "</div>"
      ],
      "text/plain": [
       "       P    dPdt\n",
       "494  494  4.4460\n",
       "495  495  3.7125\n",
       "496  496  2.9760\n",
       "497  497  2.2365\n",
       "498  498  1.4940\n",
       "499  499  0.7485\n",
       "500  500  0.0000"
      ]
     },
     "execution_count": 8,
     "metadata": {},
     "output_type": "execute_result"
    }
   ],
   "source": [
    "dPdt_table(0,501).tail(7)"
   ]
  },
  {
   "cell_type": "markdown",
   "metadata": {},
   "source": [
    "***(b,3) The sign of $\\frac{dP}{dt}$ if $P > 500$, is shown below; The sign is negative for all values. Again the Deer Population cannot be negative therefore this value can be neglected***"
   ]
  },
  {
   "cell_type": "code",
   "execution_count": 9,
   "metadata": {},
   "outputs": [
    {
     "data": {
      "text/html": [
       "<div>\n",
       "<style scoped>\n",
       "    .dataframe tbody tr th:only-of-type {\n",
       "        vertical-align: middle;\n",
       "    }\n",
       "\n",
       "    .dataframe tbody tr th {\n",
       "        vertical-align: top;\n",
       "    }\n",
       "\n",
       "    .dataframe thead th {\n",
       "        text-align: right;\n",
       "    }\n",
       "</style>\n",
       "<table border=\"1\" class=\"dataframe\">\n",
       "  <thead>\n",
       "    <tr style=\"text-align: right;\">\n",
       "      <th></th>\n",
       "      <th>P</th>\n",
       "      <th>dPdt</th>\n",
       "    </tr>\n",
       "  </thead>\n",
       "  <tbody>\n",
       "    <tr>\n",
       "      <th>0</th>\n",
       "      <td>501</td>\n",
       "      <td>-0.7515</td>\n",
       "    </tr>\n",
       "    <tr>\n",
       "      <th>1</th>\n",
       "      <td>502</td>\n",
       "      <td>-1.5060</td>\n",
       "    </tr>\n",
       "    <tr>\n",
       "      <th>2</th>\n",
       "      <td>503</td>\n",
       "      <td>-2.2635</td>\n",
       "    </tr>\n",
       "    <tr>\n",
       "      <th>3</th>\n",
       "      <td>504</td>\n",
       "      <td>-3.0240</td>\n",
       "    </tr>\n",
       "    <tr>\n",
       "      <th>4</th>\n",
       "      <td>505</td>\n",
       "      <td>-3.7875</td>\n",
       "    </tr>\n",
       "    <tr>\n",
       "      <th>5</th>\n",
       "      <td>506</td>\n",
       "      <td>-4.5540</td>\n",
       "    </tr>\n",
       "    <tr>\n",
       "      <th>6</th>\n",
       "      <td>507</td>\n",
       "      <td>-5.3235</td>\n",
       "    </tr>\n",
       "  </tbody>\n",
       "</table>\n",
       "</div>"
      ],
      "text/plain": [
       "     P    dPdt\n",
       "0  501 -0.7515\n",
       "1  502 -1.5060\n",
       "2  503 -2.2635\n",
       "3  504 -3.0240\n",
       "4  505 -3.7875\n",
       "5  506 -4.5540\n",
       "6  507 -5.3235"
      ]
     },
     "execution_count": 9,
     "metadata": {},
     "output_type": "execute_result"
    }
   ],
   "source": [
    "dPdt_table(501,1000).head(7)"
   ]
  },
  {
   "cell_type": "code",
   "execution_count": 10,
   "metadata": {
    "scrolled": true
   },
   "outputs": [
    {
     "data": {
      "text/html": [
       "<div>\n",
       "<style scoped>\n",
       "    .dataframe tbody tr th:only-of-type {\n",
       "        vertical-align: middle;\n",
       "    }\n",
       "\n",
       "    .dataframe tbody tr th {\n",
       "        vertical-align: top;\n",
       "    }\n",
       "\n",
       "    .dataframe thead th {\n",
       "        text-align: right;\n",
       "    }\n",
       "</style>\n",
       "<table border=\"1\" class=\"dataframe\">\n",
       "  <thead>\n",
       "    <tr style=\"text-align: right;\">\n",
       "      <th></th>\n",
       "      <th>P</th>\n",
       "      <th>dPdt</th>\n",
       "    </tr>\n",
       "  </thead>\n",
       "  <tbody>\n",
       "    <tr>\n",
       "      <th>492</th>\n",
       "      <td>993</td>\n",
       "      <td>-734.3235</td>\n",
       "    </tr>\n",
       "    <tr>\n",
       "      <th>493</th>\n",
       "      <td>994</td>\n",
       "      <td>-736.5540</td>\n",
       "    </tr>\n",
       "    <tr>\n",
       "      <th>494</th>\n",
       "      <td>995</td>\n",
       "      <td>-738.7875</td>\n",
       "    </tr>\n",
       "    <tr>\n",
       "      <th>495</th>\n",
       "      <td>996</td>\n",
       "      <td>-741.0240</td>\n",
       "    </tr>\n",
       "    <tr>\n",
       "      <th>496</th>\n",
       "      <td>997</td>\n",
       "      <td>-743.2635</td>\n",
       "    </tr>\n",
       "    <tr>\n",
       "      <th>497</th>\n",
       "      <td>998</td>\n",
       "      <td>-745.5060</td>\n",
       "    </tr>\n",
       "    <tr>\n",
       "      <th>498</th>\n",
       "      <td>999</td>\n",
       "      <td>-747.7515</td>\n",
       "    </tr>\n",
       "  </tbody>\n",
       "</table>\n",
       "</div>"
      ],
      "text/plain": [
       "       P      dPdt\n",
       "492  993 -734.3235\n",
       "493  994 -736.5540\n",
       "494  995 -738.7875\n",
       "495  996 -741.0240\n",
       "496  997 -743.2635\n",
       "497  998 -745.5060\n",
       "498  999 -747.7515"
      ]
     },
     "execution_count": 10,
     "metadata": {},
     "output_type": "execute_result"
    }
   ],
   "source": [
    "dPdt_table(501,1000).tail(7)"
   ]
  },
  {
   "cell_type": "code",
   "execution_count": null,
   "metadata": {},
   "outputs": [],
   "source": []
  },
  {
   "cell_type": "markdown",
   "metadata": {},
   "source": [
    "# Blue Whale, Krill Coexistance Problem"
   ]
  },
  {
   "cell_type": "markdown",
   "metadata": {},
   "source": [
    "**Variables**\n",
    "\n",
    "$B = \\text{number of blue whales}$  \n",
    "$K = \\text{number of krill}$  \n",
    "$g_B = \\text{growth rate for blue whales}$  \n",
    "$g_K = \\text{growth rate for krill}$  \n",
    "$c_B = \\text{competition term for blue whales}$  \n",
    "$c_K = \\text{competition term for krill}$  \n",
    "\n",
    "**Assumptions**\n",
    "\n",
    "$g_B = 0.05B\\Big(1 - \\dfrac{B}{150000}\\Big)$  \n",
    "\n",
    "$g_K = 0.25B\\Big(1 - \\dfrac{B}{400000}\\Big)$   \n",
    "\n",
    "$c_B = c_K = \\alpha BF; \\text{ where } \\alpha = ?$  \n",
    "\n",
    "$\\frac{dB}{dt} = g_B - c_B$  \n",
    "\n",
    "$\\frac{dF}{dt} = g_K - c_K$  \n",
    "\n",
    "$B, K \\geq 0$\n",
    "\n",
    "**Objective**\n",
    "\n",
    "Find the equillibrium points and whether they're stable"
   ]
  },
  {
   "cell_type": "markdown",
   "metadata": {},
   "source": [
    "### Modules"
   ]
  },
  {
   "cell_type": "code",
   "execution_count": 11,
   "metadata": {},
   "outputs": [],
   "source": [
    "B,K,a = sp.symbols('B K a')\n",
    "g_Ba, g_Fa = 0.05*B*(1-B/150000), 0.25*K*(1-K/500)\n",
    "c_Ba, c_Fa = a*B*K, a*B*K\n",
    "dBdta, dKdta = g_Ba - c_Ba, g_Fa - c_Fa"
   ]
  },
  {
   "cell_type": "code",
   "execution_count": 12,
   "metadata": {},
   "outputs": [],
   "source": [
    "# init_printing() displays LaTeX version of outputs; 'quiet= True' stops \n",
    "# init_printing from printing messages regarding its status\n",
    "\n",
    "sp.init_printing()\n",
    "\n",
    "# Solution to the system (Equillibrium Points)\n",
    "\n",
    "solution = solve([dBdta, dKdta], B, K)"
   ]
  },
  {
   "cell_type": "markdown",
   "metadata": {},
   "source": [
    "***The following is the Equillibrium Point to the system in terms of 'a'.***"
   ]
  },
  {
   "cell_type": "code",
   "execution_count": 13,
   "metadata": {
    "scrolled": true
   },
   "outputs": [
    {
     "data": {
      "image/png": "[encoded data removed]",
      "text/latex": [
       "$$\\left [ \\left ( 0.0, \\quad 0.0\\right ), \\quad \\left ( 0.0, \\quad 500.0\\right ), \\quad \\left ( 150000.0, \\quad 0.0\\right ), \\quad \\left ( \\frac{150000.0 \\left(10000.0 a - 1.0\\right)}{6000000000.0 a^{2} - 1.0}, \\quad \\frac{300000000.0 a - 500.0}{6000000000.0 a^{2} - 1.0}\\right )\\right ]$$"
      ],
      "text/plain": [
       "⎡                                           ⎛150000.0⋅(10000.0⋅a - 1.0)  30000\n",
       "⎢(0.0, 0.0), (0.0, 500.0), (150000.0, 0.0), ⎜──────────────────────────, ─────\n",
       "⎢                                           ⎜                2                \n",
       "⎣                                           ⎝  6000000000.0⋅a  - 1.0     60000\n",
       "\n",
       "0000.0⋅a - 500.0⎞⎤\n",
       "────────────────⎟⎥\n",
       "         2      ⎟⎥\n",
       "00000.0⋅a  - 1.0⎠⎦"
      ]
     },
     "execution_count": 13,
     "metadata": {},
     "output_type": "execute_result"
    }
   ],
   "source": [
    "solution"
   ]
  }
 ],
 "metadata": {
  "kernelspec": {
   "display_name": "Programming_Practice",
   "language": "python",
   "name": "programming_practice"
  },
  "language_info": {
   "codemirror_mode": {
    "name": "ipython",
    "version": 3
   },
   "file_extension": ".py",
   "mimetype": "text/x-python",
   "name": "python",
   "nbconvert_exporter": "python",
   "pygments_lexer": "ipython3",
   "version": "3.6.7"
  }
 },
 "nbformat": 4,
 "nbformat_minor": 2
}
