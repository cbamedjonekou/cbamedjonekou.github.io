{
 "cells": [
  {
   "cell_type": "markdown",
   "metadata": {},
   "source": [
    "# Propagation Malware in Wireless Systems: A variation of the SIR Model (SEIRV) "
   ]
  },
  {
   "cell_type": "markdown",
   "metadata": {},
   "source": [
    "### QUICK SUMMARY:\n",
    "\n",
    "* The goal of the paper I chose is to introduce a new Analytical-Agent Model to model the Propagation of Malware in wireless systems/\n",
    "\n",
    "* Malware Propagation Models have been previously use to characterize the behavior of the network compartments with passage of time.  \n",
    "\n",
    "* This is basically a variation of the SIR Model called  the SEIRV Model. \n",
    "\n",
    "#### Advantage of using the Model:\n",
    "\n",
    "* There’s a lack of field data and a lack of real geographical locations (Locations where of cases where Malware Propagation occurs). \n",
    "\n",
    "* This is alleviated by creating an analytical benchmark model for initial validation of the resulting agent model and ensures its easy to modify and reproduce. (Just a way to check how well agent-models perform).\n",
    "\n",
    "    * Agent Models are Simulations?\n",
    "    * Analytical Models are Equation-Based models?\n",
    "    * We merge the two."
   ]
  },
  {
   "cell_type": "markdown",
   "metadata": {},
   "source": [
    "#### Method:\n",
    "\n",
    "* They used an Analytical Model and an Agent Model for this approach. I'll focus solely on the analytical model.\n",
    "\n",
    "* For the Analytical Model they chose to model the network system as a dynamical system \n",
    "\n",
    "* They thought that the SIR Model was insufficient, that is why an SEIRV Model was necessary. (Wireless Sensor Networks are being Modeled)\n",
    "\n",
    "* The Model is meant to represent any type of network infection (Trojans, Worms, Viruses, etc.)\n",
    "\n",
    "#### Variables:\n",
    "\n",
    "* $\\text{S(t) = Susceptibles}$\n",
    "* $\\text{E(t) = Exposed (latent)}$\n",
    "* $\\text{I(t) = Infectious}$ \n",
    "* $\\text{R(t) = Recovered (temporarily immune)}$\n",
    "* $\\text{V(t) = Vaccinated (immunized)}$\n",
    "* $\\text{N(t) = Total Population (sum of all the above)}$\n",
    "* $\\sigma = \\text{Distribution Density}$\n",
    "* $r = \\text{transmission range}$\n",
    "    * $\\sigma \\pi r_0^2 = \\text{effective contact with an infected node for the transfer of infection}$\n",
    "\n",
    "\n",
    "* $\\lambda = \\text{inclusion rate of new nodes into the network}$\n",
    "\n",
    "* $\\beta = \\text{infection contact rate}$\n",
    "\n",
    "* $\\tau = \\text{Death Rate of the nodes due to hardware or software failure}$\n",
    "\n",
    "* $\\omega = \\text{Crashing rate due to attack of malicious objects (a worm in this case)}$\n",
    "\n",
    "* $\\theta = \\text{Rate at which exposed nodes become infectious}$\n",
    "\n",
    "* $\\nu = \\text{Rate of recovery}$\n",
    "\n",
    "* $\\phi = \\text{Rate at which recovered nodes become susceptible to infection}$\n",
    "\n",
    "* $\\rho = \\text{Rate of vaccination for susceptible sensor nodes}$\n",
    "\n",
    "* $\\xi = \\text{Rate of transmission from the Vaccinated compartment to the Susceptible Compartment}$\n",
    "\n",
    "#### Assumptions:\n",
    "\n",
    "   \n",
    "\n",
    "* Compartment Model Image\n",
    "\n",
    "￼\n",
    "\n",
    "***CLEAN THIS PART UP LATER***\n",
    "\n",
    "Step 1: Node Deployment/Inclusion and Network Initialization – The sensor nodes are uniformly randomly deployed (at the inclusion rate of l) with a node density of s over a sensor field and since they are equipped with antennas, information collection/communication between sensors is done over a maximum transmission range r0. \n",
    "\n",
    "Step 2: State Initialization for Sensor Nodes – The newly deployed sensor nodes are in the Susceptible (S) state and are removed as a result of hardware/software failure at the rate of t: \n",
    "\n",
    "* Case 1: If there is worm attack and an effective spread of the worm infection on the order of spr0, sensor nodes changes their states from Susceptible to Exposed state (where sensors are not fully infectious) at the combined rates of bSIspr0. Otherwise the sensor network population approaches the carrying capacity denoted by l=t. Nodes are removed as a result of hardware/software failure at rate t.  ",
    "\n",
    "* Case 2: If latency time has elapsed, sensor nodes in the Exposed (E) state changes to Infectious (I) state (where sensor nodes become fully infections) with a transition rate of u; nodes are probably removed from the network as a result of hardware/software failure at t and worm infection at rate v.  ",
    "\n",
    "* Case 3: If the sensor network is equipped with functional and improved antivirus capability, sensor nodes in the Infectious (S) state change to the Recovered (R) state at a transition rate of n, where some nodes are probably removed as a result of hardware/software failure at the rate of t and Recovered (R) nodes revert back to the susceptible (S) state after a period of immunity (1=’) at transition rate ’.  ",
    "\n",
    "* Case 4: If sensor network possess a functional immunization capability, sensor nodes changes from Susceptible (S) state to Vaccinated (V) state at transition rate r, where some nodes are removed as a result of hardware/software failure at the rate of t and Vaccinated (V) nodes reverts back to the susceptible (S) state at transition rate j after a period of immunity (1=j). \t\n",
    "\n",
    "***CLEAN THIS PART UP LATER***\n",
    "\n",
    "* Analytical Model of the Dynamical System:"
   ]
  },
  {
   "cell_type": "code",
   "execution_count": null,
   "metadata": {},
   "outputs": [],
   "source": []
  }
 ],
 "metadata": {
  "kernelspec": {
   "display_name": "Programming_Practice",
   "language": "python",
   "name": "programming_practice"
  },
  "language_info": {
   "codemirror_mode": {
    "name": "ipython",
    "version": 3
   },
   "file_extension": ".py",
   "mimetype": "text/x-python",
   "name": "python",
   "nbconvert_exporter": "python",
   "pygments_lexer": "ipython3",
   "version": "3.6.7"
  }
 },
 "nbformat": 4,
 "nbformat_minor": 2
}
