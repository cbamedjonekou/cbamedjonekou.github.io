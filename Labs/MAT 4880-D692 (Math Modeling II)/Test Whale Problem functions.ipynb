{
 "cells": [
  {
   "cell_type": "code",
   "execution_count": null,
   "metadata": {
    "collapsed": true
   },
   "outputs": [],
   "source": [
    "# Modules being called\n",
    "import math as m\n",
    "import numpy as np\n",
    "from sympy.solvers import solve\n",
    "import sympy as sp\n",
    "from matplotlib import pyplot as plt\n",
    "import seaborn as sn"
   ]
  },
  {
   "cell_type": "code",
   "execution_count": 10,
   "metadata": {
    "collapsed": true
   },
   "outputs": [],
   "source": [
    "def dB_dt(blue, fin):\n",
    "    growth_Blue = 0.05*blue*(1-blue/150000)\n",
    "    competition_Blue = m.pow(10,-8)*blue*fin\n",
    "    dBxdt = growth_Blue - competition_Blue\n",
    "    return dBxdt\n",
    "    \n",
    "    \n",
    "def dF_dt(blue, fin):\n",
    "    growth_Fin = 0.08*fin*(1-fin/400000)\n",
    "    competition_Fin = m.pow(10,-8)*blue*fin\n",
    "    dFxdt = growth_Fin - competition_Fin\n",
    "    return dFxdt"
   ]
  },
  {
   "cell_type": "code",
   "execution_count": 11,
   "metadata": {
    "collapsed": true
   },
   "outputs": [],
   "source": [
    "x, y = np.linspace(0, 200000), np.linspace(0, 450000)"
   ]
  },
  {
   "cell_type": "code",
   "execution_count": 12,
   "metadata": {},
   "outputs": [
    {
     "data": {
      "text/plain": [
       "0.0"
      ]
     },
     "execution_count": 12,
     "metadata": {},
     "output_type": "execute_result"
    }
   ],
   "source": [
    "dB_dt(0,0)"
   ]
  }
 ],
 "metadata": {
  "kernelspec": {
   "display_name": "Python 3",
   "language": "python",
   "name": "python3"
  },
  "language_info": {
   "codemirror_mode": {
    "name": "ipython",
    "version": 3
   },
   "file_extension": ".py",
   "mimetype": "text/x-python",
   "name": "python",
   "nbconvert_exporter": "python",
   "pygments_lexer": "ipython3",
   "version": "3.7.0"
  }
 },
 "nbformat": 4,
 "nbformat_minor": 2
}
