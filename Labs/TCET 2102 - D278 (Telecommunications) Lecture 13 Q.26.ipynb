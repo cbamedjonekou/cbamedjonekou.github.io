{
 "cells": [
  {
   "cell_type": "markdown",
   "metadata": {},
   "source": [
    "**Name: Christ-Brian Amedjonekou**  \n",
    "**Date: 11/27/2018**  \n",
    "**TCET 2102 (Analog and Digital Telephone) Lectures 13 Q. 26 HW**  \n",
    "**Fall 2018, Section: D278, Code: 37580**  \n",
    "**Instructor: Layth Qaseer**\n",
    "\n",
    "**26. Answer the following questions about the digital hierarchy in Figure 6.23:**\n",
    "\n",
    "* What is the overhead (number of extra bits) in the DS-1 service? \n",
    "\n",
    "$$64 \\textbf{ kbps} \\times 24 = 1.536 \\textbf{ mbps}$$  \n",
    "$$\\textbf{DS-1} = 1.544$$  \n",
    "$$\\textbf{Overhead} = 1.544 - 1.536 = 8 \\textbf{ kbps}$$  \n",
    "\n",
    "* What is the overhead (number of extra bits) in the DS-2 service?     \n",
    "\n",
    "$$1.544 \\textbf{ mbps} \\times 4 = 6.176 \\textbf{ mbps}$$  \n",
    "$$\\textbf{DS-2} = 6.312$$  \n",
    "$$\\textbf{Overhead} = 6.312 - 6.176 = 136 \\textbf{ kbps}$$  \n",
    "\n",
    "* What is the overhead (number of extra bits) in the DS-3 service? \n",
    "\n",
    "$$6.312 \\textbf{ mbps} \\times 7 = 44.184 \\textbf{ mbps}$$  \n",
    "$$\\textbf{DS-3} = 44.376$$  \n",
    "$$\\textbf{Overhead} = 44.376 - 44.184 =  192 \\textbf{ kbps}$$  \n",
    "\n",
    "* What is the overhead (number of extra bits) in the DS-4 service?\n",
    "\n",
    "$$44.376 \\textbf{ kbps} \\times 6 = 266.256 \\textbf{ mbps}$$  \n",
    "$$\\textbf{DS-1} = 274.176$$  \n",
    "$$\\textbf{Overhead} = 274.176 - 266.256 = 7.92 \\textbf{ mbps}$$  "
   ]
  }
 ],
 "metadata": {
  "kernelspec": {
   "display_name": "Python 3",
   "language": "python",
   "name": "python3"
  },
  "language_info": {
   "codemirror_mode": {
    "name": "ipython",
    "version": 3
   },
   "file_extension": ".py",
   "mimetype": "text/x-python",
   "name": "python",
   "nbconvert_exporter": "python",
   "pygments_lexer": "ipython3",
   "version": "3.7.0"
  }
 },
 "nbformat": 4,
 "nbformat_minor": 2
}
