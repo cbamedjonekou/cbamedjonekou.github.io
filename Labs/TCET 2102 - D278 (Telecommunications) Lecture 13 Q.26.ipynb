{
 "cells": [
  {
   "cell_type": "markdown",
   "metadata": {},
   "source": [
    "**Name: Christ-Brian Amedjonekou**  \n",
    "**Date: 11/27/2018**  \n",
    "**TCET 2102 (Analog and Digital Telephone) Lectures 13 Q. 26 HW**  \n",
    "**Fall 2018, Section: D278, Code: 37580**  \n",
    "**Instructor: Layth Qaseer**\n",
    "\n",
    "**26. Answer the following questions about the digital hierarchy in Figure 6.23:**\n",
    "\n",
    "* What is the overhead (number of extra bits) in the DS-1 service? \n",
    "* What is the overhead (number of extra bits) in the DS-2 service?       \n",
    "* What is the overhead (number of extra bits) in the DS-3 service? \n",
    "* What is the overhead (number of extra bits) in the DS-4 service?"
   ]
  }
 ],
 "metadata": {
  "kernelspec": {
   "display_name": "Python 3",
   "language": "python",
   "name": "python3"
  },
  "language_info": {
   "codemirror_mode": {
    "name": "ipython",
    "version": 3
   },
   "file_extension": ".py",
   "mimetype": "text/x-python",
   "name": "python",
   "nbconvert_exporter": "python",
   "pygments_lexer": "ipython3",
   "version": "3.7.0"
  }
 },
 "nbformat": 4,
 "nbformat_minor": 2
}
