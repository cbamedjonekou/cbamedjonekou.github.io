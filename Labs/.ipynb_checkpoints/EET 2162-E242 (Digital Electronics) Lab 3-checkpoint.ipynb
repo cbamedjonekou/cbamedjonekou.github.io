{
 "cells": [
  {
   "cell_type": "markdown",
   "metadata": {
    "collapsed": true
   },
   "source": [
    "<b>Name: Christ-Brian Amedjonekou  \n",
    "Date: 10/22/2018  \n",
    "EET 2162 (Digital Electronics) Lab 3  \n",
    "Fall 2018, Section: E242, Code: 35757  \n",
    "Instructor: Youngsik Song  </b>"
   ]
  },
  {
   "cell_type": "markdown",
   "metadata": {},
   "source": [
    "## Objective\n",
    "\n",
    "\n",
    "* Implement and test several combinatorial logic circuits"
   ]
  },
  {
   "cell_type": "markdown",
   "metadata": {},
   "source": [
    "## Brief Theory/Theoretical Background\n",
    "\n",
    "The basic premise the following:\n",
    "\n",
    "* XOR (Exclusive OR) has the yields true for when one option or another option are true but not when both options are true. It allude to mutually exclusive events. For example you cannot be \"sick\" and \"not sick\" at the same time. You're either sick or not sick but not both.  \n"
   ]
  },
  {
   "cell_type": "markdown",
   "metadata": {},
   "source": [
    "## EXPECTED RESULTS from THEORY\n",
    "\n",
    "* I expect that we will be able to replicate/prove the theory higlighted highlighted above as well as build any type of logic circuit using NAND gates."
   ]
  },
  {
   "cell_type": "markdown",
   "metadata": {},
   "source": [
    "## PROCEDURE OF THE EXPERIMENT: equipment used, diagrams and schematics of circuits, and explanations how you perform measurements.\n",
    "\n",
    "\n",
    "#### Equipment\n",
    "\n",
    "* DIGIAC 3000\n",
    "* Experimental Module\n",
    "\n",
    "#### Brief Overview about the Procedure:\n",
    "\n",
    "* Basically we are testing true/false values of the XOR gate. Then we built a digital lock using the following method:\n",
    "\n",
    "    * Construct Truth Tables\n",
    "    * From the Truth Tables we created boolean statements\n",
    "    * Finally we built the logic gates\n",
    "\n",
    "##### Tables and circuits are presented below in the \"EXPERIMENTAL RESULTS\" section.\n",
    "\n",
    "\n",
    "#### Run 1: XOR Gate\n",
    "\n",
    "1. Construct the 2 input NAND gate Circuit as shown in Fig. 2.1 \n",
    "<p></p>\n",
    "2. Using logic sources switches $I0$ and $I2$ as inputs and logic monitor $Q0$ as an output, measure and complete the Table 2.1.\n",
    "<p></p>\n",
    "3. Power Down all logic input switches.\n",
    "\n",
    "#### Run 2: NAND Gate Equivalent\n",
    "\n",
    "1. Construct the 2 input NAND gate Circuit as shown in Fig. 2.2. \n",
    "<p></p>\n",
    "2. Using logic sources switches $I0$ and $I2$ as inputs and logic monitor $Q0$ as an output, measure and complete the Table 2.2.\n",
    "<p></p>\n",
    "3. Power Down all logic input switches."
   ]
  },
  {
   "cell_type": "markdown",
   "metadata": {},
   "source": [
    "## EXPERIMENTAL RESULTS: measured values in tables and graphs"
   ]
  },
  {
   "cell_type": "code",
   "execution_count": 4,
   "metadata": {
    "collapsed": true
   },
   "outputs": [],
   "source": [
    "import pandas as pd\n",
    "\n",
    "data2 = {'Run 1': ['I2', 0, 0, 1, 1], 'Exclusive OR Gate (XOR)': ['I0', 0, 1, 0, 1],\n",
    "         'Exclusive OR Gate (XOR)': ['Q0', 0, 1, 1, 0]}\n",
    "\n",
    "data3 = {'Run 2': [0, 0, 0, 0, 1, 1, 1, 1], \n",
    "         'Combination Lock Inputs_1': [0, 0, 1, 1, 0, 0, 1, 1],\n",
    "         'Combination Lock Inputs_2': [0, 1, 0, 1, 0, 1, 0, 1], \n",
    "         'Combination Lock Inputs_3': [1, 1, 1, 1, 1, 1, 1, 1],\n",
    "         'Combination Lock Unlock': [0, 0, 1, 0, 0, 0, 0, 0],\n",
    "         'Combination Lock Alarm': [0, 0, 1, 0, 0, 0, 0, 0],\n",
    "        }\n",
    "\n",
    "df2 = pd.DataFrame.from_dict(data2)\n",
    "df3 = pd.DataFrame.from_dict(data3)"
   ]
  },
  {
   "cell_type": "markdown",
   "metadata": {},
   "source": [
    "### RUN 1"
   ]
  },
  {
   "cell_type": "code",
   "execution_count": 5,
   "metadata": {},
   "outputs": [
    {
     "data": {
      "text/html": [
       "<div>\n",
       "<style scoped>\n",
       "    .dataframe tbody tr th:only-of-type {\n",
       "        vertical-align: middle;\n",
       "    }\n",
       "\n",
       "    .dataframe tbody tr th {\n",
       "        vertical-align: top;\n",
       "    }\n",
       "\n",
       "    .dataframe thead th {\n",
       "        text-align: right;\n",
       "    }\n",
       "</style>\n",
       "<table border=\"1\" class=\"dataframe\">\n",
       "  <thead>\n",
       "    <tr style=\"text-align: right;\">\n",
       "      <th></th>\n",
       "      <th>Run 1</th>\n",
       "      <th>Exclusive OR Gate (XOR)</th>\n",
       "    </tr>\n",
       "  </thead>\n",
       "  <tbody>\n",
       "    <tr>\n",
       "      <th>0</th>\n",
       "      <td>I2</td>\n",
       "      <td>Q0</td>\n",
       "    </tr>\n",
       "    <tr>\n",
       "      <th>1</th>\n",
       "      <td>0</td>\n",
       "      <td>0</td>\n",
       "    </tr>\n",
       "    <tr>\n",
       "      <th>2</th>\n",
       "      <td>0</td>\n",
       "      <td>1</td>\n",
       "    </tr>\n",
       "    <tr>\n",
       "      <th>3</th>\n",
       "      <td>1</td>\n",
       "      <td>1</td>\n",
       "    </tr>\n",
       "    <tr>\n",
       "      <th>4</th>\n",
       "      <td>1</td>\n",
       "      <td>0</td>\n",
       "    </tr>\n",
       "  </tbody>\n",
       "</table>\n",
       "</div>"
      ],
      "text/plain": [
       "  Run 1 Exclusive OR Gate (XOR)\n",
       "0    I2                      Q0\n",
       "1     0                       0\n",
       "2     0                       1\n",
       "3     1                       1\n",
       "4     1                       0"
      ]
     },
     "execution_count": 5,
     "metadata": {},
     "output_type": "execute_result"
    }
   ],
   "source": [
    "df2"
   ]
  },
  {
   "cell_type": "code",
   "execution_count": null,
   "metadata": {
    "collapsed": true
   },
   "outputs": [],
   "source": [
    "from IPython.display import Image as i\n",
    "i(filename= '/Users/Chris/Desktop/Images/DC12.png', width= 400, height= 400)"
   ]
  },
  {
   "cell_type": "markdown",
   "metadata": {},
   "source": [
    "### RUN 2"
   ]
  },
  {
   "cell_type": "code",
   "execution_count": 6,
   "metadata": {},
   "outputs": [
    {
     "data": {
      "text/html": [
       "<div>\n",
       "<style scoped>\n",
       "    .dataframe tbody tr th:only-of-type {\n",
       "        vertical-align: middle;\n",
       "    }\n",
       "\n",
       "    .dataframe tbody tr th {\n",
       "        vertical-align: top;\n",
       "    }\n",
       "\n",
       "    .dataframe thead th {\n",
       "        text-align: right;\n",
       "    }\n",
       "</style>\n",
       "<table border=\"1\" class=\"dataframe\">\n",
       "  <thead>\n",
       "    <tr style=\"text-align: right;\">\n",
       "      <th></th>\n",
       "      <th>Run 2</th>\n",
       "      <th>Combination Lock Inputs_1</th>\n",
       "      <th>Combination Lock Inputs_2</th>\n",
       "      <th>Combination Lock Inputs_3</th>\n",
       "      <th>Combination Lock Unlock</th>\n",
       "      <th>Combination Lock Alarm</th>\n",
       "    </tr>\n",
       "  </thead>\n",
       "  <tbody>\n",
       "    <tr>\n",
       "      <th>0</th>\n",
       "      <td>0</td>\n",
       "      <td>0</td>\n",
       "      <td>0</td>\n",
       "      <td>1</td>\n",
       "      <td>0</td>\n",
       "      <td>0</td>\n",
       "    </tr>\n",
       "    <tr>\n",
       "      <th>1</th>\n",
       "      <td>0</td>\n",
       "      <td>0</td>\n",
       "      <td>1</td>\n",
       "      <td>1</td>\n",
       "      <td>0</td>\n",
       "      <td>0</td>\n",
       "    </tr>\n",
       "    <tr>\n",
       "      <th>2</th>\n",
       "      <td>0</td>\n",
       "      <td>1</td>\n",
       "      <td>0</td>\n",
       "      <td>1</td>\n",
       "      <td>1</td>\n",
       "      <td>1</td>\n",
       "    </tr>\n",
       "    <tr>\n",
       "      <th>3</th>\n",
       "      <td>0</td>\n",
       "      <td>1</td>\n",
       "      <td>1</td>\n",
       "      <td>1</td>\n",
       "      <td>0</td>\n",
       "      <td>0</td>\n",
       "    </tr>\n",
       "    <tr>\n",
       "      <th>4</th>\n",
       "      <td>1</td>\n",
       "      <td>0</td>\n",
       "      <td>0</td>\n",
       "      <td>1</td>\n",
       "      <td>0</td>\n",
       "      <td>0</td>\n",
       "    </tr>\n",
       "    <tr>\n",
       "      <th>5</th>\n",
       "      <td>1</td>\n",
       "      <td>0</td>\n",
       "      <td>1</td>\n",
       "      <td>1</td>\n",
       "      <td>0</td>\n",
       "      <td>0</td>\n",
       "    </tr>\n",
       "    <tr>\n",
       "      <th>6</th>\n",
       "      <td>1</td>\n",
       "      <td>1</td>\n",
       "      <td>0</td>\n",
       "      <td>1</td>\n",
       "      <td>0</td>\n",
       "      <td>0</td>\n",
       "    </tr>\n",
       "    <tr>\n",
       "      <th>7</th>\n",
       "      <td>1</td>\n",
       "      <td>1</td>\n",
       "      <td>1</td>\n",
       "      <td>1</td>\n",
       "      <td>0</td>\n",
       "      <td>0</td>\n",
       "    </tr>\n",
       "  </tbody>\n",
       "</table>\n",
       "</div>"
      ],
      "text/plain": [
       "   Run 2  Combination Lock Inputs_1  Combination Lock Inputs_2  \\\n",
       "0      0                          0                          0   \n",
       "1      0                          0                          1   \n",
       "2      0                          1                          0   \n",
       "3      0                          1                          1   \n",
       "4      1                          0                          0   \n",
       "5      1                          0                          1   \n",
       "6      1                          1                          0   \n",
       "7      1                          1                          1   \n",
       "\n",
       "   Combination Lock Inputs_3  Combination Lock Unlock  Combination Lock Alarm  \n",
       "0                          1                        0                       0  \n",
       "1                          1                        0                       0  \n",
       "2                          1                        1                       1  \n",
       "3                          1                        0                       0  \n",
       "4                          1                        0                       0  \n",
       "5                          1                        0                       0  \n",
       "6                          1                        0                       0  \n",
       "7                          1                        0                       0  "
      ]
     },
     "execution_count": 6,
     "metadata": {},
     "output_type": "execute_result"
    }
   ],
   "source": [
    "df3"
   ]
  },
  {
   "cell_type": "code",
   "execution_count": null,
   "metadata": {
    "collapsed": true
   },
   "outputs": [],
   "source": [
    "i(filename= '/Users/Chris/Desktop/Images/DC13.png', width= 400, height= 400)"
   ]
  },
  {
   "cell_type": "markdown",
   "metadata": {},
   "source": [
    "## QUESTIONS LISTED IN THE LAB MANUAL\n",
    "\n",
    "**1. From the Results of RUN 1, clearly define the operation of an Exclusive OR circuit.**  \n",
    "\n",
    "* XOR (Exclusive OR) has the yields true for when one option or another option are true but not when both options are true. It allude to mutually exclusive events. For example you cannot be \"sick\" and \"not sick\" at the same time. You're either sick or not sick but not both. This was mentioned above.  \n",
    "\n",
    "**2. Construct the truth table and resuls of RUN II**\n",
    "\n",
    "* This is shown in the EXPERIMENTAL RESULTS section above\n",
    "\n",
    "**3. Included diagrams and simulations of Multisim from all above RUNs**\n",
    "\n",
    "* This is shown in the EXPERIMENTAL RESULTS section above"
   ]
  },
  {
   "cell_type": "markdown",
   "metadata": {},
   "source": [
    "## DISCUSSION/ANALYSIS: \n",
    " \n",
    " \n",
    "**The following method allowed us to create a digital lock that had the following criteria:**\n",
    "\n",
    "* **Method:**\n",
    "\n",
    "    * Construct Truth Tables\n",
    "    * From the Truth Tables we created boolean statements\n",
    "    * Finally we built the logic gates\n",
    "    \n",
    "\n",
    "* **Criteria:**\n",
    "\n",
    "    1. **The combination 101 was entered.**\n",
    "    2. **No alarm sounded when two of the digits matched.**\n",
    "    3. **Alarm sounded for wrong number entered if criteria 2 is not satisfied.**"
   ]
  },
  {
   "cell_type": "markdown",
   "metadata": {},
   "source": [
    "## CONCLUSION: \n",
    "\n",
    "* We were successful with conducting our experiment. We were able to confirm the theory about the logic gates, the TTL levels for digital output signals. \n"
   ]
  }
 ],
 "metadata": {
  "kernelspec": {
   "display_name": "Python 3",
   "language": "python",
   "name": "python3"
  },
  "language_info": {
   "codemirror_mode": {
    "name": "ipython",
    "version": 3
   },
   "file_extension": ".py",
   "mimetype": "text/x-python",
   "name": "python",
   "nbconvert_exporter": "python",
   "pygments_lexer": "ipython3",
   "version": "3.7.0"
  }
 },
 "nbformat": 4,
 "nbformat_minor": 2
}
