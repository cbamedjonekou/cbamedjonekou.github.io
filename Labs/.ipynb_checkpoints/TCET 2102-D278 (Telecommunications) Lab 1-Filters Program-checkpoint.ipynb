{
 "cells": [
  {
   "cell_type": "markdown",
   "metadata": {},
   "source": [
    "**Name: Christ-Brian Amedjonekou**  \n",
    "**Date: 11/05/2018**  \n",
    "**TCET 2102-D278 (Telecommunications) Lab 1**  \n",
    "**Fall 2018, Section: D278, Code: 37580**  \n",
    "**Instructor: Layth Qaseer**"
   ]
  },
  {
   "cell_type": "markdown",
   "metadata": {
    "collapsed": true
   },
   "source": [
    "### Objectives\n",
    "\n",
    "1. **Learn how to read, use, compare instruments that are dB/dBm-calibrated.**\n",
    "2. **Relate dB measurements to Voltage measurements.**\n",
    "3. **Determine the cuttoff frequencies of the RC low pass filter using the difference in dB measurements.**\n",
    "4. **Evaluate the effects of instrument loading on frequency response.**\n",
    "5. **Use Thevenin's theorem to calculate a circuit's loaded response.**\n",
    "6. **Use Audio Test Set, its functions, ranges and limitations; connections, switches, dials, and indicator.**\n",
    "7. **Use VOM to read dB values, and how the changing ranges affect the dB scale and input impedance.**"
   ]
  },
  {
   "cell_type": "markdown",
   "metadata": {},
   "source": [
    "### Equipment\n",
    "\n",
    "* **Audio Test Set**\n",
    "* **Analog Volt Ohm Meter**\n",
    "* **Oscilloscope**\n",
    "* **Digital Multimeter**\n",
    "* **10 k$\\Omega \\space \\frac{1}{4}$-watt Resistor**\n",
    "* **0.01 $\\mu$F Capacitor**\n"
   ]
  },
  {
   "cell_type": "markdown",
   "metadata": {},
   "source": [
    "### Theory\n",
    "\n",
    "**Filters: Any combination of passive (R, L, and C) and/or active (transistors or operational amplifiers) elements designed to select or reject a band of frequencies is called a filter.**\n",
    "\n",
    "*  In communication systems, filters are employed to pass those frequencies containing the desired information and to reject the remaining frequencies.\n",
    "\n",
    "**Filters are employed to filter out any unwanted frequencies, commonly called noise, due to the nonlinear characteristics of some elec- tronic devices or signals picked up from the surrounding medium. In general, there are two classifications of filters:**\n",
    "\n",
    "* Passive Filters - contains only passive elements (e.g: resistors, capacitors, inductors) **\"Passive filters are those filters composed of series or parallel combinations of R, L, and C elements.\"**\n",
    "\n",
    "    * Low Pass Filters\n",
    "\n",
    "### Low Pass\n",
    "\n",
    "$$A_V = \\frac{V_O}{V_I}=  \\frac{1}{\\sqrt{\\left(\\frac{f_C}{f}\\right)^2 + 1}} \\angle{- \\tan^{-1}\\frac{f_C}{f}}$$ \n",
    "\n",
    "$$\\textbf{Note that } f_C = \\frac{1}{2\\pi RC}$$\n",
    "\n",
    "#### Butterworth Low Pass Filter"
   ]
  },
  {
   "cell_type": "code",
   "execution_count": 1,
   "metadata": {},
   "outputs": [],
   "source": [
    "import math as m\n",
    "def lowpassfilter_voltagegain(f_c, f, phase_degree= True):\n",
    "    \"\"\"Calculates the voltage gain given the frequency and cuttoff frequency \n",
    "    of the low pass filter. Returns a list featuring the magnitude and phase angle.\n",
    "    The preset variable \"phase_degree\" is set to true to give an answer in degrees \n",
    "    for the phase angle.\"\"\"\n",
    "    magnitude = 1/m.sqrt(m.pow(f/f_c, 2) + 1)\n",
    "    phase_angle = 0 - m.atan(f/f_c)\n",
    "    if phase_degree == False:\n",
    "        return [magnitude, phase_angle]\n",
    "    else:\n",
    "        return [magnitude, m.degrees(phase_angle)]"
   ]
  },
  {
   "cell_type": "code",
   "execution_count": 2,
   "metadata": {},
   "outputs": [],
   "source": [
    "f = 101001\n",
    "f_c = 100000\n",
    "cuttoff1 = lowpassfilter_voltagegain(f_c, f = f_c)[0]\n",
    "given_gain1 = lowpassfilter_voltagegain(f_c, f)[0]"
   ]
  },
  {
   "cell_type": "code",
   "execution_count": 3,
   "metadata": {},
   "outputs": [
    {
     "data": {
      "text/plain": [
       "[<matplotlib.lines.Line2D at 0x121a2c898>]"
      ]
     },
     "execution_count": 3,
     "metadata": {},
     "output_type": "execute_result"
    }
   ],
   "source": [
    "from matplotlib import pyplot as plt\n",
    "import numpy as np\n",
    "\n",
    "list1 = [x for x in range(0, 500000)]\n",
    "list2 = [lowpassfilter_voltagegain(100000, x)[0] for x in range(0, 500000)]\n",
    "frequency = np.array(list1)\n",
    "gain = np.array(list2)\n",
    "plt.plot(frequency, gain)"
   ]
  },
  {
   "cell_type": "code",
   "execution_count": 4,
   "metadata": {},
   "outputs": [],
   "source": [
    "def highpassfilter_voltagegain(f_c, f, phase_degree= True):\n",
    "    \"\"\"Calculates the voltage gain given the frequency and cuttoff frequency \n",
    "    of the high pass filter. Returns a list featuring the magnitude and phase angle.\n",
    "    The preset variable \"phase_degree\" is set to true to give an answer in degrees \n",
    "    for the phase angle.\"\"\"\n",
    "    magnitude = 1/m.sqrt(m.pow(f_c/f, 2) + 1)\n",
    "    phase_angle = 0 - m.atan(f_c/f)\n",
    "    if phase_degree == False:\n",
    "        return [magnitude, phase_angle]\n",
    "    else:\n",
    "        return [magnitude, m.degrees(phase_angle)]"
   ]
  },
  {
   "cell_type": "code",
   "execution_count": 5,
   "metadata": {},
   "outputs": [],
   "source": [
    "cuttoff2 = highpassfilter_voltagegain(f_c, f = f_c)[0]\n",
    "given_gain2 = highpassfilter_voltagegain(f_c, f)[0]"
   ]
  },
  {
   "cell_type": "code",
   "execution_count": 6,
   "metadata": {},
   "outputs": [
    {
     "data": {
      "text/plain": [
       "[<matplotlib.lines.Line2D at 0x126d75fd0>]"
      ]
     },
     "execution_count": 6,
     "metadata": {},
     "output_type": "execute_result"
    },
    {
     "data": {
      "image/png": "[encoded data removed]",
      "text/plain": [
       "<Figure size 432x288 with 1 Axes>"
      ]
     },
     "metadata": {},
     "output_type": "display_data"
    }
   ],
   "source": [
    "list3 = [x for x in range(1, 500000)]\n",
    "list4 = [highpassfilter_voltagegain(100000, x)[0] for x in range(1, 500000)]\n",
    "frequency1 = np.array(list3)\n",
    "gain1 = np.array(list4)\n",
    "plt.plot(frequency1, gain1)"
   ]
  },
  {
   "cell_type": "code",
   "execution_count": 7,
   "metadata": {},
   "outputs": [
    {
     "data": {
      "text/plain": [
       "{'cuttoff1': 0.7071067811865475,\n",
       " 'cuttoff2': 0.7071067811865475,\n",
       " 'given_gain1': 0.7035766118785446,\n",
       " 'given_gain2': 0.7106194137634488}"
      ]
     },
     "execution_count": 7,
     "metadata": {},
     "output_type": "execute_result"
    }
   ],
   "source": [
    "{'cuttoff1': cuttoff1, 'cuttoff2': cuttoff2, \n",
    " 'given_gain1': given_gain1, 'given_gain2': given_gain2}"
   ]
  },
  {
   "cell_type": "code",
   "execution_count": 8,
   "metadata": {},
   "outputs": [],
   "source": [
    "def frequency_blocked(gain, gain_c):\n",
    "    \"\"\"Determines whether input frequencies are blocked. This is based on the gains\n",
    "    related to an arbitrary frequency (gain), and the cuffoff frequency (gain_c). \n",
    "    Returns an \"allowed to pass\" or \"is blocked\" message based on the type of filter.\"\"\"\n",
    "    if gain > gain_c:\n",
    "        return 'Frequency is allowed to Pass'\n",
    "    else:\n",
    "        return 'Frequency is Blocked'"
   ]
  },
  {
   "cell_type": "code",
   "execution_count": 9,
   "metadata": {},
   "outputs": [
    {
     "data": {
      "text/plain": [
       "{'LP': 'Frequency is Blocked', 'HP': 'Frequency is allowed to Pass'}"
      ]
     },
     "execution_count": 9,
     "metadata": {},
     "output_type": "execute_result"
    }
   ],
   "source": [
    "{'LP':frequency_blocked(given_gain1, cuttoff1), \n",
    " 'HP':frequency_blocked(given_gain2, cuttoff2)}"
   ]
  },
  {
   "cell_type": "code",
   "execution_count": null,
   "metadata": {},
   "outputs": [],
   "source": []
  }
 ],
 "metadata": {
  "kernelspec": {
   "display_name": "Python 3",
   "language": "python",
   "name": "python3"
  },
  "language_info": {
   "codemirror_mode": {
    "name": "ipython",
    "version": 3
   },
   "file_extension": ".py",
   "mimetype": "text/x-python",
   "name": "python",
   "nbconvert_exporter": "python",
   "pygments_lexer": "ipython3",
   "version": "3.7.0"
  }
 },
 "nbformat": 4,
 "nbformat_minor": 2
}
