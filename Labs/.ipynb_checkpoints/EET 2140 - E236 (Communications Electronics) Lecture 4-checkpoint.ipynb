{
 "cells": [
  {
   "cell_type": "markdown",
   "metadata": {},
   "source": [
    "# EET 2140 - E236 (Communications Electronics) Lectures 09/20/18"
   ]
  },
  {
   "cell_type": "markdown",
   "metadata": {},
   "source": [
    "**Modulation was the topic of discussion, specifically amplitude modulation.**\n",
    "\n",
    "\n",
    "**Previous Lecture Notes try to show the importance of modulation in communications systems. Modulation involves combining an information signal with a carrier**\n",
    "\n",
    "* Information signal: An information signal is often a signal whose instantaneous peak voltage is constantly changing and whose range of occupied frequencies is relatively low.\n",
    "\n",
    "\n",
    "* Carrier signal: A carrier signal is a relatively high-frequency sine wave of constant amplitude.\n",
    "\n",
    "**In the case of amplitude modulation (AM), the carrier is also of constant frequency. Under certain conditions combining any two (or more) signals of different frequencies will cause them to interact in a way that creates additional frequencies, each bearing a mathematical relationship to those being combined. The process just hightlighted is called *Mixing*. We'll cover a special case in these lecture notes. Since we're dealing with Waves, knowing the following is important:**\n",
    "\n",
    "$$v(t) = V_P\\sin(\\omega t + \\theta)$$\n",
    "\n",
    "** There are 3 characteristics we're concerned with and that we can modify to convey information. They are:\n",
    "\n",
    "* Amplitude -- $V_P$\n",
    "* Frequency -- $\\omega t$\n",
    "* Phase -- $\\theta$\n",
    "\n",
    "*** Recall also that the information signal is generally termed the \"intelligence\". Other terms for intelligence are modulating signal, audio signal, or modulating wave. AM, which conveys information through changes in the instantaneous peak voltage (amplitude) of the modulated carrier, is the oldest and most straightforward of the approaches and is the focus of this section.***\n",
    "\n",
    "**AM has virtue of simplicity, both in generation at the transmitter and detection at the receiver. AM takes several forms. They are the following:**\n",
    "\n",
    "* Double-sideband, full-carrier (DSBFC) -  transmits the entire modulated signal at full power and is used in broadcasting and aviation (aircraft-to-tower) radio.\n",
    "\n",
    "\n",
    "* Single-sideband (SSB) -  is extensively used by the military services and also finds application in marine and citizens band (CB) radio as well as use by hobbyists known as amateur (ham) radio operators. "
   ]
  },
  {
   "cell_type": "markdown",
   "metadata": {},
   "source": [
    "#### Now we'll start discussing AM Waveforms:\n",
    "\n",
    "*** There are two ways to combine carrier and intelligence signals. Combine them in a linear device (resistor), or combine them within a non linear device (silicon diode). We'll start with describing combining them in a linear device (resistor)***\n",
    "\n",
    "* Combining two sine waves in a linear fashion results in the simple algebraic addition of the two waves. There are circuits that perform this action (where two signals of two different frequencies are combined in a linear device such as a resistor.). \n",
    "\n",
    "\n",
    "* A linear device is one where current is directly proportional to voltage (current is a linear function of voltage). Ohm’s law confirms this relationship for a resistor: $R = \\frac{V}{I}$. But unfortunately, the result is not suitable for transmission as an AM (**Amplitude Modulated**) waveform. If it were transmitted, the receiving antenna would detect just the carrier signal because the low-frequency intelligence component cannot be propagated efficiently as a radio wave.\n",
    "\n",
    "*** \"For modulation to occur, a specific kind of interaction must take place between the input frequencies. Such an interaction occurs when the carrier and intelligence are combined within a nonlinear device.\" ***\n",
    "\n",
    "*  A nonlinear device or circuit is one where changes in current are not directly proportional to changes in applied voltage.\n",
    "\n",
    "\n",
    "* As a result, the net effect of the interaction produced calls for the carrier and intelligence signals to be multiplied rather than added. \n",
    "\n",
    "\n",
    "* As a result, interference (that's desirable) takes place between the high-frequency carrier and the low-frequency intelligence. The modulated waveform carries useful information because of the instantaneous addition and subtraction of the constant-amplitude carrier with the varying-amplitude modulating signal.\n",
    "\n",
    "***Now that we've discussed the basis of AM Modulation (combining signal, carrier signals through non-linear device, we'll consider important characteristics of the AM Modulated Waveforms)***\n",
    "\n",
    "* AM Modulated Waveforms has its maximum amplitude when intelligence amplitude reaches maximum positive value\n",
    "\n",
    "\n",
    "* AM Modulated Waveforms has its minimum when intelligence amplitude is at maximum negative value.\n",
    "\n",
    "#### Now we'll discuss the Modulation Index: It's used to quantify the amount of modulation. Knowing the amount of modulation helps to prevent overmodulation."
   ]
  },
  {
   "cell_type": "code",
   "execution_count": 6,
   "metadata": {
    "collapsed": true
   },
   "outputs": [],
   "source": [
    "def modIndex(am_waveform, min_PeakPeak, intelligence, carrier, percent= 0, via_B_A= 0):\n",
    "    \"\"\"Calculates Modulation Index. Takes 3 Arguments: Intelligence, Carrier, percent.\n",
    "    'Percent' by default is set to '0', or 'OFF'. To turn on, set equal to 1. \n",
    "    Returns the modulation index\"\"\"\n",
    "    if percent == 1:\n",
    "        if via_B_A == 1:\n",
    "            if min_PeakPeak == 0:\n",
    "                return ((am_waveform)/(am_waveform))*100\n",
    "            else:\n",
    "                return ((am_waveform - min_PeakPeak)/(am_waveform + min_PeakPeak))*100 \n",
    "        else: \n",
    "            return (intelligence/carrier) * 100\n",
    "    else:\n",
    "        return intelligence/carrier"
   ]
  },
  {
   "cell_type": "markdown",
   "metadata": {},
   "source": [
    "* The modulation index is denoted by $m$ and is the ratio between $E_c$, the carrier voltage, and $e_i$, the intelligence voltage. This is shown below:\n",
    "\n",
    "$$m = \\frac{E_i}{E_c}$$\n",
    "\n",
    "* We can also express this as a percentage. This is shown below:\n",
    "\n",
    "$$\\%m = \\frac{E_i}{E_c} * 100\\%$$  \n",
    "\n",
    "* We can also express the percentage as the following:\n",
    "\n",
    "$$\\%m = \\frac{B-A}{B+A} * 100\\%$$  \n",
    "$$B = \\text{ AM Waveform}$$  \n",
    "$$A = \\text{ The Minimum Peak-to-Peak value}$$  "
   ]
  },
  {
   "cell_type": "markdown",
   "metadata": {},
   "source": [
    "#### We'll continue on to Overmodulation:\n",
    "\n",
    "* Generally, we want to avoid Overmodulation.\n",
    "\n",
    "\n",
    "* Overmodulation occurs when the AM waveform’s minimum value, $A$, falls to zero or less ($A\\leq 0$) as a result of an increase in the intelligence amplitude. \n",
    "\n",
    "\n",
    "* In this situation the carrier is being varied between zero and double its unmodulated value. Any further increase in the intelligence amplitude will cause ***overmodulation***, where the modulated carrier will go to more than double its unmodulated value but will fall to zero for an interval of time.\n",
    "\n",
    "\n",
    "* This “gap” produces distortion termed ***sideband splatter***, which results in the transmission of frequencies outside a station’s normal allocated range. Luckily AM Transmitters have limiting circuits to prevent this.\n",
    "\n",
    "\n",
    "* To calculate overmodulation we modify the Modulation Index Formula to get the following:\n",
    "\n",
    "\n",
    "$$\\%m = \\frac{B-O}{B+O} * 100\\%$$  \n",
    "$$B = \\text{ AM Waveform}$$  \n",
    "$$O = \\text{ The Minimum Peak-to-Peak value} \\leq 0$$  \n"
   ]
  },
  {
   "cell_type": "markdown",
   "metadata": {},
   "source": []
  }
 ],
 "metadata": {
  "kernelspec": {
   "display_name": "Python 3",
   "language": "python",
   "name": "python3"
  }
 },
 "nbformat": 4,
 "nbformat_minor": 2
}
