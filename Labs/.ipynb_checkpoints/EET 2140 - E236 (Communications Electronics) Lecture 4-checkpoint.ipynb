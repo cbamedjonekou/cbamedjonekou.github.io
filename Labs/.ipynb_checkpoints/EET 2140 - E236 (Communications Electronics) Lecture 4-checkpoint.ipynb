{
 "cells": [
  {
   "cell_type": "markdown",
   "metadata": {},
   "source": [
    "# EET 2140 - E236 (Communications Electronics) Lectures 09/20/18"
   ]
  },
  {
   "cell_type": "markdown",
   "metadata": {},
   "source": [
    "**Modulation was the topic of discussion, specifically amplitude modulation.**\n",
    "\n",
    "\n",
    "**Previous Lecture Notes try to show the importance of modulation in communications systems. Modulation involves combining an information signal with a carrier**\n",
    "\n",
    "* Information signal: An information signal is often a signal whose instantaneous peak voltage is constantly changing and whose range of occupied frequencies is relatively low.\n",
    "\n",
    "\n",
    "* Carrier signal: A carrier signal is a relatively high-frequency sine wave of constant amplitude.\n",
    "\n",
    "**In the case of amplitude modulation (AM), the carrier is also of constant frequency. Under certain conditions combining any two (or more) signals of different frequencies will cause them to interact in a way that creates additional frequencies, each bearing a mathematical relationship to those being combined.** \n",
    "\n",
    "* Amplitude Modulation: The process of combining information signals. Usually the signals combined are ones whose instantaneous peak voltage are constantly changing and whose range of occupied frequencies are relatively low (carrier). In reality these are relatively high frequency sine wave of constant amplitude.\n",
    "\n",
    "** The process hightlighted in the last *bolded section* is called *Mixing*. Since we're dealing with Waves, knowing the following is important:**\n",
    "\n",
    "$$v(t) = V_P\\sin(\\omega t + \\theta)$$\n",
    "\n",
    "** There are 3 characteristics we're concerned with and that we can modify to convey information. They are:\n",
    "\n",
    "* Amplitude -- $V_P$\n",
    "* Frequency -- $\\omega t$\n",
    "* Phase -- $\\theta$\n",
    "\n",
    "*** Recall also that the information signal is generally termed the \"intelligence\". Other terms for intelligence are modulating signal, audio signal, or modulating wave. AM, which conveys information through changes in the instantaneous peak voltage (amplitude) of the modulated carrier, is the oldest and most straightforward of the approaches and is the focus of this section.***\n",
    "\n",
    "**AM has virtue of simplicity, both in generation at the transmitter and detection at the receiver. AM takes several forms. They are the following:**\n",
    "\n",
    "* Double-sideband, full-carrier (DSBFC) \n",
    "* Single-sideband (SSB)"
   ]
  },
  {
   "cell_type": "markdown",
   "metadata": {},
   "source": [
    "#### With AM Waveforms we have the following:\n",
    "\n",
    "* Maximum amplitude when intelligence amplitude reaches maximum positive value\n",
    "* Minimum when intelligence amplitude is at maximum negative value.\n",
    "\n",
    "#### Now we'll discuss the Modulation Index: It's used to quantify the amount of modulation. Knowing the amount of modulation helps to prevent overmodulation."
   ]
  },
  {
   "cell_type": "code",
   "execution_count": 4,
   "metadata": {
    "collapsed": true
   },
   "outputs": [],
   "source": [
    "def modIndex(am_waveform, min_PeakPeak, intelligence, carrier, percent= 0, via_B_A= 0):\n",
    "    \"\"\"Calculates Modulation Index. Takes 3 Arguments: Intelligence, Carrier, percent.\n",
    "    'Percent' by default is set to '0', or 'OFF'. To turn on, set equal to 1. \n",
    "    Returns the modulation index\"\"\"\n",
    "    if percent == 1:\n",
    "        if via_B_A == 1:\n",
    "            return ((am_waveform - min_PeakPeak)/(am_waveform + min_PeakPeak))*100\n",
    "        else: \n",
    "            return (intelligence/carrier) * 100\n",
    "    else:\n",
    "        return intelligence/carrier"
   ]
  },
  {
   "cell_type": "markdown",
   "metadata": {},
   "source": [
    "* The modulation index is denoted by $m$ and is the ratio between $E_c$, the carrier voltage, and $e_i$, the intelligence voltage. This is shown below:\n",
    "\n",
    "$$m = \\frac{E_i}{E_c}$$\n",
    "\n",
    "* We can also express this as a percentage. This is shown below:\n",
    "\n",
    "$$\\%m = \\frac{E_i}{E_c} * 100\\%$$  \n",
    "\n",
    "* We can also express the percentage as the following:\n",
    "\n",
    "$$\\%m = \\frac{B-A}{B+A} * 100\\%$$  \n",
    "$$B = \\text{ AM Waveform}$$  \n",
    "$$A = \\text{ The Minimum Peak-to-Peak value}$$  "
   ]
  },
  {
   "cell_type": "markdown",
   "metadata": {},
   "source": [
    "#### We'll continue on to Overmodulation:\n",
    "\n",
    "* We want to avoid Overmodulation"
   ]
  },
  {
   "cell_type": "code",
   "execution_count": null,
   "metadata": {
    "collapsed": true
   },
   "outputs": [],
   "source": []
  }
 ],
 "metadata": {
  "kernelspec": {
   "display_name": "Python 3",
   "language": "python",
   "name": "python3"
  },
  "language_info": {
   "codemirror_mode": {
    "name": "ipython",
    "version": 3
   },
   "file_extension": ".py",
   "mimetype": "text/x-python",
   "name": "python",
   "nbconvert_exporter": "python",
   "pygments_lexer": "ipython3",
   "version": "3.7.0"
  }
 },
 "nbformat": 4,
 "nbformat_minor": 2
}
