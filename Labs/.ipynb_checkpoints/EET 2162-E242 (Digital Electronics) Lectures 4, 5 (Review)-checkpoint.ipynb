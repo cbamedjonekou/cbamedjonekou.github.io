{
 "cells": [
  {
   "cell_type": "markdown",
   "metadata": {},
   "source": [
    "**Name: Christ-Brian Amedjonekou**  \n",
    "**Date: 11/05/2018**  \n",
    "**EET 2162 (Digital Electronics) Lectures 4 and 5 (Review)**  \n",
    "**Fall 2018, Section: E242, Code: 35757**  \n",
    "**Instructor: Youngsik Song**"
   ]
  },
  {
   "cell_type": "markdown",
   "metadata": {},
   "source": [
    "### Three basic logic operations.\n",
    "\n",
    "* The three basic logic operations are AND, OR, NOT\n",
    "\n",
    "    * For **AND gates** you only get a true value (or 1, digitally) when both inputs were turned on **(are true)**, and false for everything else\n",
    "\n",
    "    * For **OR gates**, you only get a true value (or 1, digitally) when either of the imputs or both were turned on **(are true)**, and false for everything else:\n",
    "\n",
    "    * For **NOT gates**, reverses the values of the input gates."
   ]
  },
  {
   "cell_type": "markdown",
   "metadata": {},
   "source": [
    "### NAND, NOR gates\n",
    "\n",
    "* NAND gates are a combination of AND gates coupled with NOT gates (inverters). Thus the NAND gate produces truth values opposite that of an AND gate. Remember, for AND gates you only get a true value (or 1, digitally) when both inputs were turned \"ON\", and false for everything else. The opposite is true for NAND gates as aforementioned. For NAND gates you get a true value (or 1, digitally) when the following occurs: True, False; False, True; False, False (two inputs). When both inputs were turned \"ON\" (True, True) you get a false value for the output.\n",
    "\n",
    "\n",
    "* NOR gates are a combination of OR gates coupled with NOT gates (inverters). Thus the NOR gate produces truth values opposite that of the OR gate. Remember, for OR gates you only get a true value (or 1, digitally) when either of the imputs or both were turned on, and false for everything else. The opposite is true for NOR gates as aforementioned. For NOR gates, you get a \"False\" value (or 0, digitally) when either of the imputs or both are turned \"ON\". You get a \"True\" output when both inputs are turned \"OFF\".\n",
    "\n",
    "\n",
    "* You can build any type of logic circuit using NAND or NOR gates."
   ]
  },
  {
   "cell_type": "markdown",
   "metadata": {},
   "source": [
    "### Timing diagrams\n",
    "\n",
    "* For OR gates the timing takes the union of the occupied spaces of the signals."
   ]
  },
  {
   "cell_type": "code",
   "execution_count": null,
   "metadata": {
    "collapsed": true
   },
   "outputs": [],
   "source": []
  },
  {
   "cell_type": "markdown",
   "metadata": {},
   "source": [
    "* For AND gates the timing takes the intersection of the occupied spaces of the signals."
   ]
  },
  {
   "cell_type": "code",
   "execution_count": null,
   "metadata": {
    "collapsed": true
   },
   "outputs": [],
   "source": []
  },
  {
   "cell_type": "markdown",
   "metadata": {},
   "source": [
    "* For NOT gates the timing is reversed"
   ]
  },
  {
   "cell_type": "markdown",
   "metadata": {},
   "source": []
  }
 ],
 "metadata": {
  "kernelspec": {
   "display_name": "Python 3",
   "language": "python",
   "name": "python3"
  },
  "language_info": {
   "codemirror_mode": {
    "name": "ipython",
    "version": 3
   },
   "file_extension": ".py",
   "mimetype": "text/x-python",
   "name": "python",
   "nbconvert_exporter": "python",
   "pygments_lexer": "ipython3",
   "version": "3.7.0"
  }
 },
 "nbformat": 4,
 "nbformat_minor": 2
}
