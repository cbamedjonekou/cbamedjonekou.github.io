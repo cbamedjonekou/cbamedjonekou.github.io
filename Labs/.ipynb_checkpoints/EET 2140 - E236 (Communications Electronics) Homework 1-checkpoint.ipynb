{
 "cells": [
  {
   "cell_type": "markdown",
   "metadata": {},
   "source": [
    "<b>Name: Christ-Brian Amedjonekou  \n",
    "Date: 09/27/2018  \n",
    "EET 2140 (Communications Electronics) Homework 1  \n",
    "Fall 2018, Section: E236, Code: 35757  \n",
    "Instructor: Song Tang</b>"
   ]
  },
  {
   "cell_type": "code",
   "execution_count": 13,
   "metadata": {},
   "outputs": [],
   "source": [
    "def modIndex(min_PeakPeak= 1, intelligence= 1, carrier= 1, percent= 0, via_B_A= 0, am_waveform=1):\n",
    "    \"\"\"Calculates Modulation Index. Takes 3 Arguments: Intelligence, Carrier, percent.\n",
    "    'Percent' by default is set to '0', or 'OFF'. To turn on, set equal to 1. \n",
    "    Returns the modulation index\"\"\"\n",
    "    if percent == 1:\n",
    "        if via_B_A == 1:\n",
    "            if min_PeakPeak == 0:\n",
    "                return ((am_waveform)/(am_waveform))*100\n",
    "            else:\n",
    "                return ((am_waveform - min_PeakPeak)/(am_waveform + min_PeakPeak))*100 \n",
    "        else: \n",
    "            return (intelligence/carrier) * 100\n",
    "    else:\n",
    "        return intelligence/carrier"
   ]
  },
  {
   "cell_type": "markdown",
   "metadata": {},
   "source": [
    "**Question 12:** If A = 60 $V$ and B = 200 $V$ as shown in Figure 2-5, determine $\\%m$. (53.85$\\%$)"
   ]
  },
  {
   "cell_type": "code",
   "execution_count": 14,
   "metadata": {},
   "outputs": [
    {
     "data": {
      "text/plain": [
       "53.84615384615385"
      ]
     },
     "execution_count": 14,
     "metadata": {},
     "output_type": "execute_result"
    }
   ],
   "source": [
    "modIndex(am_waveform=200, min_PeakPeak=60, via_B_A= 1,percent= 1)"
   ]
  },
  {
   "cell_type": "markdown",
   "metadata": {},
   "source": [
    "**Question 12:** Determine $E_c$ and $E_i$ from Problem 12. ($E_c$ = 65 $Vpk$, $E_i$ = 35 $Vpk$)\n"
   ]
  },
  {
   "cell_type": "code",
   "execution_count": 15,
   "metadata": {},
   "outputs": [
    {
     "data": {
      "text/plain": [
       "140"
      ]
     },
     "execution_count": 15,
     "metadata": {},
     "output_type": "execute_result"
    }
   ],
   "source": [
    "e_i = 200 - 60\n",
    "e_i"
   ]
  },
  {
   "cell_type": "code",
   "execution_count": 16,
   "metadata": {},
   "outputs": [
    {
     "data": {
      "text/plain": [
       "260"
      ]
     },
     "execution_count": 16,
     "metadata": {},
     "output_type": "execute_result"
    }
   ],
   "source": [
    "e_c = 200 + 60\n",
    "e_c"
   ]
  },
  {
   "cell_type": "markdown",
   "metadata": {},
   "source": [
    "**Verification using my function above**"
   ]
  },
  {
   "cell_type": "code",
   "execution_count": 17,
   "metadata": {},
   "outputs": [
    {
     "data": {
      "text/plain": [
       "53.84615384615385"
      ]
     },
     "execution_count": 17,
     "metadata": {},
     "output_type": "execute_result"
    }
   ],
   "source": [
    "modIndex(intelligence= e_i, carrier= e_c, percent= 1)"
   ]
  }
 ],
 "metadata": {
  "kernelspec": {
   "display_name": "Python 3",
   "language": "python",
   "name": "python3"
  },
  "language_info": {
   "codemirror_mode": {
    "name": "ipython",
    "version": 3
   },
   "file_extension": ".py",
   "mimetype": "text/x-python",
   "name": "python",
   "nbconvert_exporter": "python",
   "pygments_lexer": "ipython3",
   "version": "3.7.0"
  }
 },
 "nbformat": 4,
 "nbformat_minor": 2
}
