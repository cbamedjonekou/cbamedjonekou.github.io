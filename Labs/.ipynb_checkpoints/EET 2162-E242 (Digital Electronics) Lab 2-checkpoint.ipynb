{
 "cells": [
  {
   "cell_type": "markdown",
   "metadata": {
    "collapsed": true
   },
   "source": [
    "<b>Name: Christ-Brian Amedjonekou  \n",
    "Date: 10/15/2018  \n",
    "EET 2162 (Digital Electronics) Lab 2  \n",
    "Fall 2018, Section: E242, Code: 35757  \n",
    "Instructor: Youngsik Song  </b>"
   ]
  },
  {
   "cell_type": "markdown",
   "metadata": {},
   "source": [
    "## Objective\n",
    "\n",
    "\n",
    "* Test and construct the truth table for a two input NAND gate.\n",
    "* Test and construct the truth table for a two input NOR gate.\n",
    "* Implement applications using NAND gates."
   ]
  },
  {
   "cell_type": "markdown",
   "metadata": {},
   "source": [
    "## Brief Theory/Theoretical Background\n",
    "\n",
    "The basic premise the following:\n",
    "\n",
    "* NAND gates are a combination of AND gates coupled with NOT gates (inverters). Thus the NAND gate produces truth values opposite that of an AND gate. Remember, for AND gates you only get a true value (or 1, digitally) when both inputs were turned \"ON\", and false for everything else. The opposite is true for NAND gates as aforementioned. For NAND gates you get a true value (or 1, digitally) when the following occurs: True, False; False, True; False, False (two inputs). When both inputs were turned \"ON\" (True, True) you get a false value for the output.\n",
    "\n",
    "\n",
    "* NOR gates are a combination of OR gates coupled with NOT gates (inverters). Thus the NOR gate produces truth values opposite that of the OR gate. Remember, for OR gates you only get a true value (or 1, digitally) when either of the imputs or both were turned on, and false for everything else. The opposite is true for NOR gates as aforementioned. For NOR gates, you get a \"False\" value (or 0, digitally) when either of the imputs or both are turned \"ON\". You get a \"True\" output when both inputs are turned \"OFF\".\n",
    "\n",
    "\n",
    "* You can build any type of logic circuit using NAND gates.\n"
   ]
  },
  {
   "cell_type": "markdown",
   "metadata": {},
   "source": [
    "## EXPECTED RESULTS from THEORY\n",
    "\n",
    "* I expect that we will be able to replicate/prove the theory higlighted highlighted above as well as build any type of logic circuit using NAND gates."
   ]
  },
  {
   "cell_type": "markdown",
   "metadata": {},
   "source": [
    "## PROCEDURE OF THE EXPERIMENT: equipment used, diagrams and schematics of circuits, and explanations how you perform measurements.\n",
    "\n",
    "\n",
    "#### Equipment\n",
    "\n",
    "* DIGIAC 3000\n",
    "* Experimental Module\n",
    "\n",
    "#### Brief Overview about the Procedure:\n",
    "\n",
    "* Basically we are testing true/false values of the NAND and NOR logic gates (combination gate coupling either the AND or the OR gate with the NOT gate). The first thing we did was verify the NAND gate was logically equivalent to the combination of AND and NOT gates. We repeated the process verifying that the NOR gate was logically equivalent to the combination of OR and NOT gates. Then we built two circuits using only NAND gates.\n",
    "\n",
    "##### Tables and circuits are presented below in the \"EXPERIMENTAL RESULTS\" section.\n",
    "\n",
    "\n",
    "#### Run 1: NAND Gate\n",
    "\n",
    "1. Construct the 2 input NAND gate Circuit as shown in Fig. 2.1 \n",
    "<p></p>\n",
    "2. Using logic sources switches $I0$ and $I2$ as inputs and logic monitor $Q0$ as an output, measure and complete the Table 2.1.\n",
    "<p></p>\n",
    "3. Power Down all logic input switches.\n",
    "\n",
    "#### Run 2: NAND Gate Equivalent\n",
    "\n",
    "1. Construct the 2 input NAND gate Circuit as shown in Fig. 2.2. \n",
    "<p></p>\n",
    "2. Using logic sources switches $I0$ and $I2$ as inputs and logic monitor $Q0$ as an output, measure and complete the Table 2.2.\n",
    "<p></p>\n",
    "3. Power Down all logic input switches.\n",
    "\n",
    "\n",
    "#### Run 3: NOR Gate\n",
    "\n",
    "1. Construct the 2 input NOR gate Circuit as shown in Fig. 2.3. \n",
    "<p></p>\n",
    "2. Using logic sources switches $I0$ and $I2$ as inputs and logic monitor $Q0$ as an output, measure and complete the Table 2.3.\n",
    "<p></p>\n",
    "3. Power Down all logic input switches.\n",
    "\n",
    "\n",
    "\n",
    "#### Run 4: NOR Gate Equivalent\n",
    "\n",
    "1. Construct the 2 input NOR gate Circuit as shown in Fig. 2.4. \n",
    "<p></p>\n",
    "2. Using logic sources switches $I0$ and $I2$ as inputs and logic monitor $Q0$ as an output, measure and complete the Table 2.4.\n",
    "<p></p>\n",
    "3. Power Down all logic input switches.\n",
    "\n",
    "\n",
    "#### Run 5: Pilot Ejection (Pilot to openplane canopy and then eject)\n",
    "\n",
    "1. Use two switches:\n",
    "\n",
    "    * Switch one to represent opening of the canopy. \n",
    "    * Switch two to represent ejecting from the plane. \n",
    "    ***\n",
    "2. Use two lamps:\n",
    "   \n",
    "   * Lamp one to show canopy opened.\n",
    "   * Lamp two to show pilot ejected.  \n",
    "   *** \n",
    "3. Conditions to be met:  \n",
    "\n",
    "    * Whichever switch is toggled first, lamp one must come on\n",
    "\t* Then, when other switch is toggled, lamp two comes on  \n",
    "\n",
    "\n",
    "#### Run 6 Three Voters (NAND Gates Only)\n",
    "\n",
    "***Assume that three of the switches on the DIGIAC represent three voters is an election. If the person votes NO, the switch remains DOWN - if the vote is yes, the switch goes UP***\n",
    "\n",
    "1. Lamp 1 represents a majority of votes is NO\n",
    "2. Lamp 4 represents a majority of votes is YES\n",
    "\n",
    "***Wire the logic circuits so that the proper lamp goes on for all possible combinations of votes***\n"
   ]
  },
  {
   "cell_type": "markdown",
   "metadata": {},
   "source": [
    "## EXPERIMENTAL RESULTS: measured values in tables and graphs"
   ]
  },
  {
   "cell_type": "code",
   "execution_count": 1,
   "metadata": {
    "collapsed": true
   },
   "outputs": [],
   "source": [
    "import pandas as pd\n",
    "\n",
    "data2 = {'Run 1': ['I2', 0, 0, 1, 1], 'NAND Gate with 2 Inputs_0': ['I0', 0, 1, 0, 1],\n",
    "         'NAND Gate with 2 Inputs_1': ['Q0', 1, 1, 1, 0]}\n",
    "\n",
    "data3 = {'Run 2': ['I2', 0, 0, 1, 1], 'NAND Gate with 2 Inputs_0': ['I0', 0, 1, 0, 1],\n",
    "         'NAND Gate with 2 Inputs_1': ['Q0', 1, 1, 1, 0]}\n",
    "\n",
    "\n",
    "data4 = {'Run 3': ['I2', 0, 0, 1, 1], 'NOR Gate with 2 Inputs_0': ['I0', 0, 1, 0, 1],\n",
    "         'NOR Gate with 2 Inputs_1': ['Q0', 1, 0, 0, 0]}\n",
    "\n",
    "data5 = {'Run 4': ['I2', 0, 0, 1, 1], 'NOR Gate with 2 Inputs_0': ['I0', 0, 1, 0, 1],\n",
    "         'NOR Gate with 2 Inputs_1': ['Q0', 1, 0, 0, 0]}\n",
    "\n",
    "df2 = pd.DataFrame.from_dict(data2)\n",
    "df3 = pd.DataFrame.from_dict(data3)\n",
    "df4 = pd.DataFrame.from_dict(data4)\n",
    "df5 = pd.DataFrame.from_dict(data5)"
   ]
  },
  {
   "cell_type": "markdown",
   "metadata": {},
   "source": [
    "### RUN 1"
   ]
  },
  {
   "cell_type": "code",
   "execution_count": 3,
   "metadata": {},
   "outputs": [
    {
     "data": {
      "text/html": [
       "<div>\n",
       "<style scoped>\n",
       "    .dataframe tbody tr th:only-of-type {\n",
       "        vertical-align: middle;\n",
       "    }\n",
       "\n",
       "    .dataframe tbody tr th {\n",
       "        vertical-align: top;\n",
       "    }\n",
       "\n",
       "    .dataframe thead th {\n",
       "        text-align: right;\n",
       "    }\n",
       "</style>\n",
       "<table border=\"1\" class=\"dataframe\">\n",
       "  <thead>\n",
       "    <tr style=\"text-align: right;\">\n",
       "      <th></th>\n",
       "      <th>Run 1</th>\n",
       "      <th>NAND Gate with 2 Inputs_0</th>\n",
       "      <th>NAND Gate with 2 Inputs_1</th>\n",
       "    </tr>\n",
       "  </thead>\n",
       "  <tbody>\n",
       "    <tr>\n",
       "      <th>0</th>\n",
       "      <td>I2</td>\n",
       "      <td>I0</td>\n",
       "      <td>Q0</td>\n",
       "    </tr>\n",
       "    <tr>\n",
       "      <th>1</th>\n",
       "      <td>0</td>\n",
       "      <td>0</td>\n",
       "      <td>1</td>\n",
       "    </tr>\n",
       "    <tr>\n",
       "      <th>2</th>\n",
       "      <td>0</td>\n",
       "      <td>1</td>\n",
       "      <td>1</td>\n",
       "    </tr>\n",
       "    <tr>\n",
       "      <th>3</th>\n",
       "      <td>1</td>\n",
       "      <td>0</td>\n",
       "      <td>1</td>\n",
       "    </tr>\n",
       "    <tr>\n",
       "      <th>4</th>\n",
       "      <td>1</td>\n",
       "      <td>1</td>\n",
       "      <td>0</td>\n",
       "    </tr>\n",
       "  </tbody>\n",
       "</table>\n",
       "</div>"
      ],
      "text/plain": [
       "  Run 1 NAND Gate with 2 Inputs_0 NAND Gate with 2 Inputs_1\n",
       "0    I2                        I0                        Q0\n",
       "1     0                         0                         1\n",
       "2     0                         1                         1\n",
       "3     1                         0                         1\n",
       "4     1                         1                         0"
      ]
     },
     "execution_count": 3,
     "metadata": {},
     "output_type": "execute_result"
    }
   ],
   "source": [
    "df2"
   ]
  },
  {
   "cell_type": "code",
   "execution_count": null,
   "metadata": {},
   "outputs": [],
   "source": []
  },
  {
   "cell_type": "markdown",
   "metadata": {},
   "source": [
    "### RUN 2"
   ]
  },
  {
   "cell_type": "code",
   "execution_count": 4,
   "metadata": {},
   "outputs": [
    {
     "data": {
      "text/html": [
       "<div>\n",
       "<style scoped>\n",
       "    .dataframe tbody tr th:only-of-type {\n",
       "        vertical-align: middle;\n",
       "    }\n",
       "\n",
       "    .dataframe tbody tr th {\n",
       "        vertical-align: top;\n",
       "    }\n",
       "\n",
       "    .dataframe thead th {\n",
       "        text-align: right;\n",
       "    }\n",
       "</style>\n",
       "<table border=\"1\" class=\"dataframe\">\n",
       "  <thead>\n",
       "    <tr style=\"text-align: right;\">\n",
       "      <th></th>\n",
       "      <th>Run 2</th>\n",
       "      <th>NAND Gate with 2 Inputs_0</th>\n",
       "      <th>NAND Gate with 2 Inputs_1</th>\n",
       "    </tr>\n",
       "  </thead>\n",
       "  <tbody>\n",
       "    <tr>\n",
       "      <th>0</th>\n",
       "      <td>I2</td>\n",
       "      <td>I0</td>\n",
       "      <td>Q0</td>\n",
       "    </tr>\n",
       "    <tr>\n",
       "      <th>1</th>\n",
       "      <td>0</td>\n",
       "      <td>0</td>\n",
       "      <td>1</td>\n",
       "    </tr>\n",
       "    <tr>\n",
       "      <th>2</th>\n",
       "      <td>0</td>\n",
       "      <td>1</td>\n",
       "      <td>1</td>\n",
       "    </tr>\n",
       "    <tr>\n",
       "      <th>3</th>\n",
       "      <td>1</td>\n",
       "      <td>0</td>\n",
       "      <td>1</td>\n",
       "    </tr>\n",
       "    <tr>\n",
       "      <th>4</th>\n",
       "      <td>1</td>\n",
       "      <td>1</td>\n",
       "      <td>0</td>\n",
       "    </tr>\n",
       "  </tbody>\n",
       "</table>\n",
       "</div>"
      ],
      "text/plain": [
       "  Run 2 NAND Gate with 2 Inputs_0 NAND Gate with 2 Inputs_1\n",
       "0    I2                        I0                        Q0\n",
       "1     0                         0                         1\n",
       "2     0                         1                         1\n",
       "3     1                         0                         1\n",
       "4     1                         1                         0"
      ]
     },
     "execution_count": 4,
     "metadata": {},
     "output_type": "execute_result"
    }
   ],
   "source": [
    "df3"
   ]
  },
  {
   "cell_type": "code",
   "execution_count": null,
   "metadata": {},
   "outputs": [],
   "source": []
  },
  {
   "cell_type": "markdown",
   "metadata": {},
   "source": [
    "### RUN 3"
   ]
  },
  {
   "cell_type": "code",
   "execution_count": 5,
   "metadata": {},
   "outputs": [
    {
     "data": {
      "text/html": [
       "<div>\n",
       "<style scoped>\n",
       "    .dataframe tbody tr th:only-of-type {\n",
       "        vertical-align: middle;\n",
       "    }\n",
       "\n",
       "    .dataframe tbody tr th {\n",
       "        vertical-align: top;\n",
       "    }\n",
       "\n",
       "    .dataframe thead th {\n",
       "        text-align: right;\n",
       "    }\n",
       "</style>\n",
       "<table border=\"1\" class=\"dataframe\">\n",
       "  <thead>\n",
       "    <tr style=\"text-align: right;\">\n",
       "      <th></th>\n",
       "      <th>Run 3</th>\n",
       "      <th>NOR Gate with 2 Inputs_0</th>\n",
       "      <th>NOR Gate with 2 Inputs_1</th>\n",
       "    </tr>\n",
       "  </thead>\n",
       "  <tbody>\n",
       "    <tr>\n",
       "      <th>0</th>\n",
       "      <td>I2</td>\n",
       "      <td>I0</td>\n",
       "      <td>Q0</td>\n",
       "    </tr>\n",
       "    <tr>\n",
       "      <th>1</th>\n",
       "      <td>0</td>\n",
       "      <td>0</td>\n",
       "      <td>1</td>\n",
       "    </tr>\n",
       "    <tr>\n",
       "      <th>2</th>\n",
       "      <td>0</td>\n",
       "      <td>1</td>\n",
       "      <td>0</td>\n",
       "    </tr>\n",
       "    <tr>\n",
       "      <th>3</th>\n",
       "      <td>1</td>\n",
       "      <td>0</td>\n",
       "      <td>0</td>\n",
       "    </tr>\n",
       "    <tr>\n",
       "      <th>4</th>\n",
       "      <td>1</td>\n",
       "      <td>1</td>\n",
       "      <td>0</td>\n",
       "    </tr>\n",
       "  </tbody>\n",
       "</table>\n",
       "</div>"
      ],
      "text/plain": [
       "  Run 3 NOR Gate with 2 Inputs_0 NOR Gate with 2 Inputs_1\n",
       "0    I2                       I0                       Q0\n",
       "1     0                        0                        1\n",
       "2     0                        1                        0\n",
       "3     1                        0                        0\n",
       "4     1                        1                        0"
      ]
     },
     "execution_count": 5,
     "metadata": {},
     "output_type": "execute_result"
    }
   ],
   "source": [
    "df4"
   ]
  },
  {
   "cell_type": "code",
   "execution_count": null,
   "metadata": {},
   "outputs": [],
   "source": []
  },
  {
   "cell_type": "markdown",
   "metadata": {},
   "source": [
    "### RUN 4"
   ]
  },
  {
   "cell_type": "code",
   "execution_count": 6,
   "metadata": {},
   "outputs": [
    {
     "data": {
      "text/html": [
       "<div>\n",
       "<style scoped>\n",
       "    .dataframe tbody tr th:only-of-type {\n",
       "        vertical-align: middle;\n",
       "    }\n",
       "\n",
       "    .dataframe tbody tr th {\n",
       "        vertical-align: top;\n",
       "    }\n",
       "\n",
       "    .dataframe thead th {\n",
       "        text-align: right;\n",
       "    }\n",
       "</style>\n",
       "<table border=\"1\" class=\"dataframe\">\n",
       "  <thead>\n",
       "    <tr style=\"text-align: right;\">\n",
       "      <th></th>\n",
       "      <th>Run 4</th>\n",
       "      <th>NOR Gate with 2 Inputs_0</th>\n",
       "      <th>NOR Gate with 2 Inputs_1</th>\n",
       "    </tr>\n",
       "  </thead>\n",
       "  <tbody>\n",
       "    <tr>\n",
       "      <th>0</th>\n",
       "      <td>I2</td>\n",
       "      <td>I0</td>\n",
       "      <td>Q0</td>\n",
       "    </tr>\n",
       "    <tr>\n",
       "      <th>1</th>\n",
       "      <td>0</td>\n",
       "      <td>0</td>\n",
       "      <td>1</td>\n",
       "    </tr>\n",
       "    <tr>\n",
       "      <th>2</th>\n",
       "      <td>0</td>\n",
       "      <td>1</td>\n",
       "      <td>0</td>\n",
       "    </tr>\n",
       "    <tr>\n",
       "      <th>3</th>\n",
       "      <td>1</td>\n",
       "      <td>0</td>\n",
       "      <td>0</td>\n",
       "    </tr>\n",
       "    <tr>\n",
       "      <th>4</th>\n",
       "      <td>1</td>\n",
       "      <td>1</td>\n",
       "      <td>0</td>\n",
       "    </tr>\n",
       "  </tbody>\n",
       "</table>\n",
       "</div>"
      ],
      "text/plain": [
       "  Run 4 NOR Gate with 2 Inputs_0 NOR Gate with 2 Inputs_1\n",
       "0    I2                       I0                       Q0\n",
       "1     0                        0                        1\n",
       "2     0                        1                        0\n",
       "3     1                        0                        0\n",
       "4     1                        1                        0"
      ]
     },
     "execution_count": 6,
     "metadata": {},
     "output_type": "execute_result"
    }
   ],
   "source": [
    "df5"
   ]
  },
  {
   "cell_type": "code",
   "execution_count": null,
   "metadata": {},
   "outputs": [],
   "source": []
  },
  {
   "cell_type": "markdown",
   "metadata": {},
   "source": [
    "### Run 5"
   ]
  },
  {
   "cell_type": "code",
   "execution_count": null,
   "metadata": {
    "collapsed": true
   },
   "outputs": [],
   "source": []
  },
  {
   "cell_type": "markdown",
   "metadata": {},
   "source": [
    "### Run 6"
   ]
  },
  {
   "cell_type": "code",
   "execution_count": null,
   "metadata": {
    "collapsed": true
   },
   "outputs": [],
   "source": []
  },
  {
   "cell_type": "markdown",
   "metadata": {},
   "source": [
    "## QUESTIONS LISTED IN THE LAB MANUAL\n",
    "\n",
    "**1. Summarize the results of Run 1 and 2 with a statement which describes the operations of a NAND gate.**  \n",
    "\n",
    "* **NAND gates** are a combination of AND gates coupled with NOT gates (inverters). Thus the NAND gate produces truth values opposite that of an AND gate. Remember, for AND gates you only get a true value (or 1, digitally) when both inputs were turned \"ON\", and false for everything else. The opposite is true for NAND gates as aforementioned. For NAND gates you get a true value (or 1, digitally) when the following occurs: True, False; False, True; False, False (two inputs). When both inputs were turned \"ON\" (True, True) you get a false value for the output.\n",
    "\n",
    "**2. Summarize the results of Run 3 and 4 with a statement which describes the operations of an NOR gate**\n",
    "\n",
    "* **NOR gates** are a combination of OR gates coupled with NOT gates (inverters). Thus the NOR gate produces truth values opposite that of the OR gate. Remember, for OR gates you only get a true value (or 1, digitally) when either of the imputs or both were turned on, and false for everything else. The opposite is true for NOR gates as aforementioned. For NOR gates, you get a \"False\" value (or 0, digitally) when either of the imputs or both are turned \"ON\". You get a \"True\" output when both inputs are turned \"OFF\".\n",
    "\n",
    "**3. Construct the truth table and results of Run 5**\n",
    "\n",
    "* Seen in the Experiment Results section above\n",
    "\n",
    "**4. Construct the truth table and results of Run 6**\n",
    "\n",
    "* Seen in the Experiment Results section above\n",
    "\n",
    "**5. Include diagrams and simulations of Multisim from all above Runs**\n",
    "\n",
    "* Seen in the Experiment Results section above"
   ]
  },
  {
   "cell_type": "markdown",
   "metadata": {},
   "source": [
    "## DISCUSSION/ANALYSIS: \n",
    " "
   ]
  },
  {
   "cell_type": "markdown",
   "metadata": {},
   "source": [
    "## CONCLUSION: \n",
    "\n",
    "* We were successful with conducting our experiment. We were able to confirm the theory about the logic gates, the TTL levels for digital output signals. \n"
   ]
  }
 ],
 "metadata": {
  "kernelspec": {
   "display_name": "Python 3",
   "language": "python",
   "name": "python3"
  },
  "language_info": {
   "codemirror_mode": {
    "name": "ipython",
    "version": 3
   },
   "file_extension": ".py",
   "mimetype": "text/x-python",
   "name": "python",
   "nbconvert_exporter": "python",
   "pygments_lexer": "ipython3",
   "version": "3.7.0"
  }
 },
 "nbformat": 4,
 "nbformat_minor": 2
}
