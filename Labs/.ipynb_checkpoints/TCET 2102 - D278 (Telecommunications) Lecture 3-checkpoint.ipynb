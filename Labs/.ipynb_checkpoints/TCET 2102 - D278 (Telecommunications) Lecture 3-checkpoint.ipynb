{
 "cells": [
  {
   "cell_type": "markdown",
   "metadata": {},
   "source": [
    "* Filters\n",
    "\n",
    "    * Passive Filters - contains only passive elements (e.g: resistors, capacitors, inductors)\n",
    "\n",
    "        * Low Pass Filters\n",
    "        * High Pass Filters\n",
    "        * Passive Band Filters\n",
    "        * Stop Band Filters\n",
    "\n",
    "    * Active Filters - contain active elements (i.e.: diodes, Transistors, O.A) in addition to passive elements "
   ]
  },
  {
   "cell_type": "code",
   "execution_count": null,
   "metadata": {
    "collapsed": true
   },
   "outputs": [],
   "source": []
  }
 ],
 "metadata": {
  "kernelspec": {
   "display_name": "Python 3",
   "language": "python",
   "name": "python3"
  },
  "language_info": {
   "codemirror_mode": {
    "name": "ipython",
    "version": 3
   },
   "file_extension": ".py",
   "mimetype": "text/x-python",
   "name": "python",
   "nbconvert_exporter": "python",
   "pygments_lexer": "ipython3",
   "version": "3.7.0"
  }
 },
 "nbformat": 4,
 "nbformat_minor": 2
}
