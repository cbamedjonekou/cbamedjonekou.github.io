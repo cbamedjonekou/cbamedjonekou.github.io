{
 "cells": [
  {
   "cell_type": "markdown",
   "metadata": {
    "collapsed": true
   },
   "source": [
    "<b>Name: Christ-Brian Amedjonekou  \n",
    "Date: 09/17/2018  \n",
    "EET 2162 (Digital Electronics) Homework 1   \n",
    "Fall 2018, Section: E242, Code: 35757  \n",
    "Instructor: Youngsik Song  </b>"
   ]
  },
  {
   "cell_type": "markdown",
   "metadata": {},
   "source": [
    "### Question 1.1\n",
    "\n",
    "* Which is analog and which is digital?\n",
    "\n",
    "    * <b>Digital</b>: (a) Number of atoms in a sample material, (e) Timer setting on a microwave over\n",
    "    \n",
    "    * <b>Analog</b>: (b) Altitude of an Aircraft, (c) Pressure in a bike tire, (d) Current through a speaker\n",
    "    \n",
    "    \n",
    "### Question 1.3\n",
    "\n",
    "* Convert from Binary to Decimal\n",
    "\n",
    "    * $11001_{2} = 1 * 2^4 + 1 * 2^3 + 0 * 2^2 + 0 * 2^1 + 1 * 2^0 = 25$ \n",
    "    <p></p>\n",
    "    * $1001.1001_{2}$:  \n",
    "    \n",
    "    $$1 * 2^3 + 0 * 2^2 + 0 * 2^1 + 1 * 2^0 = 9$$    \n",
    "    $$1 * 2^-1 + 0 * 2^-2 + 0 * 2^-3 + 1 * 2^-4 = .5625$$  \n",
    "    $$9 + 0.5625 = 9.5625$$  \n",
    "    \n",
    "    * $10011011001.10110_{2} = 1241.6875$\n",
    "    \n",
    "### Question 1.5\n",
    "\n",
    "* Binary sequence from 000 to 111"
   ]
  },
  {
   "cell_type": "code",
   "execution_count": 11,
   "metadata": {},
   "outputs": [
    {
     "data": {
      "text/html": [
       "<div>\n",
       "<style scoped>\n",
       "    .dataframe tbody tr th:only-of-type {\n",
       "        vertical-align: middle;\n",
       "    }\n",
       "\n",
       "    .dataframe tbody tr th {\n",
       "        vertical-align: top;\n",
       "    }\n",
       "\n",
       "    .dataframe thead th {\n",
       "        text-align: right;\n",
       "    }\n",
       "</style>\n",
       "<table border=\"1\" class=\"dataframe\">\n",
       "  <thead>\n",
       "    <tr style=\"text-align: right;\">\n",
       "      <th></th>\n",
       "      <th>Base 10</th>\n",
       "      <th>Base 2</th>\n",
       "    </tr>\n",
       "  </thead>\n",
       "  <tbody>\n",
       "    <tr>\n",
       "      <th>0</th>\n",
       "      <td>0</td>\n",
       "      <td>000</td>\n",
       "    </tr>\n",
       "    <tr>\n",
       "      <th>1</th>\n",
       "      <td>1</td>\n",
       "      <td>001</td>\n",
       "    </tr>\n",
       "    <tr>\n",
       "      <th>2</th>\n",
       "      <td>2</td>\n",
       "      <td>010</td>\n",
       "    </tr>\n",
       "    <tr>\n",
       "      <th>3</th>\n",
       "      <td>3</td>\n",
       "      <td>011</td>\n",
       "    </tr>\n",
       "    <tr>\n",
       "      <th>4</th>\n",
       "      <td>4</td>\n",
       "      <td>100</td>\n",
       "    </tr>\n",
       "    <tr>\n",
       "      <th>5</th>\n",
       "      <td>5</td>\n",
       "      <td>101</td>\n",
       "    </tr>\n",
       "    <tr>\n",
       "      <th>6</th>\n",
       "      <td>6</td>\n",
       "      <td>110</td>\n",
       "    </tr>\n",
       "    <tr>\n",
       "      <th>7</th>\n",
       "      <td>7</td>\n",
       "      <td>111</td>\n",
       "    </tr>\n",
       "  </tbody>\n",
       "</table>\n",
       "</div>"
      ],
      "text/plain": [
       "   Base 10 Base 2\n",
       "0        0    000\n",
       "1        1    001\n",
       "2        2    010\n",
       "3        3    011\n",
       "4        4    100\n",
       "5        5    101\n",
       "6        6    110\n",
       "7        7    111"
      ]
     },
     "execution_count": 11,
     "metadata": {},
     "output_type": "execute_result"
    }
   ],
   "source": [
    "import pandas as pd\n",
    "data = {'Base 10': [x for x in range(0,8)], \n",
    "        'Base 2': ['000', '001', '010', '011', '100', '101', '110', '111']}\n",
    "df = pd.DataFrame.from_dict(data)\n",
    "df"
   ]
  },
  {
   "cell_type": "markdown",
   "metadata": {},
   "source": [
    "### Question 1.9"
   ]
  },
  {
   "cell_type": "markdown",
   "metadata": {},
   "source": [
    "* Max number of bit needed for 511\n",
    "\n",
    "    * $511_{10} = 111111111_{2}$\n",
    "    * $9 \\text{ bits}$"
   ]
  },
  {
   "cell_type": "markdown",
   "metadata": {},
   "source": [
    "### Question 2.1\n",
    "\n",
    "* Convert from Binary to Decimal\n",
    "\n",
    "$$10110_{2} = 1 * 2^4 + 0 + 1 * 2^2 + 1 * 2^1 + 0 = 22$$  \n",
    "$$11111111_{2} = 1 * 2^7 + 1 * 2^6 + 1 * 2^5 + 1 * 2^4 + 1 * 2^3 + 1 * 2^2 + 1 * 2^1 + 1 * 2^0 = 255$$  \n",
    "$$100100001001_{2} = 1 * 2^11 + 0 + 0 + 1 * 2^8 + 0 + 0 + 0 + 0 + 1 * 2^3 + 0 + 0 + 1 * 2^0 = 2313$$  \n",
    "$$1111010111_{2} = 1 * 2^9 + 1 * 2^8 + 1 * 2^7 + 1 * 2^6 + 0 + 1 * 2^4 + 0 + 1 * 2^2 + 1 * 2^1 + 1 * 2^0 = 983$$"
   ]
  },
  {
   "cell_type": "markdown",
   "metadata": {},
   "source": [
    "### Question 2.2\n",
    "\n",
    "* Convert Decimal to Binary\n",
    "\n",
    "$$37_{10} \\rightarrow 37 \\text{ mod } 2 = 1; 18 \\text{ mod } 2 = 0; 9 \\text{ mod } 2 = 1; 4 \\text{ mod } 2 = 0; 2 \\text{ mod } 2 = 0; 1 \\text{ mod } 2 = 1 \\rightarrow 100101_{2}$$  \n",
    "$$77_{10} \\rightarrow 77 \\text{ mod } 2 = 1; 38 \\text{ mod } 2 = 0; 19 \\text{ mod } 2 = 1; 9 \\text{ mod } 2 = 1; 4 \\text{ mod } 2 = 0; 2 \\text{ mod } 2 = 0; 1 \\text{ mod } 2 = 1 \\rightarrow 1001101_{2}$$  \n",
    "$$205_{10} \\rightarrow 205 \\text{ mod } 2 = 1; 102 \\text{ mod } 2 = 0; 51 \\text{ mod } 2 = 1; 25 \\text{ mod } 2 = 1; 12 \\text{ mod } 2 = 0; 6 \\text{ mod } 2 = 0; 3 \\text{ mod } 2 = 1; 1 \\text{ mod } 2 = 1 \\rightarrow 11001101_{2}$$  \n",
    "$$511_{10} \\rightarrow 511 \\text{ mod } 2 = 1; 255 \\text{ mod } 2 = 1; 127 \\text{ mod } 2 = 1; 63 \\text{ mod } 2 = 1; 31 \\text{ mod } 2 = 1; 15 \\text{ mod } 2 = 1; 7 \\text{ mod } 2 = 1; 3 \\text{ mod } 2 = 1; 1 \\text{ mod } 2 = 1 \\rightarrow 11111111_{2}$$\n"
   ]
  },
  {
   "cell_type": "markdown",
   "metadata": {},
   "source": [
    "### Question 2.5\n",
    "\n",
    "* Convert to hex\n",
    "\n",
    "$$59_{10} \\rightarrow 00111011_{2} \\rightarrow 0011_{2} = 3; 1011_{2} = B \\rightarrow 3B_{16}$$  \n",
    "\n",
    "$$771_{10} \\rightarrow 001100000011_{2} \\rightarrow 0011_{2} = 3; 0000_{2} = 0; 0011_{2} = 3 \\rightarrow 303_{16}$$  \n",
    "\n",
    "$$919_{10} \\rightarrow 001110010111_{2} \\rightarrow 0011_{2} = 3; 1001_{2} = 9; 0111_{2} = 7 \\rightarrow 397_{16}$$  \n",
    "\n",
    "$$65536_{10} \\rightarrow 10000000000000000_{2} \\rightarrow 0001_{2} = 1; 0000_{2} = 0; 0000_{2} = 0; 0000_{2} = 0; 0000_{2} = 0 \\rightarrow 10000_{16}$$  "
   ]
  },
  {
   "cell_type": "markdown",
   "metadata": {},
   "source": [
    "### Question 2.11\n",
    "\n",
    "* Convert Hex to Decimal\n",
    "\n",
    "$$92_{16} \\rightarrow 10010010_{2} \\rightarrow 146_{10}$$  \n",
    "$$37FD_{16} \\rightarrow 0011011111111101_{2} \\rightarrow 14333_{10}$$  \n",
    "$$000F_{16} \\rightarrow 0000000000001111_{2} \\rightarrow 15_{10}$$  \n",
    "$$2C0_{16} \\rightarrow 001011000000_{2} \\rightarrow 704_{10}$$  "
   ]
  },
  {
   "cell_type": "markdown",
   "metadata": {},
   "source": [
    "### Question 2.19\n",
    "\n",
    "* Encode to BCD\n",
    "\n",
    "$$1001011101010010_{2} = 9752_{BCD}$$  \n",
    "$$011010010101_{2} = 695_{BCD}$$  \n",
    "$$010010010010_{2} = 492_{BCD}$$  "
   ]
  },
  {
   "cell_type": "markdown",
   "metadata": {},
   "source": [
    "### Question 2.27\n",
    "\n",
    "$$74_{10} = 101110100_{2}$$  \n",
    "$$8884_{10} = 11000100010000100_{2}$$  \n",
    "$$165_{10} = 1000101100101_{2}$$  "
   ]
  }
 ],
 "metadata": {
  "kernelspec": {
   "display_name": "Python 3",
   "language": "python",
   "name": "python3"
  },
  "language_info": {
   "codemirror_mode": {
    "name": "ipython",
    "version": 3
   },
   "file_extension": ".py",
   "mimetype": "text/x-python",
   "name": "python",
   "nbconvert_exporter": "python",
   "pygments_lexer": "ipython3",
   "version": "3.7.0"
  }
 },
 "nbformat": 4,
 "nbformat_minor": 2
}
