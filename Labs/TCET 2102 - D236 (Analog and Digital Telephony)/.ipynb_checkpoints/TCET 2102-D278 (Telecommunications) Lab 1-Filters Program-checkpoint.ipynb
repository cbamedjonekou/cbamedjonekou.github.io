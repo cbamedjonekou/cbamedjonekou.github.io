{
 "cells": [
  {
   "cell_type": "markdown",
   "metadata": {},
   "source": [
    "**Name: Christ-Brian Amedjonekou**  \n",
    "**Date: 11/05/2018**  \n",
    "**TCET 2102-D278 (Telecommunications) Lab 1**  \n",
    "**Fall 2018, Section: D278, Code: 37580**  \n",
    "**Instructor: Layth Qaseer**"
   ]
  },
  {
   "cell_type": "markdown",
   "metadata": {
    "collapsed": true
   },
   "source": [
    "### Objectives\n",
    "\n",
    "1. **Learn how to read, use, compare instruments that are dB/dBm-calibrated.**\n",
    "2. **Relate dB measurements to Voltage measurements.**\n",
    "3. **Determine the cuttoff frequencies of the RC low pass filter using the difference in dB measurements.**\n",
    "4. **Evaluate the effects of instrument loading on frequency response.**\n",
    "5. **Use Thevenin's theorem to calculate a circuit's loaded response.**\n",
    "6. **Use Audio Test Set, its functions, ranges and limitations; connections, switches, dials, and indicator.**\n",
    "7. **Use VOM to read dB values, and how the changing ranges affect the dB scale and input impedance.**"
   ]
  },
  {
   "cell_type": "markdown",
   "metadata": {},
   "source": [
    "### Equipment\n",
    "\n",
    "* **Audio Test Set**\n",
    "* **Analog Volt Ohm Meter**\n",
    "* **Oscilloscope**\n",
    "* **Digital Multimeter**\n",
    "* **10 k$\\Omega \\space \\frac{1}{4}$-watt Resistor**\n",
    "* **0.01 $\\mu$F Capacitor**\n"
   ]
  },
  {
   "cell_type": "markdown",
   "metadata": {},
   "source": [
    "### Theory\n",
    "\n",
    "**Filters: Any combination of passive (R, L, and C) and/or active (transistors or operational amplifiers) elements designed to select or reject a band of frequencies is called a filter.**\n",
    "\n",
    "*  In communication systems, filters are employed to pass those frequencies containing the desired information and to reject the remaining frequencies.\n",
    "\n",
    "**Filters are employed to filter out any unwanted frequencies, commonly called noise, due to the nonlinear characteristics of some elec- tronic devices or signals picked up from the surrounding medium. In general, there are two classifications of filters:**\n",
    "\n",
    "* Passive Filters - contains only passive elements (e.g: resistors, capacitors, inductors) **\"Passive filters are those filters composed of series or parallel combinations of R, L, and C elements.\"**\n",
    "\n",
    "    * Low Pass Filters\n",
    "\n",
    "### Low Pass\n",
    "\n",
    "$$A_V = \\frac{V_O}{V_I}=  \\frac{1}{\\sqrt{\\left(\\frac{f}{f_C}\\right)^2 + 1}} \\angle{- \\tan^{-1}\\frac{f}{f_C}}$$ \n",
    "\n",
    "$$\\textbf{Note that } f_C = \\frac{1}{2\\pi RC}$$"
   ]
  },
  {
   "cell_type": "code",
   "execution_count": 10,
   "metadata": {},
   "outputs": [],
   "source": [
    "import math as m\n",
    "def lowpassfilter_voltagegain(f_c, f, phase_degree= True):\n",
    "    \"\"\"Calculates the voltage gain given the frequency and cuttoff frequency \n",
    "    of the low pass filter. Returns a list featuring the magnitude and phase angle.\n",
    "    The preset variable \"phase_degree\" is set to true to give an answer in degrees \n",
    "    for the phase angle.\"\"\"\n",
    "    magnitude = 1/m.sqrt(m.pow(f/f_c, 2) + 1)\n",
    "    phase_angle = 0 - m.atan(f/f_c)\n",
    "    if phase_degree == False:\n",
    "        return [magnitude, phase_angle]\n",
    "    else:\n",
    "        return [magnitude, m.degrees(phase_angle)]"
   ]
  },
  {
   "cell_type": "code",
   "execution_count": 11,
   "metadata": {},
   "outputs": [],
   "source": [
    "f = 101001\n",
    "f_c = 100000\n",
    "cuttoff1 = lowpassfilter_voltagegain(f_c, f = f_c)[0]\n",
    "given_gain1 = lowpassfilter_voltagegain(f_c, f)[0]"
   ]
  },
  {
   "cell_type": "code",
   "execution_count": 12,
   "metadata": {},
   "outputs": [
    {
     "data": {
      "text/plain": [
       "[<matplotlib.lines.Line2D at 0x12080a080>]"
      ]
     },
     "execution_count": 12,
     "metadata": {},
     "output_type": "execute_result"
    },
    {
     "data": {
      "image/png": "[encoded data removed]",
      "text/plain": [
       "<Figure size 432x288 with 1 Axes>"
      ]
     },
     "metadata": {},
     "output_type": "display_data"
    }
   ],
   "source": [
    "from matplotlib import pyplot as plt\n",
    "import numpy as np\n",
    "\n",
    "list1 = [x for x in range(0, 500000)]\n",
    "list2 = [lowpassfilter_voltagegain(100000, x)[0] for x in range(0, 500000)]\n",
    "frequency = np.array(list1)\n",
    "gain = np.array(list2)\n",
    "plt.plot(frequency, gain)"
   ]
  },
  {
   "cell_type": "code",
   "execution_count": 13,
   "metadata": {},
   "outputs": [
    {
     "data": {
      "text/plain": [
       "array([     0,      1,      2, ..., 499997, 499998, 499999])"
      ]
     },
     "execution_count": 13,
     "metadata": {},
     "output_type": "execute_result"
    }
   ],
   "source": [
    "frequency"
   ]
  },
  {
   "cell_type": "code",
   "execution_count": 14,
   "metadata": {},
   "outputs": [
    {
     "data": {
      "text/plain": [
       "array([1.        , 1.        , 1.        , ..., 0.19611727, 0.19611689,\n",
       "       0.19611651])"
      ]
     },
     "execution_count": 14,
     "metadata": {},
     "output_type": "execute_result"
    }
   ],
   "source": [
    "gain"
   ]
  },
  {
   "cell_type": "markdown",
   "metadata": {},
   "source": [
    "#### Butterworth Low Pass Filter\n",
    "\n",
    "$$A_V = \\frac{V_O}{V_I}=  \\frac{1}{\\sqrt{\\left(\\frac{f}{f_C}\\right)^{2n} + 1}} \\angle{- \\tan^{-1}\\frac{f}{f_C}}$$ \n",
    "\n",
    "$$A_V = \\Big|\\frac{V_O}{V_I} \\Big|^2=  \\frac{1}{\\left(\\frac{f}{f_C}\\right)^{2n} + 1} \\angle{- \\tan^{-1}\\frac{f}{f_C}}$$ \n",
    "\n",
    "$$|H(j\\omega)|=  \\frac{1}{\\left(\\frac{\\omega}{\\omega_C}\\right)^{2n} + 1}$$ \n",
    "\n",
    "$$\\textbf{Note that } f_C = \\frac{1}{2\\pi RC}$$  \n",
    "$$n = \\textbf{ number of elements in the filter}$$  \n",
    "$$|H(j\\omega)| = \\textbf{Transfer Function}$$"
   ]
  },
  {
   "cell_type": "code",
   "execution_count": 15,
   "metadata": {},
   "outputs": [],
   "source": [
    "def butterworth_lowpassfilter_voltagegain(f_c, f, n, phase_degree= True):\n",
    "    \"\"\"Calculates the voltage gain given the frequency and cuttoff frequency \n",
    "    of the low pass filter. Returns a list featuring the magnitude and phase angle.\n",
    "    The preset variable \"phase_degree\" is set to true to give an answer in degrees \n",
    "    for the phase angle.\"\"\"\n",
    "    \n",
    "    # n is the number of elements in the filter\n",
    "    magnitude = 1/m.sqrt(m.pow(f/f_c, 2*n) + 1)\n",
    "    phase_angle = 0 - m.atan(f/f_c)\n",
    "    if phase_degree == False:\n",
    "        return [magnitude, phase_angle]\n",
    "    else:\n",
    "        return [magnitude, m.degrees(phase_angle)]"
   ]
  },
  {
   "cell_type": "code",
   "execution_count": 16,
   "metadata": {},
   "outputs": [
    {
     "data": {
      "text/plain": [
       "[<matplotlib.lines.Line2D at 0x1260a5860>]"
      ]
     },
     "execution_count": 16,
     "metadata": {},
     "output_type": "execute_result"
    },
    {
     "data": {
      "image/png": "[encoded data removed]",
      "text/plain": [
       "<Figure size 432x288 with 1 Axes>"
      ]
     },
     "metadata": {},
     "output_type": "display_data"
    }
   ],
   "source": [
    "list3 = [x for x in range(0, 50)]\n",
    "list4 = [butterworth_lowpassfilter_voltagegain(10, x, 5)[0] for x in range(0, 50)]\n",
    "frequency1 = np.array(list3)\n",
    "gain1 = np.array(list4)\n",
    "plt.plot(frequency1, gain1)"
   ]
  },
  {
   "cell_type": "code",
   "execution_count": 17,
   "metadata": {},
   "outputs": [
    {
     "data": {
      "text/plain": [
       "array([ 0,  1,  2,  3,  4,  5,  6,  7,  8,  9, 10, 11, 12, 13, 14, 15, 16,\n",
       "       17, 18, 19, 20, 21, 22, 23, 24, 25, 26, 27, 28, 29, 30, 31, 32, 33,\n",
       "       34, 35, 36, 37, 38, 39, 40, 41, 42, 43, 44, 45, 46, 47, 48, 49])"
      ]
     },
     "execution_count": 17,
     "metadata": {},
     "output_type": "execute_result"
    }
   ],
   "source": [
    "frequency1"
   ]
  },
  {
   "cell_type": "code",
   "execution_count": 18,
   "metadata": {},
   "outputs": [
    {
     "data": {
      "text/plain": [
       "array([1.00000000e+00, 1.00000000e+00, 9.99999949e-01, 9.99997048e-01,\n",
       "       9.99947575e-01, 9.99512076e-01, 9.96990333e-01, 9.86168585e-01,\n",
       "       9.50282656e-01, 8.61084541e-01, 7.07106781e-01, 5.27504932e-01,\n",
       "       3.72892045e-01, 2.60061980e-01, 1.82801411e-01, 1.30560053e-01,\n",
       "       9.49366868e-02, 7.02555978e-02, 5.28481938e-02, 4.03532119e-02,\n",
       "       3.12347524e-02, 2.44778563e-02, 1.94001395e-02, 1.55348981e-02,\n",
       "       1.25576839e-02, 1.02394632e-02, 8.41623548e-03, 6.96900270e-03,\n",
       "       5.81035292e-03, 4.87533934e-03, 4.11519149e-03, 3.49292195e-03,\n",
       "       2.98021900e-03, 2.55522344e-03, 2.20092054e-03, 1.90396513e-03,\n",
       "       1.65381491e-03, 1.44208523e-03, 1.26206485e-03, 1.10834942e-03,\n",
       "       9.76562034e-04, 8.63138631e-04, 7.65162048e-04, 6.80232882e-04,\n",
       "       6.06368368e-04, 5.41922730e-04, 4.85524098e-04, 4.36024275e-04,\n",
       "       3.92458536e-04, 3.54013295e-04])"
      ]
     },
     "execution_count": 18,
     "metadata": {},
     "output_type": "execute_result"
    }
   ],
   "source": [
    "gain1"
   ]
  },
  {
   "cell_type": "markdown",
   "metadata": {},
   "source": [
    "### High Pass"
   ]
  },
  {
   "cell_type": "code",
   "execution_count": 20,
   "metadata": {},
   "outputs": [],
   "source": [
    "def highpassfilter_voltagegain(f_c, f, phase_degree= True):\n",
    "    \"\"\"Calculates the voltage gain given the frequency and cuttoff frequency \n",
    "    of the high pass filter. Returns a list featuring the magnitude and phase angle.\n",
    "    The preset variable \"phase_degree\" is set to true to give an answer in degrees \n",
    "    for the phase angle.\"\"\"\n",
    "    magnitude = 1/m.sqrt(m.pow(f_c/f, 2) + 1)\n",
    "    phase_angle = 0 - m.atan(f_c/f)\n",
    "    if phase_degree == False:\n",
    "        return [magnitude, phase_angle]\n",
    "    else:\n",
    "        return [magnitude, m.degrees(phase_angle)]"
   ]
  },
  {
   "cell_type": "code",
   "execution_count": 21,
   "metadata": {},
   "outputs": [],
   "source": [
    "cuttoff2 = highpassfilter_voltagegain(f_c, f = f_c)[0]\n",
    "given_gain2 = highpassfilter_voltagegain(f_c, f)[0]"
   ]
  },
  {
   "cell_type": "code",
   "execution_count": 23,
   "metadata": {},
   "outputs": [
    {
     "data": {
      "text/plain": [
       "[<matplotlib.lines.Line2D at 0x12a3e34e0>]"
      ]
     },
     "execution_count": 23,
     "metadata": {},
     "output_type": "execute_result"
    },
    {
     "data": {
      "image/png": "[encoded data removed]",
      "text/plain": [
       "<Figure size 432x288 with 1 Axes>"
      ]
     },
     "metadata": {},
     "output_type": "display_data"
    }
   ],
   "source": [
    "list3 = [x for x in range(1, 500000)]\n",
    "list4 = [highpassfilter_voltagegain(100000, x)[0] for x in range(1, 500000)]\n",
    "frequency2 = np.array(list3)\n",
    "gain2 = np.array(list4)\n",
    "plt.plot(frequency2, gain2)"
   ]
  },
  {
   "cell_type": "code",
   "execution_count": 24,
   "metadata": {},
   "outputs": [
    {
     "data": {
      "text/plain": [
       "array([     1,      2,      3, ..., 499997, 499998, 499999])"
      ]
     },
     "execution_count": 24,
     "metadata": {},
     "output_type": "execute_result"
    }
   ],
   "source": [
    "frequency2"
   ]
  },
  {
   "cell_type": "code",
   "execution_count": 25,
   "metadata": {},
   "outputs": [
    {
     "data": {
      "text/plain": [
       "array([1.00000000e-05, 2.00000000e-05, 3.00000000e-05, ...,\n",
       "       9.80580449e-01, 9.80580525e-01, 9.80580600e-01])"
      ]
     },
     "execution_count": 25,
     "metadata": {},
     "output_type": "execute_result"
    }
   ],
   "source": [
    "gain2"
   ]
  },
  {
   "cell_type": "code",
   "execution_count": 7,
   "metadata": {},
   "outputs": [
    {
     "data": {
      "text/plain": [
       "{'cuttoff1': 0.7071067811865475,\n",
       " 'cuttoff2': 0.7071067811865475,\n",
       " 'given_gain1': 0.7035766118785446,\n",
       " 'given_gain2': 0.7106194137634488}"
      ]
     },
     "execution_count": 7,
     "metadata": {},
     "output_type": "execute_result"
    }
   ],
   "source": [
    "{'cuttoff1': cuttoff1, 'cuttoff2': cuttoff2, \n",
    " 'given_gain1': given_gain1, 'given_gain2': given_gain2}"
   ]
  },
  {
   "cell_type": "markdown",
   "metadata": {},
   "source": [
    "### Determines whether given frequency gets block"
   ]
  },
  {
   "cell_type": "code",
   "execution_count": null,
   "metadata": {},
   "outputs": [],
   "source": [
    "def frequency_blocked(gain, gain_c):\n",
    "    \"\"\"Determines whether input frequencies are blocked. This is based on the gains\n",
    "    related to an arbitrary frequency (gain), and the cuffoff frequency (gain_c). \n",
    "    Returns an \"allowed to pass\" or \"is blocked\" message based on the type of filter.\"\"\"\n",
    "    if gain > gain_c:\n",
    "        return 'Frequency is allowed to Pass'\n",
    "    else:\n",
    "        return 'Frequency is Blocked'"
   ]
  },
  {
   "cell_type": "code",
   "execution_count": 9,
   "metadata": {},
   "outputs": [
    {
     "data": {
      "text/plain": [
       "{'LP': 'Frequency is Blocked', 'HP': 'Frequency is allowed to Pass'}"
      ]
     },
     "execution_count": 9,
     "metadata": {},
     "output_type": "execute_result"
    }
   ],
   "source": [
    "{'LP':frequency_blocked(given_gain1, cuttoff1), \n",
    " 'HP':frequency_blocked(given_gain2, cuttoff2)}"
   ]
  },
  {
   "cell_type": "markdown",
   "metadata": {},
   "source": [
    "### Band Pass Filter"
   ]
  },
  {
   "cell_type": "code",
   "execution_count": null,
   "metadata": {},
   "outputs": [],
   "source": [
    "def bandpassfilter_voltagegain(f_c, f, phase_degree= True):\n",
    "    \"\"\"Calculates the voltage gain given the frequency and cuttoff frequency \n",
    "    of the high pass filter. Returns a list featuring the magnitude and phase angle.\n",
    "    The preset variable \"phase_degree\" is set to true to give an answer in degrees \n",
    "    for the phase angle.\"\"\"\n",
    "    "
   ]
  }
 ],
 "metadata": {
  "kernelspec": {
   "display_name": "Python 3",
   "language": "python",
   "name": "python3"
  },
  "language_info": {
   "codemirror_mode": {
    "name": "ipython",
    "version": 3
   },
   "file_extension": ".py",
   "mimetype": "text/x-python",
   "name": "python",
   "nbconvert_exporter": "python",
   "pygments_lexer": "ipython3",
   "version": "3.6.7"
  }
 },
 "nbformat": 4,
 "nbformat_minor": 2
}
