{
 "cells": [
  {
   "cell_type": "markdown",
   "metadata": {},
   "source": [
    "# Telecommunications Lecture 1 (08/28/2018) "
   ]
  },
  {
   "cell_type": "markdown",
   "metadata": {},
   "source": [
    "* <b>Communications systems</b>: transmission and reception of information from one location to another.\n",
    "\n",
    "\n",
    "* <b>Data Communications</b>: transmission and reception of digital signals from one location to another.\n",
    "\n",
    "\n",
    "* <b>Telecommunications systems</b>:  transmission and reception of voice, data, video over long distances using technologies and systems that help to do so. The technologies we consider are telephone, television, and infrared. The systems we consider are the internet, cell phones, wifi, bluetooth, etc.\n",
    "\n",
    "\n",
    "* <b>Basic Components of a communications system:</b> \n",
    "\n",
    "    * Information -> encoder -> transmitter -> transmission medium -> receiver -> decoder -> information\n",
    "\n",
    "\n",
    "* <b>Factors that affect sending and receiving information:</b>\n",
    "\n",
    "    * Information Nature\n",
    "    * Format of the Information\n",
    "    * Transmission distance\n",
    "    * Transmission Speed\n",
    "    * Transmission Medium\n",
    "    * Modulation Technique\n",
    "    * Error Control\n",
    "\n",
    "\n",
    "* An <b>analog signal</b> is a signal that has a continuous range of values as a function of time \n",
    "\n",
    "    *  E.g.: sine, sawtooth, triangular waves; and DC voltage/current\n",
    "\n",
    "\n",
    "* <b>Digital Signal</b> is a signal that has two binary discrete values (states) as a function of time\n",
    "\n",
    "    * E.g: Square wave\n",
    "\n",
    "\n",
    "* <b>LAN - (Local Area Network):</b> A network of data communication devices that’s private, and is confined to a small area (e.g: a Room, or Building) which is less than a few miles of each other. They share resources and software. \n",
    "\n",
    "\n",
    "* <b>MAN (Metro Area Network):</b>\n",
    "\n",
    "    1. A network that covers a Metropolitan Area\n",
    "\n",
    "    2. A collection of LANs\n",
    "\n",
    "\n",
    "* <b>WAN - (Wide Area Network):</b> \n",
    "\n",
    "    1. A network of data communication devices designated to serve users beyond the local area. \n",
    "\n",
    "    2. A network that covers a overlarge geographical area and uses public switched telephone network to link local LANs and MANs\n",
    "\n",
    "\n",
    "* <b>PSTN:</b> Public Switched Telephone Network or “dial up”\n",
    "\n",
    "\n",
    "* <b>WWW (World Wide Web):</b> A global network in which information of many sources can be accessed\n",
    "\n",
    "\n",
    "* <b>ATM (Asynchronous Transfer Mode):</b> A new generation of switching technologies that has risen through the interconnection of MANs and WANs through the PSTN\n",
    "\n",
    "\n",
    "* <b>SONET:</b> Synchronous Optical Network"
   ]
  },
  {
   "cell_type": "markdown",
   "metadata": {},
   "source": [
    "## Practice Questions"
   ]
  },
  {
   "cell_type": "markdown",
   "metadata": {},
   "source": [
    "There were none."
   ]
  }
 ],
 "metadata": {
  "kernelspec": {
   "display_name": "Python 3",
   "language": "python",
   "name": "python3"
  },
  "language_info": {
   "codemirror_mode": {
    "name": "ipython",
    "version": 3
   },
   "file_extension": ".py",
   "mimetype": "text/x-python",
   "name": "python",
   "nbconvert_exporter": "python",
   "pygments_lexer": "ipython3",
   "version": "3.7.0"
  }
 },
 "nbformat": 4,
 "nbformat_minor": 2
}
