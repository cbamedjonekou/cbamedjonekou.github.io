{
 "cells": [
  {
   "cell_type": "markdown",
   "metadata": {},
   "source": [
    "# Telecommunications Lecture 2 (08/30/2018) covering \"Noise\""
   ]
  },
  {
   "cell_type": "markdown",
   "metadata": {},
   "source": [
    "<b>This chapter discusses Electrical Signals (we skip sections 2.2.3, 2.2.4 & 2.2.5) and one of the two components they are comprised of, Noise.</b>\n",
    "\n",
    "* Electrical Signals are comprised of two parts:\n",
    "\n",
    "    1. One is <b>Noise</b>. \n",
    "    2. The other is the <b>Original Information</b>. \n",
    "\n",
    "\n",
    "* Virtually all telecommunication systems are affected by noise in some way. \n",
    "\n",
    "\n",
    "* Noise is always superimposed (on top of) the Original Information you are trying to transmit. This is the reason why noise is a huge issue.\n",
    "\n",
    "    * Noise interferes w/ receiving the Original Information. Thus, we try to mitigate its effects."
   ]
  },
  {
   "cell_type": "markdown",
   "metadata": {},
   "source": [
    "#### Electrical Noise is inherit in all transmitted and received signals. The effects of Electrical Noise severely hamper systems performance. All of this was aforementioned. \n",
    "\n",
    "* The following are some of the factors that cause telecommunication systems to be vulnerable.\n",
    "\n",
    "    * Increased traffic volume in call switching centers\n",
    "    * Enormous channel capacities of trunk circuits\n",
    "    * Trends toward high speed digital and data transmissions\n",
    "    \n",
    "    \n",
    "* As aforementioned we try to remove the noise because it degrades our original information. The following are examples of ways we try to do so:\n",
    "\n",
    "    * Special Encoding and Decoding Techniques (optimizes recovery of signal)\n",
    "    * Extensive Conditioning of the signal (we use filters and amplifiers for this)\n",
    "    * Like in \"Lecture Notes 1\" the following are some that can affect transmissions, so we pay careful attention to them:\n",
    "    \n",
    "        <p><ol>\n",
    "        <li>Transmission Route</li>\n",
    "        <li>Transmission Type</li>\n",
    "        <li>Transmission Medium</li>\n",
    "        </ol></p>       \n",
    "        \n",
    "    * Elaborate error detection and correction mechanisms."
   ]
  },
  {
   "cell_type": "markdown",
   "metadata": {},
   "source": [
    "#### Because noise/noise measurements/noise reductions are so important we'll introduce a method for measurement here:\n",
    "\n",
    "* Historically speaking we use sound to transmit and receive signals.  Analysis of the human audible response shows that it is logarithmic in nature. \n",
    "\n",
    "\n",
    "* Thus, We use decibels to measure that sound.\n",
    "\n",
    "\n",
    "* Usually the decibel (a logarithmic unit) is defined for power ratios (power gain/loss, $A_P$) but is is commonly used for voltage (voltage gain/loss, $A_V$) and current ratios (current gain/loss, $A_I$) in decibels, too.  "
   ]
  },
  {
   "cell_type": "markdown",
   "metadata": {},
   "source": [
    "#### Relative Power Gain: \n",
    "\n",
    "* We'll start with what we previously defined in the previous lecture (<b>Power Gain</b>). We can use what we know about the <b>Power Gain</b> to define/derive an equation for <b>Voltage Gain</b> later. We define <b>Power Gain</b> by the following:\n",
    "\n",
    "$$A_P = \\frac{P_O}{P_I}$$\n",
    "\n",
    "* where $P_O$ and $P_I$ are defined as the following:\n",
    "\n",
    "$$P_I = \\frac{V_I^2}{R_I}$$\n",
    "\n",
    "$$P_O = \\frac{V_O^2}{R_O}$$\n",
    "\n",
    "$$\\text{These definitions above (Ohm's Law) will be used later to derive voltage gain}$$"
   ]
  },
  {
   "cell_type": "markdown",
   "metadata": {},
   "source": [
    "* We can then calculate the <b>Power Gain in Decibals, $A_P(db),$</b> by using logarithms. This is shown below:\n",
    "\n",
    "$$A_P(db) = 10 \\log_{10}A_P = 10 \\log_{10}\\big(\\frac{P_O}{P_I}\\big) = 10 \\log_{10}\\big(\\frac{\\frac{V_O^2}{R_O}}{\\frac{V_I^2}{R_I}}\\big) = 10 \\log_{10}\\big(\\frac{V_O^2}{V_I^2}\\big)$$ \n",
    "\n",
    "$$\\text{, Given that } R_O = R_I$$\n",
    "\n",
    "* If $R_O \\neq R_I$ then the general form is given by the following:\n",
    "\n",
    "$$A_P(db) = 10 \\log_{10}\\big(\\frac{V_O^2}{V_I^2}\\big) - 10 \\log_{10}\\big(\\frac{R_O}{R_I}\\big) \\text{ or } A_P(db) = 10 \\log_{10}\\big(\\frac{\\frac{V_O^2}{R_O}}{\\frac{V_I^2}{R_I}}\\big)$$\n",
    "\n",
    "* <b><i>Relative</i></b> as used here refers to the values of Power being <b><i>relative to each other</i></b>."
   ]
  },
  {
   "cell_type": "markdown",
   "metadata": {},
   "source": [
    "#### Relative Voltage Gain\n",
    "\n",
    "* <b><i>Relative Voltage Gain</i></b> exists as a result of wanting to analyze a circuit in terms of its respective voltages and currents. We'll recall the Ohm's Law Equations for power mentioned above.\n",
    "\n",
    "* we can represent $P_O$ and $P_I$ as the following (Ohm's Law):\n",
    "\n",
    "$$P_I = \\frac{V_I^2}{R_I}$$\n",
    "\n",
    "$$P_O = \\frac{V_O^2}{R_O}$$\n",
    "\n",
    "\n",
    "* By substituting the values for $P_O$ and $P_I$ into the <b>Power Gain in Decibals, $A_P(db)$</b> equation we get the following:\n",
    "\n",
    "$$A_{P(dB)} = 10 \\log_{10} \\frac{P_O}{P_I} = 10 \\log_{10} \\frac{\\frac{V_O^2}{R_O}}{\\frac{V_I^2}{R_I}}$$\n",
    "\n",
    "* Using the logarithm property dealing w/ quotients <b>($\\log_{b}\\frac{M}{N} = \\log_{b}M - \\log_{10}N$)</b> we get the following:\n",
    "\n",
    "$$= 10 \\log_{10}(V_O^2) -  10 \\log_{10}(R_O) - 10 \\log_{10}(V_I^2) - 10 \\log_{10}(R_I)$$\n",
    "\n",
    "* Rearranging the terms we get the following (<b>an equation featuring only voltages</b>) :\n",
    "\n",
    "$$= 10 \\log_{10}(V_O^2) - 10 \\log_{10}(V_I^2) -  10 \\log_{10}(R_O) - 10 \\log_{10}(R_I)$$\n",
    "\n",
    "$$= 10 \\log_{10}\\big(\\frac{V_O^2}{V_I^2}\\big) -  10 \\log_{10}\\big(\\frac{R_O}{R_I}\\big)$$\n",
    "\n",
    "$$= 10 \\log_{10}\\big(\\frac{V_O^2}{V_I^2}\\big) \\text{, Given that } R_O = R_I$$\n",
    "\n",
    "* By using another log identity we can further simplify to get the following (<b><i>an equation for Relative Voltage Gain</i></b>):\n",
    "\n",
    "$$A_V(db) = 10 \\log_{10}\\big(\\frac{V_O^2}{V_I^2}\\big) = 20 \\log_{10}\\big(\\frac{V_O}{V_I}\\big) = 20 \\log_{10} A_V$$\n",
    "\n",
    "* If $R_O \\neq R_I$ then the general form is given by the following:\n",
    "\n",
    "$$A_V(db) = 10 \\log_{10}\\big(\\frac{V_O^2}{V_I^2}\\big) - 10 \\log_{10}\\big(\\frac{R_O}{R_I}\\big) = 20 \\log_{10}\\big(\\frac{V_O}{V_I}\\big) - 10 \\log_{10}\\big(\\frac{R_O}{R_I}\\big)$$"
   ]
  },
  {
   "cell_type": "markdown",
   "metadata": {},
   "source": [
    "#### The dBm and Absolute Power Gain\n",
    "\n",
    "* We consider <b><i>Absolute Power Gain</i></b> when we want to know more about the signal level at the input power, output power, or any point within the telecommunication system. \n",
    "\n",
    "\n",
    "* This is all with reference to some standardized level. This standardized level is the \"$dBm$\" which represents <b><i>decibels referenced to 1 mW</i></b>\n",
    "\n",
    "\n",
    "* The <b><i>Absolute Power Gain</i></b>, denoted by $A_{P(dBm)}$ (\"$dBm$\" represents <b><i>decibels referenced to 1 mW</i></b>), can be calculated using the following:\n",
    "\n",
    "$$A_{P(dBm)} = 10 \\log_{10} \\big(\\frac{P}{1 \\text{ mW}}\\big), \\text{ dBm}$$\n",
    "\n",
    "#### The dBw and Absolute Power Gain\n",
    "\n",
    "* <b><i>Absolute Power Gain</i></b> can also be calculated with a different reference point. This \"other\" standardized level is the \"$dBw$\" which represents <b><i>decibels referenced to 1 W</i></b>\n",
    "\n",
    "\n",
    "* The <b><i>Absolute Power Gain</i></b>, denoted by $A_{P(dBm)}$ (\"$dBw$\" represents <b><i>decibels referenced to 1 W</i></b>), can be calculated using the following:\n",
    "\n",
    "$$A_{P(dBw)} = 10 \\log_{10} \\big(\\frac{P}{1 \\text{ W}}\\big), \\text{ dBw}$$"
   ]
  },
  {
   "cell_type": "markdown",
   "metadata": {},
   "source": [
    "#### Signal to Noise Ratio (SNR)\n",
    "\n",
    "* <b><i>Signal to Noise Ratio (SNR)</i></b> is one of the most useful ways to noise. It considers the Signal Power and Noise Power (by ext. Signal and Noise Voltage)\n",
    "\n",
    "* It allows us to evaluate and anticipate extraneous effects of noise. It is also usually measured at the receiving end of the communication system before the detection of the signal. \n",
    "\n",
    "* It can be calculated by the following:\n",
    "\n",
    "\n",
    "$$ \\text{SNR } = 10 \\log_{10}\\big(\\frac{\\text{Signal Power}}{\\text{Noise Power}}\\big)$$ \n",
    "\n",
    "$$\\text{SNR } = 10 \\log_{10} \\big(\\frac{\\frac{V_S^2}{R_1}}{\\frac{V_N^2}{R_1}}\\big)$$\n",
    "\n",
    "$$\\text{And given that } R_O = R_I,$$\n",
    "\n",
    "$$\\text{SNR } = 10 \\log_{10} \\big(\\frac{V_S^2}{V_N^2}\\big)$$\n",
    "\n",
    "\n",
    "* A formula for considering voltage can be derived and is shown below:\n",
    "\n",
    "\n",
    "$$\\text{SNR } = 20 \\log_{10} \\big(\\frac{V_S}{V_N}\\big)\\text{dB}$$"
   ]
  },
  {
   "cell_type": "markdown",
   "metadata": {},
   "source": [
    "#### Noise Types \n",
    "\n",
    "1. Atmospheric and Extraterrestrial Noise\n",
    "    \n",
    "    <p><ul><li>Lightning (Frequency Rng: 0-30 MHz)</li>\n",
    "    <li>Solar Noise</li>\n",
    "    <li>Cosmic Noise (Frequency Rng: 20 Hz - 26 KHz)</li></ul></p>\n",
    "\n",
    "2. Gaussian Noise\n",
    "\n",
    "    <p><ul><li>Thermal Noise (aka: White Noise, Jhonson Noise) (Frequency Rng: up to 300 GHz)</li>\n",
    "    <li>Shot Noise</li></ul></p>\n",
    "\n",
    "3. Crosstalk\n",
    "\n",
    "    <p><ul><li>Near End Cross Talk</li>\n",
    "   <li>Far End Cross Talk</li></ul></p>\n",
    "\n",
    "4. Impulse Noise\n",
    "\n",
    "    * Human Auditory Response:\n",
    "\n",
    "\t$$ dB_S = 20 \\log_{10} \\big(\\frac{P}{0.0002 \\space \\bar{\\mu}}\\big) \\text{, where P is sound pressure in } \\bar{\\mu}$$\n",
    "\n",
    "\t$$ \\bar{\\mu} = 1 \\space \\frac{\\text{dyne}}{\\text{cm}^2} = 10^{-6} \\text{ of atmospheric pressure at sea level}$$"
   ]
  },
  {
   "cell_type": "markdown",
   "metadata": {},
   "source": [
    "## Practice Questions ( Required Problems: 1-11, 18, 22 )"
   ]
  },
  {
   "cell_type": "code",
   "execution_count": 1,
   "metadata": {
    "collapsed": true
   },
   "outputs": [],
   "source": [
    "# Library Imports\n",
    "import math\n",
    "\n",
    "# Functions:\n",
    "def relativePowerGain(P_O= 0, P_I= 0, switch= 0, Ap_dB= 0):\n",
    "    \"\"\"Calculates the relative power gain as a ratio.\n",
    "    Takes in three arguments: P_O= Output Power, P_I= Input Power.  \n",
    "    \"\"\"\n",
    "    if switch == 0:\n",
    "        return P_O/P_I\n",
    "    else: \n",
    "        return math.pow(10, Ap_dB/10)\n",
    "\n",
    "\n",
    "def relativeVoltageGain(V_O= 0, V_I= 0,  switch= 0, Av_dB= 0):\n",
    "    \"\"\"Calculates the relative voltage gain as a ratio.\n",
    "    Takes in two arguments: V_O= Output Voltage, V_I= Input Voltage.\n",
    "    \"\"\"\n",
    "    if switch == 0:\n",
    "        return V_O/V_I\n",
    "    else: \n",
    "        return math.pow(10, Av_dB/20)\n",
    "\n",
    "def relativeVoltDecibel(A_V):\n",
    "    \"\"\"Calculates the relative voltage gain in decibels.\n",
    "    Takes in one argument: A_V= Relative Voltage Gain as a ratio. \n",
    "    (hint: use relativeVoltageGain())\"\"\"\n",
    "    return 20*math.log(A_V, 10)\n",
    "\n",
    "\n",
    "def relativePowerDecibel(A_P):\n",
    "    \"\"\"Calculates the relative power gain in decibels.\n",
    "    Takes in one argument: A_P= Relative Power Gain as a ratio. \n",
    "    (hint: use relativePowerGain())\"\"\"\n",
    "    return 10*math.log(A_P, 10)\n",
    "\n",
    "\n",
    "def absolutePowerGain_dBm(P):\n",
    "    \"\"\"Calculates the absolute power gain in decibels.\n",
    "    Takes in one argument: ration_Standard=  a ratio of power and some standardized reference. \n",
    "    \"Decibels referenced to 10^-3 W (1 mW)\"\n",
    "    \"\"\"\n",
    "    reference = math.pow(10, -3)\n",
    "    ratio_Standard = P/reference\n",
    "    return 10*math.log(ratio_Standard, 10)\n",
    "\n",
    "\n",
    "def absolutePowerGain_dBw(P):\n",
    "    \"\"\"Calculates the absolute power gain in decibels.\n",
    "    Takes in one argument: ration_Standard=  a ratio of power and some standardized reference. \n",
    "    \"Decibels referenced to 1 W\"\n",
    "    \"\"\"\n",
    "    reference = math.pow(10, 0)\n",
    "    ratio_Standard = P/reference\n",
    "    return 10*math.log(ratio_Standard, 10)"
   ]
  },
  {
   "cell_type": "markdown",
   "metadata": {},
   "source": [
    "<b>Question 1:</b> Given an amplifier with an output power of 1.5 W and an input power of 75 mW, compute the following:\n",
    "\n",
    "a. The relative power gain as a ratio, $A_P$. "
   ]
  },
  {
   "cell_type": "code",
   "execution_count": 44,
   "metadata": {},
   "outputs": [
    {
     "data": {
      "text/plain": [
       "20.0"
      ]
     },
     "execution_count": 44,
     "metadata": {},
     "output_type": "execute_result"
    }
   ],
   "source": [
    "A_P = relativePowerGain(1.5, 0.075)\n",
    "A_P"
   ]
  },
  {
   "cell_type": "markdown",
   "metadata": {},
   "source": [
    "b. The relative power gain in decibels, $A_P$"
   ]
  },
  {
   "cell_type": "code",
   "execution_count": 18,
   "metadata": {},
   "outputs": [
    {
     "data": {
      "text/plain": [
       "13.01029995663981"
      ]
     },
     "execution_count": 18,
     "metadata": {},
     "output_type": "execute_result"
    }
   ],
   "source": [
    "relativePowerDecibel(A_P)"
   ]
  },
  {
   "cell_type": "markdown",
   "metadata": {
    "collapsed": true
   },
   "source": [
    "<b>Question 2:</b> An amplifier is redisgned so that its max ouptut power has increased from 0.25 $W$ to 5 $W$. Compute the follwing:\n",
    "\n",
    "a. The relative power gain as a ratio, $A_P$. "
   ]
  },
  {
   "cell_type": "code",
   "execution_count": 43,
   "metadata": {},
   "outputs": [
    {
     "data": {
      "text/plain": [
       "20.0"
      ]
     },
     "execution_count": 43,
     "metadata": {},
     "output_type": "execute_result"
    }
   ],
   "source": [
    "A_P = relativePowerGain(5, 0.25)\n",
    "A_P"
   ]
  },
  {
   "cell_type": "markdown",
   "metadata": {},
   "source": [
    "b. The relative power gain in decibels, $A_P$"
   ]
  },
  {
   "cell_type": "code",
   "execution_count": 20,
   "metadata": {},
   "outputs": [
    {
     "data": {
      "text/plain": [
       "13.01029995663981"
      ]
     },
     "execution_count": 20,
     "metadata": {},
     "output_type": "execute_result"
    }
   ],
   "source": [
    "relativePowerDecibel(A_P)"
   ]
  },
  {
   "cell_type": "markdown",
   "metadata": {},
   "source": [
    "<b>Question 3:</b> The Power Gain of an amplifier is given as 20 $dB$. Compute the input power, $P_I$, if the output power of the amplifier is 550 $mW$.\n",
    "\n",
    "* Formula to find input power:\n",
    "\n",
    "$$A_{P(dB)} = 10 \\log_{10} \\big(\\frac{P_O}{P_I}\\big) $$\n",
    "\n",
    "$$\\frac{A_{P(dB)}}{10} = \\log_{10} \\big(\\frac{P_O}{P_I}\\big)$$\n",
    "\n",
    "$$\\frac{P_O}{P_I} = 10^\\frac{A_{P(dB)}}{10}$$\n",
    "\n",
    "$$P_I = \\frac{P_O}{ 10^\\frac{A_{P(dB)}}{10}}$$"
   ]
  },
  {
   "cell_type": "code",
   "execution_count": 2,
   "metadata": {
    "collapsed": true
   },
   "outputs": [],
   "source": [
    "def inputPower_rPG(Ap_dB, P_O):\n",
    "    \"\"\"This formula finds the input power of the relative power gain.\n",
    "    It takes two arguments: The r.p.g in decibels and the given output power.\"\"\"\n",
    "    return P_O/math.pow(10, Ap_dB/10)"
   ]
  },
  {
   "cell_type": "code",
   "execution_count": 24,
   "metadata": {},
   "outputs": [
    {
     "data": {
      "text/plain": [
       "0.0055000000000000005"
      ]
     },
     "execution_count": 24,
     "metadata": {},
     "output_type": "execute_result"
    }
   ],
   "source": [
    "P_I = inputPower_rPG(20, 0.55)\n",
    "P_I  "
   ]
  },
  {
   "cell_type": "markdown",
   "metadata": {},
   "source": [
    "<b>Question 4:</b> Compute the output power of the amplifier in problem 3 if the input powers set to 1 $W$."
   ]
  },
  {
   "cell_type": "code",
   "execution_count": 3,
   "metadata": {
    "collapsed": true
   },
   "outputs": [],
   "source": [
    "def outputPower_rPG(Ap_dB, P_I):\n",
    "    \"\"\"This formula finds the output power of the relative power gain.\n",
    "    It takes two arguments: The r.p.g in decibels and the given output power.\"\"\"\n",
    "    return P_I*math.pow(10, Ap_dB/10)"
   ]
  },
  {
   "cell_type": "code",
   "execution_count": 26,
   "metadata": {},
   "outputs": [
    {
     "data": {
      "text/plain": [
       "100.0"
      ]
     },
     "execution_count": 26,
     "metadata": {},
     "output_type": "execute_result"
    }
   ],
   "source": [
    "P_O = outputPower_rPG(20, 1)\n",
    "P_O"
   ]
  },
  {
   "cell_type": "markdown",
   "metadata": {},
   "source": [
    "<b>Question 5:</b> The preamplifier in a wireless LAN transmitter has a voltage gain of 28 $dB$. Compute the following:"
   ]
  },
  {
   "cell_type": "code",
   "execution_count": 4,
   "metadata": {
    "collapsed": true
   },
   "outputs": [],
   "source": [
    "def inputVoltage_rPG(Av_dB, V_O):\n",
    "    \"\"\"This formula finds the input power of the relative voltage gain.\n",
    "    It takes two arguments: The r.p.g in decibels and the given output voltage.\"\"\"\n",
    "    return V_O/math.pow(10, Av_dB/20)\n",
    "\n",
    "\n",
    "def outputVoltage_rPG(Av_dB, V_I):\n",
    "    \"\"\"This formula finds the output power of the relative voltage gain.\n",
    "    It takes two arguments: The r.p.g in decibels and the given output voltage.\"\"\"\n",
    "    return V_I*math.pow(10, Av_dB/20)\n",
    "\n",
    "\n",
    "def db_dropped(Av_db, init_Vi, final_Vi):\n",
    "    \"\"\"Calculates the difference between initial and final voltage gain.\n",
    "    Needs three parameters.\"\"\"\n",
    "    Vo_init = outputVoltage_rPG(Av_db, init_Vi)\n",
    "    Vo_final = outputVoltage_rPG(Av_db, final_Vi)\n",
    "    Av_db_new = relativeVoltDecibel(A_V= Vo_final/ init_Vi)\n",
    "    db_dropped = Av_db - Av_db_new\n",
    "    return db_dropped\n",
    "\n",
    "\n",
    "def reverse_APG_dBm(Ap_dBm, P_standard= math.pow(10, -3)):\n",
    "    \"\"\"This formula finds the power of the absolute power gain w/ respect to 1 mW.\n",
    "    It takes two arguments: The a.p.g in decibels and the given standard power.\"\"\"\n",
    "    return P_standard*math.pow(10, Ap_dBm/10)"
   ]
  },
  {
   "cell_type": "markdown",
   "metadata": {},
   "source": [
    "a. The Voltage Gain of the amplifier as a ratio, $A_V$."
   ]
  },
  {
   "cell_type": "code",
   "execution_count": 42,
   "metadata": {},
   "outputs": [
    {
     "data": {
      "text/plain": [
       "25.118864315095795"
      ]
     },
     "execution_count": 42,
     "metadata": {},
     "output_type": "execute_result"
    }
   ],
   "source": [
    "A_V = relativeVoltageGain(switch= 1, Av_dB= 28)\n",
    "A_V"
   ]
  },
  {
   "cell_type": "markdown",
   "metadata": {},
   "source": [
    "b. The output voltage, $V_O$, of the amplifier given an input voltage of, $V_I$, of 15 $\\mu V$"
   ]
  },
  {
   "cell_type": "code",
   "execution_count": 48,
   "metadata": {},
   "outputs": [
    {
     "data": {
      "text/plain": [
       "0.00037678296472643696"
      ]
     },
     "execution_count": 48,
     "metadata": {},
     "output_type": "execute_result"
    }
   ],
   "source": [
    "V_O = outputVoltage_rPG(28, .000015)\n",
    "V_O"
   ]
  },
  {
   "cell_type": "markdown",
   "metadata": {},
   "source": [
    "<b>Question 6:</b> An intermediate frequency (IF) has a voltage gain of 90 $dB$. Compute the following:\n",
    "\n",
    "a. The Voltage Gain of the IF stage as a ratio, $A_V$."
   ]
  },
  {
   "cell_type": "code",
   "execution_count": 49,
   "metadata": {},
   "outputs": [
    {
     "data": {
      "text/plain": [
       "31622.776601683792"
      ]
     },
     "execution_count": 49,
     "metadata": {},
     "output_type": "execute_result"
    }
   ],
   "source": [
    "A_V = relativeVoltageGain(switch= 1, Av_dB= 90)\n",
    "A_V"
   ]
  },
  {
   "cell_type": "markdown",
   "metadata": {},
   "source": [
    "b. The output voltage, $V_O$, of the IF stage given an input voltage, $V_I$, of 35 $\\mu V$"
   ]
  },
  {
   "cell_type": "code",
   "execution_count": 50,
   "metadata": {},
   "outputs": [
    {
     "data": {
      "text/plain": [
       "1.1067971810589325"
      ]
     },
     "execution_count": 50,
     "metadata": {},
     "output_type": "execute_result"
    }
   ],
   "source": [
    "V_O = outputVoltage_rPG(90, .000035)\n",
    "V_O"
   ]
  },
  {
   "cell_type": "markdown",
   "metadata": {},
   "source": [
    "c. If the input voltage were to decrease from 35 to 5 $\\mu V$, how many decibels has the signal dropped."
   ]
  },
  {
   "cell_type": "code",
   "execution_count": 63,
   "metadata": {},
   "outputs": [
    {
     "data": {
      "text/plain": [
       "16.901960800285153"
      ]
     },
     "execution_count": 63,
     "metadata": {},
     "output_type": "execute_result"
    }
   ],
   "source": [
    "dropped = db_dropped(90, 0.000035, 0.000005)\n",
    "dropped"
   ]
  },
  {
   "cell_type": "markdown",
   "metadata": {},
   "source": [
    "<b>Question 7:</b> The signal level of a 30 $MHz$ test tone measures $-30  \\text{ dBm}$ on a spectrum analyzer. Compute the power level, $P$, of signal. "
   ]
  },
  {
   "cell_type": "markdown",
   "metadata": {},
   "source": [
    "$$A_{P(dBm)} = 10 \\log_{10} \\big(\\frac{P}{10^{-3} \\text{ W}}\\big), \\text{ dBw}$$\n",
    "\n",
    "$$\\frac{A_{P(dBm)}}{10} = \\log_{10} \\big(\\frac{P}{10^{-3} \\text{ W}}\\big), \\text{ dBw}$$\n",
    "\n",
    "$$10^{\\frac{A_{P(dBm)}}{10}} = \\frac{P}{10^{-3} \\text{ W}}, \\text{ dBw}$$\n",
    "\n",
    "$$10^{-3} \\text{ W} * 10^{\\frac{A_{P(dBm)}}{10}} = P \\text{, dBw}$$"
   ]
  },
  {
   "cell_type": "code",
   "execution_count": 70,
   "metadata": {},
   "outputs": [
    {
     "data": {
      "text/plain": [
       "1e-06"
      ]
     },
     "execution_count": 70,
     "metadata": {},
     "output_type": "execute_result"
    }
   ],
   "source": [
    "P = reverse_APG_dBm(-30)\n",
    "P"
   ]
  },
  {
   "cell_type": "markdown",
   "metadata": {},
   "source": [
    "<b>Question 8:</b> The carrier frequency of an AM broadcast station measure $-65 \\text{ dBm}$ on a spectrum analyzer. Compute the power level, $P$, of the signal."
   ]
  },
  {
   "cell_type": "markdown",
   "metadata": {},
   "source": [
    "$$10^{-3} \\text{ W} * 10^{\\frac{A_{P(dBm)}}{10}} = P \\text{, dBw}$$"
   ]
  },
  {
   "cell_type": "code",
   "execution_count": 72,
   "metadata": {},
   "outputs": [
    {
     "data": {
      "text/plain": [
       "3.162277660168379e-10"
      ]
     },
     "execution_count": 72,
     "metadata": {},
     "output_type": "execute_result"
    }
   ],
   "source": [
    "P = reverse_APG_dBm(-65)\n",
    "P"
   ]
  },
  {
   "cell_type": "markdown",
   "metadata": {},
   "source": [
    "<b>Question 9:</b> An rf sine-wave generator whose output impedance is 50 $\\Omega$ is connected to a $dBm$. An $\\textbf{rms}$ voltmeter is used to measure the effective voltage, and an oscilloscope is used to display the sine wave. Compute the following:"
   ]
  },
  {
   "cell_type": "markdown",
   "metadata": {},
   "source": [
    "$$10^{-3} \\text{ W} * 10^{\\frac{A_{P(dBm)}}{10}} = \\frac{V_{rms}^2}{R} \\text{, dBw}$$\n",
    "\n",
    "$$V_{rms} = \\sqrt{10^{-3} \\text{ W} * 10^{\\frac{A_{P(dBm)}}{10}} * R \\text{, dBw}}$$"
   ]
  },
  {
   "cell_type": "code",
   "execution_count": 5,
   "metadata": {
    "collapsed": true
   },
   "outputs": [],
   "source": [
    "def find_RMS_Voltage(R, Ap_dBm, P_standard= math.pow(10, -3)):\n",
    "    \"\"\"Find the rms voltage given the impedance.\n",
    "    Takes three arguments: \"R\" which represents the impedance, \"P_Standard\" \n",
    "    which represents the standard reference point (dBm = 1 mW), and Ap_dBm \n",
    "    which represents the power gain in decibels.\"\"\"\n",
    "    return math.sqrt(P_standard*math.pow(10, Ap_dBm/10)*R)\n",
    "\n",
    "\n",
    "def rms_to_Peak(rms):\n",
    "    \"\"\"Converts rms values to their respective peak values. \n",
    "    Takes in one argument: rms, or root mean square value.\n",
    "    (sqrt(2)*rms = v_peak)\"\"\"\n",
    "    return math.sqrt(2)*rms \n",
    "\n",
    "\n",
    "def peak_to_PeakPeak(v_peak):\n",
    "    \"\"\"Calculates to peak-to-peak value of a unit measurement.\n",
    "    Multplies the voltage peak by 2. Takes in one argument: v_peak\"\"\"\n",
    "    return v_peak * 2"
   ]
  },
  {
   "cell_type": "markdown",
   "metadata": {},
   "source": [
    "a. The $\\textbf{rms}$ voltage measured by the $\\textbf{rms}$ voltmeter."
   ]
  },
  {
   "cell_type": "code",
   "execution_count": 79,
   "metadata": {},
   "outputs": [
    {
     "data": {
      "text/plain": [
       "0.2508909535828432"
      ]
     },
     "execution_count": 79,
     "metadata": {},
     "output_type": "execute_result"
    }
   ],
   "source": [
    "rms = find_RMS_Voltage(R= 50,Ap_dBm= 1)\n",
    "rms"
   ]
  },
  {
   "cell_type": "markdown",
   "metadata": {},
   "source": [
    "b. The peak voltage, $V_P$, of the sine wave that should be displayed on the oscilloscope."
   ]
  },
  {
   "cell_type": "code",
   "execution_count": 81,
   "metadata": {},
   "outputs": [
    {
     "data": {
      "text/plain": [
       "0.3548133892335755"
      ]
     },
     "execution_count": 81,
     "metadata": {},
     "output_type": "execute_result"
    }
   ],
   "source": [
    "v_p = rms_to_Peak(rms)\n",
    "v_p"
   ]
  },
  {
   "cell_type": "markdown",
   "metadata": {},
   "source": [
    "c. The peak-to-peak voltage, $V_{P-P}$, of the sine wave that should be displayed on the oscilloscope."
   ]
  },
  {
   "cell_type": "code",
   "execution_count": 83,
   "metadata": {},
   "outputs": [
    {
     "data": {
      "text/plain": [
       "0.709626778467151"
      ]
     },
     "execution_count": 83,
     "metadata": {},
     "output_type": "execute_result"
    }
   ],
   "source": [
    "v_pp = peak_to_PeakPeak(v_p)\n",
    "v_pp"
   ]
  },
  {
   "cell_type": "markdown",
   "metadata": {},
   "source": [
    "<b>Question 10:</b> An audio signal generator w/ an output impedance 600 $\\Omega$ is directly connected to a 600 $\\Omega$ voltmeter and an oscilloscope. The generators amplitude is set to $+5 \\text{ dBm}$. Compute the following:\n",
    "\n",
    "a. The $\\textbf{rms}$ voltage measured by the $\\textbf{rms}$ voltmeter."
   ]
  },
  {
   "cell_type": "code",
   "execution_count": 84,
   "metadata": {},
   "outputs": [
    {
     "data": {
      "text/plain": [
       "1.3774493079968597"
      ]
     },
     "execution_count": 84,
     "metadata": {},
     "output_type": "execute_result"
    }
   ],
   "source": [
    "rms = find_RMS_Voltage(600,Ap_dBm= 5)\n",
    "rms"
   ]
  },
  {
   "cell_type": "markdown",
   "metadata": {},
   "source": [
    "b. The peak voltage, $V_P$ of the sine ware that should be displayed on the oscilloscope."
   ]
  },
  {
   "cell_type": "code",
   "execution_count": 85,
   "metadata": {},
   "outputs": [
    {
     "data": {
      "text/plain": [
       "1.9480074928505937"
      ]
     },
     "execution_count": 85,
     "metadata": {},
     "output_type": "execute_result"
    }
   ],
   "source": [
    "v_p = rms_to_Peak(rms)\n",
    "v_p"
   ]
  },
  {
   "cell_type": "markdown",
   "metadata": {},
   "source": [
    "c. The peak-to-peak voltage, $V_{P-P}$, of the sine wave that should be displayed on the oscilloscope."
   ]
  },
  {
   "cell_type": "code",
   "execution_count": 86,
   "metadata": {},
   "outputs": [
    {
     "data": {
      "text/plain": [
       "3.8960149857011874"
      ]
     },
     "execution_count": 86,
     "metadata": {},
     "output_type": "execute_result"
    }
   ],
   "source": [
    "v_pp = peak_to_PeakPeak(v_p)\n",
    "v_pp"
   ]
  },
  {
   "cell_type": "markdown",
   "metadata": {},
   "source": [
    "<b>Question 11:</b> The noise power at the output of a receiver's IF stage is measured at 45 $\\mu W$. With the receiver tuned to test signal, the ouput power increases to 3.58 $mW$. "
   ]
  },
  {
   "cell_type": "markdown",
   "metadata": {},
   "source": [
    "$$ \\text{SNR } = 10 \\log_{10}\\big(\\frac{\\text{Signal Power}}{\\text{Noise Power}}\\big)$$ \n",
    "\n",
    "$$\\text{SNR } = 10 \\log_{10} \\big(\\frac{\\frac{V_S^2}{R_1}}{\\frac{V_N^2}{R_1}}\\big)$$\n",
    "\n",
    "$$\\text{And given that } R_O = R_I,$$\n",
    "\n",
    "$$\\text{SNR } = 10 \\log_{10} \\big(\\frac{V_S^2}{V_N^2}\\big)$$\n",
    "\n",
    "\n",
    "* A formula for considering voltage can be derived and is shown below:\n",
    "\n",
    "\n",
    "$$\\text{SNR } = 20 \\log_{10} \\big(\\frac{V_S}{V_N}\\big)\\text{dB}$$"
   ]
  },
  {
   "cell_type": "code",
   "execution_count": 6,
   "metadata": {
    "collapsed": true
   },
   "outputs": [],
   "source": [
    "def signalNoiseRatio(signal_voltage, noise_voltage):\n",
    "    \"\"\"Calculates the signal noise ratio. Takes in two parameters: signal_power,\n",
    "    and noise_power\"\"\"\n",
    "    return 20*math.log(signal_voltage/noise_voltage, 10)"
   ]
  },
  {
   "cell_type": "markdown",
   "metadata": {},
   "source": [
    "* Compute the SNR:"
   ]
  },
  {
   "cell_type": "code",
   "execution_count": 88,
   "metadata": {},
   "outputs": [
    {
     "data": {
      "text/plain": [
       "38.0134102573706"
      ]
     },
     "execution_count": 88,
     "metadata": {},
     "output_type": "execute_result"
    }
   ],
   "source": [
    "snr = signalNoiseRatio(0.00358, 0.000045)\n",
    "snr"
   ]
  },
  {
   "cell_type": "markdown",
   "metadata": {},
   "source": [
    "<b>Question 18:</b> Explain whether the noise produced by lightning can be considered Gaussian."
   ]
  },
  {
   "cell_type": "markdown",
   "metadata": {},
   "source": [
    "* It is can be considered gaussian since gaussian noise considers the whole frequency range. It is considered the external portion (natural/atmospheric) of the noise affecting telecommunication systems. "
   ]
  },
  {
   "cell_type": "markdown",
   "metadata": {},
   "source": [
    "<b>Question 22:</b> Explain the difference between near-end and far-end crosstalk."
   ]
  },
  {
   "cell_type": "markdown",
   "metadata": {},
   "source": [
    "* <b>Near End Cross Talk:</b> Occurs at the trasmitting station or repeater when strong signals radiating from the transmitting pair of wires are coupled into the adjacent, relatively weak, received signals traveling in opposite directions.\n",
    "\n",
    "\n",
    "* <b>Far End Cross Talk:</b> Occurs at the far-end receiver as a result of adjacent channel signals traveling in the same direction."
   ]
  }
 ],
 "metadata": {
  "kernelspec": {
   "display_name": "Python 3",
   "language": "python",
   "name": "python3"
  },
  "language_info": {
   "codemirror_mode": {
    "name": "ipython",
    "version": 3
   },
   "file_extension": ".py",
   "mimetype": "text/x-python",
   "name": "python",
   "nbconvert_exporter": "python",
   "pygments_lexer": "ipython3",
   "version": "3.7.0"
  }
 },
 "nbformat": 4,
 "nbformat_minor": 2
}
