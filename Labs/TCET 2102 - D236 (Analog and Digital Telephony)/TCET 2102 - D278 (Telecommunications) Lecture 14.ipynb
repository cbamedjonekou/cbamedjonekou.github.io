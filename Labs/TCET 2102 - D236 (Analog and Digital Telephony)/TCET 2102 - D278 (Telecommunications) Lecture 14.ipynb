{
 "cells": [
  {
   "cell_type": "markdown",
   "metadata": {},
   "source": [
    "**Name: Christ-Brian Amedjonekou**  \n",
    "**Date: 12/17/2018**  \n",
    "**TCET 2102 (Analog and Digital Telephone) Lectures 14**  \n",
    "**Fall 2018, Section: D278, Code: 37580**  \n",
    "**Instructor: Layth Qaseer**"
   ]
  },
  {
   "cell_type": "markdown",
   "metadata": {},
   "source": [
    "## Fiber Optics\n",
    "\n",
    "* Fibers optics is defined as the branch of optics that deals with the transmission of light through ultrapure fibers of glass, plastic, or other forms of transparent media.\n",
    "\n",
    "\n",
    "#### Advantages:\n",
    "\n",
    "* They are considerable better than copper wire specifically in the following areas:\n",
    "    * A lot More Bandwidth\n",
    "    * Less dB Loss\n",
    "    * Immune to Noise\n",
    "    * They weight less than their copper counterpart\n",
    "    * They're impossible to wire tap w/o detection\n",
    "    * Due to refining process and size, fiber is extremely durable. You can cut someone w/ it.\n",
    "    * Overall cost of fiber systems are cheaper since less resources are used (e.g.: less repeaters)\n",
    "    * Have a longer lifespan, less affected by the elements, more reliability as a result.\n",
    "    \n",
    "    \n",
    "#### Disadvantages\n",
    "\n",
    "* There are disadvantages to Fiber as well which are specifically in the following areas:\n",
    "    * There are interfacing costs that are usually overlook specifically dealing w/ electronic to optic conversion of provider facilities.\n",
    "    * Strength of the cable w/ reinforcment is weak but w/ kevlar reinforcement can increase the tensile strength (greater than coaxial)\n",
    "    * Fiber can't provide power to remote devices (no electricity...) on its own, so now they're bundled w/ conductive components.\n",
    " \n"
   ]
  },
  {
   "cell_type": "code",
   "execution_count": null,
   "metadata": {
    "collapsed": true
   },
   "outputs": [],
   "source": []
  }
 ],
 "metadata": {
  "kernelspec": {
   "display_name": "Python 3",
   "language": "python",
   "name": "python3"
  },
  "language_info": {
   "codemirror_mode": {
    "name": "ipython",
    "version": 3
   },
   "file_extension": ".py",
   "mimetype": "text/x-python",
   "name": "python",
   "nbconvert_exporter": "python",
   "pygments_lexer": "ipython3",
   "version": "3.7.0"
  }
 },
 "nbformat": 4,
 "nbformat_minor": 2
}
