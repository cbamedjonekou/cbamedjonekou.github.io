{
 "cells": [
  {
   "cell_type": "code",
   "execution_count": 9,
   "metadata": {},
   "outputs": [],
   "source": [
    "import math as m"
   ]
  },
  {
   "cell_type": "code",
   "execution_count": 10,
   "metadata": {},
   "outputs": [],
   "source": [
    "def x10_delayTime(delay, innerLoop, outerLoop, \n",
    "                  constant = 330 * m.pow(10, -9)):\n",
    "    x = ((delay/constant) - outerLoop)/innerLoop \n",
    "    return x"
   ]
  },
  {
   "cell_type": "code",
   "execution_count": 12,
   "metadata": {},
   "outputs": [
    {
     "data": {
      "text/plain": [
       "[63129.89646464647, '0xf699']"
      ]
     },
     "execution_count": 12,
     "metadata": {},
     "output_type": "execute_result"
    }
   ],
   "source": [
    "delay, inner, outer = .5, 24, 34 \n",
    "answer = [x10_delayTime(delay, inner, outer), \n",
    "          hex(int(x10_delayTime(delay, inner, outer)))]\n",
    "answer"
   ]
  },
  {
   "cell_type": "markdown",
   "metadata": {},
   "source": [
    "### Lab 6a Pass "
   ]
  },
  {
   "cell_type": "code",
   "execution_count": 15,
   "metadata": {},
   "outputs": [
    {
     "data": {
      "text/plain": [
       "[52245.15569487983, '0xcc15']"
      ]
     },
     "execution_count": 15,
     "metadata": {},
     "output_type": "execute_result"
    }
   ],
   "source": [
    "delay, inner, outer = 1, 58, 84 \n",
    "answer = [x10_delayTime(delay, inner, outer), \n",
    "          hex(int(x10_delayTime(delay, inner, outer)))]\n",
    "answer"
   ]
  },
  {
   "cell_type": "markdown",
   "metadata": {},
   "source": [
    "### Lab 6a Fail"
   ]
  },
  {
   "cell_type": "code",
   "execution_count": 16,
   "metadata": {},
   "outputs": [],
   "source": [
    "def x10_delayTime2(delay, innerLoop, innerInnerLoop, outerLoop, \n",
    "                  constant = 330 * m.pow(10, -9)):\n",
    "    x = ((delay/constant) - outerLoop - innerLoop)/innerInnerLoop \n",
    "    return x"
   ]
  },
  {
   "cell_type": "code",
   "execution_count": 17,
   "metadata": {},
   "outputs": [
    {
     "data": {
      "text/plain": [
       "[63128.823547979795, '0xf698']"
      ]
     },
     "execution_count": 17,
     "metadata": {},
     "output_type": "execute_result"
    }
   ],
   "source": [
    "delay, inner, innerInner, outer = 2, 49*4, 24*4, 43 \n",
    "answer = [x10_delayTime2(delay, inner, innerInner, outer), \n",
    "          hex(int(x10_delayTime2(delay, inner, innerInner, outer)))]\n",
    "answer"
   ]
  },
  {
   "cell_type": "markdown",
   "metadata": {},
   "source": [
    "### Lab 6a Blank"
   ]
  },
  {
   "cell_type": "code",
   "execution_count": 18,
   "metadata": {},
   "outputs": [
    {
     "data": {
      "text/plain": [
       "[63129.09785353535, '0xf699']"
      ]
     },
     "execution_count": 18,
     "metadata": {},
     "output_type": "execute_result"
    }
   ],
   "source": [
    "delay, inner, innerInner, outer = 3, 49*6, 24*6, 25 \n",
    "answer = [x10_delayTime2(delay, inner, innerInner, outer), \n",
    "          hex(int(x10_delayTime2(delay, inner, innerInner, outer)))]\n",
    "answer"
   ]
  },
  {
   "cell_type": "markdown",
   "metadata": {},
   "source": [
    "### Lab 6b Help"
   ]
  },
  {
   "cell_type": "code",
   "execution_count": 23,
   "metadata": {},
   "outputs": [
    {
     "data": {
      "text/plain": [
       "[63129.14229797979, '0xf699']"
      ]
     },
     "execution_count": 23,
     "metadata": {},
     "output_type": "execute_result"
    }
   ],
   "source": [
    "delay, inner, innerInner, outer = 10, 49*20, 24*20, ((7*6)+(10*2))  \n",
    "answer = [x10_delayTime2(delay, inner, innerInner, outer), \n",
    "          hex(int(x10_delayTime2(delay, inner, innerInner, outer)))]\n",
    "answer"
   ]
  },
  {
   "cell_type": "markdown",
   "metadata": {},
   "source": [
    "### Lab 6b Blank"
   ]
  },
  {
   "cell_type": "code",
   "execution_count": 20,
   "metadata": {
    "scrolled": true
   },
   "outputs": [
    {
     "data": {
      "text/plain": [
       "[63129.167297979795, '0xf699']"
      ]
     },
     "execution_count": 20,
     "metadata": {},
     "output_type": "execute_result"
    }
   ],
   "source": [
    "delay, inner, innerInner, outer = 5, 49*10, 24*10, 25 \n",
    "answer = [x10_delayTime2(delay, inner, innerInner, outer), \n",
    "          hex(int(x10_delayTime2(delay, inner, innerInner, outer)))]\n",
    "answer"
   ]
  },
  {
   "cell_type": "code",
   "execution_count": 22,
   "metadata": {},
   "outputs": [
    {
     "data": {
      "text/plain": [
       "'0xa'"
      ]
     },
     "execution_count": 22,
     "metadata": {},
     "output_type": "execute_result"
    }
   ],
   "source": [
    "hex(10)"
   ]
  }
 ],
 "metadata": {
  "kernelspec": {
   "display_name": "Programming_Practice",
   "language": "python",
   "name": "programming_practice"
  },
  "language_info": {
   "codemirror_mode": {
    "name": "ipython",
    "version": 3
   },
   "file_extension": ".py",
   "mimetype": "text/x-python",
   "name": "python",
   "nbconvert_exporter": "python",
   "pygments_lexer": "ipython3",
   "version": "3.6.7"
  }
 },
 "nbformat": 4,
 "nbformat_minor": 2
}
