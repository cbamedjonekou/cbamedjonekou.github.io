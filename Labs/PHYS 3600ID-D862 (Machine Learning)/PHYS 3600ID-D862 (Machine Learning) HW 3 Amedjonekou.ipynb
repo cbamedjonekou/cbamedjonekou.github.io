{
 "cells": [
  {
   "cell_type": "markdown",
   "metadata": {},
   "source": [
    "**Name: Christ-Brian Amedjonekou**  \n",
    "**Date: 03/12/2019**  \n",
    "**PHYS 3600ID-D862 (Machine Learning) HW 3**  \n",
    "**Spring 2019, Section: D862, Code: 37026**  \n",
    "**Instructor: Viviana Acquaviva**\n",
    "\n",
    "\n",
    "***I certify that my work is my own.***"
   ]
  },
  {
   "cell_type": "markdown",
   "metadata": {},
   "source": [
    "1\\. (not a coding exercise). You have a data set that contains cars, motorcycles, bikes, and tricycles. Your features are weight and number of wheels. How could you build an optimal decision tree classifier? Describe the splits and the value at which you would split the features.\n",
    "\n",
    "* I would start with weight as the first split. \n",
    "    * Reason 1: Because motor vehicles will be heavier than bikes and tricycles. \n",
    "    * Reason 2: Bikes and Motorcycles have the same amount of wheels but different weights. \n",
    "    * **Split Question: \"Weight: $\\mathbf{x > 100} \\textbf{ lbs}$\"**\n",
    "    * **Goal: Seperate motor vehicles from bikes/tricycles**\n",
    "\n",
    "\n",
    "* Then, I'd create a split differentiating 2-wheel vehicle types from others:\n",
    "    *  **Split Question: \"Wheels: $\\mathbf{x > 2} \\textbf{ wheels}$\"**\n",
    "    \n",
    "      \n",
    "* After, I'd create a split differentiating 3-wheel vehicle types from 4-wheel types:\n",
    "    *  **Split Question: \"Wheels: $\\mathbf{x > 2} \\textbf{ wheels}$\"**"
   ]
  },
  {
   "cell_type": "markdown",
   "metadata": {},
   "source": [
    "We will now work with the digits data set and do something similar to what we did with Iris.\n",
    "We want to \"teach\" the machine how the different digits look like so that the system can correctly classify new examples of hand-written digits.\n",
    "\n",
    "We can import the data set by doing:"
   ]
  },
  {
   "cell_type": "code",
   "execution_count": 1,
   "metadata": {
    "collapsed": true
   },
   "outputs": [],
   "source": [
    "import sklearn\n",
    "from sklearn import datasets\n",
    "\n",
    "digits = datasets.load_digits()"
   ]
  },
  {
   "cell_type": "markdown",
   "metadata": {},
   "source": [
    "2\\. Create numpy arrays containing the features and target values for this data set."
   ]
  },
  {
   "cell_type": "markdown",
   "metadata": {},
   "source": [
    "3\\. How many objects are in this data set? How many features? "
   ]
  },
  {
   "cell_type": "markdown",
   "metadata": {},
   "source": [
    "4\\. How many possible target values do you have? "
   ]
  },
  {
   "cell_type": "markdown",
   "metadata": {},
   "source": [
    "5\\. Is the data set balanced or imbalanced? Justify your answer."
   ]
  },
  {
   "cell_type": "markdown",
   "metadata": {},
   "source": [
    "6\\. The values that you see for the features of this data set are the brightness, on a scale of 0 to 1, of each of the pixels in the image. The following code plots the first 100 objects. Just based on what you see, what digits do you think would be easier for an algorithm to classify correctly and why?"
   ]
  },
  {
   "cell_type": "code",
   "execution_count": 2,
   "metadata": {},
   "outputs": [
    {
     "data": {
      "image/png": "[encoded data removed]",
      "text/plain": [
       "<matplotlib.figure.Figure at 0x11284de10>"
      ]
     },
     "metadata": {},
     "output_type": "display_data"
    }
   ],
   "source": [
    "import matplotlib.pyplot as plt\n",
    "%matplotlib inline\n",
    "\n",
    "fig, axes = plt.subplots(10, 10, figsize=(8, 8),\n",
    "                         subplot_kw={'xticks':[], 'yticks':[]},\n",
    "                         gridspec_kw=dict(hspace=0.1, wspace=0.1))\n",
    "\n",
    "for i, ax in enumerate(axes.flat):\n",
    "    ax.imshow(digits.images[i], cmap='binary', interpolation='nearest')\n"
   ]
  },
  {
   "cell_type": "markdown",
   "metadata": {},
   "source": [
    "7\\. Following what we did for the Iris data set, create a train/test split of this data set with 70% of the data in the training set and 30% of the data in the test set. Fit a decision tree classifier with default values to the training set, and predict the target values for the test set."
   ]
  },
  {
   "cell_type": "markdown",
   "metadata": {},
   "source": [
    "8\\. Report the accuracy score. Based on your answer to Q5, is accuracy a meaningful scorer for this data set?"
   ]
  },
  {
   "cell_type": "markdown",
   "metadata": {},
   "source": [
    "9\\. Repeat the steps 7-8 using a 50/50 train/test split, and a 85/15 train/test split. What happens to the accuracy? Would you expect the accuracy to go up or down as your training set becomes larger?"
   ]
  },
  {
   "cell_type": "markdown",
   "metadata": {},
   "source": [
    "10\\. Repeat the procedure with the 80/20 train/test split, but setting five different values of the random seed (parameter \"random_state\" in the train_test_split function). Record and report the five accuracy scores and their standard deviation."
   ]
  },
  {
   "cell_type": "markdown",
   "metadata": {},
   "source": [
    "11\\. Report and plot the confusion matrix for this example (note: the labels are the class *names*). Which digit(s) is (are) most often classified incorrectly? "
   ]
  },
  {
   "cell_type": "markdown",
   "metadata": {},
   "source": [
    "12\\. With reference to the question above: why do you think this is the case?"
   ]
  },
  {
   "cell_type": "markdown",
   "metadata": {},
   "source": [
    "13\\. (Extra Credit) Play with different parameters in the Decision Tree Classifier to see if you can increase the accuracy."
   ]
  },
  {
   "cell_type": "code",
   "execution_count": null,
   "metadata": {
    "collapsed": true
   },
   "outputs": [],
   "source": []
  }
 ],
 "metadata": {
  "kernelspec": {
   "display_name": "Python 3",
   "language": "python",
   "name": "python3"
  },
  "language_info": {
   "codemirror_mode": {
    "name": "ipython",
    "version": 3
   },
   "file_extension": ".py",
   "mimetype": "text/x-python",
   "name": "python",
   "nbconvert_exporter": "python",
   "pygments_lexer": "ipython3",
   "version": "3.6.7"
  }
 },
 "nbformat": 4,
 "nbformat_minor": 2
}
