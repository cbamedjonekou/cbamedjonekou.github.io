{
 "cells": [
  {
   "cell_type": "markdown",
   "metadata": {},
   "source": [
    "**Name: Christ-Brian Amedjonekou**  \n",
    "**Date: 03/18/2019**  \n",
    "**PHYS 3600ID-D862 (Machine Learning) HW 4**  \n",
    "**Spring 2019, Section: D862, Code: 37026**  \n",
    "**Instructor: Viviana Acquaviva**\n",
    "\n",
    "\n",
    "***I certify that my work is my own.***"
   ]
  },
  {
   "cell_type": "markdown",
   "metadata": {},
   "source": [
    "#### Data description\n",
    "\n",
    "The data we use for this worksheet are about stars. Our features are the so-called \"colors\", which give an indication of whether a star emits more blue, green, yellow, or red light. We are trying to predict whether a star is a special type of star called a RR-Lyrae variable star. So our target values will be yes/no (1/0 in the language of numpy arrays)."
   ]
  },
  {
   "cell_type": "markdown",
   "metadata": {},
   "source": [
    "1\\. Load the data for features and target from the appropriate files and save them as numpy arrays. "
   ]
  },
  {
   "cell_type": "code",
   "execution_count": 1,
   "metadata": {},
   "outputs": [],
   "source": [
    "import numpy as np\n",
    "import pandas as pd\n",
    "import matplotlib.pyplot as plt\n",
    "import seaborn as sns\n",
    "from sklearn.model_selection import train_test_split as tts, cross_val_score as cvs\n",
    "from sklearn.model_selection import cross_val_predict as cvp\n",
    "from sklearn.tree import DecisionTreeClassifier as DTC\n",
    "from sklearn.metrics import accuracy_score as acc, confusion_matrix as cfm\n",
    "from sklearn.metrics import f1_score as f1, precision_score as ps, recall_score as rs\n",
    "from sklearn.utils import shuffle\n",
    "import itertools as itr"
   ]
  },
  {
   "cell_type": "code",
   "execution_count": 2,
   "metadata": {
    "scrolled": true
   },
   "outputs": [],
   "source": [
    "part1 =  pd.read_csv('Datasets/RRLyrae_features.txt', delimiter= ',', names= ['Blue', 'Green', 'Yellow', 'Red'])\n",
    "part2 =  pd.read_csv('Datasets/RRLyrae_labels.txt', names= ['Target'])\n",
    "lyraeSet = pd.concat([part1, part2], axis= 1, sort= False)"
   ]
  },
  {
   "cell_type": "code",
   "execution_count": 3,
   "metadata": {
    "scrolled": false
   },
   "outputs": [
    {
     "data": {
      "text/html": [
       "<div>\n",
       "<style scoped>\n",
       "    .dataframe tbody tr th:only-of-type {\n",
       "        vertical-align: middle;\n",
       "    }\n",
       "\n",
       "    .dataframe tbody tr th {\n",
       "        vertical-align: top;\n",
       "    }\n",
       "\n",
       "    .dataframe thead th {\n",
       "        text-align: right;\n",
       "    }\n",
       "</style>\n",
       "<table border=\"1\" class=\"dataframe\">\n",
       "  <thead>\n",
       "    <tr style=\"text-align: right;\">\n",
       "      <th></th>\n",
       "      <th>Blue</th>\n",
       "      <th>Green</th>\n",
       "      <th>Yellow</th>\n",
       "      <th>Red</th>\n",
       "      <th>Target</th>\n",
       "    </tr>\n",
       "  </thead>\n",
       "  <tbody>\n",
       "    <tr>\n",
       "      <th>0</th>\n",
       "      <td>0.394000</td>\n",
       "      <td>1.250999</td>\n",
       "      <td>0.137000</td>\n",
       "      <td>0.061999</td>\n",
       "      <td>0.0</td>\n",
       "    </tr>\n",
       "    <tr>\n",
       "      <th>1</th>\n",
       "      <td>0.339001</td>\n",
       "      <td>1.048000</td>\n",
       "      <td>0.151999</td>\n",
       "      <td>0.023001</td>\n",
       "      <td>0.0</td>\n",
       "    </tr>\n",
       "    <tr>\n",
       "      <th>2</th>\n",
       "      <td>0.341999</td>\n",
       "      <td>1.008001</td>\n",
       "      <td>0.129000</td>\n",
       "      <td>0.203001</td>\n",
       "      <td>0.0</td>\n",
       "    </tr>\n",
       "    <tr>\n",
       "      <th>3</th>\n",
       "      <td>0.392000</td>\n",
       "      <td>0.965000</td>\n",
       "      <td>0.149000</td>\n",
       "      <td>0.150000</td>\n",
       "      <td>0.0</td>\n",
       "    </tr>\n",
       "    <tr>\n",
       "      <th>4</th>\n",
       "      <td>0.333000</td>\n",
       "      <td>1.040001</td>\n",
       "      <td>0.125999</td>\n",
       "      <td>0.101999</td>\n",
       "      <td>0.0</td>\n",
       "    </tr>\n",
       "  </tbody>\n",
       "</table>\n",
       "</div>"
      ],
      "text/plain": [
       "       Blue     Green    Yellow       Red  Target\n",
       "0  0.394000  1.250999  0.137000  0.061999     0.0\n",
       "1  0.339001  1.048000  0.151999  0.023001     0.0\n",
       "2  0.341999  1.008001  0.129000  0.203001     0.0\n",
       "3  0.392000  0.965000  0.149000  0.150000     0.0\n",
       "4  0.333000  1.040001  0.125999  0.101999     0.0"
      ]
     },
     "execution_count": 3,
     "metadata": {},
     "output_type": "execute_result"
    }
   ],
   "source": [
    "lyraeSet.head()"
   ]
  },
  {
   "cell_type": "markdown",
   "metadata": {},
   "source": [
    "2\\. Answer the following questions:\n",
    "\n",
    "Is this a classification or regression problem?\n",
    "\n",
    "* **Classification**\n",
    "\n",
    "Is this supervised or unsupervised learning?\n",
    "\n",
    "* **Supervised, target vector is present**\n",
    "\n",
    "How many instances are in this data set? \n",
    "\n",
    "* $\\mathbf{93141}$\n",
    "\n",
    "How many features? What is their range?\n",
    "\n",
    "* **4 features (colors: Blue, Green, Yellow, Red)**\n",
    "\n",
    "How many RR Lyrae are in the data set? "
   ]
  },
  {
   "cell_type": "code",
   "execution_count": 4,
   "metadata": {},
   "outputs": [
    {
     "data": {
      "text/plain": [
       "483"
      ]
     },
     "execution_count": 4,
     "metadata": {},
     "output_type": "execute_result"
    }
   ],
   "source": [
    "lyraeSet[lyraeSet['Target'] == 1].shape[0]"
   ]
  },
  {
   "cell_type": "code",
   "execution_count": 5,
   "metadata": {
    "scrolled": true
   },
   "outputs": [
    {
     "name": "stdout",
     "output_type": "stream",
     "text": [
      "Amount of RR Lyrae Variable Stars: 483\n"
     ]
    }
   ],
   "source": [
    "print('Amount of RR Lyrae Variable Stars: {}'.format(lyraeSet[lyraeSet['Target'] == 1].shape[0]))"
   ]
  },
  {
   "cell_type": "markdown",
   "metadata": {},
   "source": [
    "What would be the accuracy of a classifier that classifies all objects in the data set as non-RR Lyrae?\n",
    "\n",
    "$$\\frac{TP + TN}{TP + TN + FP + FN}$$\n"
   ]
  },
  {
   "cell_type": "code",
   "execution_count": 6,
   "metadata": {
    "scrolled": true
   },
   "outputs": [],
   "source": [
    "def TP_(positive_class= 1):\n",
    "    \"\"\"Returns the amount for the Positive Class\"\"\"\n",
    "    amount = lyraeSet[lyraeSet['Target'] == positive_class].shape[0]\n",
    "    total = lyraeSet['Target'].shape[0]\n",
    "    difference = total - amount\n",
    "    return (amount, total, difference)"
   ]
  },
  {
   "cell_type": "code",
   "execution_count": 7,
   "metadata": {},
   "outputs": [],
   "source": [
    "accuracy__ = lambda TP, TN, total: (TP + TN)/total\n",
    "precision__ = lambda TP, FP: TP/(TP + FP)\n",
    "recall__ = lambda TP, FN: TP/(TP + FN)"
   ]
  },
  {
   "cell_type": "code",
   "execution_count": 8,
   "metadata": {
    "scrolled": true
   },
   "outputs": [
    {
     "data": {
      "text/plain": [
       "0.99481431378233"
      ]
     },
     "execution_count": 8,
     "metadata": {},
     "output_type": "execute_result"
    }
   ],
   "source": [
    "# When 1 (RR Lyrae) is the positive class\n",
    "accuracy__(0, TP_()[2], TP_()[1])"
   ]
  },
  {
   "cell_type": "code",
   "execution_count": 9,
   "metadata": {
    "scrolled": false
   },
   "outputs": [
    {
     "data": {
      "text/plain": [
       "0.99481431378233"
      ]
     },
     "execution_count": 9,
     "metadata": {},
     "output_type": "execute_result"
    }
   ],
   "source": [
    "# When 0 (Non-RR Lyrae) is the positive class\n",
    "accuracy__(TP_(0)[0], 0, TP_(0)[1])"
   ]
  },
  {
   "cell_type": "markdown",
   "metadata": {},
   "source": [
    "**Very Unbalanced: Non-Lyrae are the most common**"
   ]
  },
  {
   "cell_type": "code",
   "execution_count": 10,
   "metadata": {},
   "outputs": [
    {
     "data": {
      "image/png": "[encoded data removed]",
      "text/plain": [
       "<Figure size 432x288 with 1 Axes>"
      ]
     },
     "metadata": {
      "needs_background": "light"
     },
     "output_type": "display_data"
    }
   ],
   "source": [
    "plt.hist(lyraeSet['Target'], edgecolor= 'k');"
   ]
  },
  {
   "cell_type": "markdown",
   "metadata": {},
   "source": [
    "3\\. Build a decision tree classifier for this data set, using an 80/20 train test split like last time. What is the performance on the test set?"
   ]
  },
  {
   "cell_type": "code",
   "execution_count": 11,
   "metadata": {},
   "outputs": [],
   "source": [
    "# Creates the Model\n",
    "lyraeModel = DTC()\n",
    "\n",
    "# Since my Features and Targets are separated, \n",
    "# we'll create the train and test sets\n",
    "\n",
    "Data = lyraeSet[['Blue', 'Green', 'Yellow', 'Red']]\n",
    "Target = lyraeSet['Target']\n",
    "xtrain, xtest, ytrain, ytest = tts(Data, Target, test_size= 0.2, \n",
    "                                   train_size= 0.8, random_state= 5)\n",
    "\n",
    "# Now we'll fit the model with the training data\n",
    "lyraeModel.fit(xtrain, ytrain)\n",
    "\n",
    "# Now we'll test the model by making predictions on the test set\n",
    "ypred = lyraeModel.predict(xtest)"
   ]
  },
  {
   "cell_type": "markdown",
   "metadata": {},
   "source": [
    "**Performance**"
   ]
  },
  {
   "cell_type": "code",
   "execution_count": 12,
   "metadata": {},
   "outputs": [
    {
     "data": {
      "text/plain": [
       "0.9952761822964196"
      ]
     },
     "execution_count": 12,
     "metadata": {},
     "output_type": "execute_result"
    }
   ],
   "source": [
    "acc(ytest, ypred)"
   ]
  },
  {
   "cell_type": "code",
   "execution_count": 13,
   "metadata": {},
   "outputs": [
    {
     "data": {
      "text/plain": [
       "0.5181818181818182"
      ]
     },
     "execution_count": 13,
     "metadata": {},
     "output_type": "execute_result"
    }
   ],
   "source": [
    "ps(ytest, ypred)"
   ]
  },
  {
   "cell_type": "markdown",
   "metadata": {},
   "source": [
    "We can now implement the k-fold cross validation algorithm using the following syntax (note that this assumes that your algorithm is called 'model'):\n",
    "\n",
    "http://scikit-learn.org/stable/modules/cross_validation.html"
   ]
  },
  {
   "cell_type": "code",
   "execution_count": 14,
   "metadata": {},
   "outputs": [
    {
     "data": {
      "text/plain": [
       "array([0.99425627, 0.99463203, 0.99500778, 0.99543673, 0.99387985])"
      ]
     },
     "execution_count": 14,
     "metadata": {},
     "output_type": "execute_result"
    }
   ],
   "source": [
    "scores = cvs(lyraeModel, Data , Target , cv=5)\n",
    "scores"
   ]
  },
  {
   "cell_type": "code",
   "execution_count": 15,
   "metadata": {},
   "outputs": [
    {
     "data": {
      "text/plain": [
       "array([0., 0., 0., ..., 0., 0., 0.])"
      ]
     },
     "execution_count": 15,
     "metadata": {},
     "output_type": "execute_result"
    }
   ],
   "source": [
    "ypred1 = cvp(lyraeModel, Data, Target, cv=5)\n",
    "ypred1"
   ]
  },
  {
   "cell_type": "markdown",
   "metadata": {},
   "source": [
    "4\\. Report the scores, and calculate the mean and standard deviation of the scores vector. "
   ]
  },
  {
   "cell_type": "code",
   "execution_count": 16,
   "metadata": {},
   "outputs": [
    {
     "data": {
      "text/plain": [
       "array([0.99425627, 0.99463203, 0.99500778, 0.99543673, 0.99387985])"
      ]
     },
     "execution_count": 16,
     "metadata": {},
     "output_type": "execute_result"
    }
   ],
   "source": [
    "scores"
   ]
  },
  {
   "cell_type": "code",
   "execution_count": 17,
   "metadata": {},
   "outputs": [
    {
     "name": "stdout",
     "output_type": "stream",
     "text": [
      "Mean: 0.9946425318929293, Standard Deviation: 0.0005468370415918771\n"
     ]
    }
   ],
   "source": [
    "score_info = (scores.mean(), scores.std())\n",
    "print('Mean: {}, Standard Deviation: {}'.format(score_info[0], score_info[1]))"
   ]
  },
  {
   "cell_type": "markdown",
   "metadata": {},
   "source": [
    "5\\. Calculate and plot the confusion matrix for your model (Note: you will need to copy/paste the \"plot_confusion_matrix\" function from one of the previous notebooks, and use the function cross_val_predict to get the predicted labels). "
   ]
  },
  {
   "cell_type": "code",
   "execution_count": 18,
   "metadata": {},
   "outputs": [],
   "source": [
    "#This is just a function that plots them\n",
    "def plot_confusion_matrix(cm, classes,\n",
    "                          normalize=False,\n",
    "                          title='Confusion matrix',\n",
    "                          cmap=plt.cm.Blues, return_cm= False):\n",
    "    \"\"\"\n",
    "    This function prints and plots the confusion matrix.\n",
    "    Normalization can be applied by setting `normalize=True`.\n",
    "    \"\"\"\n",
    "    if return_cm == False:\n",
    "        if normalize:\n",
    "            cm = cm.astype('float') / cm.sum(axis=1)[:, np.newaxis]\n",
    "            print(\"Normalized confusion matrix\")\n",
    "        else:\n",
    "            print('Confusion matrix, without normalization')\n",
    "\n",
    "        print(cm)\n",
    "\n",
    "        plt.imshow(cm, interpolation='nearest', cmap=cmap)\n",
    "        plt.title(title)\n",
    "        plt.colorbar()\n",
    "        tick_marks = np.arange(len(classes))\n",
    "        plt.xticks(tick_marks, classes, rotation=45)\n",
    "        plt.yticks(tick_marks, classes)\n",
    "\n",
    "        fmt = '.2f' if normalize else 'd'\n",
    "        thresh = cm.max() / 2.\n",
    "        for i, j in itr.product(range(cm.shape[0]), range(cm.shape[1])):\n",
    "            plt.text(j, i, format(cm[i, j], fmt),\n",
    "                     horizontalalignment=\"center\",\n",
    "                     color=\"white\" if cm[i, j] > thresh else \"black\")\n",
    "\n",
    "        plt.tight_layout()\n",
    "        plt.ylabel('True label')\n",
    "        plt.xlabel('Predicted label')\n",
    "        \n",
    "    else:\n",
    "        return cm"
   ]
  },
  {
   "cell_type": "code",
   "execution_count": 19,
   "metadata": {},
   "outputs": [
    {
     "name": "stdout",
     "output_type": "stream",
     "text": [
      "Confusion matrix, without normalization\n",
      "[[18484    53]\n",
      " [   35    57]]\n"
     ]
    },
    {
     "data": {
      "image/png": "[encoded data removed]",
      "text/plain": [
       "<Figure size 432x288 with 2 Axes>"
      ]
     },
     "metadata": {
      "needs_background": "light"
     },
     "output_type": "display_data"
    }
   ],
   "source": [
    "# Computes the confusion matrix\n",
    "confuse_mtrx = cfm(ytest, ypred)\n",
    "np.set_printoptions(precision=2)\n",
    "\n",
    "# Creates a figure\n",
    "plt.figure()\n",
    "\n",
    "# Plots the non-normalized confusion matrix\n",
    "plot_confusion_matrix(confuse_mtrx, classes=[0, 1],\n",
    "                      title='Confusion matrix')"
   ]
  },
  {
   "cell_type": "markdown",
   "metadata": {},
   "source": [
    "6\\. Based on the confusion matrix, how many true positive, true negative, false positive, false negative instances do you have?"
   ]
  },
  {
   "cell_type": "code",
   "execution_count": 20,
   "metadata": {},
   "outputs": [
    {
     "name": "stdout",
     "output_type": "stream",
     "text": [
      "Assuming 1 is the Positive Class\n",
      "True Positive: 57 \n",
      "True Negative: 18484 \n",
      "False Positive: 53 \n",
      "False Negative: 35\n"
     ]
    }
   ],
   "source": [
    "answer_Q6 = plot_confusion_matrix(confuse_mtrx, \n",
    "                                  classes=[0, 1], \n",
    "                                  title='Confusion matrix', \n",
    "                                  return_cm= True)\n",
    "\n",
    "print('Assuming 1 is the Positive Class')\n",
    "print('True Positive: {} \\nTrue Negative: {} \\nFalse Positive: {} \\nFalse Negative: {}'. format(answer_Q6[1][1], \n",
    "                                                                                                answer_Q6[0][0], \n",
    "                                                                                                answer_Q6[0][1], \n",
    "                                                                                                answer_Q6[1][0]))"
   ]
  },
  {
   "cell_type": "markdown",
   "metadata": {},
   "source": [
    "7\\. Based on the definitions given on the slides, calculate accuracy, precision and recall. <b>Important:</b> You need to use the formula, not the built-in functions, and write the steps!"
   ]
  },
  {
   "cell_type": "code",
   "execution_count": 21,
   "metadata": {},
   "outputs": [
    {
     "data": {
      "text/plain": [
       "0.9952761822964196"
      ]
     },
     "execution_count": 21,
     "metadata": {},
     "output_type": "execute_result"
    }
   ],
   "source": [
    "ttl = sum([answer_Q6[0,0], answer_Q6[1,1], answer_Q6[1,0], answer_Q6[0,1]])\n",
    "accuracy__(answer_Q6[0,0], answer_Q6[1,1], ttl)"
   ]
  },
  {
   "cell_type": "code",
   "execution_count": 22,
   "metadata": {},
   "outputs": [
    {
     "data": {
      "text/plain": [
       "0.9981100491387224"
      ]
     },
     "execution_count": 22,
     "metadata": {},
     "output_type": "execute_result"
    }
   ],
   "source": [
    "precision__(answer_Q6[0,0], answer_Q6[1,0])"
   ]
  },
  {
   "cell_type": "code",
   "execution_count": 23,
   "metadata": {},
   "outputs": [
    {
     "data": {
      "text/plain": [
       "0.9971408534282786"
      ]
     },
     "execution_count": 23,
     "metadata": {},
     "output_type": "execute_result"
    }
   ],
   "source": [
    "recall__(answer_Q6[0,0], answer_Q6[0,1])"
   ]
  },
  {
   "cell_type": "markdown",
   "metadata": {},
   "source": [
    "8\\. Which evaluation metric is used by the cross validation score above? [To answer this question, you might need to check out the description of the function]. Given the distribution of classes in your data set, do you see a possible issue?"
   ]
  },
  {
   "cell_type": "markdown",
   "metadata": {},
   "source": [
    "Other evaluation metrics can be found in scikit using the code below.\n",
    "\n",
    "More info: http://scikit-learn.org/stable/modules/model_evaluation.html#classification-metrics\n"
   ]
  },
  {
   "cell_type": "code",
   "execution_count": 24,
   "metadata": {},
   "outputs": [
    {
     "name": "stdout",
     "output_type": "stream",
     "text": [
      "Accuracy: 0.9952761822964196\n",
      "Recall: 0.6195652173913043\n",
      "Precision: 0.5181818181818182\n",
      "F1 Score: 0.5643564356435643\n"
     ]
    }
   ],
   "source": [
    "print('Accuracy: {}'.format(acc(ytest, ypred)))    \n",
    "print('Recall: {}'.format(rs(ytest, ypred)))      \n",
    "print('Precision: {}'.format(ps(ytest, ypred)))   \n",
    "print('F1 Score: {}'.format(f1(ytest, ypred)))  "
   ]
  },
  {
   "cell_type": "markdown",
   "metadata": {},
   "source": [
    "9\\. What happens to each of the metrics above if you flip y_test and y_pred in the above? \n"
   ]
  },
  {
   "cell_type": "code",
   "execution_count": 25,
   "metadata": {},
   "outputs": [
    {
     "name": "stdout",
     "output_type": "stream",
     "text": [
      "Accuracy: 0.9952761822964196\n",
      "Recall: 0.5181818181818182\n",
      "Precision: 0.6195652173913043\n",
      "F1 Score: 0.5643564356435643\n"
     ]
    }
   ],
   "source": [
    "print('Accuracy: {}'.format(acc(ypred, ytest)))    \n",
    "print('Recall: {}'.format(rs(ypred, ytest)))      \n",
    "print('Precision: {}'.format(ps(ypred, ytest)))   \n",
    "print('F1 Score: {}'.format(f1(ypred, ytest)))  "
   ]
  },
  {
   "cell_type": "markdown",
   "metadata": {},
   "source": [
    "**Nothing Happens to the FI Score or the Accuracy but Recall and Precision do a flip flop**"
   ]
  },
  {
   "cell_type": "markdown",
   "metadata": {},
   "source": [
    "\n",
    "\n",
    "10\\. To compare performance for now, let's use the F1 score, a weighted average of precision and recall.\n",
    "\n",
    "F1 = 2 * (precision * recall) / (precision + recall)\n",
    "\n",
    "Find out how to use the f1 score (instead of accuracy) as an optional argument of the cross_val_score function and report the mean and standard deviation of the scores associated to this evaluation metric.\n",
    "\n",
    "Relevant docs: \n",
    "\n",
    "http://scikit-learn.org/stable/modules/generated/sklearn.model_selection.cross_val_score.html#sklearn.model_selection.cross_val_score"
   ]
  },
  {
   "cell_type": "code",
   "execution_count": 26,
   "metadata": {},
   "outputs": [
    {
     "data": {
      "text/plain": [
       "array([0.99, 0.99, 1.  , 1.  , 0.99])"
      ]
     },
     "execution_count": 26,
     "metadata": {},
     "output_type": "execute_result"
    }
   ],
   "source": [
    "scores2 = cvs(lyraeModel, Data , Target , scoring= 'f1_weighted', cv=5)\n",
    "scores2"
   ]
  },
  {
   "cell_type": "code",
   "execution_count": 27,
   "metadata": {},
   "outputs": [
    {
     "data": {
      "text/plain": [
       "(0.9948812876093444, 0.0006791636536754457)"
      ]
     },
     "execution_count": 27,
     "metadata": {},
     "output_type": "execute_result"
    }
   ],
   "source": [
    "(scores2.mean(), scores2.std())"
   ]
  },
  {
   "cell_type": "markdown",
   "metadata": {},
   "source": [
    "11\\. It is now time to look at some diagnostics. Use an 80/20 training split (so each fold is 20% of the data, like in your cross validation). Report the f1 score obtained by your model\n",
    "when applied to the training set (i.e. when you predict the labels of the training set). How does it compare with the cross validation score? Based on this result, do you think your algorithm suffers from high variance or high bias and why?"
   ]
  },
  {
   "cell_type": "code",
   "execution_count": 28,
   "metadata": {},
   "outputs": [
    {
     "data": {
      "text/plain": [
       "[1.0, 1.0, 1.0, 1.0, 1.0]"
      ]
     },
     "execution_count": 28,
     "metadata": {},
     "output_type": "execute_result"
    }
   ],
   "source": [
    "xtrain, xtest, ytrain, ytest = tts(Data, Target, test_size= 0.2, \n",
    "                                   train_size= 0.8, random_state= 5)\n",
    "\n",
    "# Now we'll fit the model with the training data\n",
    "lyraeModel.fit(xtrain, ytrain)\n",
    "\n",
    "# Now we'll test the model by making predictions on the test set\n",
    "ypred = lyraeModel.predict(xtrain)\n",
    "\n",
    "cvs_knockoff = []\n",
    "for i in range(5):\n",
    "    cvs_knockoff.append(f1(ytrain, ypred))\n",
    "cvs_knockoff"
   ]
  },
  {
   "cell_type": "markdown",
   "metadata": {},
   "source": [
    "Finally, we can look at learning curves. \n",
    "\n",
    "Give your data set a good shuffle using the following code:"
   ]
  },
  {
   "cell_type": "code",
   "execution_count": 29,
   "metadata": {},
   "outputs": [],
   "source": [
    "Data, Target = shuffle(Data, Target, random_state=13)"
   ]
  },
  {
   "cell_type": "markdown",
   "metadata": {},
   "source": [
    "To build learning curves, we need to check how the performance of our algorithm changes when using an increasing amount of data. We will check the scores that we obtain when using 20, 40, 60, 80 and 100% of our data set.\n",
    "\n",
    "The following lines demonstrate how to do this to create a new, smaller data set that contains the first 20% of your original data set:    "
   ]
  },
  {
   "cell_type": "code",
   "execution_count": 30,
   "metadata": {},
   "outputs": [],
   "source": [
    "number_samples = Data.shape[0] #total size of data set \n",
    "Data_little, Target_little = Data[:int(number_samples*0.2)][:], Target[:int(number_samples*0.2)] #what does this do?"
   ]
  },
  {
   "cell_type": "markdown",
   "metadata": {},
   "source": [
    "12\\. Calculate the mean and the standard deviation of the 5-fold cross validation score for the data set above (don't forget to use 'f1' as the scoring parameter of the 'cross_val_score' function, otherwise it will default to accuracy)."
   ]
  },
  {
   "cell_type": "code",
   "execution_count": 31,
   "metadata": {},
   "outputs": [
    {
     "name": "stdout",
     "output_type": "stream",
     "text": [
      "Mean: 0.4313876664906413; Standard Deviation: 0.049600926472618705\n"
     ]
    }
   ],
   "source": [
    "# 20 Percent\n",
    "scores3 = cvs(lyraeModel, Data_little , Target_little , scoring= 'f1', cv=5)\n",
    "print('Mean: {}; Standard Deviation: {}'.format(scores3.mean(), scores3.std()))"
   ]
  },
  {
   "cell_type": "markdown",
   "metadata": {},
   "source": [
    "13\\. Now do the same but using 40, 60, 80 and 100% of your data set. "
   ]
  },
  {
   "cell_type": "code",
   "execution_count": 32,
   "metadata": {},
   "outputs": [
    {
     "name": "stdout",
     "output_type": "stream",
     "text": [
      "Mean: 0.5097614969160461; Standard Deviation: 0.04914211599460979\n"
     ]
    }
   ],
   "source": [
    "# 40 Percent\n",
    "number_samples = Data.shape[0] #total size of data set \n",
    "Data_little, Target_little = Data[:int(number_samples*0.4)][:], Target[:int(number_samples*0.4)] #what does this do?\n",
    "scores4 = cvs(lyraeModel, Data_little , Target_little , scoring= 'f1', cv=5)\n",
    "print('Mean: {}; Standard Deviation: {}'.format(scores4.mean(), scores4.std()))"
   ]
  },
  {
   "cell_type": "code",
   "execution_count": 33,
   "metadata": {},
   "outputs": [
    {
     "name": "stdout",
     "output_type": "stream",
     "text": [
      "Mean: 0.4983447314377896; Standard Deviation: 0.07523660575509351\n"
     ]
    }
   ],
   "source": [
    "# 60 Percent\n",
    "number_samples = Data.shape[0] #total size of data set \n",
    "Data_little, Target_little = Data[:int(number_samples*0.6)][:], Target[:int(number_samples*0.6)] #what does this do?\n",
    "scores5 = cvs(lyraeModel, Data_little , Target_little , scoring= 'f1', cv=5)\n",
    "print('Mean: {}; Standard Deviation: {}'.format(scores5.mean(), scores5.std()))"
   ]
  },
  {
   "cell_type": "code",
   "execution_count": 34,
   "metadata": {},
   "outputs": [
    {
     "name": "stdout",
     "output_type": "stream",
     "text": [
      "Mean: 0.5184562630510162; Standard Deviation: 0.02896073724086796\n"
     ]
    }
   ],
   "source": [
    "# 80 Percent\n",
    "number_samples = Data.shape[0] #total size of data set \n",
    "Data_little, Target_little = Data[:int(number_samples*0.8)][:], Target[:int(number_samples*0.8)] #what does this do?\n",
    "scores6 = cvs(lyraeModel, Data_little , Target_little , scoring= 'f1', cv=5)\n",
    "print('Mean: {}; Standard Deviation: {}'.format(scores6.mean(), scores6.std()))"
   ]
  },
  {
   "cell_type": "code",
   "execution_count": 35,
   "metadata": {},
   "outputs": [
    {
     "name": "stdout",
     "output_type": "stream",
     "text": [
      "Mean: 0.4313876664906413; Standard Deviation: 0.049600926472618705\n"
     ]
    }
   ],
   "source": [
    "# 100 Percent\n",
    "number_samples = Data.shape[0] #total size of data set \n",
    "Data_little, Target_little = Data[:int(number_samples)][:], Target[:int(number_samples)] #what does this do?\n",
    "scores7 = cvs(lyraeModel, Data_little , Target_little , scoring= 'f1', cv=5)\n",
    "print('Mean: {}; Standard Deviation: {}'.format(scores3.mean(), scores3.std()))"
   ]
  },
  {
   "cell_type": "markdown",
   "metadata": {},
   "source": [
    "14\\. Based on the results you obtained, do you think getting more training data would help? (Justify your answer).\n",
    "\n",
    "https://skymind.ai/wiki/accuracy-precision-recall-f1\n",
    "\n",
    "* **The F1 score is considered the overall measure of a model’s accuracy that combines precision and recall.**\n",
    "* **A good F1 score means that you have low false positives and low false negatives.**\n",
    "* **Also an F1 score is considered perfect when it’s 1, while the model is a total failure when it’s 0.**\n",
    "\n",
    "\n",
    "* **What we have here is an 5 F1 scores that have a mean of about 44%, meaning we have a good amount of false positives or negatives. This makes sense since our data is not balanced. Therefore, more training data should help only if it makes the dataset balance.**\n"
   ]
  },
  {
   "cell_type": "markdown",
   "metadata": {},
   "source": [
    "<b> Extra Credit </b>"
   ]
  },
  {
   "cell_type": "markdown",
   "metadata": {
    "collapsed": true
   },
   "source": [
    "15\\. Save the values and plot the f1 score for the 5 models in a plot where \"percentage of the data set used\" (20, 40, ... 100%) is on the x axis and 'F1 score' is on the y axis. "
   ]
  },
  {
   "cell_type": "code",
   "execution_count": 36,
   "metadata": {},
   "outputs": [
    {
     "data": {
      "image/png": "[encoded data removed]",
      "text/plain": [
       "<Figure size 432x288 with 1 Axes>"
      ]
     },
     "metadata": {
      "needs_background": "light"
     },
     "output_type": "display_data"
    }
   ],
   "source": [
    "xLabel = [0.2, 0.4, 0.6, 0.8, 1.0]\n",
    "fig, ax1 = plt.subplots()\n",
    "scores_agg = [scores3.mean(), scores4.mean(),\n",
    "              scores5.mean(), scores6.mean(), scores7.mean()]\n",
    "ax1.plot(xLabel, scores_agg)\n",
    "ax1.set(xlabel= 'Percentage', ylabel= 'F1 Score', \n",
    "        title= 'F1 vs. Percentage', xlim= (0.1, 1.1),\n",
    "        ylim= (0, 1));"
   ]
  },
  {
   "cell_type": "markdown",
   "metadata": {},
   "source": [
    "16\\. Do the same as above, but this time create an error bar plot where the y errors are given by the standard deviation of the scores you obtained in the 5 folds of the cross-validation. Why is the standard deviation information useful?"
   ]
  },
  {
   "cell_type": "code",
   "execution_count": 37,
   "metadata": {},
   "outputs": [
    {
     "data": {
      "image/png": "[encoded data removed]",
      "text/plain": [
       "<Figure size 432x288 with 1 Axes>"
      ]
     },
     "metadata": {
      "needs_background": "light"
     },
     "output_type": "display_data"
    }
   ],
   "source": [
    "fig, ax2 = plt.subplots()\n",
    "scores_agg_ = [scores3.std(), scores4.std(),\n",
    "              scores5.std(), scores6.std(), scores7.std()]\n",
    "ax2.errorbar(xLabel, scores_agg, scores_agg_)\n",
    "ax2.set(xlabel= 'Percentage', ylabel= 'F1 Score', \n",
    "        title= 'F1 vs. Percentage', xlim= (0.1, 1.1),\n",
    "        ylim= (0, 1));"
   ]
  }
 ],
 "metadata": {
  "kernelspec": {
   "display_name": "Python 3",
   "language": "python",
   "name": "python3"
  },
  "language_info": {
   "codemirror_mode": {
    "name": "ipython",
    "version": 3
   },
   "file_extension": ".py",
   "mimetype": "text/x-python",
   "name": "python",
   "nbconvert_exporter": "python",
   "pygments_lexer": "ipython3",
   "version": "3.6.7"
  }
 },
 "nbformat": 4,
 "nbformat_minor": 2
}
