{
 "cells": [
  {
   "cell_type": "markdown",
   "metadata": {},
   "source": [
    "**Name: Christ-Brian Amedjonekou**  \n",
    "**Date: 03/18/2019**  \n",
    "**PHYS 3600ID-D862 (Machine Learning) HW 4**  \n",
    "**Spring 2019, Section: D862, Code: 37026**  \n",
    "**Instructor: Viviana Acquaviva**\n",
    "\n",
    "\n",
    "***I certify that my work is my own.***"
   ]
  },
  {
   "cell_type": "markdown",
   "metadata": {},
   "source": [
    "#### Data description\n",
    "\n",
    "The data we use for this worksheet are about stars. Our features are the so-called \"colors\", which give an indication of whether a star emits more blue, green, yellow, or red light. We are trying to predict whether a star is a special type of star called a RR-Lyrae variable star. So our target values will be yes/no (1/0 in the language of numpy arrays)."
   ]
  },
  {
   "cell_type": "markdown",
   "metadata": {},
   "source": [
    "1\\. Load the data for features and target from the appropriate files and save them as numpy arrays. "
   ]
  },
  {
   "cell_type": "code",
   "execution_count": 17,
   "metadata": {},
   "outputs": [],
   "source": [
    "import numpy as np\n",
    "import pandas as pd\n",
    "import matplotlib.pyplot as plt\n",
    "import seaborn as sns\n",
    "from sklearn.model_selection import train_test_split as tts\n",
    "from sklearn.tree import DecisionTreeClassifier as DTC\n",
    "from sklearn.metrics import accuracy_score as acc, confusion_matrix as cfm"
   ]
  },
  {
   "cell_type": "code",
   "execution_count": 6,
   "metadata": {},
   "outputs": [
    {
     "name": "stdout",
     "output_type": "stream",
     "text": [
      "<class 'pandas.core.frame.DataFrame'>\n",
      "RangeIndex: 93141 entries, 0 to 93140\n",
      "Data columns (total 5 columns):\n",
      "Blue      93141 non-null float64\n",
      "Green     93141 non-null float64\n",
      "Yellow    93141 non-null float64\n",
      "Red       93141 non-null float64\n",
      "Target    93141 non-null int64\n",
      "dtypes: float64(4), int64(1)\n",
      "memory usage: 3.6 MB\n"
     ]
    }
   ],
   "source": [
    "lyraeSet = pd.read_excel('Datasets/RRLyrae_full.xlsx')\n",
    "lyraeSet.info()"
   ]
  },
  {
   "cell_type": "code",
   "execution_count": 5,
   "metadata": {},
   "outputs": [
    {
     "data": {
      "text/html": [
       "<div>\n",
       "<style scoped>\n",
       "    .dataframe tbody tr th:only-of-type {\n",
       "        vertical-align: middle;\n",
       "    }\n",
       "\n",
       "    .dataframe tbody tr th {\n",
       "        vertical-align: top;\n",
       "    }\n",
       "\n",
       "    .dataframe thead th {\n",
       "        text-align: right;\n",
       "    }\n",
       "</style>\n",
       "<table border=\"1\" class=\"dataframe\">\n",
       "  <thead>\n",
       "    <tr style=\"text-align: right;\">\n",
       "      <th></th>\n",
       "      <th>Blue</th>\n",
       "      <th>Green</th>\n",
       "      <th>Yellow</th>\n",
       "      <th>Red</th>\n",
       "      <th>Target</th>\n",
       "    </tr>\n",
       "  </thead>\n",
       "  <tbody>\n",
       "    <tr>\n",
       "      <th>0</th>\n",
       "      <td>0.394000</td>\n",
       "      <td>1.250999</td>\n",
       "      <td>0.137000</td>\n",
       "      <td>0.061999</td>\n",
       "      <td>0</td>\n",
       "    </tr>\n",
       "    <tr>\n",
       "      <th>1</th>\n",
       "      <td>0.339001</td>\n",
       "      <td>1.048000</td>\n",
       "      <td>0.151999</td>\n",
       "      <td>0.023001</td>\n",
       "      <td>0</td>\n",
       "    </tr>\n",
       "    <tr>\n",
       "      <th>2</th>\n",
       "      <td>0.341999</td>\n",
       "      <td>1.008001</td>\n",
       "      <td>0.129000</td>\n",
       "      <td>0.203001</td>\n",
       "      <td>0</td>\n",
       "    </tr>\n",
       "    <tr>\n",
       "      <th>3</th>\n",
       "      <td>0.392000</td>\n",
       "      <td>0.965000</td>\n",
       "      <td>0.149000</td>\n",
       "      <td>0.150000</td>\n",
       "      <td>0</td>\n",
       "    </tr>\n",
       "    <tr>\n",
       "      <th>4</th>\n",
       "      <td>0.333000</td>\n",
       "      <td>1.040001</td>\n",
       "      <td>0.125999</td>\n",
       "      <td>0.101999</td>\n",
       "      <td>0</td>\n",
       "    </tr>\n",
       "    <tr>\n",
       "      <th>5</th>\n",
       "      <td>0.373999</td>\n",
       "      <td>1.154001</td>\n",
       "      <td>0.145000</td>\n",
       "      <td>0.121000</td>\n",
       "      <td>0</td>\n",
       "    </tr>\n",
       "    <tr>\n",
       "      <th>6</th>\n",
       "      <td>0.384001</td>\n",
       "      <td>0.965000</td>\n",
       "      <td>0.118999</td>\n",
       "      <td>0.011000</td>\n",
       "      <td>0</td>\n",
       "    </tr>\n",
       "    <tr>\n",
       "      <th>7</th>\n",
       "      <td>0.370998</td>\n",
       "      <td>1.015001</td>\n",
       "      <td>0.158001</td>\n",
       "      <td>0.091999</td>\n",
       "      <td>0</td>\n",
       "    </tr>\n",
       "    <tr>\n",
       "      <th>8</th>\n",
       "      <td>0.391001</td>\n",
       "      <td>1.003000</td>\n",
       "      <td>0.145000</td>\n",
       "      <td>0.074999</td>\n",
       "      <td>0</td>\n",
       "    </tr>\n",
       "    <tr>\n",
       "      <th>9</th>\n",
       "      <td>0.330000</td>\n",
       "      <td>0.948000</td>\n",
       "      <td>0.164000</td>\n",
       "      <td>0.021000</td>\n",
       "      <td>0</td>\n",
       "    </tr>\n",
       "    <tr>\n",
       "      <th>10</th>\n",
       "      <td>0.389999</td>\n",
       "      <td>1.020000</td>\n",
       "      <td>0.168001</td>\n",
       "      <td>0.070999</td>\n",
       "      <td>0</td>\n",
       "    </tr>\n",
       "    <tr>\n",
       "      <th>11</th>\n",
       "      <td>0.381001</td>\n",
       "      <td>0.997999</td>\n",
       "      <td>0.143999</td>\n",
       "      <td>0.092001</td>\n",
       "      <td>0</td>\n",
       "    </tr>\n",
       "    <tr>\n",
       "      <th>12</th>\n",
       "      <td>0.390999</td>\n",
       "      <td>0.882000</td>\n",
       "      <td>0.130001</td>\n",
       "      <td>0.156000</td>\n",
       "      <td>0</td>\n",
       "    </tr>\n",
       "    <tr>\n",
       "      <th>13</th>\n",
       "      <td>0.289000</td>\n",
       "      <td>0.851000</td>\n",
       "      <td>0.106001</td>\n",
       "      <td>0.028999</td>\n",
       "      <td>0</td>\n",
       "    </tr>\n",
       "    <tr>\n",
       "      <th>14</th>\n",
       "      <td>0.392000</td>\n",
       "      <td>0.985001</td>\n",
       "      <td>0.147999</td>\n",
       "      <td>0.048000</td>\n",
       "      <td>0</td>\n",
       "    </tr>\n",
       "    <tr>\n",
       "      <th>15</th>\n",
       "      <td>0.329000</td>\n",
       "      <td>0.914000</td>\n",
       "      <td>0.142000</td>\n",
       "      <td>0.077000</td>\n",
       "      <td>0</td>\n",
       "    </tr>\n",
       "    <tr>\n",
       "      <th>16</th>\n",
       "      <td>0.339001</td>\n",
       "      <td>1.011999</td>\n",
       "      <td>0.166000</td>\n",
       "      <td>0.101999</td>\n",
       "      <td>0</td>\n",
       "    </tr>\n",
       "    <tr>\n",
       "      <th>17</th>\n",
       "      <td>0.372000</td>\n",
       "      <td>0.864000</td>\n",
       "      <td>0.176001</td>\n",
       "      <td>0.070000</td>\n",
       "      <td>0</td>\n",
       "    </tr>\n",
       "    <tr>\n",
       "      <th>18</th>\n",
       "      <td>0.373001</td>\n",
       "      <td>1.035000</td>\n",
       "      <td>0.191999</td>\n",
       "      <td>0.073999</td>\n",
       "      <td>0</td>\n",
       "    </tr>\n",
       "    <tr>\n",
       "      <th>19</th>\n",
       "      <td>0.353001</td>\n",
       "      <td>1.008999</td>\n",
       "      <td>0.184000</td>\n",
       "      <td>-0.060001</td>\n",
       "      <td>0</td>\n",
       "    </tr>\n",
       "  </tbody>\n",
       "</table>\n",
       "</div>"
      ],
      "text/plain": [
       "        Blue     Green    Yellow       Red  Target\n",
       "0   0.394000  1.250999  0.137000  0.061999       0\n",
       "1   0.339001  1.048000  0.151999  0.023001       0\n",
       "2   0.341999  1.008001  0.129000  0.203001       0\n",
       "3   0.392000  0.965000  0.149000  0.150000       0\n",
       "4   0.333000  1.040001  0.125999  0.101999       0\n",
       "5   0.373999  1.154001  0.145000  0.121000       0\n",
       "6   0.384001  0.965000  0.118999  0.011000       0\n",
       "7   0.370998  1.015001  0.158001  0.091999       0\n",
       "8   0.391001  1.003000  0.145000  0.074999       0\n",
       "9   0.330000  0.948000  0.164000  0.021000       0\n",
       "10  0.389999  1.020000  0.168001  0.070999       0\n",
       "11  0.381001  0.997999  0.143999  0.092001       0\n",
       "12  0.390999  0.882000  0.130001  0.156000       0\n",
       "13  0.289000  0.851000  0.106001  0.028999       0\n",
       "14  0.392000  0.985001  0.147999  0.048000       0\n",
       "15  0.329000  0.914000  0.142000  0.077000       0\n",
       "16  0.339001  1.011999  0.166000  0.101999       0\n",
       "17  0.372000  0.864000  0.176001  0.070000       0\n",
       "18  0.373001  1.035000  0.191999  0.073999       0\n",
       "19  0.353001  1.008999  0.184000 -0.060001       0"
      ]
     },
     "execution_count": 5,
     "metadata": {},
     "output_type": "execute_result"
    }
   ],
   "source": [
    "lyraeSet.head(20)"
   ]
  },
  {
   "cell_type": "markdown",
   "metadata": {},
   "source": [
    "2\\. Answer the following questions:\n",
    "\n",
    "Is this a classification or regression problem?\n",
    "\n",
    "* **Classification**\n",
    "\n",
    "Is this supervised or unsupervised learning?\n",
    "\n",
    "* **Supervised, target vector is present**\n",
    "\n",
    "How many instances are in this data set? \n",
    "\n",
    "* $\\mathbf{93141}$\n",
    "\n",
    "How many features? What is their range?\n",
    "\n",
    "* **4 features (colors: Blue, Green, Yellow, Red)**\n",
    "\n",
    "How many RR Lyrae are in the data set? "
   ]
  },
  {
   "cell_type": "code",
   "execution_count": 13,
   "metadata": {},
   "outputs": [
    {
     "name": "stdout",
     "output_type": "stream",
     "text": [
      "Amount of RR Lyrae Variable Stars: 483\n"
     ]
    }
   ],
   "source": [
    "print('Amount of RR Lyrae Variable Stars: {}'.format(lyraeSet[lyraeSet['Target'] == 1].shape[0]))"
   ]
  },
  {
   "cell_type": "markdown",
   "metadata": {},
   "source": [
    "What would be the accuracy of a classifier that classifies all objects in the data set as non-RR Lyrae?\n",
    "\n",
    "* **If '1' (RR Lyrae) is the negative class then accuracy = $0.5\\%$**\n",
    "    * I'm assuming for this to be the positive class\n",
    "    \n",
    "    \n",
    "* **If '0' (Non-RR Lyrae) is the negative class then accuracy = $99.5\\%$**"
   ]
  },
  {
   "cell_type": "code",
   "execution_count": 20,
   "metadata": {
    "scrolled": true
   },
   "outputs": [],
   "source": [
    "def accuracy_(positive_class= 1):\n",
    "    amount = lyraeSet[lyraeSet['Target'] == positive_class].shape[0]\n",
    "    total = lyraeSet['Target'].shape[0]\n",
    "    return amount/total"
   ]
  },
  {
   "cell_type": "code",
   "execution_count": 21,
   "metadata": {},
   "outputs": [
    {
     "data": {
      "text/plain": [
       "0.005185686217669985"
      ]
     },
     "execution_count": 21,
     "metadata": {},
     "output_type": "execute_result"
    }
   ],
   "source": [
    "# When 1 (RR Lyrae) is the positive class\n",
    "accuracy_()"
   ]
  },
  {
   "cell_type": "code",
   "execution_count": 24,
   "metadata": {
    "scrolled": true
   },
   "outputs": [
    {
     "data": {
      "text/plain": [
       "0.99481431378233"
      ]
     },
     "execution_count": 24,
     "metadata": {},
     "output_type": "execute_result"
    }
   ],
   "source": [
    "# When 0 (Non-RR Lyrae) is the positive class\n",
    "accuracy_(0) "
   ]
  },
  {
   "cell_type": "markdown",
   "metadata": {},
   "source": [
    "**Very Unbalanced: Non-Lyrae are most common it appears**"
   ]
  },
  {
   "cell_type": "code",
   "execution_count": 31,
   "metadata": {},
   "outputs": [
    {
     "data": {
      "image/png": "[encoded data removed]",
      "text/plain": [
       "<Figure size 432x288 with 1 Axes>"
      ]
     },
     "metadata": {
      "needs_background": "light"
     },
     "output_type": "display_data"
    }
   ],
   "source": [
    "plt.hist(lyraeSet['Target'], edgecolor= 'k');"
   ]
  },
  {
   "cell_type": "markdown",
   "metadata": {},
   "source": [
    "3\\. Build a decision tree classifier for this data set, using an 80/20 train test split like last time. What is the performance on the test set?"
   ]
  },
  {
   "cell_type": "code",
   "execution_count": 38,
   "metadata": {},
   "outputs": [],
   "source": [
    "# Creates the Model\n",
    "lyraeModel = DTC()\n",
    "\n",
    "# Since my Features and Targets are separated, \n",
    "# we'll create the train and test sets\n",
    "\n",
    "Data = lyraeSet[['Blue', 'Green', 'Yellow', 'Red']]\n",
    "Target = lyraeSet['Target']\n",
    "xtrain, xtest, ytrain, ytest = tts(Data, Target, test_size= 0.2, \n",
    "                                   train_size= 0.8, random_state= 5)\n",
    "\n",
    "# Now we'll fit the model with the training data\n",
    "lyraeModel.fit(xtrain, ytrain)\n",
    "\n",
    "# Now we'll test the model by making predictions on the test set\n",
    "ypred = lyraeModel.predict(xtest)"
   ]
  },
  {
   "cell_type": "markdown",
   "metadata": {},
   "source": [
    "We can now implement the k-fold cross validation algorithm using the following syntax (note that this assumes that your algorithm is called 'model'):\n",
    "\n",
    "http://scikit-learn.org/stable/modules/cross_validation.html"
   ]
  },
  {
   "cell_type": "code",
   "execution_count": null,
   "metadata": {},
   "outputs": [],
   "source": [
    "from sklearn.model_selection import cross_val_score\n",
    "\n",
    "scores = cross_val_score(model, X, y, cv=5)"
   ]
  },
  {
   "cell_type": "code",
   "execution_count": null,
   "metadata": {
    "collapsed": true
   },
   "outputs": [],
   "source": [
    "#Note: if you want to also save the predicted labels, you can do\n",
    "    \n",
    "from sklearn.model_selection import cross_val_predict\n",
    "\n",
    "ypred = cross_val_predict(model, X, y, cv=5)"
   ]
  },
  {
   "cell_type": "markdown",
   "metadata": {},
   "source": [
    "4\\. Report the scores, and calculate the mean and standard deviation of the scores vector. "
   ]
  },
  {
   "cell_type": "markdown",
   "metadata": {},
   "source": [
    "5\\. Calculate and plot the confusion matrix for your model (Note: you will need to copy/paste the \"plot_confusion_matrix\" function from one of the previous notebooks, and use the function cross_val_predict to get the predicted labels). "
   ]
  },
  {
   "cell_type": "markdown",
   "metadata": {},
   "source": [
    "6\\. Based on the confusion matrix, how many true positive, true negative, false positive, false negative instances do you have?"
   ]
  },
  {
   "cell_type": "markdown",
   "metadata": {},
   "source": [
    "7\\. Based on the definitions given on the slides, calculate accuracy, precision and recall. <b>Important:</b> You need to use the formula, not the built-in functions, and write the steps!"
   ]
  },
  {
   "cell_type": "markdown",
   "metadata": {},
   "source": [
    "8\\. Which evaluation metric is used by the cross validation score above? [To answer this question, you might need to check out the description of the function]. Given the distribution of classes in your data set, do you see a possible issue?"
   ]
  },
  {
   "cell_type": "markdown",
   "metadata": {},
   "source": [
    "Other evaluation metrics can be found in scikit using the code below.\n",
    "\n",
    "More info: http://scikit-learn.org/stable/modules/model_evaluation.html#classification-metrics\n"
   ]
  },
  {
   "cell_type": "code",
   "execution_count": null,
   "metadata": {
    "collapsed": true
   },
   "outputs": [],
   "source": [
    "from sklearn import metrics\n",
    "\n",
    "print metrics.accuracy_score(ytest, ypred)    \n",
    "print metrics.recall_score(ytest, ypred)      \n",
    "print metrics.precision_score(ytest, ypred)   \n",
    "print metrics.f1_score(ytest, ypred)  \n"
   ]
  },
  {
   "cell_type": "markdown",
   "metadata": {},
   "source": [
    "9\\. What happens to each of the metrics above if you flip y_test and y_pred in the above? \n"
   ]
  },
  {
   "cell_type": "markdown",
   "metadata": {},
   "source": [
    "\n",
    "\n",
    "10\\. To compare performance for now, let's use the F1 score, a weighted average of precision and recall.\n",
    "\n",
    "F1 = 2 * (precision * recall) / (precision + recall)\n",
    "\n",
    "Find out how to use the f1 score (instead of accuracy) as an optional argument of the cross_val_score function and report the mean and standard deviation of the scores associated to this evaluation metric.\n",
    "\n",
    "Relevant docs: \n",
    "\n",
    "http://scikit-learn.org/stable/modules/generated/sklearn.model_selection.cross_val_score.html#sklearn.model_selection.cross_val_score"
   ]
  },
  {
   "cell_type": "markdown",
   "metadata": {},
   "source": [
    "11\\. It is now time to look at some diagnostics. Use an 80/20 training split (so each fold is 20% of the data, like in your cross validation). Report the f1 score obtained by your model\n",
    "when applied to the training set (i.e. when you predict the labels of the training set). How does it compare with the cross validation score? Based on this result, do you think your algorithm suffers from high variance or high bias and why?"
   ]
  },
  {
   "cell_type": "markdown",
   "metadata": {},
   "source": [
    "Finally, we can look at learning curves. \n",
    "\n",
    "Give your data set a good shuffle using the following code:"
   ]
  },
  {
   "cell_type": "code",
   "execution_count": null,
   "metadata": {
    "collapsed": true
   },
   "outputs": [],
   "source": [
    "from sklearn.utils import shuffle\n",
    "\n",
    "X, y = shuffle(X, y, random_state=13)"
   ]
  },
  {
   "cell_type": "markdown",
   "metadata": {},
   "source": [
    "To build learning curves, we need to check how the performance of our algorithm changes when using an increasing amount of data. We will check the scores that we obtain when using 20, 40, 60, 80 and 100% of our data set.\n",
    "\n",
    "The following lines demonstrate how to do this to create a new, smaller data set that contains the first 20% of your original data set:    "
   ]
  },
  {
   "cell_type": "code",
   "execution_count": null,
   "metadata": {
    "collapsed": true
   },
   "outputs": [],
   "source": [
    "number_samples = X.shape[0] #total size of data set \n",
    "\n",
    "Xlittle, ylittle = X[:int(number_samples*0.2),:], y[:int(number_samples*0.2)] #what does this do?"
   ]
  },
  {
   "cell_type": "markdown",
   "metadata": {},
   "source": [
    "12\\. Calculate the mean and the standard deviation of the 5-fold cross validation score for the data set above (don't forget to use 'f1' as the scoring parameter of the 'cross_val_score' function, otherwise it will default to accuracy)."
   ]
  },
  {
   "cell_type": "markdown",
   "metadata": {},
   "source": [
    "13\\. Now do the same but using 40, 60, 80 and 100% of your data set. "
   ]
  },
  {
   "cell_type": "markdown",
   "metadata": {},
   "source": [
    "14\\. Based on the results you obtained, do you think getting more training data would help? (Justify your answer)."
   ]
  },
  {
   "cell_type": "markdown",
   "metadata": {},
   "source": [
    "<b> Extra Credit </b>"
   ]
  },
  {
   "cell_type": "markdown",
   "metadata": {
    "collapsed": true
   },
   "source": [
    "15\\. Save the values and plot the f1 score for the 5 models in a plot where \"percentage of the data set used\" (20, 40, ... 100%) is on the x axis and 'F1 score' is on the y axis. "
   ]
  },
  {
   "cell_type": "markdown",
   "metadata": {},
   "source": [
    "16\\. Do the same as above, but this time create an error bar plot where the y errors are given by the standard deviation of the scores you obtained in the 5 folds of the cross-validation. Why is the standard deviation information useful?"
   ]
  }
 ],
 "metadata": {
  "kernelspec": {
   "display_name": "Python 3",
   "language": "python",
   "name": "python3"
  },
  "language_info": {
   "codemirror_mode": {
    "name": "ipython",
    "version": 3
   },
   "file_extension": ".py",
   "mimetype": "text/x-python",
   "name": "python",
   "nbconvert_exporter": "python",
   "pygments_lexer": "ipython3",
   "version": "3.6.7"
  }
 },
 "nbformat": 4,
 "nbformat_minor": 2
}
