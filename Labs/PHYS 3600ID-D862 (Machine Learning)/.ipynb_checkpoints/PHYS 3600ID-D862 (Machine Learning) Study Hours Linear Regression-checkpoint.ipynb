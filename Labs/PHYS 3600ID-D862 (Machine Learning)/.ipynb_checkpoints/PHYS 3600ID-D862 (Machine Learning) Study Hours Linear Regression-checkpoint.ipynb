{
 "cells": [
  {
   "cell_type": "markdown",
   "metadata": {},
   "source": [
    "**Name: Christ-Brian Amedjonekou**  \n",
    "**Date: 04/16/2019**  \n",
    "**PHYS 3600ID-D862 (Machine Learning) HW 6**  \n",
    "**Spring 2019, Section: D862, Code: 37026**  \n",
    "**Instructor: Viviana Acquaviva**\n",
    "\n",
    "\n",
    "***I certify that my work is my own.***"
   ]
  },
  {
   "cell_type": "code",
   "execution_count": 1,
   "metadata": {},
   "outputs": [],
   "source": [
    "#Doing all the imports for you\n",
    "\n",
    "import numpy as np\n",
    "import pandas as pd\n",
    "import matplotlib.pyplot as plt\n",
    "from sklearn.linear_model import LogisticRegression\n",
    "from sklearn.linear_model import LinearRegression\n",
    "from sklearn.model_selection import train_test_split\n",
    "from sklearn.model_selection import StratifiedKFold\n",
    "from sklearn import metrics\n",
    "from sklearn.model_selection import cross_val_score, cross_val_predict\n",
    "%matplotlib inline"
   ]
  },
  {
   "cell_type": "code",
   "execution_count": 2,
   "metadata": {},
   "outputs": [],
   "source": [
    "features = pd.read_csv('Datasets/logRegression_features.txt', names= ['Feature 1', 'Feature 2', 'Feature 3', 'Feature 4'])\n",
    "labels = pd.read_csv('Datasets/logRegression_labels.txt', names= ['Target'])"
   ]
  },
  {
   "cell_type": "code",
   "execution_count": 3,
   "metadata": {},
   "outputs": [],
   "source": [
    "labels = np.array(labels['Target'])"
   ]
  },
  {
   "cell_type": "code",
   "execution_count": 4,
   "metadata": {},
   "outputs": [
    {
     "data": {
      "text/plain": [
       "(483, 2000)"
      ]
     },
     "execution_count": 4,
     "metadata": {},
     "output_type": "execute_result"
    }
   ],
   "source": [
    "np.sum(np.array(labels) > 0), np.sum(np.array(labels) == 0) # This \"small\" data set is more balanced than the original"
   ]
  },
  {
   "cell_type": "markdown",
   "metadata": {},
   "source": [
    "1\\. This data set contains four features and the RR Lyrae designation (0/1). Which one would you think makes a better model, linear regression or logistic regression, and why?\n",
    "\n",
    "* **Logistic Regression would make a better model because of the nature of the dataset. The nature of the data is categorical, based on the target vector (0 or 1). As the data does not have a target vector w/ continuous outputs logistic regression would be a better choice.** "
   ]
  },
  {
   "cell_type": "markdown",
   "metadata": {},
   "source": [
    "2\\. Build a logistic regression model with 5-fold cross validation; you can use the function cross_val_predict (an example of the usage can be found in the Special Report 2 notebook) to build the array with the predicted labels. Report the r2_score. Save the array with the predictions because you will need it later."
   ]
  },
  {
   "cell_type": "code",
   "execution_count": 5,
   "metadata": {},
   "outputs": [],
   "source": [
    "logisticModel = LogisticRegression(solver='liblinear')\n",
    "predict_Logistic = cross_val_predict(logisticModel, features, labels, \n",
    "                                   cv=StratifiedKFold(shuffle=True, n_splits=5))\n",
    "\n",
    "scores_Logistic = cross_val_score(logisticModel, features, labels, scoring= 'r2', \n",
    "                                  cv = StratifiedKFold(shuffle=True, n_splits=5), n_jobs= 4)"
   ]
  },
  {
   "cell_type": "code",
   "execution_count": 6,
   "metadata": {},
   "outputs": [
    {
     "data": {
      "text/plain": [
       "array([0.78224227, 0.67976804, 0.75662371, 0.78041667, 0.67708333])"
      ]
     },
     "execution_count": 6,
     "metadata": {},
     "output_type": "execute_result"
    }
   ],
   "source": [
    "scores_Logistic"
   ]
  },
  {
   "cell_type": "markdown",
   "metadata": {},
   "source": [
    "3\\. Now build a linear regression model with 5-fold cross validation just as above; report the r2_score. Save the array with the predictions because you will need it later. "
   ]
  },
  {
   "cell_type": "code",
   "execution_count": 7,
   "metadata": {},
   "outputs": [],
   "source": [
    "linearModel = LinearRegression()\n",
    "predict_Linear = cross_val_predict(linearModel, features, labels, \n",
    "                                   cv=StratifiedKFold(shuffle=True, n_splits=5))\n",
    "\n",
    "scores_Linear = cross_val_score(linearModel, features, labels, scoring= 'r2', \n",
    "                                  cv = StratifiedKFold(shuffle=True, n_splits=5), n_jobs= 4)"
   ]
  },
  {
   "cell_type": "code",
   "execution_count": 8,
   "metadata": {},
   "outputs": [
    {
     "data": {
      "text/plain": [
       "array([0.64419565, 0.67471573, 0.67550025, 0.72405815, 0.7427754 ])"
      ]
     },
     "execution_count": 8,
     "metadata": {},
     "output_type": "execute_result"
    }
   ],
   "source": [
    "scores_Linear"
   ]
  },
  {
   "cell_type": "markdown",
   "metadata": {},
   "source": [
    "4\\. Plot the histograms of the \"prediction\" arrays for logistic and linear regression. Remember to use labels to identify the two distributions."
   ]
  },
  {
   "cell_type": "code",
   "execution_count": 9,
   "metadata": {},
   "outputs": [],
   "source": [
    "scoreTable = {'Logistic Predictions': predict_Logistic, \n",
    "              'Linear Predictions': predict_Linear}\n",
    "\n",
    "scoreTable = pd.DataFrame.from_dict(scoreTable)\n",
    "scoreTable_names = list(scoreTable)"
   ]
  },
  {
   "cell_type": "code",
   "execution_count": 10,
   "metadata": {},
   "outputs": [
    {
     "data": {
      "text/plain": [
       "<matplotlib.legend.Legend at 0x107f323c8>"
      ]
     },
     "execution_count": 10,
     "metadata": {},
     "output_type": "execute_result"
    },
    {
     "data": {
      "image/png": "[encoded data removed]",
      "text/plain": [
       "<Figure size 432x288 with 1 Axes>"
      ]
     },
     "metadata": {
      "needs_background": "light"
     },
     "output_type": "display_data"
    }
   ],
   "source": [
    "for name in scoreTable_names:\n",
    "    plt.hist(scoreTable[name], alpha= 0.5, histtype= 'stepfilled', label= name);\n",
    "plt.legend()"
   ]
  },
  {
   "cell_type": "markdown",
   "metadata": {},
   "source": [
    "5\\. How do the predictions differ? Which of the two models is essentially behaving like a classifier, and why?\n",
    "\n",
    "**| [Wikipediaaaaa!!!](https://en.wikipedia.org/wiki/Logistic_regression) |**\n",
    "\n",
    "* **Well as mentioned before, Logistic Regression can be/is being used as a classifier. This is possible through the use of logistic function for which Logistic Regression is based on. The reason as to why it can be used as a classifier is based upon the Logistic Function's characteristics. The Logistic Function is a sigmoid function which bounds predictions between 0 and 1. The sigmoid function is derived by equating a linear combination of $\\text{features }\\times \\text{ parameters}$ ($\\beta x$) to the logarithm of odds a probability $\\Bigg(\\log \\Big(\\frac{P(X)}{1 - P(X)}\\Big)\\Bigg)$. Since we are working w/ probabilities, results are bounded between 0 and 1 just like the Sigmoid Function/Logistic Function**\n",
    "\n",
    "\n",
    "* **Linear Regression on the other cannot. That is because Linear Regression outputs \"can be negative, and greater than 1 whereas probability can not\". Linear Regression is used mostly for continuous targets.**"
   ]
  },
  {
   "cell_type": "markdown",
   "metadata": {},
   "source": [
    "6\\. Based on the code and figure below, what is the difference between using\"predict\" and \"predict_proba\"? What is the probability value that corresponds to transitioning from one class to the other?\n",
    "\n",
    "* **'predict_proba()' returns the probability of the sample for each class in the model, while 'predict()' predicts the class label for each sample.**\n",
    "\n",
    "\n",
    "* **The probability value of '0.5' corresponds to transitioning from one class to the other**"
   ]
  },
  {
   "cell_type": "markdown",
   "metadata": {},
   "source": [
    "The Logistic Regression model also has an option called \"predict.proba\", demonstrated in the code below:"
   ]
  },
  {
   "cell_type": "code",
   "execution_count": 11,
   "metadata": {},
   "outputs": [
    {
     "data": {
      "text/plain": [
       "Text(0, 0.5, 'Class')"
      ]
     },
     "execution_count": 11,
     "metadata": {},
     "output_type": "execute_result"
    },
    {
     "data": {
      "image/png": "[encoded data removed]",
      "text/plain": [
       "<Figure size 432x288 with 1 Axes>"
      ]
     },
     "metadata": {
      "needs_background": "light"
     },
     "output_type": "display_data"
    }
   ],
   "source": [
    "X_train, X_test, y_train, y_test = train_test_split(features, labels, test_size=0.3, random_state=0)\n",
    "logisticModel.fit(X_train, y_train)\n",
    "probs = logisticModel.predict_proba(X_test)\n",
    "pred = logisticModel.predict(X_test)\n",
    "\n",
    "plt.scatter(probs[:,0], pred);\n",
    "plt.title('Logistic Regression Model')\n",
    "plt.xlabel('Probability')\n",
    "plt.ylabel('Class')"
   ]
  },
  {
   "cell_type": "code",
   "execution_count": 31,
   "metadata": {},
   "outputs": [
    {
     "data": {
      "text/plain": [
       "array([0.94895352, 0.91578615, 0.10332   , 0.94182205, 0.26299332,\n",
       "       0.43341349, 0.90238088, 0.96555884, 0.97641216, 0.97710267,\n",
       "       0.9733869 , 0.96509077, 0.95310831, 0.98189367, 0.41207247,\n",
       "       0.97960604, 0.95737107, 0.96907377, 0.93313289, 0.96550725,\n",
       "       0.19154557, 0.78030821, 0.14937479, 0.98316298, 0.92157969,\n",
       "       0.80931866, 0.12094905, 0.97061166, 0.95863484, 0.24322154,\n",
       "       0.91762576, 0.99298333, 0.97317953, 0.95026245, 0.88078459,\n",
       "       0.9620956 , 0.18996883, 0.97992813, 0.9374149 , 0.94785353,\n",
       "       0.94976358, 0.97226252, 0.93075023, 0.89425032, 0.86578108,\n",
       "       0.97495134, 0.96235465, 0.97832481, 0.90245635, 0.99108484,\n",
       "       0.96091557, 0.11734253, 0.88907371, 0.92832648, 0.45397758,\n",
       "       0.9672103 , 0.96929254, 0.56512653, 0.96616662, 0.12641452,\n",
       "       0.97830142, 0.95613189, 0.98209505, 0.08186902, 0.39903086,\n",
       "       0.99440029, 0.96329292, 0.43380772, 0.37343539, 0.96702603,\n",
       "       0.23983247, 0.86703365, 0.91778621, 0.90780809, 0.35844291,\n",
       "       0.29079721, 0.96497006, 0.8813936 , 0.92764363, 0.92064846,\n",
       "       0.92024121, 0.88621658, 0.93529326, 0.9501981 , 0.96712812,\n",
       "       0.48055709, 0.92831221, 0.40764077, 0.9353648 , 0.98357622,\n",
       "       0.97354476, 0.97836146, 0.97492951, 0.97915354, 0.97253638,\n",
       "       0.3111511 , 0.95931383, 0.9328755 , 0.96759955, 0.9524602 ,\n",
       "       0.92275533, 0.93811827, 0.96838104, 0.93902965, 0.88857649,\n",
       "       0.95964519, 0.95564551, 0.93010317, 0.97275434, 0.83759473,\n",
       "       0.92708324, 0.93419997, 0.8749017 , 0.82762917, 0.56806102,\n",
       "       0.9776822 , 0.93204617, 0.46550913, 0.94335523, 0.88146666,\n",
       "       0.91880631, 0.97711483, 0.9406926 , 0.42946177, 0.94434829,\n",
       "       0.94144483, 0.04466711, 0.20445576, 0.97717619, 0.96583964,\n",
       "       0.43199596, 0.90544342, 0.41114363, 0.72360932, 0.96653049,\n",
       "       0.96273984, 0.12485699, 0.93095508, 0.90516419, 0.97374155,\n",
       "       0.98187799, 0.93678192, 0.9612282 , 0.94140998, 0.94219969,\n",
       "       0.97055815, 0.91599141, 0.9351498 , 0.64229366, 0.93281417,\n",
       "       0.96737539, 0.98686708, 0.95045447, 0.98241061, 0.92932104,\n",
       "       0.95299055, 0.96930687, 0.94936502, 0.95301065, 0.26502537,\n",
       "       0.97979708, 0.93559528, 0.96643025, 0.78866804, 0.9433992 ,\n",
       "       0.91849813, 0.97362277, 0.925863  , 0.89357464, 0.86832372,\n",
       "       0.92819944, 0.95610399, 0.96848949, 0.93073532, 0.99232464,\n",
       "       0.22706034, 0.92802567, 0.1216573 , 0.14170266, 0.91236946,\n",
       "       0.97653994, 0.43304032, 0.9019742 , 0.95838794, 0.28923772,\n",
       "       0.94883385, 0.93649876, 0.94923213, 0.26348337, 0.97313947,\n",
       "       0.90394741, 0.94872309, 0.11381181, 0.93507785, 0.94266639,\n",
       "       0.97451086, 0.97743894, 0.92360339, 0.82286803, 0.80501044,\n",
       "       0.98198758, 0.92270457, 0.57550551, 0.50087807, 0.97778089,\n",
       "       0.98464789, 0.95790211, 0.92659585, 0.93486579, 0.13036068,\n",
       "       0.97570596, 0.40365397, 0.76802329, 0.97688325, 0.95069498,\n",
       "       0.98510239, 0.73647809, 0.91592509, 0.22762555, 0.95242531,\n",
       "       0.93899221, 0.98508824, 0.87748341, 0.95872437, 0.99159218,\n",
       "       0.0663183 , 0.14075542, 0.92651984, 0.94045347, 0.95038653,\n",
       "       0.97945943, 0.98166092, 0.94966721, 0.94944968, 0.96731186,\n",
       "       0.89904751, 0.35653193, 0.24292332, 0.9457829 , 0.98891679,\n",
       "       0.93892814, 0.95637107, 0.960238  , 0.9425926 , 0.92902434,\n",
       "       0.95961717, 0.97422358, 0.98707018, 0.98718397, 0.37697061,\n",
       "       0.98958683, 0.92352516, 0.92894543, 0.96297068, 0.96113193,\n",
       "       0.89832365, 0.95536748, 0.91164642, 0.98530037, 0.7800052 ,\n",
       "       0.50736528, 0.94624105, 0.04976154, 0.91252676, 0.90414009,\n",
       "       0.38095278, 0.97193215, 0.96460158, 0.54979019, 0.94832053,\n",
       "       0.96783888, 0.44223108, 0.88236999, 0.95620906, 0.87442982,\n",
       "       0.95280145, 0.94765901, 0.92030344, 0.07425824, 0.95996721,\n",
       "       0.9871564 , 0.97988949, 0.13020958, 0.94389147, 0.87537958,\n",
       "       0.92429425, 0.9767475 , 0.96211459, 0.40367538, 0.95684258,\n",
       "       0.9675845 , 0.71726657, 0.55437123, 0.98694456, 0.92575349,\n",
       "       0.98161353, 0.14805594, 0.9399809 , 0.97831405, 0.93216439,\n",
       "       0.98570495, 0.97995767, 0.43241273, 0.94314476, 0.91420295,\n",
       "       0.91029112, 0.9534316 , 0.98409118, 0.97005863, 0.98937475,\n",
       "       0.94338233, 0.92617864, 0.05190037, 0.88882111, 0.96608693,\n",
       "       0.6042539 , 0.98095505, 0.20839146, 0.95619626, 0.93788809,\n",
       "       0.89818338, 0.15723471, 0.96726607, 0.9855092 , 0.98534717,\n",
       "       0.88542199, 0.95932845, 0.98298682, 0.32107511, 0.0967236 ,\n",
       "       0.90519873, 0.95197352, 0.94516702, 0.47768962, 0.44729041,\n",
       "       0.97375299, 0.97073331, 0.95567806, 0.82204255, 0.95407355,\n",
       "       0.91789729, 0.98276811, 0.98270152, 0.92797008, 0.95384024,\n",
       "       0.95448908, 0.03692836, 0.95640803, 0.97241755, 0.95344614,\n",
       "       0.32416437, 0.98996474, 0.95722856, 0.96987835, 0.96761476,\n",
       "       0.47150956, 0.16531026, 0.80892259, 0.95161105, 0.57402921,\n",
       "       0.04812001, 0.93261668, 0.93793661, 0.12459051, 0.37360168,\n",
       "       0.90154519, 0.92672667, 0.93804318, 0.95510667, 0.94130527,\n",
       "       0.84604945, 0.90695599, 0.96967405, 0.95747546, 0.98816716,\n",
       "       0.98194636, 0.85685892, 0.96276284, 0.97205629, 0.96501458,\n",
       "       0.98306129, 0.00876591, 0.95961046, 0.92229203, 0.88916501,\n",
       "       0.49684112, 0.93847917, 0.91983261, 0.88515514, 0.96802352,\n",
       "       0.05310752, 0.95160288, 0.89391046, 0.53917161, 0.96876871,\n",
       "       0.97441912, 0.03745634, 0.96854656, 0.94720956, 0.67773491,\n",
       "       0.95394597, 0.9901984 , 0.40633575, 0.29091088, 0.96703378,\n",
       "       0.0829638 , 0.9749203 , 0.3362954 , 0.419515  , 0.54651407,\n",
       "       0.98795718, 0.91645685, 0.96287252, 0.97017008, 0.01422395,\n",
       "       0.94917096, 0.25792653, 0.706771  , 0.96481356, 0.94361583,\n",
       "       0.94058512, 0.98311673, 0.93072311, 0.94139195, 0.96295334,\n",
       "       0.97862676, 0.97777969, 0.93895016, 0.93417296, 0.965606  ,\n",
       "       0.92680215, 0.13905218, 0.3046658 , 0.9449789 , 0.97185295,\n",
       "       0.93736612, 0.94660117, 0.89674832, 0.91499425, 0.94644759,\n",
       "       0.97810747, 0.9183481 , 0.91653594, 0.90375684, 0.98491877,\n",
       "       0.25180442, 0.98080747, 0.93249088, 0.43465096, 0.72282425,\n",
       "       0.98559732, 0.42312709, 0.91869497, 0.92324062, 0.93794616,\n",
       "       0.40417435, 0.027814  , 0.89782174, 0.78522693, 0.29762629,\n",
       "       0.78781553, 0.93862525, 0.96141915, 0.99213874, 0.95729261,\n",
       "       0.20634027, 0.96511959, 0.41913312, 0.92100952, 0.9820619 ,\n",
       "       0.92618166, 0.9531305 , 0.95800851, 0.91376193, 0.96594596,\n",
       "       0.29760976, 0.97240276, 0.92426991, 0.89568749, 0.85099846,\n",
       "       0.94687246, 0.56259014, 0.91573009, 0.96889811, 0.04823417,\n",
       "       0.94360309, 0.90912486, 0.05127597, 0.98777415, 0.9686843 ,\n",
       "       0.96017396, 0.96426627, 0.58664664, 0.98444261, 0.95509382,\n",
       "       0.9633884 , 0.96641749, 0.9761754 , 0.11946639, 0.95863377,\n",
       "       0.95088087, 0.95417765, 0.96243426, 0.87910607, 0.93034678,\n",
       "       0.86179165, 0.96233547, 0.34219337, 0.97541817, 0.92994038,\n",
       "       0.96834571, 0.5196561 , 0.95928799, 0.96940143, 0.78252076,\n",
       "       0.95868237, 0.96804466, 0.98746154, 0.1614925 , 0.93814917,\n",
       "       0.82044241, 0.93626731, 0.11049754, 0.9503812 , 0.96754669,\n",
       "       0.97702734, 0.93605698, 0.94940524, 0.25283358, 0.97224814,\n",
       "       0.23146393, 0.91381235, 0.99104411, 0.96930286, 0.96465888,\n",
       "       0.94548857, 0.94417435, 0.97644968, 0.9617468 , 0.95897637,\n",
       "       0.88033773, 0.99194482, 0.11420371, 0.95301045, 0.97500932,\n",
       "       0.93248687, 0.9580379 , 0.92951408, 0.54805052, 0.15210439,\n",
       "       0.9891188 , 0.91118739, 0.94132045, 0.96698484, 0.06861868,\n",
       "       0.1062721 , 0.9622619 , 0.95813829, 0.97208935, 0.92386755,\n",
       "       0.94964723, 0.94210089, 0.89242813, 0.85037087, 0.95362287,\n",
       "       0.9816373 , 0.22302898, 0.97978903, 0.93991797, 0.98105372,\n",
       "       0.93296739, 0.96283837, 0.20832724, 0.40690826, 0.91436156,\n",
       "       0.94169787, 0.96904769, 0.6026415 , 0.92857639, 0.93812649,\n",
       "       0.86281784, 0.96052533, 0.9847413 , 0.96750421, 0.89369686,\n",
       "       0.95742771, 0.92854263, 0.9448824 , 0.23202199, 0.94839965,\n",
       "       0.92478669, 0.92391636, 0.87034297, 0.92165206, 0.98510164,\n",
       "       0.07414103, 0.98014338, 0.43904348, 0.96273155, 0.92311814,\n",
       "       0.93807316, 0.96428735, 0.22629387, 0.25092254, 0.91636301,\n",
       "       0.90230869, 0.16572695, 0.9642765 , 0.93259185, 0.97347901,\n",
       "       0.99018725, 0.94661869, 0.87804703, 0.90988568, 0.93192244,\n",
       "       0.89729396, 0.9418372 , 0.71951928, 0.93042718, 0.88538379,\n",
       "       0.90757827, 0.94875328, 0.84801759, 0.98009955, 0.83311107,\n",
       "       0.95261512, 0.66217496, 0.31413642, 0.52048119, 0.95356375,\n",
       "       0.94558765, 0.97498821, 0.98801226, 0.98004065, 0.26227665,\n",
       "       0.47099506, 0.91427281, 0.90668913, 0.93959659, 0.94930423,\n",
       "       0.953061  , 0.55963471, 0.91173316, 0.98041522, 0.24174081,\n",
       "       0.87132702, 0.93011147, 0.98817682, 0.95725711, 0.93639899,\n",
       "       0.94190311, 0.34473803, 0.96778773, 0.91121512, 0.98127654,\n",
       "       0.96423645, 0.95672131, 0.31710966, 0.9113441 , 0.92864967,\n",
       "       0.94530863, 0.04033263, 0.97446323, 0.89383564, 0.98713059,\n",
       "       0.97474265, 0.35341103, 0.90950472, 0.93371644, 0.93272842,\n",
       "       0.95843615, 0.98960114, 0.96180728, 0.96130963, 0.18733052,\n",
       "       0.93223943, 0.91086068, 0.97612553, 0.9293262 , 0.71102849,\n",
       "       0.06741002, 0.9072557 , 0.93852735, 0.9886692 , 0.8275195 ,\n",
       "       0.97402867, 0.96981793, 0.96913994, 0.94390287, 0.87207658,\n",
       "       0.95756353, 0.91454101, 0.95492487, 0.96247197, 0.94782043,\n",
       "       0.95412863, 0.95405023, 0.06866342, 0.88884052, 0.97679145,\n",
       "       0.18774534, 0.90464766, 0.25008573, 0.9764166 , 0.97404156,\n",
       "       0.80192914, 0.98131021, 0.99056726, 0.92614901, 0.94067472,\n",
       "       0.30360736, 0.95603426, 0.15890095, 0.95478548, 0.93678138,\n",
       "       0.91197212, 0.95089598, 0.95035666, 0.95549253, 0.92659522,\n",
       "       0.92235355, 0.96166211, 0.90899723, 0.94424479, 0.96286586,\n",
       "       0.97270165, 0.98025665, 0.95103004, 0.98952469, 0.91060915,\n",
       "       0.17779114, 0.93212374, 0.31257319, 0.06015664, 0.95871081,\n",
       "       0.94833956, 0.94061137, 0.89425229, 0.95229381, 0.95333879,\n",
       "       0.98869231, 0.98448325, 0.43683265, 0.944106  , 0.89500459])"
      ]
     },
     "execution_count": 31,
     "metadata": {},
     "output_type": "execute_result"
    }
   ],
   "source": [
    "probs[:,0]"
   ]
  },
  {
   "cell_type": "markdown",
   "metadata": {},
   "source": [
    "7\\. For this second part, we are going to use the \"study hours data set\" from the Linear Regression part (you can find the data set, called data_students_hours.csv, on Blackboard). Define an array x (features) with the first column of this file and an array y (labels) with the second column."
   ]
  },
  {
   "cell_type": "code",
   "execution_count": 12,
   "metadata": {},
   "outputs": [],
   "source": [
    "DSH_df = pd.read_csv('Datasets/data_students_hours.csv', names= ['Feature', 'Labels'])\n",
    "features_DSH = np.array(DSH_df['Feature'])\n",
    "labels_DSH = np.array(DSH_df['Labels'])"
   ]
  },
  {
   "cell_type": "markdown",
   "metadata": {},
   "source": [
    "8 \\. In the linear regression notebook, we went through an example and calculated the model coefficients of a linear regression model applied to these data. In the plot of the best fit line, what is the meaning of m and b?\n",
    "\n",
    "* **'m' represents the slope of the best fit line, while 'b' is a representation of the intercept of the best fit line. These weights/parameters are approximated by the LinearRegression() model**"
   ]
  },
  {
   "cell_type": "code",
   "execution_count": 13,
   "metadata": {},
   "outputs": [],
   "source": [
    "# 5-fold cross validation predictions\n",
    "predict_Linear = cross_val_predict(linearModel, features_DSH.reshape(-1,1), labels_DSH, cv= 5)"
   ]
  },
  {
   "cell_type": "code",
   "execution_count": 14,
   "metadata": {},
   "outputs": [
    {
     "name": "stdout",
     "output_type": "stream",
     "text": [
      "$R^2$ scores: 0.5782980814154777\n"
     ]
    },
    {
     "data": {
      "text/plain": [
       "Text(0, 0.5, 'F(Features)')"
      ]
     },
     "execution_count": 14,
     "metadata": {},
     "output_type": "execute_result"
    },
    {
     "data": {
      "image/png": "[encoded data removed]",
      "text/plain": [
       "<Figure size 432x288 with 1 Axes>"
      ]
     },
     "metadata": {
      "needs_background": "light"
     },
     "output_type": "display_data"
    }
   ],
   "source": [
    "# plotting the points in a scatter plot\n",
    "plt.scatter(features_DSH, labels_DSH,marker='*',color = 'm');\n",
    "\n",
    "print('$R^2$ scores:',metrics.r2_score(labels_DSH, predict_Linear))\n",
    "\n",
    "# fitting the model \n",
    "linearModel.fit(features_DSH.reshape(-1,1), labels_DSH)\n",
    "plt.plot(features_DSH, linearModel.coef_* features_DSH + linearModel.intercept_, color = 'k')\n",
    "plt.title('Linear Regression Model')\n",
    "plt.xlabel('Features')\n",
    "plt.ylabel('F(Features)')"
   ]
  },
  {
   "cell_type": "markdown",
   "metadata": {},
   "source": [
    "9\\. However these can also be calculated by hand using the formulas on the linear regression slides. Code up the formulas below and report your coefficients for slope and intercept.\n",
    "\n",
    "$$S S_{xy} = \\sum x_i y_i - \\frac{(\\sum x_i \\sum y_i)}{n}$$\n",
    "\n",
    "$$S S_{xx} = \\sum x_i^2 - \\frac{(\\sum x_i)^2}{n}$$\n",
    "\n",
    "$$m = \\frac{S S_{xy}}{S S_{xx}}$$\n",
    "\n",
    "$$b = \\bar{y} - m * \\bar{x}$$\n",
    "\n",
    "$$\\text{where } n = \\text{ number of points and the overhead bar represent the mean.}$$\n",
    "\n"
   ]
  },
  {
   "cell_type": "code",
   "execution_count": 15,
   "metadata": {},
   "outputs": [],
   "source": [
    "def ssXY(x, y):\n",
    "    \"\"\"Calculates the Sum of Squares for 'x' and 'y'.\"\"\"\n",
    "    n= y.size\n",
    "    return sum(x*y) - ((sum(x)*sum(y))/n)\n",
    "\n",
    "    \n",
    "def ssXX(x):\n",
    "    \"\"\"Calculates the Sum of Squares for 'x'.\"\"\"\n",
    "    n= x.size\n",
    "    return sum(x*x) - ((sum(x)*sum(x))/n)"
   ]
  },
  {
   "cell_type": "code",
   "execution_count": 16,
   "metadata": {},
   "outputs": [],
   "source": [
    "slope = ssXY(features_DSH, labels_DSH)/ssXX(features_DSH)\n",
    "intercept = labels_DSH.mean() - slope * features_DSH.mean()"
   ]
  },
  {
   "cell_type": "code",
   "execution_count": 17,
   "metadata": {
    "scrolled": true
   },
   "outputs": [
    {
     "name": "stdout",
     "output_type": "stream",
     "text": [
      "The slope is: 1.3224310227553753 and the intercept is: 7.991020982269632\n"
     ]
    }
   ],
   "source": [
    "print('The slope is: {1} and the intercept is: {0}'.format(intercept, slope))"
   ]
  },
  {
   "cell_type": "code",
   "execution_count": 18,
   "metadata": {},
   "outputs": [
    {
     "name": "stdout",
     "output_type": "stream",
     "text": [
      "$R^2$ scores: 0.5782980814154777\n"
     ]
    },
    {
     "data": {
      "text/plain": [
       "Text(0, 0.5, 'F(Features)')"
      ]
     },
     "execution_count": 18,
     "metadata": {},
     "output_type": "execute_result"
    },
    {
     "data": {
      "image/png": "[encoded data removed]",
      "text/plain": [
       "<Figure size 432x288 with 1 Axes>"
      ]
     },
     "metadata": {
      "needs_background": "light"
     },
     "output_type": "display_data"
    }
   ],
   "source": [
    "# plotting the points in a scatter plot\n",
    "plt.scatter(features_DSH, labels_DSH,marker='*',color = 'm');\n",
    "\n",
    "print('$R^2$ scores:',metrics.r2_score(labels_DSH, predict_Linear))\n",
    "\n",
    "# fitting the model \n",
    "plt.plot(features_DSH, slope* features_DSH + intercept, color = 'k')\n",
    "plt.title('Linear Regression Model')\n",
    "plt.xlabel('Features')\n",
    "plt.ylabel('F(Features)')"
   ]
  },
  {
   "cell_type": "markdown",
   "metadata": {},
   "source": [
    "10\\. Looking at the data (hours vs scores), do you think it would make sense to fit these data using a logistic regression model? Why or why not?\n",
    "\n",
    "* **Based on the label data below, Logistic Regression would not be ideal at all. Tt would not make sense to fit this data using a logistic regression model. The reason is because we don't have or expect categorical predictions. Specically, I mean that the target vector ```labels_DSH ``` isn't categorical (n true/false, yes/no, up/down, etc). Check ```labels_DSH[:20] ```**"
   ]
  },
  {
   "cell_type": "code",
   "execution_count": 19,
   "metadata": {},
   "outputs": [
    {
     "data": {
      "text/plain": [
       "array([31.70700585, 68.77759598, 62.5623823 , 71.54663223, 87.23092513,\n",
       "       78.21151827, 79.64197305, 59.17148932, 75.3312423 , 71.30087989,\n",
       "       55.16567715, 82.47884676, 62.00892325, 75.39287043, 81.43619216,\n",
       "       60.72360244, 82.89250373, 97.37989686, 48.84715332, 56.87721319])"
      ]
     },
     "execution_count": 19,
     "metadata": {},
     "output_type": "execute_result"
    }
   ],
   "source": [
    "labels_DSH[:20]"
   ]
  },
  {
   "cell_type": "markdown",
   "metadata": {},
   "source": [
    "Extra credit: Run the gradient descent notebook and report the coefficients you found here. Calculate the cost function (found in the linear regression notebook) for the slope, intercept values you found with the gradient descent method and the values you found above, using the formulas. Which set of values is best? \n"
   ]
  }
 ],
 "metadata": {
  "kernelspec": {
   "display_name": "Python 3",
   "language": "python",
   "name": "python3"
  },
  "language_info": {
   "codemirror_mode": {
    "name": "ipython",
    "version": 3
   },
   "file_extension": ".py",
   "mimetype": "text/x-python",
   "name": "python",
   "nbconvert_exporter": "python",
   "pygments_lexer": "ipython3",
   "version": "3.6.7"
  }
 },
 "nbformat": 4,
 "nbformat_minor": 2
}
