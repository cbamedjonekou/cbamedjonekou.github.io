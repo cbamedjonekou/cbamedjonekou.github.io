{
 "cells": [
  {
   "cell_type": "markdown",
   "metadata": {},
   "source": [
    "### PHYS3600 ID Final Quiz, May 16 - Programming section\n",
    "\n",
    "You have 10 questions; each of them is worth 5 points. Total time is 60 minutes and you can use all your notebooks and notes but not the Internet. I ask that you turn off your wifi after downloading the assignment and you turn it back on at the time of submission."
   ]
  },
  {
   "cell_type": "markdown",
   "metadata": {},
   "source": [
    "0: Please write your name here (but sorry no points for this one): **Christ-Brian Amedjonekou**\n",
    "    \n",
    "    "
   ]
  },
  {
   "cell_type": "code",
   "execution_count": 1,
   "metadata": {},
   "outputs": [],
   "source": [
    "#I did the imports for you to make it easier\n",
    "%matplotlib inline\n",
    "import numpy as np\n",
    "import matplotlib.pyplot as plt\n",
    "from sklearn.model_selection import train_test_split\n",
    "from sklearn.model_selection import cross_val_score\n",
    "from sklearn.model_selection import cross_val_predict\n",
    "from sklearn.model_selection import KFold, StratifiedKFold\n",
    "from sklearn import metrics\n",
    "from sklearn import datasets\n",
    "from sklearn.linear_model import LogisticRegression\n",
    "from sklearn.linear_model import LinearRegression\n",
    "from sklearn.tree import DecisionTreeRegressor\n",
    "from sklearn.ensemble import RandomForestClassifier, RandomForestRegressor\n",
    "from sklearn.ensemble import ExtraTreesClassifier, ExtraTreesRegressor\n",
    "from sklearn.model_selection import GridSearchCV\n",
    "\n",
    "#This should never be done in real life but I want to make things easier for you\n",
    "import warnings\n",
    "warnings.filterwarnings(\"ignore\")"
   ]
  },
  {
   "cell_type": "markdown",
   "metadata": {},
   "source": [
    "The following lines will help you load a data set about prices of houses in Boston (circa 1978) and define two array, X and y, that contain the data and the target values. We are doing some data manipulation to get rid of some missing data but <b> your final arrays will be called X and y.</b>"
   ]
  },
  {
   "cell_type": "code",
   "execution_count": 2,
   "metadata": {},
   "outputs": [],
   "source": [
    "data = datasets.load_boston()\n",
    "X1 = data.data #features; unfortunately we can't go in detail about each of them\n",
    "y1 = data.target #price in $1000's\n",
    "\n",
    "#Some data are missing and have an artificial price point of 50, so let's get rid of them.\n",
    "\n",
    "mask = np.where(y1 != 50) #points we want to keep\n",
    "\n",
    "s = np.arange(X1[mask].shape[0])\n",
    "np.random.shuffle(s) #shuffles in place\n",
    "\n",
    "X = X1[mask][s]\n",
    "y = y1[mask][s]"
   ]
  },
  {
   "cell_type": "markdown",
   "metadata": {},
   "source": [
    "1\\. How many instances are in your (new) data set? How many features? "
   ]
  },
  {
   "cell_type": "code",
   "execution_count": 3,
   "metadata": {},
   "outputs": [
    {
     "name": "stdout",
     "output_type": "stream",
     "text": [
      "Number of Instances: 490\n"
     ]
    }
   ],
   "source": [
    "print('Number of Instances:',X.shape[0])"
   ]
  },
  {
   "cell_type": "code",
   "execution_count": 4,
   "metadata": {},
   "outputs": [
    {
     "name": "stdout",
     "output_type": "stream",
     "text": [
      "Number of Features: 13\n"
     ]
    }
   ],
   "source": [
    "print('Number of Features:',X.shape[1])"
   ]
  },
  {
   "cell_type": "markdown",
   "metadata": {},
   "source": [
    "2\\. Is this a classification or regression problem? Justify your answer.\n",
    "\n",
    "* **This is a regression problem because 'Y', the target vector, has values that do not represent categories. They are not integers; They are real numbers. This means they aren't categorical data that has been encoded with a numerical value. See first ten elements of 'Y', the target vector, below:**"
   ]
  },
  {
   "cell_type": "code",
   "execution_count": 5,
   "metadata": {},
   "outputs": [
    {
     "data": {
      "text/plain": [
       "array([ 5. , 24.5, 18.1, 10.5, 14.4, 19.8, 14.6, 21.4, 19.9, 13.1])"
      ]
     },
     "execution_count": 5,
     "metadata": {},
     "output_type": "execute_result"
    }
   ],
   "source": [
    "y[:10]"
   ]
  },
  {
   "cell_type": "markdown",
   "metadata": {},
   "source": [
    "3\\. Plot each of the feature of your data set in a histogram, with different labels. "
   ]
  },
  {
   "cell_type": "code",
   "execution_count": 6,
   "metadata": {},
   "outputs": [],
   "source": [
    "import pandas as pd"
   ]
  },
  {
   "cell_type": "code",
   "execution_count": 7,
   "metadata": {},
   "outputs": [
    {
     "data": {
      "text/plain": [
       "<matplotlib.legend.Legend at 0x123854358>"
      ]
     },
     "execution_count": 7,
     "metadata": {},
     "output_type": "execute_result"
    },
    {
     "data": {
      "image/png": "[encoded data removed]",
      "text/plain": [
       "<Figure size 432x288 with 1 Axes>"
      ]
     },
     "metadata": {
      "needs_background": "light"
     },
     "output_type": "display_data"
    }
   ],
   "source": [
    "feature_names = []\n",
    "\n",
    "for i in range(X.shape[1]):\n",
    "    name = 'Feature '+ str(i)\n",
    "    feature_names.append(name)\n",
    "features = pd.DataFrame(data= X, columns= feature_names)\n",
    "\n",
    "for name in feature_names:\n",
    "    plt.hist(features[name],alpha=0.5,histtype='stepfilled',label = name);\n",
    "plt.legend(loc= 'best')"
   ]
  },
  {
   "cell_type": "markdown",
   "metadata": {},
   "source": [
    "4\\. Use a linear regression algorithm with default parameters. Report the average score of a 5-fold cross validation and the standard deviation of the scores vector. <b> Important: use, here and in the following </b>, cv=5, not a StratifiedKFold, and 'r2' (the r2 score) as your scoring parameter."
   ]
  },
  {
   "cell_type": "code",
   "execution_count": 8,
   "metadata": {},
   "outputs": [
    {
     "name": "stdout",
     "output_type": "stream",
     "text": [
      "Mean: 0.7597300769692431\n",
      "Standard Deviation: 0.02500573058781243\n"
     ]
    }
   ],
   "source": [
    "model = LinearRegression()\n",
    "scores = cross_val_score(model, X, y, scoring= 'r2', cv= 5)\n",
    "print('Mean:', scores.mean())\n",
    "print('Standard Deviation:', scores.std())"
   ]
  },
  {
   "cell_type": "code",
   "execution_count": 9,
   "metadata": {},
   "outputs": [
    {
     "data": {
      "text/plain": [
       "array([0.75842091, 0.73942703, 0.80336303, 0.76554549, 0.73189392])"
      ]
     },
     "execution_count": 9,
     "metadata": {},
     "output_type": "execute_result"
    }
   ],
   "source": [
    "# Ignore, I wanted to see all scores.\n",
    "scores"
   ]
  },
  {
   "cell_type": "markdown",
   "metadata": {},
   "source": [
    "5\\. Use a decision tree regressor with default parameter values and report the average r2 score of a 5-fold cross validation, and the standard deviation of the scores vector. Which one performs better, linear regression or Decision Tree?\n",
    "\n",
    "* **To give a definite answer this question, I'll say that Decision Tree Regressor performed better on average but the difference between the two is very small.**"
   ]
  },
  {
   "cell_type": "code",
   "execution_count": 10,
   "metadata": {
    "scrolled": true
   },
   "outputs": [
    {
     "name": "stdout",
     "output_type": "stream",
     "text": [
      "Mean: 0.7295493369621615\n",
      "Standard Deviation: 0.02866502645818271\n"
     ]
    }
   ],
   "source": [
    "model2 = DecisionTreeRegressor()\n",
    "scores = cross_val_score(model2, X, y, scoring= 'r2', cv= 5)\n",
    "print('Mean:', scores.mean())\n",
    "print('Standard Deviation:', scores.std())"
   ]
  },
  {
   "cell_type": "code",
   "execution_count": 11,
   "metadata": {},
   "outputs": [
    {
     "data": {
      "text/plain": [
       "array([0.7419199 , 0.7411551 , 0.69603191, 0.77073252, 0.69790726])"
      ]
     },
     "execution_count": 11,
     "metadata": {},
     "output_type": "execute_result"
    }
   ],
   "source": [
    "# Ignore, I wanted to see all scores.\n",
    "scores"
   ]
  },
  {
   "cell_type": "markdown",
   "metadata": {},
   "source": [
    "6\\. Let's try and diagnose the high bias/high variance for this classifier. In the cell below you will find the \"check train test\" function from the lecture notebook (already adapted for regression). Use it to evaluate the gap between train and test scores for the decision tree model. Based on your answer, do you think the algorithm suffers from high variance or high bias?\n",
    "\n",
    "* **The Training Scores are perfect but the Test scores are approx 75% of the training scores. This is a significant gap, and the training scores aren't trash either. These are symptoms of \"High Variance\"**"
   ]
  },
  {
   "cell_type": "code",
   "execution_count": 12,
   "metadata": {},
   "outputs": [],
   "source": [
    "def checktraintest(X, y, model, ntrials =5, test_size = 0.2):\n",
    "\n",
    "    scores_train = np.zeros(ntrials)\n",
    "    scores_test = np.zeros(ntrials)\n",
    "\n",
    "    for i in range(ntrials):\n",
    "        X_train, X_test, y_train, y_test = \\\n",
    "        train_test_split(X, y, test_size=test_size, random_state=i)\n",
    "        model.fit(X_train, y_train)\n",
    "        pred_test = model.predict(X_test)\n",
    "        pred_train = model.predict(X_train)\n",
    "\n",
    "        scores_test[i] = (metrics.r2_score(y_test,pred_test))\n",
    "        scores_train[i] =(metrics.r2_score(y_train,pred_train))\n",
    "\n",
    "    print('Training scores '+str(scores_train.mean())+' +- '+str(scores_train.std()))\n",
    "    print('Test scores '+str(scores_test.mean())+' +- '+str(scores_test.std()))"
   ]
  },
  {
   "cell_type": "code",
   "execution_count": 13,
   "metadata": {},
   "outputs": [
    {
     "name": "stdout",
     "output_type": "stream",
     "text": [
      "Training scores 1.0 +- 0.0\n",
      "Test scores 0.7396691285806398 +- 0.07438974206961309\n"
     ]
    }
   ],
   "source": [
    "checktraintest(X, y, model2)"
   ]
  },
  {
   "cell_type": "markdown",
   "metadata": {},
   "source": [
    "7\\. Let's switch to an Extremely Random Tree (ERT) Regressor with default parameters. Report the scores (mean and standard deviation) for a 5 fold cross validation. Did you find an improvement with respect to a single Decision Tree regressor? Was it expected, given what you found in 6 and the nature of ensemble algorithms?\n",
    "\n",
    "* **The Extremely Random Tree algorithm has produced better scores than the Decision Tree Regressor. I was expecting higher test scores because the high variance issue should have been resolved w/ the implementation of the Extremely Random Tree algorithm. This was the case.**\n",
    "\n",
    "\n"
   ]
  },
  {
   "cell_type": "code",
   "execution_count": 14,
   "metadata": {
    "scrolled": true
   },
   "outputs": [
    {
     "name": "stdout",
     "output_type": "stream",
     "text": [
      "Mean: 0.8598463692329199\n",
      "Standard Deviation: 0.01193019748840563\n"
     ]
    }
   ],
   "source": [
    "model3 = ExtraTreesRegressor()\n",
    "scores = cross_val_score(model3, X, y, scoring= 'r2', cv= 5)\n",
    "print('Mean:', scores.mean())\n",
    "print('Standard Deviation:', scores.std())"
   ]
  },
  {
   "cell_type": "code",
   "execution_count": 15,
   "metadata": {},
   "outputs": [
    {
     "data": {
      "text/plain": [
       "array([0.86745076, 0.8505876 , 0.87936703, 0.85461714, 0.84720931])"
      ]
     },
     "execution_count": 15,
     "metadata": {},
     "output_type": "execute_result"
    }
   ],
   "source": [
    "# Ignore, I wanted to see all scores.\n",
    "scores"
   ]
  },
  {
   "cell_type": "markdown",
   "metadata": {},
   "source": [
    "8\\. For the ERT, let's do a little optimization. Change the min_sample_leaf parameter to 2, 5 and 10 and report the different scores. Also report the train/test scores using the function checktraintest. "
   ]
  },
  {
   "cell_type": "code",
   "execution_count": 16,
   "metadata": {},
   "outputs": [
    {
     "name": "stdout",
     "output_type": "stream",
     "text": [
      "Mean: 0.8686175837367223\n",
      "Standard Deviation: 0.01115159850026362\n"
     ]
    }
   ],
   "source": [
    "model3 = ExtraTreesRegressor(min_samples_leaf= 2)\n",
    "scores = cross_val_score(model3, X, y, scoring= 'r2', cv= 5)\n",
    "print('Mean:', scores.mean())\n",
    "print('Standard Deviation:', scores.std())"
   ]
  },
  {
   "cell_type": "code",
   "execution_count": 17,
   "metadata": {},
   "outputs": [
    {
     "name": "stdout",
     "output_type": "stream",
     "text": [
      "Training scores 0.9827466099627811 +- 0.001450685552568599\n",
      "Test scores 0.8820960219227185 +- 0.02070361921109431\n"
     ]
    }
   ],
   "source": [
    "# Ignore, I wanted to see all scores.\n",
    "checktraintest(X, y, model3)"
   ]
  },
  {
   "cell_type": "code",
   "execution_count": 18,
   "metadata": {},
   "outputs": [
    {
     "name": "stdout",
     "output_type": "stream",
     "text": [
      "Mean: 0.8613832930957408\n",
      "Standard Deviation: 0.016061276603429313\n"
     ]
    }
   ],
   "source": [
    "model3 = ExtraTreesRegressor(min_samples_leaf= 5)\n",
    "scores = cross_val_score(model3, X, y, scoring= 'r2', cv= 5)\n",
    "print('Mean:', scores.mean())\n",
    "print('Standard Deviation:', scores.std())"
   ]
  },
  {
   "cell_type": "code",
   "execution_count": 19,
   "metadata": {},
   "outputs": [
    {
     "name": "stdout",
     "output_type": "stream",
     "text": [
      "Training scores 0.9214331813938624 +- 0.003359385869218958\n",
      "Test scores 0.8622661369107002 +- 0.023797111727786334\n"
     ]
    }
   ],
   "source": [
    "# Ignore, I wanted to see all scores.\n",
    "checktraintest(X, y, model3)"
   ]
  },
  {
   "cell_type": "code",
   "execution_count": 20,
   "metadata": {},
   "outputs": [
    {
     "name": "stdout",
     "output_type": "stream",
     "text": [
      "Mean: 0.8627933573590145\n",
      "Standard Deviation: 0.008674869481229601\n"
     ]
    }
   ],
   "source": [
    "model3 = ExtraTreesRegressor(min_samples_leaf= 5)\n",
    "scores = cross_val_score(model3, X, y, scoring= 'r2', cv= 5)\n",
    "print('Mean:', scores.mean())\n",
    "print('Standard Deviation:', scores.std())"
   ]
  },
  {
   "cell_type": "code",
   "execution_count": 21,
   "metadata": {},
   "outputs": [
    {
     "name": "stdout",
     "output_type": "stream",
     "text": [
      "Training scores 0.9213990505043524 +- 0.00654396615416713\n",
      "Test scores 0.8537177218297177 +- 0.023239519501907342\n"
     ]
    }
   ],
   "source": [
    "# Ignore, I wanted to see all scores.\n",
    "checktraintest(X, y, model3)"
   ]
  },
  {
   "cell_type": "markdown",
   "metadata": {},
   "source": [
    "9\\. On the basis of your results above, what is the best choice for the min_samples_leaf parameter? Justify your answer.\n",
    "\n",
    "* **`min_samples_leaf= 2` provided me with the best scores. An increase in sample leaves is supposed to reduce variance, thus increasing the test score but that wasn't the case.**"
   ]
  },
  {
   "cell_type": "markdown",
   "metadata": {},
   "source": [
    "10: Plot the feature importance for this data set for Extremely Random Trees regressor model. How many features are essential in this data set? \n",
    "\n",
    "* **I would say a total of 4 features are essential to this Dataset. Because of what i did earlier in pandas, I can tell which ones. (Kinda wish I had a 'grinning' emoji here)**\n",
    "\n",
    "\n",
    "* Important Features in order of importance:\n",
    "    * Feature 5\n",
    "    * Feature 12\n",
    "    * Feature 2\n",
    "    * Feature 10"
   ]
  },
  {
   "cell_type": "code",
   "execution_count": 22,
   "metadata": {},
   "outputs": [
    {
     "name": "stdout",
     "output_type": "stream",
     "text": [
      "Feature ranking:\n",
      "1. feature 5 (0.378790)\n",
      "2. feature 12 (0.224345)\n",
      "3. feature 2 (0.150172)\n",
      "4. feature 10 (0.078632)\n",
      "5. feature 9 (0.053440)\n",
      "6. feature 0 (0.035273)\n",
      "7. feature 6 (0.028058)\n",
      "8. feature 4 (0.020594)\n",
      "9. feature 8 (0.012011)\n",
      "10. feature 11 (0.009857)\n",
      "11. feature 7 (0.007766)\n",
      "12. feature 1 (0.000874)\n",
      "13. feature 3 (0.000189)\n"
     ]
    },
    {
     "data": {
      "image/png": "[encoded data removed]",
      "text/plain": [
       "<Figure size 1152x432 with 1 Axes>"
      ]
     },
     "metadata": {
      "needs_background": "light"
     },
     "output_type": "display_data"
    }
   ],
   "source": [
    "importances = model3.feature_importances_\n",
    "indices = np.argsort(importances)[::-1]\n",
    "\n",
    "# Print the feature ranking\n",
    "print(\"Feature ranking:\")\n",
    "\n",
    "for f in range(features.shape[1]):\n",
    "    print(\"%d. feature %d (%f)\" % (f + 1, indices[f], importances[indices[f]]))\n",
    "\n",
    "# Plot the feature importances of the forest\n",
    "plt.figure(figsize=(16,6))\n",
    "plt.title(\"Feature importances\")\n",
    "plt.bar(range(features.shape[1]), importances[indices],\n",
    "       color=\"r\", align=\"center\")\n",
    "plt.xticks(range(features.shape[1]), indices)\n",
    "plt.xlim([-1, features.shape[1]])\n",
    "plt.show()"
   ]
  },
  {
   "cell_type": "markdown",
   "metadata": {},
   "source": [
    "EC1: Play with other parameters of the ERT to see if you can beat the test scores obtained in 8-9. Hint: think carefully about which parameter(s) is/are worth trying!"
   ]
  },
  {
   "cell_type": "code",
   "execution_count": 30,
   "metadata": {},
   "outputs": [
    {
     "name": "stdout",
     "output_type": "stream",
     "text": [
      "Mean: 0.8687101056320892\n",
      "Standard Deviation: 0.011633484456521627\n"
     ]
    }
   ],
   "source": [
    "model3 = ExtraTreesRegressor(min_samples_leaf= 1, max_depth= 11)\n",
    "scores = cross_val_score(model3, X, y, scoring= 'r2', cv= 5)\n",
    "print('Mean:', scores.mean())\n",
    "print('Standard Deviation:', scores.std())"
   ]
  },
  {
   "cell_type": "markdown",
   "metadata": {},
   "source": [
    "EC2: What reduction in r2 score would you obtain if you were to use only the two most important features?"
   ]
  },
  {
   "cell_type": "code",
   "execution_count": 24,
   "metadata": {},
   "outputs": [
    {
     "name": "stdout",
     "output_type": "stream",
     "text": [
      "Mean: 0.7719466725586414\n",
      "Standard Deviation: 0.05139898569319071\n"
     ]
    }
   ],
   "source": [
    "X1 = features[['Feature 5', 'Feature 12']]\n",
    "scores = cross_val_score(model3, X1, y, scoring= 'r2', cv= 5)\n",
    "print('Mean:', scores.mean())\n",
    "print('Standard Deviation:', scores.std())"
   ]
  }
 ],
 "metadata": {
  "kernelspec": {
   "display_name": "Programming_Practice",
   "language": "python",
   "name": "programming_practice"
  },
  "language_info": {
   "codemirror_mode": {
    "name": "ipython",
    "version": 3
   },
   "file_extension": ".py",
   "mimetype": "text/x-python",
   "name": "python",
   "nbconvert_exporter": "python",
   "pygments_lexer": "ipython3",
   "version": "3.6.7"
  }
 },
 "nbformat": 4,
 "nbformat_minor": 2
}
