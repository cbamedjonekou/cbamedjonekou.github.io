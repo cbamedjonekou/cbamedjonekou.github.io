{
 "cells": [
  {
   "cell_type": "markdown",
   "metadata": {},
   "source": [
    "**Name: Christ-Brian Amedjonekou**  \n",
    "**Date: 04/03/2019**  \n",
    "**PHYS 3600ID-D862 (Machine Learning) HW 5**  \n",
    "**Spring 2019, Section: D862, Code: 37026**  \n",
    "**Instructor: Viviana Acquaviva**\n",
    "\n",
    "\n",
    "***I certify that my work is my own.***"
   ]
  },
  {
   "cell_type": "markdown",
   "metadata": {},
   "source": [
    "For this worksheet, we provide you with a (simplified) version of the simulated Higgs boson data challenge, run by Kaggle in 2014. The files are called \"Higgs_features.csv\" and \"Higgs_labels.csv\". The labels are 0 and 1, corresponding to \"no Higgs signal\", and \"Higgs signal\"."
   ]
  },
  {
   "cell_type": "code",
   "execution_count": 1,
   "metadata": {},
   "outputs": [],
   "source": [
    "# Imports of packages and methods I'll be using for this assignment\n",
    "import numpy as np\n",
    "import pandas as pd\n",
    "import matplotlib.pyplot as plt\n",
    "import seaborn as sns\n",
    "from sklearn.model_selection import train_test_split, cross_val_score \n",
    "from sklearn.model_selection import cross_val_predict, StratifiedKFold\n",
    "from sklearn.tree import DecisionTreeClassifier\n",
    "from sklearn.metrics import accuracy_score, confusion_matrix\n",
    "from sklearn.metrics import f1_score, precision_score, recall_score\n",
    "from sklearn.utils import shuffle\n",
    "import itertools as itr"
   ]
  },
  {
   "cell_type": "markdown",
   "metadata": {},
   "source": [
    "1\\. Read the data into two numpy arrays, one for features and one for labels."
   ]
  },
  {
   "cell_type": "code",
   "execution_count": 2,
   "metadata": {},
   "outputs": [],
   "source": [
    "# I read the dataframes from the csv files into two variables (features, labels) \n",
    "# and I give them headers, otherwise the first row in the csv will be considered\n",
    "# the header of the dataframe.\n",
    "features = pd.read_csv('Datasets/Higgs_features.csv', \n",
    "                       names= ['Feature 1', 'Feature 2', 'Feature 3', 'Feature 4', \n",
    "                               'Feature 5', 'Feature 6', 'Feature 7', 'Feature 8'])\n",
    "labels = pd.read_csv('Datasets/Higgs_labels.csv', names= ['Target'])"
   ]
  },
  {
   "cell_type": "markdown",
   "metadata": {},
   "source": [
    "2\\. How many instances and features are in this data set?\n",
    "\n",
    "* **There are 25000 instances (headers for the columns aren't included in this number) and 8 features**\n",
    "\n",
    "```python\n",
    "names= ['Feature 1', 'Feature 2', 'Feature 3', 'Feature 4',\n",
    "        'Feature 5', 'Feature 6', 'Feature 7', 'Feature 8']\n",
    "```"
   ]
  },
  {
   "cell_type": "code",
   "execution_count": 3,
   "metadata": {},
   "outputs": [
    {
     "name": "stdout",
     "output_type": "stream",
     "text": [
      "<class 'pandas.core.frame.DataFrame'>\n",
      "RangeIndex: 25000 entries, 0 to 24999\n",
      "Data columns (total 8 columns):\n",
      "Feature 1    25000 non-null float64\n",
      "Feature 2    25000 non-null float64\n",
      "Feature 3    25000 non-null float64\n",
      "Feature 4    25000 non-null float64\n",
      "Feature 5    25000 non-null float64\n",
      "Feature 6    25000 non-null float64\n",
      "Feature 7    25000 non-null float64\n",
      "Feature 8    25000 non-null float64\n",
      "dtypes: float64(8)\n",
      "memory usage: 1.5 MB\n"
     ]
    }
   ],
   "source": [
    "# Check for an overview of the dataframe. \n",
    "# Specifically we're talking dimensions.\n",
    "features.info()"
   ]
  },
  {
   "cell_type": "code",
   "execution_count": 4,
   "metadata": {},
   "outputs": [
    {
     "name": "stdout",
     "output_type": "stream",
     "text": [
      "<class 'pandas.core.frame.DataFrame'>\n",
      "RangeIndex: 25000 entries, 0 to 24999\n",
      "Data columns (total 1 columns):\n",
      "Target    25000 non-null int64\n",
      "dtypes: int64(1)\n",
      "memory usage: 195.4 KB\n"
     ]
    }
   ],
   "source": [
    "labels.info()"
   ]
  },
  {
   "cell_type": "markdown",
   "metadata": {},
   "source": [
    "3\\. Plot the distribution of each feature for this data set in a histogram (like we did in on of the previous worksheets), in one plot. Add a legend (with labels \"Feature 1\", \"Feature 2\"...) and set the transparency of the histograms (property \"alpha\") to 0.5 for clarity. Hint: make sure you are plotting each column, not each row!"
   ]
  },
  {
   "cell_type": "code",
   "execution_count": 5,
   "metadata": {},
   "outputs": [
    {
     "data": {
      "text/plain": [
       "<matplotlib.legend.Legend at 0x1087bdf60>"
      ]
     },
     "execution_count": 5,
     "metadata": {},
     "output_type": "execute_result"
    },
    {
     "data": {
      "image/png": "[encoded data removed]",
      "text/plain": [
       "<Figure size 432x288 with 1 Axes>"
      ]
     },
     "metadata": {
      "needs_background": "light"
     },
     "output_type": "display_data"
    }
   ],
   "source": [
    "feature_names= ['Feature 1', 'Feature 2', 'Feature 3', 'Feature 4', \n",
    "        'Feature 5', 'Feature 6', 'Feature 7', 'Feature 8']\n",
    "for name in feature_names:\n",
    "    plt.hist(features[name],alpha=0.5,histtype='stepfilled',label = name);\n",
    "plt.legend()"
   ]
  },
  {
   "cell_type": "markdown",
   "metadata": {},
   "source": [
    "4\\. Do you see anything unusual in the distribution of any of the features? What problem could this cause?\n",
    "\n",
    "* **Based on the data, there are a significant portion of positive features compared to negative features. This is also shown below w/ the following code**"
   ]
  },
  {
   "cell_type": "code",
   "execution_count": 6,
   "metadata": {},
   "outputs": [],
   "source": [
    "# I set the following loop to increment the counter by 1\n",
    "# if the element in each column is greater than 0 (positive)\n",
    "counter = 0\n",
    "for name in feature_names: # searches each column\n",
    "    for element in features[name]: # searches each element in each column\n",
    "        if element >= 0:\n",
    "            counter += 1"
   ]
  },
  {
   "cell_type": "code",
   "execution_count": 7,
   "metadata": {},
   "outputs": [
    {
     "data": {
      "text/plain": [
       "182775"
      ]
     },
     "execution_count": 7,
     "metadata": {},
     "output_type": "execute_result"
    }
   ],
   "source": [
    "# The amount of Positive Features\n",
    "counter"
   ]
  },
  {
   "cell_type": "code",
   "execution_count": 8,
   "metadata": {
    "scrolled": true
   },
   "outputs": [
    {
     "data": {
      "text/plain": [
       "17225"
      ]
     },
     "execution_count": 8,
     "metadata": {},
     "output_type": "execute_result"
    }
   ],
   "source": [
    "# The amount of Negative Features\n",
    "features.size - counter"
   ]
  },
  {
   "cell_type": "markdown",
   "metadata": {},
   "source": [
    "5\\. How many positive (Higgs) events does your data set contain? Based on this, is the data set balanced or unbalanced?\n",
    "\n",
    "* **The data seems balanced as the dataset is not dominated by a particular label as shown by the following code**"
   ]
  },
  {
   "cell_type": "code",
   "execution_count": 9,
   "metadata": {},
   "outputs": [
    {
     "data": {
      "text/plain": [
       "Target    0.33896\n",
       "dtype: float64"
      ]
     },
     "execution_count": 9,
     "metadata": {},
     "output_type": "execute_result"
    }
   ],
   "source": [
    "# The percentage of 'Higgs Signals'\n",
    "labels[labels == 1].count()/labels.count()"
   ]
  },
  {
   "cell_type": "code",
   "execution_count": 10,
   "metadata": {},
   "outputs": [
    {
     "data": {
      "text/plain": [
       "Target    0.66104\n",
       "dtype: float64"
      ]
     },
     "execution_count": 10,
     "metadata": {},
     "output_type": "execute_result"
    }
   ],
   "source": [
    "# The percentage of 'No Higgs Signals'\n",
    "labels[labels == 0].count()/labels.count()"
   ]
  },
  {
   "cell_type": "markdown",
   "metadata": {},
   "source": [
    "6\\. On the basis of your answer to 5, which evaluation metric (accuracy, precision, recall) would you like to pick for this data set?\n",
    "\n",
    "* **I could pick Accuracy since the data doesn't seem unbalanced. Based on the Target (`labels`) array. However, if the data set is truly unbalanced and I'd be inclined to choose precision or recall as a metric.**"
   ]
  },
  {
   "cell_type": "markdown",
   "metadata": {},
   "source": [
    "7\\. Use a decision tree classifier as your model, and do five fold cross validation on your data, <b> using the scoring parameter you chose above</b>. Report the mean and standard deviation of the scores obtained for the five folds.\n",
    "\n",
    "Note: If you simply set the parameter \"cv = 5\" in the cross_val_score function, this will divide the data in five sets using the first 20%, second 20%... etc of your data, which is not great if your data are in a specific order. Make sure you use \n",
    "\n",
    "```python\n",
    "cv = StratifiedKFold(shuffle=True, n_splits=5)\n",
    "```"
   ]
  },
  {
   "cell_type": "code",
   "execution_count": 29,
   "metadata": {},
   "outputs": [
    {
     "name": "stdout",
     "output_type": "stream",
     "text": [
      "The Metric [accuracy] : [0.75084983 0.741      0.746      0.742      0.76095219]\n",
      "\n",
      "\n",
      "The Metric [precision] : [0.62635379 0.62848837 0.64235706 0.64654162 0.63382789]\n",
      "\n",
      "\n",
      "The Metric [recall] : [0.63185841 0.64778761 0.61297935 0.64306785 0.62514758]\n",
      "\n",
      "\n",
      "The Metric [f1] : [0.62929263 0.65097355 0.64107823 0.6277031  0.63255814]\n",
      "\n",
      "\n"
     ]
    }
   ],
   "source": [
    "# Creates the Decision Tree Model\n",
    "higgsModel_1 = DecisionTreeClassifier()\n",
    "\n",
    "# Computes the Cross validation w/ 4 different metrics\n",
    "metrics_ = ['accuracy', 'precision', 'recall', 'f1']\n",
    "for metric_ in metrics_:\n",
    "    scores = cross_val_score(higgsModel_1, features, labels, scoring= metric_,\n",
    "                             cv = StratifiedKFold(shuffle=True, n_splits=5))\n",
    "    print('The Metric [{}] : {}'.format(metric_, scores))\n",
    "    print('\\n')"
   ]
  },
  {
   "cell_type": "markdown",
   "metadata": {},
   "source": [
    "8\\. We want to now take a look at the confusion matrix for your classifier. When doing cross validation, sklearn offers a function called cross_val_predict that allows you to save the vector with the predicted values when each object is part of the test set. (http://scikit-learn.org/stable/modules/cross_validation.html). The code for doing that follows; of course you will have to change the name of the model (algorithm) and of the arrays."
   ]
  },
  {
   "cell_type": "code",
   "execution_count": 21,
   "metadata": {},
   "outputs": [],
   "source": [
    "def plot_confusion_matrix(cm, classes,\n",
    "                          normalize=False,\n",
    "                          title='Confusion matrix',\n",
    "                          cmap=plt.cm.Blues, return_cm= False):\n",
    "    \"\"\"\n",
    "    This function prints and plots the confusion matrix.\n",
    "    Normalization can be applied by setting `normalize=True`.\n",
    "    \"\"\"\n",
    "    if return_cm == False:\n",
    "        if normalize:\n",
    "            cm = cm.astype('float') / cm.sum(axis=1)[:, np.newaxis]\n",
    "            print(\"Normalized confusion matrix\")\n",
    "        else:\n",
    "            print('Confusion matrix, without normalization')\n",
    "\n",
    "        print(cm)\n",
    "\n",
    "        plt.imshow(cm, interpolation='nearest', cmap=cmap)\n",
    "        plt.title(title)\n",
    "        plt.colorbar()\n",
    "        tick_marks = np.arange(len(classes))\n",
    "        plt.xticks(tick_marks, classes, rotation=45)\n",
    "        plt.yticks(tick_marks, classes)\n",
    "\n",
    "        fmt = '.2f' if normalize else 'd'\n",
    "        thresh = cm.max() / 2.\n",
    "        for i, j in itr.product(range(cm.shape[0]), range(cm.shape[1])):\n",
    "            plt.text(j, i, format(cm[i, j], fmt),\n",
    "                     horizontalalignment=\"center\",\n",
    "                     color=\"white\" if cm[i, j] > thresh else \"black\")\n",
    "\n",
    "        plt.tight_layout()\n",
    "        plt.ylabel('True label')\n",
    "        plt.xlabel('Predicted label')\n",
    "        \n",
    "    else:\n",
    "        return cm"
   ]
  },
  {
   "cell_type": "code",
   "execution_count": 22,
   "metadata": {},
   "outputs": [
    {
     "name": "stdout",
     "output_type": "stream",
     "text": [
      "Confusion matrix, without normalization\n",
      "[[13343  3183]\n",
      " [ 3149  5325]]\n"
     ]
    },
    {
     "data": {
      "image/png": "[encoded data removed]",
      "text/plain": [
       "<Figure size 432x288 with 2 Axes>"
      ]
     },
     "metadata": {
      "needs_background": "light"
     },
     "output_type": "display_data"
    }
   ],
   "source": [
    "predicted = cross_val_predict(higgsModel_1, features, labels, \n",
    "                              cv=StratifiedKFold(shuffle=True, n_splits=5))\n",
    "cm = confusion_matrix(labels, predicted)\n",
    "plot_confusion_matrix(cm, classes=[0, 1], title='Confusion matrix')"
   ]
  },
  {
   "cell_type": "markdown",
   "metadata": {},
   "source": [
    "9\\. Given your confusion matrix, how many true positives / true negatives / false positives / false negatives are there? Do you have many more type I errors (false positives) than type II errors (false negatives)?\n",
    "\n",
    "* **True Positives: 5325**\n",
    "* **True Negatives: 13343**\n",
    "* **False Positives: 3149**\n",
    "* **False Negatives: 3183**\n",
    "\n",
    "***We have more Type I Errors but it is not but a significant margin.***"
   ]
  },
  {
   "cell_type": "markdown",
   "metadata": {},
   "source": [
    "10\\. Let's now switch to a SVC classifier. Leaving the parameters of the classifier at their default values, run a five-fold cross validation and report the scores just like you did above for the decision tree. (Note: SVMs are slow so this might take some time, a good 5 minutes on my laptop). Which algorithm performs better? "
   ]
  },
  {
   "cell_type": "markdown",
   "metadata": {},
   "source": [
    "11\\. Report the confusion matrix for the SVC algorithm. Do you notice a change in the distribution of the false positives and false negatives, with respect to the decision tree algorithm?"
   ]
  },
  {
   "cell_type": "markdown",
   "metadata": {},
   "source": [
    "12\\. We can now do the nested cross validation to optimize the parameters of the SVC. Because it would otherwise take a long time, we can select the first 10% of the data set (after shuffling the data set). We did something like this when we were doing learning curves in Worksheet 4 (questions 11 and 12). Select the first 10% of the data set, both for feature and labels."
   ]
  },
  {
   "cell_type": "markdown",
   "metadata": {},
   "source": [
    "13\\. Set up and run a nested cross validation with 5 outer folds and 3 inner folds. Your GridSearch CV will have the following parameters: \n",
    "\n",
    "```Python\n",
    "parameters = {'kernel':['linear','rbf'],'C':[1, 10, 100], 'gamma':[0.01, 0.1, 0.5], 'class_weight':[{1:1},{1:3},{1:5}]}\n",
    "```\n",
    "\n",
    "You can use the last example (\"putting them all together\") from the SVMs and Hyperparameter fitting notebook, but remember to change the scoring parameter to match what you did above.\n",
    "\n",
    "Note: this might take time! Set verbose = 2 in the GridSearchCV to follow the progress, and set njobs = 4 or more to speed up the process. If your machine can't handle it, you can reduce the size of the data set to 5% of the original. \n",
    "\n",
    "#### Report the scores and parameters values of the best model.\n",
    "\n",
    "Note: some times that code has given me an issue of creating \"Nan\" in the ylittle_train arrays. If this happens, you can try substituting the lines\n",
    "\n",
    "```Python\n",
    "ylittle_train = ylittle[train_index]\n",
    "ylittle_test = ylittle[test_index]\n",
    "```\n",
    "    \n",
    "with \n",
    "\n",
    "```Python\n",
    "ylittle_train = ylittle.iloc[train_index]\n",
    "ylittle_test = ylittle.iloc[test_index]\n",
    "```\n",
    "\n",
    "(see https://stackoverflow.com/questions/39376967/nans-suddenly-appearing-for-sklearn-kfolds)"
   ]
  },
  {
   "cell_type": "markdown",
   "metadata": {},
   "source": [
    "15\\. Now that you have optimized the parameters, you can run the 5 fold cross validation on the original data set, basically what you did in 10., but fixing the parameter values at the \"optimal values\" found above (i.e., choose the model that was most often selected as the winner model). What are the mean and standard deviation of the scores?"
   ]
  },
  {
   "cell_type": "markdown",
   "metadata": {},
   "source": [
    "16\\. Based on what you found, would you recommend to use a Decision Tree Classifier or a Support Vector Classifier for this problem?"
   ]
  },
  {
   "cell_type": "markdown",
   "metadata": {},
   "source": [
    "Extra Credit: The object GridSearchCV (probably called clf in your code) that you created in 13. has an attribute \"grid\\_scores\\_\" that allows you to visualize the scores for every combination of parameters (if you are using sklearn version 0.19 and above, the attribute is named cv\\_results\\_). Based on this, which parameter has the highest impact (induces the largest change) on the performance of the SVC? Do you think it might be worth optimizing it further?"
   ]
  },
  {
   "cell_type": "code",
   "execution_count": null,
   "metadata": {},
   "outputs": [],
   "source": []
  }
 ],
 "metadata": {
  "kernelspec": {
   "display_name": "Python 3",
   "language": "python",
   "name": "python3"
  },
  "language_info": {
   "codemirror_mode": {
    "name": "ipython",
    "version": 3
   },
   "file_extension": ".py",
   "mimetype": "text/x-python",
   "name": "python",
   "nbconvert_exporter": "python",
   "pygments_lexer": "ipython3",
   "version": "3.6.7"
  }
 },
 "nbformat": 4,
 "nbformat_minor": 2
}
