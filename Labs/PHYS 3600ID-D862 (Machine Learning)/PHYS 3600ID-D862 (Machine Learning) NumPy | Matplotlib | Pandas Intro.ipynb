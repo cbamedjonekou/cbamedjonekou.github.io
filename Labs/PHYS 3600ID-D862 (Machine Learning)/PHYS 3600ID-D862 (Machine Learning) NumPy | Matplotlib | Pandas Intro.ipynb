{
 "cells": [
  {
   "cell_type": "markdown",
   "metadata": {},
   "source": [
    "**Name: Christ-Brian Amedjonekou**  \n",
    "**Date: 2/25/2019**  \n",
    "**PHYS 3600ID-D862 (Machine Learning) HW 1 **  \n",
    "**Spring 2019, Section: D862, Code: 37026**  \n",
    "**Instructor: Viviana Acquaviva**\n",
    "\n",
    "\n",
    "***I certify that my work is my own.***"
   ]
  },
  {
   "cell_type": "markdown",
   "metadata": {},
   "source": [
    "## Packages"
   ]
  },
  {
   "cell_type": "code",
   "execution_count": 1,
   "metadata": {},
   "outputs": [],
   "source": [
    "import numpy as np\n",
    "import string as stg\n",
    "from matplotlib import pyplot as plt\n",
    "import pandas as pd\n",
    "import seaborn as sns\n",
    "from matplotlib import mlab"
   ]
  },
  {
   "cell_type": "markdown",
   "metadata": {},
   "source": [
    "## Questions/Answers"
   ]
  },
  {
   "cell_type": "markdown",
   "metadata": {},
   "source": [
    "1\\. Form the following 2-D array, without typing it in explicitly: (hint: use .reshape)\n",
    "\n",
    "array<br>\n",
    "       ([[ 1,  3,  5], <br>\n",
    "       [ 7,  9, 11], <br>\n",
    "       [13, 15, 17], <br>\n",
    "       [19, 21, 23], <br>\n",
    "       [25, 27, 29]]) "
   ]
  },
  {
   "cell_type": "code",
   "execution_count": 2,
   "metadata": {},
   "outputs": [
    {
     "data": {
      "text/plain": [
       "array([[ 1,  3,  5],\n",
       "       [ 7,  9, 11],\n",
       "       [13, 15, 17],\n",
       "       [19, 21, 23],\n",
       "       [25, 27, 29]])"
      ]
     },
     "execution_count": 2,
     "metadata": {},
     "output_type": "execute_result"
    }
   ],
   "source": [
    "np.arange(1, 30, 2).reshape(5,3)"
   ]
  },
  {
   "cell_type": "markdown",
   "metadata": {},
   "source": [
    "2\\. Form a new array that contains the first two rows and columns of the one above."
   ]
  },
  {
   "cell_type": "code",
   "execution_count": 3,
   "metadata": {},
   "outputs": [
    {
     "data": {
      "text/plain": [
       "array([[1, 3],\n",
       "       [7, 9]])"
      ]
     },
     "execution_count": 3,
     "metadata": {},
     "output_type": "execute_result"
    }
   ],
   "source": [
    "new_array = np.arange(1, 30, 2).reshape(5,3)\n",
    "new_array = new_array[:2, :2]\n",
    "new_array"
   ]
  },
  {
   "cell_type": "markdown",
   "metadata": {},
   "source": [
    "3\\. Create a numpy array that contains the 26 letters of the alphabet, without typing. Hint: you can obtain a string with all the letters by using string, the text manipulation module, and typing:\n",
    "\n",
    "import string \n",
    "\n",
    "x = string.ascii_lowercase"
   ]
  },
  {
   "cell_type": "code",
   "execution_count": 4,
   "metadata": {},
   "outputs": [
    {
     "data": {
      "text/plain": [
       "array(['a', 'b', 'c', 'd', 'e', 'f', 'g', 'h', 'i', 'j', 'k', 'l', 'm',\n",
       "       'n', 'o', 'p', 'q', 'r', 's', 't', 'u', 'v', 'w', 'x', 'y', 'z'],\n",
       "      dtype='<U1')"
      ]
     },
     "execution_count": 4,
     "metadata": {},
     "output_type": "execute_result"
    }
   ],
   "source": [
    "alphabet = stg.ascii_lowercase\n",
    "alphabetlist = []\n",
    "for letter in alphabet:\n",
    "    alphabetlist.append(letter)\n",
    "    \n",
    "alphabetarray = np.array(alphabetlist)\n",
    "alphabetarray"
   ]
  },
  {
   "cell_type": "markdown",
   "metadata": {},
   "source": [
    "4\\. Create an array containing 26 random numbers between 0 and 1, filter out those that are > 0.5, and return the set of letters from the array above corresponding to those indices (in other words, apply the same mask to the array above. Bonus points if you can do it with a one liner)."
   ]
  },
  {
   "cell_type": "code",
   "execution_count": 5,
   "metadata": {},
   "outputs": [
    {
     "data": {
      "text/plain": [
       "array(['c', 'f', 'i', 'j', 'k', 'n', 'o', 'p', 'q', 'r', 'z'], dtype='<U1')"
      ]
     },
     "execution_count": 5,
     "metadata": {},
     "output_type": "execute_result"
    }
   ],
   "source": [
    "alphabetarray[np.random.rand(26) > 0.5]"
   ]
  },
  {
   "cell_type": "markdown",
   "metadata": {},
   "source": [
    "5\\. The code below (from the matplotlib tutorial page, https://matplotlib.org/tutorials/introductory/sample_plots.html#sphx-glr-tutorials-introductory-sample-plots-py) shows an example of how to make subplots. Add a comment after every line of code to explain what it does."
   ]
  },
  {
   "cell_type": "code",
   "execution_count": 6,
   "metadata": {},
   "outputs": [
    {
     "data": {
      "image/png": "[encoded data removed]",
      "text/plain": [
       "<Figure size 432x288 with 2 Axes>"
      ]
     },
     "metadata": {
      "needs_background": "light"
     },
     "output_type": "display_data"
    }
   ],
   "source": [
    "# Note: I like to keep my imports together. \n",
    "# So I moved the import for matplotlib to the package section above. \n",
    "# Matplotlib.pyplot is a package that allows you to plot things.\n",
    "# Creates an array with 50 equally spaced points (default value). \n",
    "# This is for the x-axis (domain/interval to be worked on) of the subplots.\n",
    "# Also can considered the x-values [(x, y) pairs] of your function\n",
    "x1 = np.linspace(0.0, 5.0)\n",
    "x2 = np.linspace(0.0, 2.0)\n",
    "\n",
    "# This is for the y-axis of the subplots.  \n",
    "# Also can considered the y-values [(x, y) pairs] of your function\n",
    "# a sinusoid scaled by mathematical constant 'e' to powers on interval [0, 5)\n",
    "y1 = np.cos(2 * np.pi * x1) * np.exp(-x1) \n",
    "\n",
    "# a sinusoid on interval [0, 2)\n",
    "y2 = np.cos(2 * np.pi * x2)\n",
    "\n",
    "# Creates the first subplot for 'y1 = np.cos(2 * np.pi * x1) * np.exp(-x1)' \n",
    "# with title, and labels\n",
    "plt.subplot(2, 1, 1)\n",
    "plt.plot(x1, y1, 'o-')\n",
    "plt.title('A tale of 2 subplots')\n",
    "plt.ylabel('Damped oscillation')\n",
    "\n",
    "# Creates the first subplot for 'y2 = np.cos(2 * np.pi * x2)' with title, and labels\n",
    "plt.subplot(2, 1, 2)\n",
    "plt.plot(x2, y2, '.-')\n",
    "plt.xlabel('time (s)')\n",
    "plt.ylabel('Undamped')\n",
    "\n",
    "# Shows the plot. Not necessary if you use jupyter in built function '%matplotlib inline'\n",
    "plt.show()"
   ]
  },
  {
   "cell_type": "markdown",
   "metadata": {},
   "source": [
    "6\\. Read into a numpy array the data set \"HIP_star.dat\". This data set contains information about stars; we are only interested in columns \"Vmag\", 'Plx', and \"B-V\", so make sure you only read those. Hint: open the file with a text editor first, to see if/how many lines you need to skip.\n",
    "\n",
    "http://astrostatistics.psu.edu/datasets/HIP_star.html\n",
    "\n",
    "\n"
   ]
  },
  {
   "cell_type": "code",
   "execution_count": 7,
   "metadata": {},
   "outputs": [
    {
     "data": {
      "text/html": [
       "<div>\n",
       "<style scoped>\n",
       "    .dataframe tbody tr th:only-of-type {\n",
       "        vertical-align: middle;\n",
       "    }\n",
       "\n",
       "    .dataframe tbody tr th {\n",
       "        vertical-align: top;\n",
       "    }\n",
       "\n",
       "    .dataframe thead th {\n",
       "        text-align: right;\n",
       "    }\n",
       "</style>\n",
       "<table border=\"1\" class=\"dataframe\">\n",
       "  <thead>\n",
       "    <tr style=\"text-align: right;\">\n",
       "      <th></th>\n",
       "      <th>Vmag</th>\n",
       "      <th>Plx</th>\n",
       "      <th>B-V</th>\n",
       "    </tr>\n",
       "  </thead>\n",
       "  <tbody>\n",
       "    <tr>\n",
       "      <th>0</th>\n",
       "      <td>9.27</td>\n",
       "      <td>21.90</td>\n",
       "      <td>0.999</td>\n",
       "    </tr>\n",
       "    <tr>\n",
       "      <th>1</th>\n",
       "      <td>8.65</td>\n",
       "      <td>23.84</td>\n",
       "      <td>0.778</td>\n",
       "    </tr>\n",
       "    <tr>\n",
       "      <th>2</th>\n",
       "      <td>10.78</td>\n",
       "      <td>24.45</td>\n",
       "      <td>1.150</td>\n",
       "    </tr>\n",
       "    <tr>\n",
       "      <th>3</th>\n",
       "      <td>10.57</td>\n",
       "      <td>20.97</td>\n",
       "      <td>1.030</td>\n",
       "    </tr>\n",
       "    <tr>\n",
       "      <th>4</th>\n",
       "      <td>9.93</td>\n",
       "      <td>24.22</td>\n",
       "      <td>1.068</td>\n",
       "    </tr>\n",
       "    <tr>\n",
       "      <th>5</th>\n",
       "      <td>8.57</td>\n",
       "      <td>23.43</td>\n",
       "      <td>0.642</td>\n",
       "    </tr>\n",
       "    <tr>\n",
       "      <th>6</th>\n",
       "      <td>8.61</td>\n",
       "      <td>20.42</td>\n",
       "      <td>0.787</td>\n",
       "    </tr>\n",
       "    <tr>\n",
       "      <th>7</th>\n",
       "      <td>8.64</td>\n",
       "      <td>20.10</td>\n",
       "      <td>0.620</td>\n",
       "    </tr>\n",
       "    <tr>\n",
       "      <th>8</th>\n",
       "      <td>10.35</td>\n",
       "      <td>20.05</td>\n",
       "      <td>1.033</td>\n",
       "    </tr>\n",
       "    <tr>\n",
       "      <th>9</th>\n",
       "      <td>11.26</td>\n",
       "      <td>22.92</td>\n",
       "      <td>0.932</td>\n",
       "    </tr>\n",
       "    <tr>\n",
       "      <th>10</th>\n",
       "      <td>12.43</td>\n",
       "      <td>22.98</td>\n",
       "      <td>1.490</td>\n",
       "    </tr>\n",
       "    <tr>\n",
       "      <th>11</th>\n",
       "      <td>7.17</td>\n",
       "      <td>21.58</td>\n",
       "      <td>0.617</td>\n",
       "    </tr>\n",
       "    <tr>\n",
       "      <th>12</th>\n",
       "      <td>7.66</td>\n",
       "      <td>20.44</td>\n",
       "      <td>0.741</td>\n",
       "    </tr>\n",
       "    <tr>\n",
       "      <th>13</th>\n",
       "      <td>10.37</td>\n",
       "      <td>21.14</td>\n",
       "      <td>1.100</td>\n",
       "    </tr>\n",
       "    <tr>\n",
       "      <th>14</th>\n",
       "      <td>9.80</td>\n",
       "      <td>22.52</td>\n",
       "      <td>0.855</td>\n",
       "    </tr>\n",
       "  </tbody>\n",
       "</table>\n",
       "</div>"
      ],
      "text/plain": [
       "     Vmag    Plx    B-V\n",
       "0    9.27  21.90  0.999\n",
       "1    8.65  23.84  0.778\n",
       "2   10.78  24.45  1.150\n",
       "3   10.57  20.97  1.030\n",
       "4    9.93  24.22  1.068\n",
       "5    8.57  23.43  0.642\n",
       "6    8.61  20.42  0.787\n",
       "7    8.64  20.10  0.620\n",
       "8   10.35  20.05  1.033\n",
       "9   11.26  22.92  0.932\n",
       "10  12.43  22.98  1.490\n",
       "11   7.17  21.58  0.617\n",
       "12   7.66  20.44  0.741\n",
       "13  10.37  21.14  1.100\n",
       "14   9.80  22.52  0.855"
      ]
     },
     "execution_count": 7,
     "metadata": {},
     "output_type": "execute_result"
    }
   ],
   "source": [
    "# I imported the data from the dataset provided using the numpy function as requested, here\n",
    "data = np.genfromtxt('Datasets/HIP_star_alldata.dat', skip_header= 1, usecols= [1, 4, 8])\n",
    "\n",
    "# But I also know how to use pandas so I'll put it in a table for more visibility\n",
    "# I'm going to use the 'pd.Dataframe.from_dict()' method so I'm creating a dictionary\n",
    "data1 = {'Vmag': data[:, 0], 'Plx': data[:, 1], 'B-V': data[:, 2]}\n",
    "df1 = pd.DataFrame.from_dict(data1)\n",
    "df1.head(15)"
   ]
  },
  {
   "cell_type": "code",
   "execution_count": 8,
   "metadata": {},
   "outputs": [
    {
     "data": {
      "text/html": [
       "<div>\n",
       "<style scoped>\n",
       "    .dataframe tbody tr th:only-of-type {\n",
       "        vertical-align: middle;\n",
       "    }\n",
       "\n",
       "    .dataframe tbody tr th {\n",
       "        vertical-align: top;\n",
       "    }\n",
       "\n",
       "    .dataframe thead th {\n",
       "        text-align: right;\n",
       "    }\n",
       "</style>\n",
       "<table border=\"1\" class=\"dataframe\">\n",
       "  <thead>\n",
       "    <tr style=\"text-align: right;\">\n",
       "      <th></th>\n",
       "      <th>Vmag</th>\n",
       "      <th>Plx</th>\n",
       "      <th>B-V</th>\n",
       "    </tr>\n",
       "  </thead>\n",
       "  <tbody>\n",
       "    <tr>\n",
       "      <th>2663</th>\n",
       "      <td>7.51</td>\n",
       "      <td>23.62</td>\n",
       "      <td>1.007</td>\n",
       "    </tr>\n",
       "    <tr>\n",
       "      <th>2664</th>\n",
       "      <td>8.94</td>\n",
       "      <td>22.08</td>\n",
       "      <td>0.805</td>\n",
       "    </tr>\n",
       "    <tr>\n",
       "      <th>2665</th>\n",
       "      <td>9.23</td>\n",
       "      <td>23.50</td>\n",
       "      <td>0.861</td>\n",
       "    </tr>\n",
       "    <tr>\n",
       "      <th>2666</th>\n",
       "      <td>9.01</td>\n",
       "      <td>20.22</td>\n",
       "      <td>0.924</td>\n",
       "    </tr>\n",
       "    <tr>\n",
       "      <th>2667</th>\n",
       "      <td>9.97</td>\n",
       "      <td>20.43</td>\n",
       "      <td>0.967</td>\n",
       "    </tr>\n",
       "    <tr>\n",
       "      <th>2668</th>\n",
       "      <td>7.67</td>\n",
       "      <td>20.01</td>\n",
       "      <td>0.638</td>\n",
       "    </tr>\n",
       "    <tr>\n",
       "      <th>2669</th>\n",
       "      <td>7.89</td>\n",
       "      <td>20.98</td>\n",
       "      <td>0.643</td>\n",
       "    </tr>\n",
       "    <tr>\n",
       "      <th>2670</th>\n",
       "      <td>5.00</td>\n",
       "      <td>20.53</td>\n",
       "      <td>0.060</td>\n",
       "    </tr>\n",
       "    <tr>\n",
       "      <th>2671</th>\n",
       "      <td>11.23</td>\n",
       "      <td>23.47</td>\n",
       "      <td>1.617</td>\n",
       "    </tr>\n",
       "    <tr>\n",
       "      <th>2672</th>\n",
       "      <td>9.97</td>\n",
       "      <td>21.19</td>\n",
       "      <td>1.000</td>\n",
       "    </tr>\n",
       "    <tr>\n",
       "      <th>2673</th>\n",
       "      <td>8.38</td>\n",
       "      <td>23.37</td>\n",
       "      <td>0.651</td>\n",
       "    </tr>\n",
       "    <tr>\n",
       "      <th>2674</th>\n",
       "      <td>8.28</td>\n",
       "      <td>20.33</td>\n",
       "      <td>0.734</td>\n",
       "    </tr>\n",
       "    <tr>\n",
       "      <th>2675</th>\n",
       "      <td>8.16</td>\n",
       "      <td>22.91</td>\n",
       "      <td>0.652</td>\n",
       "    </tr>\n",
       "    <tr>\n",
       "      <th>2676</th>\n",
       "      <td>7.72</td>\n",
       "      <td>22.19</td>\n",
       "      <td>0.563</td>\n",
       "    </tr>\n",
       "    <tr>\n",
       "      <th>2677</th>\n",
       "      <td>11.85</td>\n",
       "      <td>24.63</td>\n",
       "      <td>1.391</td>\n",
       "    </tr>\n",
       "  </tbody>\n",
       "</table>\n",
       "</div>"
      ],
      "text/plain": [
       "       Vmag    Plx    B-V\n",
       "2663   7.51  23.62  1.007\n",
       "2664   8.94  22.08  0.805\n",
       "2665   9.23  23.50  0.861\n",
       "2666   9.01  20.22  0.924\n",
       "2667   9.97  20.43  0.967\n",
       "2668   7.67  20.01  0.638\n",
       "2669   7.89  20.98  0.643\n",
       "2670   5.00  20.53  0.060\n",
       "2671  11.23  23.47  1.617\n",
       "2672   9.97  21.19  1.000\n",
       "2673   8.38  23.37  0.651\n",
       "2674   8.28  20.33  0.734\n",
       "2675   8.16  22.91  0.652\n",
       "2676   7.72  22.19  0.563\n",
       "2677  11.85  24.63  1.391"
      ]
     },
     "execution_count": 8,
     "metadata": {},
     "output_type": "execute_result"
    }
   ],
   "source": [
    "df1.tail(15)"
   ]
  },
  {
   "cell_type": "markdown",
   "metadata": {},
   "source": [
    "7\\. Calculate the shape of your array."
   ]
  },
  {
   "cell_type": "code",
   "execution_count": 9,
   "metadata": {},
   "outputs": [
    {
     "data": {
      "text/plain": [
       "(2678, 3)"
      ]
     },
     "execution_count": 9,
     "metadata": {},
     "output_type": "execute_result"
    }
   ],
   "source": [
    "np.shape(data)"
   ]
  },
  {
   "cell_type": "code",
   "execution_count": 10,
   "metadata": {},
   "outputs": [
    {
     "data": {
      "text/plain": [
       "(2678, 3)"
      ]
     },
     "execution_count": 10,
     "metadata": {},
     "output_type": "execute_result"
    }
   ],
   "source": [
    "df1.shape"
   ]
  },
  {
   "cell_type": "markdown",
   "metadata": {},
   "source": [
    "8\\. Define a function, logL, that calculates the (log of) a star's luminosity starting from Vmag (the visual brightness) and Plx (the parallax angle, which is inversely proportional to a star's distance). The function should implement the following relationship:\n",
    "\n",
    "LogL = (15 - Vmag - 5 * log(Plx))/2.5\n",
    "\n",
    "Hint: To implement Log = base 10 log, you can use the function np.log10().\n",
    "\n",
    "\n"
   ]
  },
  {
   "cell_type": "code",
   "execution_count": 11,
   "metadata": {},
   "outputs": [],
   "source": [
    "def logL(vmag, plx):\n",
    "    \"\"\"Takes in two parameters 'vmag' and 'plx' and returns the (log of) a \n",
    "    star's luminosity. Vmag = 'the visual brightness'; Plx = 'the parallax angle'.\n",
    "    The parallax angle is inversely proportional to a star's distance.\n",
    "    \n",
    "    Example: \n",
    "    \n",
    "    LogL = (15 - Vmag - 5 * log(Plx))/2.5\n",
    "    \n",
    "    Coded Example:\n",
    "    \n",
    "    (15 - vmag - 5 * np.log(plx))/2.5\n",
    "    \n",
    "    \"\"\"\n",
    "    return (15 - vmag - 5 * np.log(plx))/2.5"
   ]
  },
  {
   "cell_type": "markdown",
   "metadata": {},
   "source": [
    "9\\. Make sure your function is vectorized (feed it a vector as argument and check that it runs).\n",
    "\n",
    "\n"
   ]
  },
  {
   "cell_type": "code",
   "execution_count": 12,
   "metadata": {},
   "outputs": [
    {
     "data": {
      "text/plain": [
       "0   -3.880973\n",
       "1   -3.802730\n",
       "2   -4.705260\n",
       "3   -4.314186\n",
       "4   -4.346357\n",
       "5   -3.736035\n",
       "6   -3.477030\n",
       "7   -3.457440\n",
       "8   -4.136458\n",
       "9   -4.768020\n",
       "Name: Log (Luminosity), dtype: float64"
      ]
     },
     "execution_count": 12,
     "metadata": {},
     "output_type": "execute_result"
    }
   ],
   "source": [
    "LogL = np.vectorize(logL)\n",
    "df1['Log (Luminosity)'] = LogL(df1['Vmag'], df1['Plx'])\n",
    "df1['Log (Luminosity)'].head(10)"
   ]
  },
  {
   "cell_type": "code",
   "execution_count": 13,
   "metadata": {},
   "outputs": [
    {
     "data": {
      "text/plain": [
       "2668   -3.060464\n",
       "2669   -3.243139\n",
       "2670   -2.043774\n",
       "2671   -4.803446\n",
       "2672   -4.095059\n",
       "2673   -3.654906\n",
       "2674   -3.336195\n",
       "2675   -3.527147\n",
       "2676   -3.287283\n",
       "2677   -5.147930\n",
       "Name: Log (Luminosity), dtype: float64"
      ]
     },
     "execution_count": 13,
     "metadata": {},
     "output_type": "execute_result"
    }
   ],
   "source": [
    "df1['Log (Luminosity)'].tail(10)"
   ]
  },
  {
   "cell_type": "markdown",
   "metadata": {},
   "source": [
    "10\\. Make a scatter plot that has B-V for the stars on the x axis (make sure you index your array correctly!), and their log luminosity (calculated using the function you just made) on the y axis. This is called a H-R diagram (Hertzsprung Russell diagram). It encodes information about the temperature of stars (expressed by color, or B-V) and their luminosity. \n",
    "\n",
    "Add axes titles: B-V for the x axis, Log L (as appropriate) for y axis\n",
    "\n",
    "Adjust axes limits to be [-0.5,3] for B-V, [-3, 4] for log L\n",
    "\n"
   ]
  },
  {
   "cell_type": "code",
   "execution_count": 14,
   "metadata": {},
   "outputs": [
    {
     "data": {
      "image/png": "[encoded data removed]",
      "text/plain": [
       "<Figure size 432x288 with 1 Axes>"
      ]
     },
     "metadata": {
      "needs_background": "light"
     },
     "output_type": "display_data"
    }
   ],
   "source": [
    "fig, ax1 = plt.subplots()\n",
    "ax1.scatter(df1['B-V'], df1['Log (Luminosity)'])\n",
    "ax1.set(xlabel= 'B-V', ylabel= 'Log L (as appropriate)', \n",
    "        title= 'H-R diagram (Hertzsprung Russell diagram)', \n",
    "        xlim= [-0.5,3], ylim=  [-3, 4]);"
   ]
  },
  {
   "cell_type": "markdown",
   "metadata": {},
   "source": [
    "11\\. Add information to the above plot using colors and sizes. Make a scatter plot with colors arranged according to Vmag, and another scatter plot where the size of the markers is proportional to the Vmag of each point.\n",
    "\n",
    "\n"
   ]
  },
  {
   "cell_type": "code",
   "execution_count": 15,
   "metadata": {},
   "outputs": [
    {
     "data": {
      "image/png": "[encoded data removed]",
      "text/plain": [
       "<Figure size 432x288 with 1 Axes>"
      ]
     },
     "metadata": {
      "needs_background": "light"
     },
     "output_type": "display_data"
    }
   ],
   "source": [
    "fig2, ax2 = plt.subplots()\n",
    "\n",
    "# colors arranged according to Vmag\n",
    "colors = df1['Vmag'] \n",
    "\n",
    "# size of the markers is proportional to the Vmag of each point\n",
    "sizes = 75 * df1['Vmag'] \n",
    "\n",
    "ax2.scatter(df1['B-V'], df1['Log (Luminosity)'], c= colors)\n",
    "ax2.set(xlabel= 'B-V', ylabel= 'Log L (as appropriate)', \n",
    "        title= 'H-R diagram (Hertzsprung Russell diagram)', \n",
    "        xlim= [-0.5,3], ylim=  [-3, 4]);"
   ]
  },
  {
   "cell_type": "code",
   "execution_count": 16,
   "metadata": {},
   "outputs": [
    {
     "data": {
      "image/png": "[encoded data removed]",
      "text/plain": [
       "<Figure size 432x288 with 1 Axes>"
      ]
     },
     "metadata": {
      "needs_background": "light"
     },
     "output_type": "display_data"
    }
   ],
   "source": [
    "fig3, ax3 = plt.subplots()\n",
    "ax3.scatter(df1['B-V'], df1['Log (Luminosity)'], c= colors, s= sizes, alpha= .4)\n",
    "ax3.set(xlabel= 'B-V', ylabel= 'Log L (as appropriate)', \n",
    "        title= 'H-R diagram (Hertzsprung Russell diagram)', \n",
    "        xlim= [-0.5,3], ylim=  [-3, 4]);\n"
   ]
  },
  {
   "cell_type": "markdown",
   "metadata": {},
   "source": [
    "12\\. Visualize B-V as a histogram.\n",
    "\n",
    "\n"
   ]
  },
  {
   "cell_type": "code",
   "execution_count": 17,
   "metadata": {},
   "outputs": [
    {
     "data": {
      "image/png": "[encoded data removed]",
      "text/plain": [
       "<Figure size 432x288 with 1 Axes>"
      ]
     },
     "metadata": {
      "needs_background": "light"
     },
     "output_type": "display_data"
    }
   ],
   "source": [
    "fig4, ax4 = plt.subplots()\n",
    "ax4.hist(df1['B-V'], bins= 40, color= 'red')\n",
    "ax4.set(xlabel= 'B-V (Domain)', ylabel= 'B-V (Range)', \n",
    "        title= 'The IDK to call it Histogram');\n",
    "ax4.grid()"
   ]
  },
  {
   "cell_type": "markdown",
   "metadata": {},
   "source": [
    "13\\. For the B-V array, calculate its mean and its median, and its standard deviation.\n",
    "\n",
    "\n"
   ]
  },
  {
   "cell_type": "markdown",
   "metadata": {},
   "source": [
    "**MEAN**"
   ]
  },
  {
   "cell_type": "code",
   "execution_count": 18,
   "metadata": {
    "scrolled": true
   },
   "outputs": [
    {
     "data": {
      "text/plain": [
       "0.7615298730395825"
      ]
     },
     "execution_count": 18,
     "metadata": {},
     "output_type": "execute_result"
    }
   ],
   "source": [
    "df1['B-V'].mean()"
   ]
  },
  {
   "cell_type": "code",
   "execution_count": 19,
   "metadata": {
    "scrolled": true
   },
   "outputs": [
    {
     "data": {
      "text/plain": [
       "0.7615298730395825"
      ]
     },
     "execution_count": 19,
     "metadata": {},
     "output_type": "execute_result"
    }
   ],
   "source": [
    "np.mean(df1['B-V'])"
   ]
  },
  {
   "cell_type": "code",
   "execution_count": 20,
   "metadata": {},
   "outputs": [
    {
     "data": {
      "text/plain": [
       "0.7615298730395818"
      ]
     },
     "execution_count": 20,
     "metadata": {},
     "output_type": "execute_result"
    }
   ],
   "source": [
    "# Change in the least significant digits probably due to a precision change\n",
    "np.mean(data[:,2])"
   ]
  },
  {
   "cell_type": "markdown",
   "metadata": {},
   "source": [
    "**MEDIAN**"
   ]
  },
  {
   "cell_type": "code",
   "execution_count": 21,
   "metadata": {
    "scrolled": true
   },
   "outputs": [
    {
     "data": {
      "text/plain": [
       "0.7104999999999999"
      ]
     },
     "execution_count": 21,
     "metadata": {},
     "output_type": "execute_result"
    }
   ],
   "source": [
    "df1['B-V'].median()"
   ]
  },
  {
   "cell_type": "code",
   "execution_count": 22,
   "metadata": {
    "scrolled": true
   },
   "outputs": [
    {
     "data": {
      "text/plain": [
       "0.7104999999999999"
      ]
     },
     "execution_count": 22,
     "metadata": {},
     "output_type": "execute_result"
    }
   ],
   "source": [
    "np.median(df1['B-V'])"
   ]
  },
  {
   "cell_type": "code",
   "execution_count": 23,
   "metadata": {},
   "outputs": [
    {
     "data": {
      "text/plain": [
       "0.7104999999999999"
      ]
     },
     "execution_count": 23,
     "metadata": {},
     "output_type": "execute_result"
    }
   ],
   "source": [
    "# Change in the least significant digits probably due to a precision change\n",
    "# Checking the type might offer some clarification as to why\n",
    "np.median(data[:,2])"
   ]
  },
  {
   "cell_type": "markdown",
   "metadata": {},
   "source": [
    "**STANDARD DEVIATION**"
   ]
  },
  {
   "cell_type": "code",
   "execution_count": 24,
   "metadata": {
    "scrolled": true
   },
   "outputs": [
    {
     "data": {
      "text/plain": [
       "0.3181876131425044"
      ]
     },
     "execution_count": 24,
     "metadata": {},
     "output_type": "execute_result"
    }
   ],
   "source": [
    "df1['B-V'].std()\n",
    "#type(df1['B-V'].std())"
   ]
  },
  {
   "cell_type": "code",
   "execution_count": 25,
   "metadata": {
    "scrolled": true
   },
   "outputs": [
    {
     "data": {
      "text/plain": [
       "0.31812819990080593"
      ]
     },
     "execution_count": 25,
     "metadata": {},
     "output_type": "execute_result"
    }
   ],
   "source": [
    "np.std(df1['B-V'])\n",
    "#type(np.std(df1['B-V']))"
   ]
  },
  {
   "cell_type": "code",
   "execution_count": 26,
   "metadata": {},
   "outputs": [
    {
     "data": {
      "text/plain": [
       "0.31812819990080615"
      ]
     },
     "execution_count": 26,
     "metadata": {},
     "output_type": "execute_result"
    }
   ],
   "source": [
    "# Change in the least significant digits probably due to a precision change\n",
    "np.std(data[:,2])\n",
    "\n",
    "#type(np.std(data[:,2]))"
   ]
  },
  {
   "cell_type": "markdown",
   "metadata": {},
   "source": [
    "**Extra points:**\n",
    "\n",
    "14\\. Calculate the 10 and 90 percentile levels of the B-V array, and explain what they are. \n",
    "\n",
    "There where multiple ways I could have done this, I didn't have time to finish so I have a plot:\n",
    "\n",
    "* **For example, [like using this](https://stackoverflow.com/questions/10138085/python-pylab-plot-normal-distribution) or [this](https://en.wikipedia.org/wiki/Normal_distribution#Probability_density_function) or [this](https://stackoverflow.com/questions/12412895/calculate-probability-in-normal-distribution-given-mean-std-in-python).**\n",
    "    $$\\space$$\n",
    "    * I chose the first link because of simplicity. \n",
    "    * The second included manually calculating this PDF\n",
    "    * The third uses Scipy\n",
    "\n",
    "\n",
    "* This is for the plot"
   ]
  },
  {
   "cell_type": "code",
   "execution_count": 27,
   "metadata": {},
   "outputs": [
    {
     "name": "stderr",
     "output_type": "stream",
     "text": [
      "/Users/Chris/anaconda/lib/python3.6/site-packages/ipykernel_launcher.py:6: MatplotlibDeprecationWarning: scipy.stats.norm.pdf\n",
      "  \n"
     ]
    },
    {
     "data": {
      "image/png": "[encoded data removed]",
      "text/plain": [
       "<Figure size 432x288 with 1 Axes>"
      ]
     },
     "metadata": {
      "needs_background": "light"
     },
     "output_type": "display_data"
    }
   ],
   "source": [
    "strd = df1['B-V'].std()\n",
    "mean_ = df1['B-V'].mean()\n",
    "numberOfDeviations = 4 * strd\n",
    "start, stop, points = mean_ - numberOfDeviations, mean_ + numberOfDeviations, 100\n",
    "domain = np.linspace(start, stop, points)\n",
    "range_ = mlab.normpdf(domain, mean_, strd)\n",
    "\n",
    "fig5, ax5 = plt.subplots()\n",
    "ax5.plot(domain, range_, color= 'red')\n",
    "ax5.set(xlabel= 'B-V (Domain)', ylabel= 'B-V (Range)', \n",
    "        title= 'B-V Bell Curve');\n",
    "ax5.grid()"
   ]
  },
  {
   "cell_type": "markdown",
   "metadata": {},
   "source": [
    "15\\. Are the mean and the median different? In either case, what does this tell us about the distribution?\n"
   ]
  }
 ],
 "metadata": {
  "kernelspec": {
   "display_name": "Python 3",
   "language": "python",
   "name": "python3"
  },
  "language_info": {
   "codemirror_mode": {
    "name": "ipython",
    "version": 3
   },
   "file_extension": ".py",
   "mimetype": "text/x-python",
   "name": "python",
   "nbconvert_exporter": "python",
   "pygments_lexer": "ipython3",
   "version": "3.6.7"
  }
 },
 "nbformat": 4,
 "nbformat_minor": 2
}
