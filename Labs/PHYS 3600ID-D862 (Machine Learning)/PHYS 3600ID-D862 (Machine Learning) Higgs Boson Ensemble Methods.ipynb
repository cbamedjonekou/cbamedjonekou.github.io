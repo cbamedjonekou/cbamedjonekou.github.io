{
 "cells": [
  {
   "cell_type": "markdown",
   "metadata": {},
   "source": [
    "**Name: Christ-Brian Amedjonekou**  \n",
    "**Date: 05/05/2019**  \n",
    "**PHYS 3600ID-D862 (Machine Learning) HW 8**  \n",
    "**Spring 2019, Section: D862, Code: 37026**  \n",
    "**Instructor: Viviana Acquaviva**\n",
    "\n",
    "\n",
    "***I certify that my work is my own.***"
   ]
  },
  {
   "cell_type": "markdown",
   "metadata": {},
   "source": [
    "For this worksheet, we are using the data for the Higgs Boson challenge. The files are called \"Higgs_features.csv\" and \"Higgs_labels.csv\". The labels are 0 and 1, corresponding to \"no Higgs signal\", and \"Higgs signal\".\n",
    "\n",
    "We will start with a decision tree and then move on to RFs and ERTs. Note that the next two tasks are required but not grade-bearing since you did this already!"
   ]
  },
  {
   "cell_type": "code",
   "execution_count": 1,
   "metadata": {},
   "outputs": [],
   "source": [
    "import numpy as np\n",
    "import pandas as pd\n",
    "import matplotlib.pyplot as plt\n",
    "from sklearn.model_selection import cross_val_score,cross_val_predict\n",
    "from sklearn import metrics\n",
    "from sklearn.model_selection import KFold, StratifiedKFold, train_test_split\n",
    "import itertools as itr\n",
    "from sklearn.tree import DecisionTreeClassifier\n",
    "from sklearn.ensemble import RandomForestClassifier, RandomForestRegressor\n",
    "from sklearn.ensemble import ExtraTreesClassifier, ExtraTreesRegressor\n",
    "\n",
    "from sklearn.model_selection import GridSearchCV"
   ]
  },
  {
   "cell_type": "markdown",
   "metadata": {},
   "source": [
    "TASK: Read the data into two numpy arrays, one for features and one for labels."
   ]
  },
  {
   "cell_type": "code",
   "execution_count": 2,
   "metadata": {},
   "outputs": [],
   "source": [
    "features = pd.read_csv('Datasets/Higgs_features.csv', \n",
    "                       names= ['Feature 1', 'Feature 2', 'Feature 3', 'Feature 4', \n",
    "                               'Feature 5', 'Feature 6', 'Feature 7', 'Feature 8'])\n",
    "labels = pd.read_csv('Datasets/Higgs_labels.csv', names= ['Target'])"
   ]
  },
  {
   "cell_type": "markdown",
   "metadata": {},
   "source": [
    "TASK: Use a decision tree classifier as your model, and do five fold cross validation on your data, <b> using the function cross\\_val\\_score and precision as the scoring parameter</b>. Report the mean and standard deviation of the scores obtained for the five folds."
   ]
  },
  {
   "cell_type": "code",
   "execution_count": 3,
   "metadata": {},
   "outputs": [
    {
     "name": "stderr",
     "output_type": "stream",
     "text": [
      "[Parallel(n_jobs=4)]: Using backend LokyBackend with 4 concurrent workers.\n"
     ]
    },
    {
     "name": "stdout",
     "output_type": "stream",
     "text": [
      "The Metric [precision] : [0.62987013 0.64053426 0.62860438 0.63916914 0.63014493]\n",
      "Mean of The Metric [precision] : 0.6336645684574724\n",
      "Standard Deviation of The Metric [precision] : 0.005096746256361301\n"
     ]
    },
    {
     "name": "stderr",
     "output_type": "stream",
     "text": [
      "[Parallel(n_jobs=4)]: Done   5 out of   5 | elapsed:    7.1s finished\n"
     ]
    }
   ],
   "source": [
    "# Creates the Decision Tree Model\n",
    "higgsModel_1 = DecisionTreeClassifier()\n",
    "\n",
    "# Computes the Cross validation w/ 4 different metrics\n",
    "metric_ = 'precision'\n",
    "scores = cross_val_score(higgsModel_1, features, labels, scoring= metric_,\n",
    "                         cv = StratifiedKFold(shuffle=True, n_splits=5), \n",
    "                         verbose= 1, n_jobs= 4)\n",
    "print('The Metric [{}] : {}'.format(metric_, scores))\n",
    "print('Mean of The Metric [{}] : {}'.format(metric_, scores.mean()))\n",
    "print('Standard Deviation of The Metric [{}] : {}'.format(metric_, scores.std()))"
   ]
  },
  {
   "cell_type": "markdown",
   "metadata": {},
   "source": [
    "1\\. Now you can do the same for a Random Forest Classifier with default parameters."
   ]
  },
  {
   "cell_type": "code",
   "execution_count": 4,
   "metadata": {},
   "outputs": [],
   "source": [
    "labels = np.array(labels).flatten()"
   ]
  },
  {
   "cell_type": "code",
   "execution_count": 5,
   "metadata": {},
   "outputs": [
    {
     "name": "stderr",
     "output_type": "stream",
     "text": [
      "/Users/Chris/anaconda/lib/python3.6/site-packages/sklearn/ensemble/forest.py:248: FutureWarning: The default value of n_estimators will change from 10 in version 0.20 to 100 in 0.22.\n",
      "  \"10 in version 0.20 to 100 in 0.22.\", FutureWarning)\n",
      "/Users/Chris/anaconda/lib/python3.6/site-packages/sklearn/ensemble/forest.py:248: FutureWarning: The default value of n_estimators will change from 10 in version 0.20 to 100 in 0.22.\n",
      "  \"10 in version 0.20 to 100 in 0.22.\", FutureWarning)\n",
      "/Users/Chris/anaconda/lib/python3.6/site-packages/sklearn/ensemble/forest.py:248: FutureWarning: The default value of n_estimators will change from 10 in version 0.20 to 100 in 0.22.\n",
      "  \"10 in version 0.20 to 100 in 0.22.\", FutureWarning)\n",
      "/Users/Chris/anaconda/lib/python3.6/site-packages/sklearn/ensemble/forest.py:248: FutureWarning: The default value of n_estimators will change from 10 in version 0.20 to 100 in 0.22.\n",
      "  \"10 in version 0.20 to 100 in 0.22.\", FutureWarning)\n",
      "/Users/Chris/anaconda/lib/python3.6/site-packages/sklearn/ensemble/forest.py:248: FutureWarning: The default value of n_estimators will change from 10 in version 0.20 to 100 in 0.22.\n",
      "  \"10 in version 0.20 to 100 in 0.22.\", FutureWarning)\n"
     ]
    },
    {
     "name": "stdout",
     "output_type": "stream",
     "text": [
      "The Metric [precision] : [0.75774648 0.75431332 0.73768217 0.749658   0.75787264]\n",
      "Mean of The Metric [precision] : 0.7514545209023095\n",
      "Standard Deviation of The Metric [precision] : 0.007508115004340501\n"
     ]
    }
   ],
   "source": [
    "# Creates the Decision Tree Model\n",
    "higgsModel_2 = RandomForestClassifier()\n",
    "\n",
    "# Computes the Cross validation w/ 4 different metrics\n",
    "metric_ = 'precision'\n",
    "scores = cross_val_score(higgsModel_2, features, labels, scoring= metric_,\n",
    "                         cv = StratifiedKFold(shuffle=True, n_splits=5))\n",
    "print('The Metric [{}] : {}'.format(metric_, scores))\n",
    "print('Mean of The Metric [{}] : {}'.format(metric_, scores.mean()))\n",
    "print('Standard Deviation of The Metric [{}] : {}'.format(metric_, scores.std()))"
   ]
  },
  {
   "cell_type": "markdown",
   "metadata": {},
   "source": [
    "2\\. Which model performs better \"out of the box\"?\n",
    "\n",
    "* **The Random Forest Classifier Performed better.**"
   ]
  },
  {
   "cell_type": "markdown",
   "metadata": {},
   "source": [
    "3\\. Let's try and diagnose the high bias/high variance for this classifier. You can import the function \"check train test\" from the lecture notebook and use it to evaluate the gap between train and test scores for the decision tree and for the random forest."
   ]
  },
  {
   "cell_type": "code",
   "execution_count": 6,
   "metadata": {},
   "outputs": [],
   "source": [
    "def checktraintest(X, y, model, ntrials =5, test_size = 0.2):\n",
    "\n",
    "    scores_train = np.zeros(ntrials)\n",
    "    scores_test = np.zeros(ntrials)\n",
    "\n",
    "    for i in range(ntrials):\n",
    "        X_train, X_test, y_train, y_test = \\\n",
    "        train_test_split(X, y, test_size=test_size, random_state=i)\n",
    "        model.fit(X_train, y_train)\n",
    "        pred_test = model.predict(X_test)\n",
    "        pred_train = model.predict(X_train)\n",
    "\n",
    "        scores_test[i] = (metrics.accuracy_score(y_test,pred_test))\n",
    "        scores_train[i] =(metrics.accuracy_score(y_train,pred_train))\n",
    "\n",
    "    print('Training scores '+str(scores_train.mean())+' +- '+str(scores_train.std()))\n",
    "    print('Test scores '+str(scores_test.mean())+' +- '+str(scores_test.std()))"
   ]
  },
  {
   "cell_type": "markdown",
   "metadata": {},
   "source": [
    "**Decision Tree**"
   ]
  },
  {
   "cell_type": "code",
   "execution_count": 7,
   "metadata": {},
   "outputs": [
    {
     "name": "stdout",
     "output_type": "stream",
     "text": [
      "Training scores 1.0 +- 0.0\n",
      "Test scores 0.7527200000000001 +- 0.0076006315527066635\n"
     ]
    }
   ],
   "source": [
    "checktraintest(features, labels, higgsModel_1)"
   ]
  },
  {
   "cell_type": "markdown",
   "metadata": {},
   "source": [
    "**Random Forest**"
   ]
  },
  {
   "cell_type": "code",
   "execution_count": 8,
   "metadata": {},
   "outputs": [
    {
     "name": "stderr",
     "output_type": "stream",
     "text": [
      "/Users/Chris/anaconda/lib/python3.6/site-packages/sklearn/ensemble/forest.py:248: FutureWarning: The default value of n_estimators will change from 10 in version 0.20 to 100 in 0.22.\n",
      "  \"10 in version 0.20 to 100 in 0.22.\", FutureWarning)\n"
     ]
    },
    {
     "name": "stdout",
     "output_type": "stream",
     "text": [
      "Training scores 0.9864900000000001 +- 0.0007611832893594016\n",
      "Test scores 0.8065999999999999 +- 0.005091168824543118\n"
     ]
    }
   ],
   "source": [
    "checktraintest(features, labels, higgsModel_2)"
   ]
  },
  {
   "cell_type": "markdown",
   "metadata": {},
   "source": [
    "4\\. Based on what you saw above, do you see a high bias or high variance issue for the RF?\n",
    "\n",
    "* **It is more of a overfitting (high variance) issue than a underfitting (high bias) issue. They train scores are still pretty close to perfect but the test scores are not very close in comparision.**"
   ]
  },
  {
   "cell_type": "markdown",
   "metadata": {},
   "source": [
    "5\\. Report the confusion matrix for the two algorithms (note: you will need to use \"cross_val_predict\" to generate the two vectors of predicted values for the two algorithm). What are the main differences?\n",
    "\n",
    "* **In general, Random Forest performed better in correctly placing items in their correct category. While comparing you'll notice that random forest have less False Negatives and False Positives. The latter is especially true.**"
   ]
  },
  {
   "cell_type": "code",
   "execution_count": 9,
   "metadata": {},
   "outputs": [],
   "source": [
    "from sklearn.metrics import confusion_matrix"
   ]
  },
  {
   "cell_type": "code",
   "execution_count": 10,
   "metadata": {},
   "outputs": [],
   "source": [
    "def plot_confusion_matrix(cm, classes,\n",
    "                          normalize=False,\n",
    "                          title='Confusion matrix',\n",
    "                          cmap=plt.cm.Blues, return_cm= False):\n",
    "    \"\"\"\n",
    "    This function prints and plots the confusion matrix.\n",
    "    Normalization can be applied by setting `normalize=True`.\n",
    "    \"\"\"\n",
    "    if return_cm == False:\n",
    "        if normalize:\n",
    "            cm = cm.astype('float') / cm.sum(axis=1)[:, np.newaxis]\n",
    "            print(\"Normalized confusion matrix\")\n",
    "        else:\n",
    "            print('Confusion matrix, without normalization')\n",
    "\n",
    "        print(cm)\n",
    "\n",
    "        plt.imshow(cm, interpolation='nearest', cmap=cmap)\n",
    "        plt.title(title)\n",
    "        plt.colorbar()\n",
    "        tick_marks = np.arange(len(classes))\n",
    "        plt.xticks(tick_marks, classes, rotation=45)\n",
    "        plt.yticks(tick_marks, classes)\n",
    "\n",
    "        fmt = '.2f' if normalize else 'd'\n",
    "        thresh = cm.max() / 2.\n",
    "        for i, j in itr.product(range(cm.shape[0]), range(cm.shape[1])):\n",
    "            plt.text(j, i, format(cm[i, j], fmt),\n",
    "                     horizontalalignment=\"center\",\n",
    "                     color=\"white\" if cm[i, j] > thresh else \"black\")\n",
    "\n",
    "        plt.tight_layout()\n",
    "        plt.ylabel('True label')\n",
    "        plt.xlabel('Predicted label')\n",
    "        \n",
    "    else:\n",
    "        return cm"
   ]
  },
  {
   "cell_type": "markdown",
   "metadata": {},
   "source": [
    "**Decision Tree**"
   ]
  },
  {
   "cell_type": "code",
   "execution_count": 11,
   "metadata": {},
   "outputs": [
    {
     "name": "stdout",
     "output_type": "stream",
     "text": [
      "Confusion matrix, without normalization\n",
      "[[13443  3083]\n",
      " [ 3075  5399]]\n"
     ]
    },
    {
     "data": {
      "image/png": "[encoded data removed]",
      "text/plain": [
       "<Figure size 432x288 with 2 Axes>"
      ]
     },
     "metadata": {
      "needs_background": "light"
     },
     "output_type": "display_data"
    }
   ],
   "source": [
    "predicted = cross_val_predict(higgsModel_1, features, labels, \n",
    "                              cv=StratifiedKFold(shuffle=True, n_splits=5))\n",
    "cm = confusion_matrix(labels, predicted)\n",
    "plot_confusion_matrix(cm, classes=[0, 1], title='Confusion matrix')"
   ]
  },
  {
   "cell_type": "markdown",
   "metadata": {},
   "source": [
    "**Random Forest**"
   ]
  },
  {
   "cell_type": "code",
   "execution_count": 12,
   "metadata": {},
   "outputs": [
    {
     "name": "stdout",
     "output_type": "stream",
     "text": [
      "Confusion matrix, without normalization\n",
      "[[14786  1740]\n",
      " [ 3066  5408]]\n"
     ]
    },
    {
     "data": {
      "image/png": "[encoded data removed]",
      "text/plain": [
       "<Figure size 432x288 with 2 Axes>"
      ]
     },
     "metadata": {
      "needs_background": "light"
     },
     "output_type": "display_data"
    }
   ],
   "source": [
    "predicted = cross_val_predict(higgsModel_2, features, labels, \n",
    "                              cv=StratifiedKFold(shuffle=True, n_splits=5))\n",
    "cm = confusion_matrix(labels, predicted)\n",
    "plot_confusion_matrix(cm, classes=[0, 1], title='Confusion matrix')"
   ]
  },
  {
   "cell_type": "markdown",
   "metadata": {},
   "source": [
    "6\\. Let's do some simple optimization: run a 5 fold CV (don't forget to shuffle the data set if needed!) with n_estimators = 10, 20, 50 and report the difference. Is it worth going beyond 50 trees in your opinion?\n",
    "\n",
    "* **The overall difference between each of the three criteria was miniscle. Since the results were very close each other, I believe it is not worth going beyond 50 trees.**"
   ]
  },
  {
   "cell_type": "code",
   "execution_count": 13,
   "metadata": {},
   "outputs": [
    {
     "name": "stdout",
     "output_type": "stream",
     "text": [
      "The Metric [precision] : [0.74645892 0.74947808 0.74051491 0.74582173 0.75280112]\n",
      "Mean of The Metric [precision] : 0.7470149510922838\n",
      "Standard Deviation of The Metric [precision] : 0.004087304837207831\n"
     ]
    }
   ],
   "source": [
    "# Creates the Decision Tree Model\n",
    "higgsModel_2 = RandomForestClassifier(n_estimators= 10)\n",
    "\n",
    "# Computes the Cross validation w/ 4 different metrics\n",
    "metric_ = 'precision'\n",
    "scores = cross_val_score(higgsModel_2, features, labels, scoring= metric_,\n",
    "                         cv = StratifiedKFold(shuffle=True, n_splits=5))\n",
    "print('The Metric [{}] : {}'.format(metric_, scores))\n",
    "print('Mean of The Metric [{}] : {}'.format(metric_, scores.mean()))\n",
    "print('Standard Deviation of The Metric [{}] : {}'.format(metric_, scores.std()))"
   ]
  },
  {
   "cell_type": "code",
   "execution_count": 14,
   "metadata": {},
   "outputs": [
    {
     "name": "stdout",
     "output_type": "stream",
     "text": [
      "Confusion matrix, without normalization\n",
      "[[14770  1756]\n",
      " [ 3035  5439]]\n"
     ]
    },
    {
     "data": {
      "image/png": "[encoded data removed]",
      "text/plain": [
       "<Figure size 432x288 with 2 Axes>"
      ]
     },
     "metadata": {
      "needs_background": "light"
     },
     "output_type": "display_data"
    }
   ],
   "source": [
    "predicted = cross_val_predict(higgsModel_2, features, labels, \n",
    "                              cv=StratifiedKFold(shuffle=True, n_splits=5))\n",
    "cm = confusion_matrix(labels, predicted)\n",
    "plot_confusion_matrix(cm, classes=[0, 1], title='Confusion matrix')"
   ]
  },
  {
   "cell_type": "code",
   "execution_count": 15,
   "metadata": {},
   "outputs": [
    {
     "name": "stdout",
     "output_type": "stream",
     "text": [
      "The Metric [precision] : [0.75212003 0.74645988 0.75486381 0.76084011 0.75331565]\n",
      "Mean of The Metric [precision] : 0.7535198952430138\n",
      "Standard Deviation of The Metric [precision] : 0.004631129898865066\n"
     ]
    }
   ],
   "source": [
    "# Creates the Decision Tree Model\n",
    "higgsModel_2 = RandomForestClassifier(n_estimators= 20)\n",
    "\n",
    "# Computes the Cross validation w/ 4 different metrics\n",
    "metric_ = 'precision'\n",
    "scores = cross_val_score(higgsModel_2, features, labels, scoring= metric_,\n",
    "                         cv = StratifiedKFold(shuffle=True, n_splits=5))\n",
    "print('The Metric [{}] : {}'.format(metric_, scores))\n",
    "print('Mean of The Metric [{}] : {}'.format(metric_, scores.mean()))\n",
    "print('Standard Deviation of The Metric [{}] : {}'.format(metric_, scores.std()))"
   ]
  },
  {
   "cell_type": "code",
   "execution_count": 16,
   "metadata": {},
   "outputs": [
    {
     "name": "stdout",
     "output_type": "stream",
     "text": [
      "Confusion matrix, without normalization\n",
      "[[14716  1810]\n",
      " [ 2854  5620]]\n"
     ]
    },
    {
     "data": {
      "image/png": "[encoded data removed]",
      "text/plain": [
       "<Figure size 432x288 with 2 Axes>"
      ]
     },
     "metadata": {
      "needs_background": "light"
     },
     "output_type": "display_data"
    }
   ],
   "source": [
    "predicted = cross_val_predict(higgsModel_2, features, labels, \n",
    "                              cv=StratifiedKFold(shuffle=True, n_splits=5))\n",
    "cm = confusion_matrix(labels, predicted)\n",
    "plot_confusion_matrix(cm, classes=[0, 1], title='Confusion matrix')"
   ]
  },
  {
   "cell_type": "code",
   "execution_count": 17,
   "metadata": {},
   "outputs": [
    {
     "name": "stdout",
     "output_type": "stream",
     "text": [
      "The Metric [precision] : [0.74321767 0.7607362  0.74791533 0.76878238 0.75567423]\n",
      "Mean of The Metric [precision] : 0.7552651616007114\n",
      "Standard Deviation of The Metric [precision] : 0.009077191465659046\n"
     ]
    }
   ],
   "source": [
    "# Creates the Decision Tree Model\n",
    "higgsModel_2 = RandomForestClassifier(n_estimators= 50)\n",
    "\n",
    "# Computes the Cross validation w/ 4 different metrics\n",
    "metric_ = 'precision'\n",
    "scores = cross_val_score(higgsModel_2, features, labels, scoring= metric_,\n",
    "                         cv = StratifiedKFold(shuffle=True, n_splits=5))\n",
    "print('The Metric [{}] : {}'.format(metric_, scores))\n",
    "print('Mean of The Metric [{}] : {}'.format(metric_, scores.mean()))\n",
    "print('Standard Deviation of The Metric [{}] : {}'.format(metric_, scores.std()))"
   ]
  },
  {
   "cell_type": "code",
   "execution_count": 18,
   "metadata": {},
   "outputs": [
    {
     "name": "stdout",
     "output_type": "stream",
     "text": [
      "Confusion matrix, without normalization\n",
      "[[14645  1881]\n",
      " [ 2676  5798]]\n"
     ]
    },
    {
     "data": {
      "image/png": "[encoded data removed]",
      "text/plain": [
       "<Figure size 432x288 with 2 Axes>"
      ]
     },
     "metadata": {
      "needs_background": "light"
     },
     "output_type": "display_data"
    }
   ],
   "source": [
    "predicted = cross_val_predict(higgsModel_2, features, labels, \n",
    "                              cv=StratifiedKFold(shuffle=True, n_splits=5))\n",
    "cm = confusion_matrix(labels, predicted)\n",
    "plot_confusion_matrix(cm, classes=[0, 1], title='Confusion matrix')"
   ]
  },
  {
   "cell_type": "markdown",
   "metadata": {},
   "source": [
    "7\\. Same as above, but change the min_sample_leaf parameter to 2, 5 and 10 and report the different scores. Also report the train/test scores using the function checktraintest. What is your preferred choice and why?\n",
    "\n",
    "* **I choose to have the min_sample_leaf parameter to be set to 2. Setting at higher values (5, 10) yield worse training scores, but not much of an improvement on the test scores. If we had set a precision of 2 to the results, test scores would be the same. Therefore, while increasing the set min_sample_leaf parameter increase test scores, the increase is not that significant to increase the min_sample_leaf parameter**"
   ]
  },
  {
   "cell_type": "code",
   "execution_count": 19,
   "metadata": {},
   "outputs": [
    {
     "name": "stderr",
     "output_type": "stream",
     "text": [
      "/Users/Chris/anaconda/lib/python3.6/site-packages/sklearn/ensemble/forest.py:248: FutureWarning: The default value of n_estimators will change from 10 in version 0.20 to 100 in 0.22.\n",
      "  \"10 in version 0.20 to 100 in 0.22.\", FutureWarning)\n",
      "/Users/Chris/anaconda/lib/python3.6/site-packages/sklearn/ensemble/forest.py:248: FutureWarning: The default value of n_estimators will change from 10 in version 0.20 to 100 in 0.22.\n",
      "  \"10 in version 0.20 to 100 in 0.22.\", FutureWarning)\n",
      "/Users/Chris/anaconda/lib/python3.6/site-packages/sklearn/ensemble/forest.py:248: FutureWarning: The default value of n_estimators will change from 10 in version 0.20 to 100 in 0.22.\n",
      "  \"10 in version 0.20 to 100 in 0.22.\", FutureWarning)\n",
      "/Users/Chris/anaconda/lib/python3.6/site-packages/sklearn/ensemble/forest.py:248: FutureWarning: The default value of n_estimators will change from 10 in version 0.20 to 100 in 0.22.\n",
      "  \"10 in version 0.20 to 100 in 0.22.\", FutureWarning)\n",
      "/Users/Chris/anaconda/lib/python3.6/site-packages/sklearn/ensemble/forest.py:248: FutureWarning: The default value of n_estimators will change from 10 in version 0.20 to 100 in 0.22.\n",
      "  \"10 in version 0.20 to 100 in 0.22.\", FutureWarning)\n"
     ]
    },
    {
     "name": "stdout",
     "output_type": "stream",
     "text": [
      "The Metric [precision] : [0.74645161 0.75016015 0.7383832  0.73217726 0.74551282]\n",
      "Mean of The Metric [precision] : 0.7425370093099495\n",
      "Standard Deviation of The Metric [precision] : 0.0064322686216990235\n"
     ]
    }
   ],
   "source": [
    "# Creates the Decision Tree Model\n",
    "higgsModel_2 = RandomForestClassifier(min_samples_leaf= 2)\n",
    "\n",
    "# Computes the Cross validation w/ 4 different metrics\n",
    "metric_ = 'precision'\n",
    "scores = cross_val_score(higgsModel_2, features, labels, scoring= metric_,\n",
    "                         cv = StratifiedKFold(shuffle=True, n_splits=5))\n",
    "print('The Metric [{}] : {}'.format(metric_, scores))\n",
    "print('Mean of The Metric [{}] : {}'.format(metric_, scores.mean()))\n",
    "print('Standard Deviation of The Metric [{}] : {}'.format(metric_, scores.std()))"
   ]
  },
  {
   "cell_type": "code",
   "execution_count": 20,
   "metadata": {},
   "outputs": [
    {
     "name": "stderr",
     "output_type": "stream",
     "text": [
      "/Users/Chris/anaconda/lib/python3.6/site-packages/sklearn/ensemble/forest.py:248: FutureWarning: The default value of n_estimators will change from 10 in version 0.20 to 100 in 0.22.\n",
      "  \"10 in version 0.20 to 100 in 0.22.\", FutureWarning)\n",
      "/Users/Chris/anaconda/lib/python3.6/site-packages/sklearn/ensemble/forest.py:248: FutureWarning: The default value of n_estimators will change from 10 in version 0.20 to 100 in 0.22.\n",
      "  \"10 in version 0.20 to 100 in 0.22.\", FutureWarning)\n",
      "/Users/Chris/anaconda/lib/python3.6/site-packages/sklearn/ensemble/forest.py:248: FutureWarning: The default value of n_estimators will change from 10 in version 0.20 to 100 in 0.22.\n",
      "  \"10 in version 0.20 to 100 in 0.22.\", FutureWarning)\n",
      "/Users/Chris/anaconda/lib/python3.6/site-packages/sklearn/ensemble/forest.py:248: FutureWarning: The default value of n_estimators will change from 10 in version 0.20 to 100 in 0.22.\n",
      "  \"10 in version 0.20 to 100 in 0.22.\", FutureWarning)\n",
      "/Users/Chris/anaconda/lib/python3.6/site-packages/sklearn/ensemble/forest.py:248: FutureWarning: The default value of n_estimators will change from 10 in version 0.20 to 100 in 0.22.\n",
      "  \"10 in version 0.20 to 100 in 0.22.\", FutureWarning)\n"
     ]
    },
    {
     "name": "stdout",
     "output_type": "stream",
     "text": [
      "Confusion matrix, without normalization\n",
      "[[14492  2034]\n",
      " [ 2735  5739]]\n"
     ]
    },
    {
     "data": {
      "image/png": "[encoded data removed]",
      "text/plain": [
       "<Figure size 432x288 with 2 Axes>"
      ]
     },
     "metadata": {
      "needs_background": "light"
     },
     "output_type": "display_data"
    }
   ],
   "source": [
    "predicted = cross_val_predict(higgsModel_2, features, labels, \n",
    "                              cv=StratifiedKFold(shuffle=True, n_splits=5))\n",
    "cm = confusion_matrix(labels, predicted)\n",
    "plot_confusion_matrix(cm, classes=[0, 1], title='Confusion matrix')"
   ]
  },
  {
   "cell_type": "code",
   "execution_count": 21,
   "metadata": {},
   "outputs": [
    {
     "name": "stderr",
     "output_type": "stream",
     "text": [
      "/Users/Chris/anaconda/lib/python3.6/site-packages/sklearn/ensemble/forest.py:248: FutureWarning: The default value of n_estimators will change from 10 in version 0.20 to 100 in 0.22.\n",
      "  \"10 in version 0.20 to 100 in 0.22.\", FutureWarning)\n"
     ]
    },
    {
     "name": "stdout",
     "output_type": "stream",
     "text": [
      "Training scores 0.96161 +- 0.001190546093185809\n",
      "Test scores 0.807 +- 0.004223742416388573\n"
     ]
    }
   ],
   "source": [
    "checktraintest(features, labels, higgsModel_2)"
   ]
  },
  {
   "cell_type": "code",
   "execution_count": 22,
   "metadata": {},
   "outputs": [
    {
     "name": "stderr",
     "output_type": "stream",
     "text": [
      "/Users/Chris/anaconda/lib/python3.6/site-packages/sklearn/ensemble/forest.py:248: FutureWarning: The default value of n_estimators will change from 10 in version 0.20 to 100 in 0.22.\n",
      "  \"10 in version 0.20 to 100 in 0.22.\", FutureWarning)\n",
      "/Users/Chris/anaconda/lib/python3.6/site-packages/sklearn/ensemble/forest.py:248: FutureWarning: The default value of n_estimators will change from 10 in version 0.20 to 100 in 0.22.\n",
      "  \"10 in version 0.20 to 100 in 0.22.\", FutureWarning)\n",
      "/Users/Chris/anaconda/lib/python3.6/site-packages/sklearn/ensemble/forest.py:248: FutureWarning: The default value of n_estimators will change from 10 in version 0.20 to 100 in 0.22.\n",
      "  \"10 in version 0.20 to 100 in 0.22.\", FutureWarning)\n",
      "/Users/Chris/anaconda/lib/python3.6/site-packages/sklearn/ensemble/forest.py:248: FutureWarning: The default value of n_estimators will change from 10 in version 0.20 to 100 in 0.22.\n",
      "  \"10 in version 0.20 to 100 in 0.22.\", FutureWarning)\n",
      "/Users/Chris/anaconda/lib/python3.6/site-packages/sklearn/ensemble/forest.py:248: FutureWarning: The default value of n_estimators will change from 10 in version 0.20 to 100 in 0.22.\n",
      "  \"10 in version 0.20 to 100 in 0.22.\", FutureWarning)\n"
     ]
    },
    {
     "name": "stdout",
     "output_type": "stream",
     "text": [
      "The Metric [precision] : [0.74370277 0.76047904 0.74760994 0.74209861 0.75488918]\n",
      "Mean of The Metric [precision] : 0.7497559086617772\n",
      "Standard Deviation of The Metric [precision] : 0.006945731470227711\n"
     ]
    }
   ],
   "source": [
    "# Creates the Decision Tree Model\n",
    "higgsModel_2 = RandomForestClassifier(min_samples_leaf= 5)\n",
    "\n",
    "# Computes the Cross validation w/ 4 different metrics\n",
    "metric_ = 'precision'\n",
    "scores = cross_val_score(higgsModel_2, features, labels, scoring= metric_,\n",
    "                         cv = StratifiedKFold(shuffle=True, n_splits=5))\n",
    "print('The Metric [{}] : {}'.format(metric_, scores))\n",
    "print('Mean of The Metric [{}] : {}'.format(metric_, scores.mean()))\n",
    "print('Standard Deviation of The Metric [{}] : {}'.format(metric_, scores.std()))"
   ]
  },
  {
   "cell_type": "code",
   "execution_count": 23,
   "metadata": {},
   "outputs": [
    {
     "name": "stderr",
     "output_type": "stream",
     "text": [
      "/Users/Chris/anaconda/lib/python3.6/site-packages/sklearn/ensemble/forest.py:248: FutureWarning: The default value of n_estimators will change from 10 in version 0.20 to 100 in 0.22.\n",
      "  \"10 in version 0.20 to 100 in 0.22.\", FutureWarning)\n",
      "/Users/Chris/anaconda/lib/python3.6/site-packages/sklearn/ensemble/forest.py:248: FutureWarning: The default value of n_estimators will change from 10 in version 0.20 to 100 in 0.22.\n",
      "  \"10 in version 0.20 to 100 in 0.22.\", FutureWarning)\n",
      "/Users/Chris/anaconda/lib/python3.6/site-packages/sklearn/ensemble/forest.py:248: FutureWarning: The default value of n_estimators will change from 10 in version 0.20 to 100 in 0.22.\n",
      "  \"10 in version 0.20 to 100 in 0.22.\", FutureWarning)\n",
      "/Users/Chris/anaconda/lib/python3.6/site-packages/sklearn/ensemble/forest.py:248: FutureWarning: The default value of n_estimators will change from 10 in version 0.20 to 100 in 0.22.\n",
      "  \"10 in version 0.20 to 100 in 0.22.\", FutureWarning)\n",
      "/Users/Chris/anaconda/lib/python3.6/site-packages/sklearn/ensemble/forest.py:248: FutureWarning: The default value of n_estimators will change from 10 in version 0.20 to 100 in 0.22.\n",
      "  \"10 in version 0.20 to 100 in 0.22.\", FutureWarning)\n"
     ]
    },
    {
     "name": "stdout",
     "output_type": "stream",
     "text": [
      "Confusion matrix, without normalization\n",
      "[[14539  1987]\n",
      " [ 2619  5855]]\n"
     ]
    },
    {
     "data": {
      "image/png": "[encoded data removed]",
      "text/plain": [
       "<Figure size 432x288 with 2 Axes>"
      ]
     },
     "metadata": {
      "needs_background": "light"
     },
     "output_type": "display_data"
    }
   ],
   "source": [
    "predicted = cross_val_predict(higgsModel_2, features, labels, \n",
    "                              cv=StratifiedKFold(shuffle=True, n_splits=5))\n",
    "cm = confusion_matrix(labels, predicted)\n",
    "plot_confusion_matrix(cm, classes=[0, 1], title='Confusion matrix')"
   ]
  },
  {
   "cell_type": "code",
   "execution_count": 24,
   "metadata": {},
   "outputs": [
    {
     "name": "stderr",
     "output_type": "stream",
     "text": [
      "/Users/Chris/anaconda/lib/python3.6/site-packages/sklearn/ensemble/forest.py:248: FutureWarning: The default value of n_estimators will change from 10 in version 0.20 to 100 in 0.22.\n",
      "  \"10 in version 0.20 to 100 in 0.22.\", FutureWarning)\n"
     ]
    },
    {
     "name": "stdout",
     "output_type": "stream",
     "text": [
      "Training scores 0.9053699999999999 +- 0.0010749883720301539\n",
      "Test scores 0.8164399999999998 +- 0.003576366871561123\n"
     ]
    }
   ],
   "source": [
    "checktraintest(features, labels, higgsModel_2)"
   ]
  },
  {
   "cell_type": "code",
   "execution_count": 25,
   "metadata": {},
   "outputs": [
    {
     "name": "stderr",
     "output_type": "stream",
     "text": [
      "/Users/Chris/anaconda/lib/python3.6/site-packages/sklearn/ensemble/forest.py:248: FutureWarning: The default value of n_estimators will change from 10 in version 0.20 to 100 in 0.22.\n",
      "  \"10 in version 0.20 to 100 in 0.22.\", FutureWarning)\n",
      "/Users/Chris/anaconda/lib/python3.6/site-packages/sklearn/ensemble/forest.py:248: FutureWarning: The default value of n_estimators will change from 10 in version 0.20 to 100 in 0.22.\n",
      "  \"10 in version 0.20 to 100 in 0.22.\", FutureWarning)\n",
      "/Users/Chris/anaconda/lib/python3.6/site-packages/sklearn/ensemble/forest.py:248: FutureWarning: The default value of n_estimators will change from 10 in version 0.20 to 100 in 0.22.\n",
      "  \"10 in version 0.20 to 100 in 0.22.\", FutureWarning)\n",
      "/Users/Chris/anaconda/lib/python3.6/site-packages/sklearn/ensemble/forest.py:248: FutureWarning: The default value of n_estimators will change from 10 in version 0.20 to 100 in 0.22.\n",
      "  \"10 in version 0.20 to 100 in 0.22.\", FutureWarning)\n",
      "/Users/Chris/anaconda/lib/python3.6/site-packages/sklearn/ensemble/forest.py:248: FutureWarning: The default value of n_estimators will change from 10 in version 0.20 to 100 in 0.22.\n",
      "  \"10 in version 0.20 to 100 in 0.22.\", FutureWarning)\n"
     ]
    },
    {
     "name": "stdout",
     "output_type": "stream",
     "text": [
      "The Metric [precision] : [0.77605178 0.75608153 0.75567077 0.75603558 0.74693351]\n",
      "Mean of The Metric [precision] : 0.7581546320209444\n",
      "Standard Deviation of The Metric [precision] : 0.00960395032638559\n"
     ]
    }
   ],
   "source": [
    "# Creates the Decision Tree Model\n",
    "higgsModel_2 = RandomForestClassifier(min_samples_leaf= 10)\n",
    "\n",
    "# Computes the Cross validation w/ 4 different metrics\n",
    "metric_ = 'precision'\n",
    "scores = cross_val_score(higgsModel_2, features, labels, scoring= metric_,\n",
    "                         cv = StratifiedKFold(shuffle=True, n_splits=5))\n",
    "print('The Metric [{}] : {}'.format(metric_, scores))\n",
    "print('Mean of The Metric [{}] : {}'.format(metric_, scores.mean()))\n",
    "print('Standard Deviation of The Metric [{}] : {}'.format(metric_, scores.std()))"
   ]
  },
  {
   "cell_type": "code",
   "execution_count": 26,
   "metadata": {},
   "outputs": [
    {
     "name": "stderr",
     "output_type": "stream",
     "text": [
      "/Users/Chris/anaconda/lib/python3.6/site-packages/sklearn/ensemble/forest.py:248: FutureWarning: The default value of n_estimators will change from 10 in version 0.20 to 100 in 0.22.\n",
      "  \"10 in version 0.20 to 100 in 0.22.\", FutureWarning)\n",
      "/Users/Chris/anaconda/lib/python3.6/site-packages/sklearn/ensemble/forest.py:248: FutureWarning: The default value of n_estimators will change from 10 in version 0.20 to 100 in 0.22.\n",
      "  \"10 in version 0.20 to 100 in 0.22.\", FutureWarning)\n",
      "/Users/Chris/anaconda/lib/python3.6/site-packages/sklearn/ensemble/forest.py:248: FutureWarning: The default value of n_estimators will change from 10 in version 0.20 to 100 in 0.22.\n",
      "  \"10 in version 0.20 to 100 in 0.22.\", FutureWarning)\n",
      "/Users/Chris/anaconda/lib/python3.6/site-packages/sklearn/ensemble/forest.py:248: FutureWarning: The default value of n_estimators will change from 10 in version 0.20 to 100 in 0.22.\n",
      "  \"10 in version 0.20 to 100 in 0.22.\", FutureWarning)\n",
      "/Users/Chris/anaconda/lib/python3.6/site-packages/sklearn/ensemble/forest.py:248: FutureWarning: The default value of n_estimators will change from 10 in version 0.20 to 100 in 0.22.\n",
      "  \"10 in version 0.20 to 100 in 0.22.\", FutureWarning)\n"
     ]
    },
    {
     "name": "stdout",
     "output_type": "stream",
     "text": [
      "Confusion matrix, without normalization\n",
      "[[14613  1913]\n",
      " [ 2623  5851]]\n"
     ]
    },
    {
     "data": {
      "image/png": "[encoded data removed]",
      "text/plain": [
       "<Figure size 432x288 with 2 Axes>"
      ]
     },
     "metadata": {
      "needs_background": "light"
     },
     "output_type": "display_data"
    }
   ],
   "source": [
    "predicted = cross_val_predict(higgsModel_2, features, labels, \n",
    "                              cv=StratifiedKFold(shuffle=True, n_splits=5))\n",
    "cm = confusion_matrix(labels, predicted)\n",
    "plot_confusion_matrix(cm, classes=[0, 1], title='Confusion matrix')"
   ]
  },
  {
   "cell_type": "code",
   "execution_count": 27,
   "metadata": {},
   "outputs": [
    {
     "name": "stderr",
     "output_type": "stream",
     "text": [
      "/Users/Chris/anaconda/lib/python3.6/site-packages/sklearn/ensemble/forest.py:248: FutureWarning: The default value of n_estimators will change from 10 in version 0.20 to 100 in 0.22.\n",
      "  \"10 in version 0.20 to 100 in 0.22.\", FutureWarning)\n"
     ]
    },
    {
     "name": "stdout",
     "output_type": "stream",
     "text": [
      "Training scores 0.8709 +- 0.0012235195135346431\n",
      "Test scores 0.81716 +- 0.003364282984530269\n"
     ]
    }
   ],
   "source": [
    "checktraintest(features, labels, higgsModel_2)"
   ]
  },
  {
   "cell_type": "markdown",
   "metadata": {},
   "source": [
    "8\\. Set up and run a nested cross validation for the Random Forest with 5 outer folds and 3 inner folds. Your GridSearch CV will have the following parameters: \n",
    "\n",
    "```python\n",
    "parameters = {'n_estimators':[5,10,20],'min_samples_leaf':[1, 2, 5], 'min_samples_split':[2, 5, 10], 'max_features':[3,6,8]}\n",
    "```\n",
    "\n",
    "You can use the last example (\"putting them all together\") from the SVMs and Hyperparameter fitting notebook, or recycle what you did for WS4, but remember to change the scoring parameter to precision. \n",
    "#### Note that we are not making the data set smaller here!\n",
    "\n",
    "Set n_jobs = 4 (or higher if your machine can handle it) to make sure it doesn't take forever,  and et verbose to 2 if you want to follow the progress.\n",
    "\n",
    "#### Report the scores and parameters values of the best model.\n",
    "\n",
    "Note: If timings are bad and this takes forever on your machine, select 20% of the original data set."
   ]
  },
  {
   "cell_type": "code",
   "execution_count": 33,
   "metadata": {},
   "outputs": [
    {
     "name": "stdout",
     "output_type": "stream",
     "text": [
      "Fitting 3 folds for each of 81 candidates, totalling 243 fits\n"
     ]
    },
    {
     "name": "stderr",
     "output_type": "stream",
     "text": [
      "[Parallel(n_jobs=32)]: Using backend LokyBackend with 32 concurrent workers.\n",
      "[Parallel(n_jobs=32)]: Done  64 tasks      | elapsed:   37.4s\n",
      "[Parallel(n_jobs=32)]: Done 243 out of 243 | elapsed:  1.5min finished\n"
     ]
    },
    {
     "name": "stdout",
     "output_type": "stream",
     "text": [
      "Best params {'max_features': 3, 'min_samples_leaf': 5, 'min_samples_split': 10, 'n_estimators': 20}, Best score: 0.7586770529494484:\n",
      "Fitting 3 folds for each of 81 candidates, totalling 243 fits\n"
     ]
    },
    {
     "name": "stderr",
     "output_type": "stream",
     "text": [
      "[Parallel(n_jobs=32)]: Using backend LokyBackend with 32 concurrent workers.\n",
      "[Parallel(n_jobs=32)]: Done  64 tasks      | elapsed:   12.0s\n",
      "[Parallel(n_jobs=32)]: Done 243 out of 243 | elapsed:  1.0min finished\n"
     ]
    },
    {
     "name": "stdout",
     "output_type": "stream",
     "text": [
      "Best params {'max_features': 3, 'min_samples_leaf': 5, 'min_samples_split': 5, 'n_estimators': 20}, Best score: 0.7515732871623255:\n",
      "Fitting 3 folds for each of 81 candidates, totalling 243 fits\n"
     ]
    },
    {
     "name": "stderr",
     "output_type": "stream",
     "text": [
      "[Parallel(n_jobs=32)]: Using backend LokyBackend with 32 concurrent workers.\n",
      "[Parallel(n_jobs=32)]: Done  64 tasks      | elapsed:   11.8s\n",
      "[Parallel(n_jobs=32)]: Done 243 out of 243 | elapsed:   59.0s finished\n"
     ]
    },
    {
     "name": "stdout",
     "output_type": "stream",
     "text": [
      "Best params {'max_features': 3, 'min_samples_leaf': 5, 'min_samples_split': 5, 'n_estimators': 20}, Best score: 0.7526983810387498:\n",
      "Fitting 3 folds for each of 81 candidates, totalling 243 fits\n"
     ]
    },
    {
     "name": "stderr",
     "output_type": "stream",
     "text": [
      "[Parallel(n_jobs=32)]: Using backend LokyBackend with 32 concurrent workers.\n",
      "[Parallel(n_jobs=32)]: Done  64 tasks      | elapsed:   11.2s\n",
      "[Parallel(n_jobs=32)]: Done 243 out of 243 | elapsed:   59.9s finished\n"
     ]
    },
    {
     "name": "stdout",
     "output_type": "stream",
     "text": [
      "Best params {'max_features': 3, 'min_samples_leaf': 2, 'min_samples_split': 10, 'n_estimators': 20}, Best score: 0.751758362246854:\n",
      "Fitting 3 folds for each of 81 candidates, totalling 243 fits\n"
     ]
    },
    {
     "name": "stderr",
     "output_type": "stream",
     "text": [
      "[Parallel(n_jobs=32)]: Using backend LokyBackend with 32 concurrent workers.\n",
      "[Parallel(n_jobs=32)]: Done  64 tasks      | elapsed:   10.7s\n",
      "[Parallel(n_jobs=32)]: Done 243 out of 243 | elapsed:   58.6s finished\n"
     ]
    },
    {
     "name": "stdout",
     "output_type": "stream",
     "text": [
      "Best params {'max_features': 3, 'min_samples_leaf': 2, 'min_samples_split': 10, 'n_estimators': 20}, Best score: 0.7533640077395312:\n"
     ]
    }
   ],
   "source": [
    "# We're running a nested cross validation using the following parameters conveniently \n",
    "# stored in a dictionary. \n",
    "\n",
    "# 1. We will run two types of SVM Classifiers: Linear and RBF Radial Basic Function.\n",
    "\n",
    "# 2. Three different class weights (penalties for misclassification across margin).\n",
    "\n",
    "# 3. Three different 'soft margin cost functions'('C' is what we call this parameter\n",
    "# and it controls the influence of each individual support vector; this process \n",
    "# involves trading error penalty for stability.)\n",
    "\n",
    "# 4. Three different gamma values ('wiggliness'; Gamma is the free parameter of the \n",
    "# Gaussian radial basis function.) \n",
    "\n",
    "parameters = {'n_estimators':[5, 10, 20],'min_samples_leaf':[1, 2, 5], \n",
    "              'min_samples_split':[2, 5, 10], 'max_features':[3, 6, 8]}\n",
    "\n",
    "# We define the outer and inner cross validation splits here\n",
    "outercv = StratifiedKFold(n_splits=5, shuffle=True) # creates 5 disjoint splits\n",
    "innercv = StratifiedKFold(n_splits=3, shuffle=True) # creates 3 disjoint splits\n",
    "\n",
    "# We create the model for nested cross validation here\n",
    "# The for loop runs the outer cross validation\n",
    "winning_model_scores = []\n",
    "for train_index, test_index in outercv.split(features,labels):     \n",
    "    features_train = features.iloc[train_index] \n",
    "    labels_train = labels[train_index]\n",
    "    features_test = features.iloc[test_index]\n",
    "    labels_est = labels[test_index]\n",
    "    \n",
    "    # optimizing SVC: this replaces the inner loop!\n",
    "    higgsModel_3 = GridSearchCV(RandomForestClassifier(), parameters, cv = innercv, \n",
    "                            scoring = 'precision', verbose = 3, n_jobs = 32)\n",
    "    \n",
    "    # We fit the model to the smaller dataset here\n",
    "    higgsModel_3.fit(features_train, labels_train)\n",
    "    print('Best params {1}, Best score: {0}:'.format(higgsModel_3.best_score_, \n",
    "                                                   higgsModel_3.best_params_))"
   ]
  },
  {
   "cell_type": "markdown",
   "metadata": {},
   "source": [
    "9\\. Fix the parameters at optimal values and run the 5 fold cross validation on the original data set. What are the scores? How big is the improvement with parameter optimization, compared with the performance obtained with standard parameters in question 1?\n",
    "\n",
    "* **The scores are shown below. In comparision with the performance obtained with standard parameters in question 1, the improvement with parameter optimization barely yieled an improvement with performance.**"
   ]
  },
  {
   "cell_type": "code",
   "execution_count": 35,
   "metadata": {},
   "outputs": [
    {
     "name": "stdout",
     "output_type": "stream",
     "text": [
      "The Metric [precision] : [0.74766355 0.75810636 0.74598071 0.74794174 0.75997426]\n",
      "Mean of The Metric [precision] : 0.7519333218859476\n",
      "Standard Deviation of The Metric [precision] : 0.00587129203529347\n"
     ]
    }
   ],
   "source": [
    "# Creates the Decision Tree Model\n",
    "higgsModel_2 = RandomForestClassifier(min_samples_leaf= 5, max_features= 3, \n",
    "                                      min_samples_split= 5, n_estimators= 20)\n",
    "\n",
    "# Computes the Cross validation w/ 4 different metrics\n",
    "metric_ = 'precision'\n",
    "scores = cross_val_score(higgsModel_2, features, labels, scoring= metric_,\n",
    "                         cv = StratifiedKFold(shuffle=True, n_splits=5))\n",
    "print('The Metric [{}] : {}'.format(metric_, scores))\n",
    "print('Mean of The Metric [{}] : {}'.format(metric_, scores.mean()))\n",
    "print('Standard Deviation of The Metric [{}] : {}'.format(metric_, scores.std()))"
   ]
  },
  {
   "cell_type": "markdown",
   "metadata": {},
   "source": [
    "10\\. Report and plot the feature importance for this data set (use the example from the lecture notebook). "
   ]
  },
  {
   "cell_type": "code",
   "execution_count": 37,
   "metadata": {},
   "outputs": [
    {
     "name": "stdout",
     "output_type": "stream",
     "text": [
      "Feature ranking:\n",
      "1. feature 0 (0.277689)\n",
      "2. feature 1 (0.177778)\n",
      "3. feature 2 (0.122864)\n",
      "4. feature 6 (0.111830)\n",
      "5. feature 5 (0.093477)\n",
      "6. feature 3 (0.080377)\n",
      "7. feature 4 (0.069852)\n",
      "8. feature 7 (0.066132)\n"
     ]
    },
    {
     "data": {
      "image/png": "[encoded data removed]",
      "text/plain": [
       "<Figure size 1152x432 with 1 Axes>"
      ]
     },
     "metadata": {
      "needs_background": "light"
     },
     "output_type": "display_data"
    }
   ],
   "source": [
    "higgsModel_2.fit(features,labels)\n",
    "importances = higgsModel_2.feature_importances_\n",
    "indices = np.argsort(importances)[::-1]\n",
    "\n",
    "# Print the feature ranking\n",
    "print(\"Feature ranking:\")\n",
    "\n",
    "for f in range(features.shape[1]):\n",
    "    print(\"%d. feature %d (%f)\" % (f + 1, indices[f], importances[indices[f]]))\n",
    "\n",
    "# Plot the feature importances of the forest\n",
    "plt.figure(figsize=(16,6))\n",
    "plt.title(\"Feature importances\")\n",
    "plt.bar(range(features.shape[1]), importances[indices],\n",
    "       color=\"r\", align=\"center\")\n",
    "plt.xticks(range(features.shape[1]), indices)\n",
    "plt.xlim([-1, features.shape[1]])\n",
    "plt.show()"
   ]
  },
  {
   "cell_type": "markdown",
   "metadata": {},
   "source": [
    "11\\. Repeat the simple 5 fold cross validation with default parameters for Extremely Random Trees. Which model is better out of the box, RF or ERT?\n",
    "\n",
    "* **For me, with the same base parameters, Random Forest was the best model. It beat out Extremely Random Trees by vey little but definitely better than decision trees.**"
   ]
  },
  {
   "cell_type": "code",
   "execution_count": 38,
   "metadata": {},
   "outputs": [
    {
     "name": "stdout",
     "output_type": "stream",
     "text": [
      "The Metric [precision] : [0.77350993 0.7442866  0.74886142 0.74183417 0.74551282]\n",
      "Mean of The Metric [precision] : 0.7508009880307929\n",
      "Standard Deviation of The Metric [precision] : 0.011578117016247239\n"
     ]
    }
   ],
   "source": [
    "# Creates the Decision Tree Model\n",
    "higgsModel_4 = ExtraTreesClassifier()\n",
    "\n",
    "# Computes the Cross validation w/ 4 different metrics\n",
    "metric_ = 'precision'\n",
    "scores = cross_val_score(higgsModel_2, features, labels, scoring= metric_,\n",
    "                         cv = StratifiedKFold(shuffle=True, n_splits=5))\n",
    "print('The Metric [{}] : {}'.format(metric_, scores))\n",
    "print('Mean of The Metric [{}] : {}'.format(metric_, scores.mean()))\n",
    "print('Standard Deviation of The Metric [{}] : {}'.format(metric_, scores.std()))"
   ]
  },
  {
   "cell_type": "markdown",
   "metadata": {},
   "source": [
    "12\\. Report the train/test scores for RFs and ERTs. Which model has the lowest gap between train and test scores, out of the box?\n",
    "\n",
    "* **For me, Randoms FOrest performed better out of box. But as with Q.11, it by very little.**"
   ]
  },
  {
   "cell_type": "code",
   "execution_count": 40,
   "metadata": {},
   "outputs": [
    {
     "name": "stderr",
     "output_type": "stream",
     "text": [
      "/Users/Chris/anaconda/lib/python3.6/site-packages/sklearn/ensemble/forest.py:248: FutureWarning: The default value of n_estimators will change from 10 in version 0.20 to 100 in 0.22.\n",
      "  \"10 in version 0.20 to 100 in 0.22.\", FutureWarning)\n"
     ]
    },
    {
     "name": "stdout",
     "output_type": "stream",
     "text": [
      "Training scores 0.98647 +- 0.000477074417675056\n",
      "Test scores 0.8073599999999999 +- 0.0033595237757753685\n"
     ]
    }
   ],
   "source": [
    "higgsModel_2 = RandomForestClassifier()\n",
    "checktraintest(features, labels, higgsModel_2)"
   ]
  },
  {
   "cell_type": "code",
   "execution_count": 41,
   "metadata": {},
   "outputs": [
    {
     "name": "stderr",
     "output_type": "stream",
     "text": [
      "/Users/Chris/anaconda/lib/python3.6/site-packages/sklearn/ensemble/forest.py:248: FutureWarning: The default value of n_estimators will change from 10 in version 0.20 to 100 in 0.22.\n",
      "  \"10 in version 0.20 to 100 in 0.22.\", FutureWarning)\n"
     ]
    },
    {
     "name": "stdout",
     "output_type": "stream",
     "text": [
      "Training scores 1.0 +- 0.0\n",
      "Test scores 0.7982400000000001 +- 0.00492243842013284\n"
     ]
    }
   ],
   "source": [
    "checktraintest(features, labels, higgsModel_4)"
   ]
  },
  {
   "cell_type": "markdown",
   "metadata": {},
   "source": [
    "EC: On the basis of what you obtained in 10, select a threshold for the feature importance to obtain only 5 features and re-run the RF with optimal parameters on the smaller data set (again follow the example in the lecture notebook). How much does performance worsen? Would you recommend using the larger or smaller data set?"
   ]
  }
 ],
 "metadata": {
  "kernelspec": {
   "display_name": "Python 3",
   "language": "python",
   "name": "python3"
  },
  "language_info": {
   "codemirror_mode": {
    "name": "ipython",
    "version": 3
   },
   "file_extension": ".py",
   "mimetype": "text/x-python",
   "name": "python",
   "nbconvert_exporter": "python",
   "pygments_lexer": "ipython3",
   "version": "3.6.7"
  }
 },
 "nbformat": 4,
 "nbformat_minor": 2
}
