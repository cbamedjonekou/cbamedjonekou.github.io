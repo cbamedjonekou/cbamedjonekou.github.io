{
 "cells": [
  {
   "cell_type": "markdown",
   "metadata": {},
   "source": [
    "**Name: Christ-Brian Amedjonekou**  \n",
    "**Date: 04/16/2019**  \n",
    "**PHYS 3600ID-D862 (Machine Learning) Study Hours Linear Regression**  \n",
    "**Spring 2019, Section: D862, Code: 37026**  \n",
    "**Instructor: Viviana Acquaviva**"
   ]
  },
  {
   "cell_type": "markdown",
   "metadata": {},
   "source": [
    "### Abstract"
   ]
  },
  {
   "cell_type": "markdown",
   "metadata": {},
   "source": [
    "Here, we have the Study Hours Dataset which we'll use to illustrate the Linear Regression | Gradient Descent Models. The Study Hours Dataset contains one feature vector (amount of hours studied) and one target vector (scores on the exam), both of which are quantitive, so Regression seems appropriate here. Since the dataset is simple, cleaning and preprosessing are not necessary. We'll use both Tensorflow and Scikit-Learn to implement Linear Regression (w/ Gradient Descent we'll just use tensorflow). We'll also evaluate the model's performance, find/tune the hyperparameters, and then provide visualizations of our results.\n",
    "\n",
    "#### Contents\n",
    "\n",
    "1. [Packages](#Packages)\n",
    "2. [Data Exploration](#Data-Exploration)\n",
    "3. [Data Visualization](#Data-Visualization)\n",
    "4. [Linear Regression Theory](#Linear-Regression-Theory)\n",
    "    1. [Normal Equations](#Normal-Equation:)\n",
    "    2. [Cost Function](#Cost-Function:)\n",
    "5. [Linear-Regression-via-Scikit-Learn](#Linear-Regression-via-Scikit-Learn)\n",
    "    1. [Train/Test Validation Strategy](#Implementation-via-Train/Test-Validation-Strategy:)\n",
    "    2. [Cross Validation](#Cross-Validation:)\n",
    "    3. [Measuring Performance](#Measuring-Performance:)\n",
    "    4. [Visualizations](#Visualizations:)\n",
    "6. [Linear Regression via Tensorflow](#Linear-Regression-via-Tensorflow)\n",
    "    1. [Train/Test Validation Strategy](#Train/Test-Validation-Strategy:)\n",
    "    2. [$k$-fold Cross Validation](#K-fold-Cross-Validation:)\n",
    "    3. [Measuring Performance](#Performance-Measure:)"
   ]
  },
  {
   "cell_type": "markdown",
   "metadata": {},
   "source": [
    "### Packages   "
   ]
  },
  {
   "cell_type": "code",
   "execution_count": 1,
   "metadata": {},
   "outputs": [],
   "source": [
    "# Package Imports being use to make things happen\n",
    "import numpy as np\n",
    "import pandas as pd\n",
    "import matplotlib.pyplot as plt\n",
    "from sklearn.linear_model import LinearRegression\n",
    "from sklearn.model_selection import train_test_split\n",
    "from sklearn.model_selection import ShuffleSplit, KFold\n",
    "from sklearn.model_selection import cross_val_score, cross_val_predict\n",
    "from sklearn import metrics\n",
    "import seaborn as sns\n",
    "import tensorflow as tf\n",
    "\n",
    "# Special methods/'magic' functions for the visualizations\n",
    "sns.set()\n",
    "%matplotlib inline"
   ]
  },
  {
   "cell_type": "markdown",
   "metadata": {},
   "source": [
    "### Data Exploration\n",
    "\n",
    "[Back to Contents](#Contents)"
   ]
  },
  {
   "cell_type": "markdown",
   "metadata": {},
   "source": [
    "* The first thing we'll do is import and label our dataset."
   ]
  },
  {
   "cell_type": "code",
   "execution_count": 2,
   "metadata": {},
   "outputs": [],
   "source": [
    "DSH_df = pd.read_csv('Datasets/data_students_hours.csv', \n",
    "                     names= ['Feature: Study Time', 'Target: Test Scores'])"
   ]
  },
  {
   "cell_type": "markdown",
   "metadata": {},
   "source": [
    "* Then we use the `.info()` method to get an idea of how many rows and columns (i.e.: instances, features) we have."
   ]
  },
  {
   "cell_type": "code",
   "execution_count": 3,
   "metadata": {},
   "outputs": [
    {
     "name": "stdout",
     "output_type": "stream",
     "text": [
      "<class 'pandas.core.frame.DataFrame'>\n",
      "RangeIndex: 100 entries, 0 to 99\n",
      "Data columns (total 2 columns):\n",
      "Feature: Study Time    100 non-null float64\n",
      "Target: Test Scores    100 non-null float64\n",
      "dtypes: float64(2)\n",
      "memory usage: 1.6 KB\n"
     ]
    }
   ],
   "source": [
    "DSH_df.info()"
   ]
  },
  {
   "cell_type": "markdown",
   "metadata": {},
   "source": [
    "* The `.info()` method shows that we have a 100 rows, and 2 columns: one feature, one target. Additionally, all the values are non-null values. Therefore, filling in values and/or deleting columns (or rows) are unnecessary. Also all the values in the dataframe (minus the labels) are of type `float64` showing that we are dealing with continuous values.    \n",
    "\n",
    "\n",
    "* **Note**: This dataset is really small but we'll continue to use it for a demonstration of both models. We'll also address any potential problems we run into along the way.\n",
    "\n",
    "\n",
    "* Next, we'll use  the `.describe()` method to get some statistics about the dataset."
   ]
  },
  {
   "cell_type": "code",
   "execution_count": 4,
   "metadata": {},
   "outputs": [
    {
     "data": {
      "text/html": [
       "<div>\n",
       "<style scoped>\n",
       "    .dataframe tbody tr th:only-of-type {\n",
       "        vertical-align: middle;\n",
       "    }\n",
       "\n",
       "    .dataframe tbody tr th {\n",
       "        vertical-align: top;\n",
       "    }\n",
       "\n",
       "    .dataframe thead th {\n",
       "        text-align: right;\n",
       "    }\n",
       "</style>\n",
       "<table border=\"1\" class=\"dataframe\">\n",
       "  <thead>\n",
       "    <tr style=\"text-align: right;\">\n",
       "      <th></th>\n",
       "      <th>Feature: Study Time</th>\n",
       "      <th>Target: Test Scores</th>\n",
       "    </tr>\n",
       "  </thead>\n",
       "  <tbody>\n",
       "    <tr>\n",
       "      <th>count</th>\n",
       "      <td>100.000000</td>\n",
       "      <td>100.000000</td>\n",
       "    </tr>\n",
       "    <tr>\n",
       "      <th>mean</th>\n",
       "      <td>48.958341</td>\n",
       "      <td>72.735051</td>\n",
       "    </tr>\n",
       "    <tr>\n",
       "      <th>std</th>\n",
       "      <td>9.746379</td>\n",
       "      <td>16.658187</td>\n",
       "    </tr>\n",
       "    <tr>\n",
       "      <th>min</th>\n",
       "      <td>25.128485</td>\n",
       "      <td>31.707006</td>\n",
       "    </tr>\n",
       "    <tr>\n",
       "      <th>25%</th>\n",
       "      <td>41.526164</td>\n",
       "      <td>60.788586</td>\n",
       "    </tr>\n",
       "    <tr>\n",
       "      <th>50%</th>\n",
       "      <td>49.634970</td>\n",
       "      <td>72.179542</td>\n",
       "    </tr>\n",
       "    <tr>\n",
       "      <th>75%</th>\n",
       "      <td>56.762631</td>\n",
       "      <td>83.215080</td>\n",
       "    </tr>\n",
       "    <tr>\n",
       "      <th>max</th>\n",
       "      <td>70.346076</td>\n",
       "      <td>118.591217</td>\n",
       "    </tr>\n",
       "  </tbody>\n",
       "</table>\n",
       "</div>"
      ],
      "text/plain": [
       "       Feature: Study Time  Target: Test Scores\n",
       "count           100.000000           100.000000\n",
       "mean             48.958341            72.735051\n",
       "std               9.746379            16.658187\n",
       "min              25.128485            31.707006\n",
       "25%              41.526164            60.788586\n",
       "50%              49.634970            72.179542\n",
       "75%              56.762631            83.215080\n",
       "max              70.346076           118.591217"
      ]
     },
     "execution_count": 4,
     "metadata": {},
     "output_type": "execute_result"
    }
   ],
   "source": [
    "DSH_df.describe()"
   ]
  },
  {
   "cell_type": "markdown",
   "metadata": {},
   "source": [
    "* The `.describe()` method generates descriptive statistics that summarize the central tendency, dispersion, and shape of a dataset's distribution. \n",
    "\n",
    "\n",
    "* Usually when we describe central tendency, we refer to the mean, median, or mode. Central Tendency generally describes a number which summarizes a set of numbers. It's what we expect to see; It's what most likely to occur. For this dataset, the following is used to represent central tendency: \n",
    "$$\\space$$\n",
    "$$\\text{Mean: Study Times} = 48.95834, \\text{ Test Scores} = 72.735051$$  \n",
    "$$\\text{Quartiles }(50\\%): \\text{Study Times} = 49.634970, \\text{ Test Scores} = 72.179542$$\n",
    "$\\space$\n",
    "    * The 50% Quartile, represents the median of the data set.\n",
    "    \n",
    "    \n",
    "* Standard deviation, and 25% | 50% | 75% Quartiles can be used to  describe the dispersion of the dataset; Dispersion is the extent to which a distribution is stretched or squeezed. Using the first (25%) and third (75%) quartile we can find the interquartile range (IQR). \n",
    "$$\\space$$\n",
    "$$\\text{Quartiles }(25\\%): \\text{Study Times} = 41.526164, \\text{ Test Scores} = 60.788586$$  \n",
    "$$\\text{Quartiles }(75\\%): \\text{Study Times} = 56.762631, \\text{ Test Scores} = 83.215080$$\n",
    "\n",
    "\n",
    "* The minimum and maximum values can also be used to describe dispersion (i.e.: The difference between the two describes the range)\n",
    "    $$\\space$$\n",
    "    * **Minimum:** ($\\text{Study Times} = 25.128485, \\text{ Test Scores} = 31.707006$)\n",
    "    * **Maximum:** ($\\text{Study Times} = 70.346076, \\text{ Test Scores} = 118.591217$)\n",
    "\n",
    "\n",
    "* Now we have a good idea of the expected study duration and average test score. Below, we'll display the first 5 rows of the dataframe using the `.head()` method. This is just to get a better view of the structure of the dataframe.  "
   ]
  },
  {
   "cell_type": "code",
   "execution_count": 5,
   "metadata": {},
   "outputs": [
    {
     "data": {
      "text/html": [
       "<div>\n",
       "<style scoped>\n",
       "    .dataframe tbody tr th:only-of-type {\n",
       "        vertical-align: middle;\n",
       "    }\n",
       "\n",
       "    .dataframe tbody tr th {\n",
       "        vertical-align: top;\n",
       "    }\n",
       "\n",
       "    .dataframe thead th {\n",
       "        text-align: right;\n",
       "    }\n",
       "</style>\n",
       "<table border=\"1\" class=\"dataframe\">\n",
       "  <thead>\n",
       "    <tr style=\"text-align: right;\">\n",
       "      <th></th>\n",
       "      <th>Feature: Study Time</th>\n",
       "      <th>Target: Test Scores</th>\n",
       "    </tr>\n",
       "  </thead>\n",
       "  <tbody>\n",
       "    <tr>\n",
       "      <th>0</th>\n",
       "      <td>32.502345</td>\n",
       "      <td>31.707006</td>\n",
       "    </tr>\n",
       "    <tr>\n",
       "      <th>1</th>\n",
       "      <td>53.426804</td>\n",
       "      <td>68.777596</td>\n",
       "    </tr>\n",
       "    <tr>\n",
       "      <th>2</th>\n",
       "      <td>61.530358</td>\n",
       "      <td>62.562382</td>\n",
       "    </tr>\n",
       "    <tr>\n",
       "      <th>3</th>\n",
       "      <td>47.475640</td>\n",
       "      <td>71.546632</td>\n",
       "    </tr>\n",
       "    <tr>\n",
       "      <th>4</th>\n",
       "      <td>59.813208</td>\n",
       "      <td>87.230925</td>\n",
       "    </tr>\n",
       "  </tbody>\n",
       "</table>\n",
       "</div>"
      ],
      "text/plain": [
       "   Feature: Study Time  Target: Test Scores\n",
       "0            32.502345            31.707006\n",
       "1            53.426804            68.777596\n",
       "2            61.530358            62.562382\n",
       "3            47.475640            71.546632\n",
       "4            59.813208            87.230925"
      ]
     },
     "execution_count": 5,
     "metadata": {},
     "output_type": "execute_result"
    }
   ],
   "source": [
    "DSH_df.head()"
   ]
  },
  {
   "cell_type": "markdown",
   "metadata": {},
   "source": [
    "* In the next section, we'll plot that data so we can visualize the data even better."
   ]
  },
  {
   "cell_type": "markdown",
   "metadata": {},
   "source": [
    "### Data Visualization\n",
    "\n",
    "[Back to Contents](#Contents)\n",
    "\n",
    "* Since the dataset is pretty simple we'll use a scatter plot, the `.scatter()` method, to visualize the distribution of the points."
   ]
  },
  {
   "cell_type": "code",
   "execution_count": 6,
   "metadata": {},
   "outputs": [
    {
     "data": {
      "image/png": "[encoded data removed]",
      "text/plain": [
       "<Figure size 720x360 with 1 Axes>"
      ]
     },
     "metadata": {
      "needs_background": "light"
     },
     "output_type": "display_data"
    }
   ],
   "source": [
    "# Defines the Features and Target\n",
    "features_DSH, Target_DSH = DSH_df['Feature: Study Time'], DSH_df['Target: Test Scores']\n",
    "\n",
    "# Plots the Features vs Target\n",
    "fig, ax = plt.subplots(figsize= (10,5))\n",
    "ax.scatter(features_DSH, Target_DSH,marker='*',color = '#1f77b4')\n",
    "ax.set(xlabel= 'Studying Time (Hours)', ylabel= 'Test Scores', \n",
    "       title= 'Study Hours Dataset');"
   ]
  },
  {
   "cell_type": "markdown",
   "metadata": {},
   "source": [
    "* Just by looking at the Scatter Plot you can see an upward trend/positve correlation between the amount of hours spent studying and the Test Scores; The more you study, the better your test scores. \n",
    "\n",
    "\n",
    "* We could also plot a histogram of the data. We'll use the `sns.distplot()` method. By using the `sns.distplot()` method, we're able to plot a frequency distribution overlaid by a Kernel Density Estimate (specifically using a Gaussian Kernel). With the Kernel Density Estimate, we approximate a Normal (Gaussian) PDF. To verify we also create a `gaussianPlotter()` function that plots the Normal (Gaussian) PDF based upon the formula, $\\cfrac{1}{\\sqrt{2 \\pi \\sigma^2}} \\cdot e^{-\\frac{(x-\\mu)^2}{2 \\sigma^2}}$.   "
   ]
  },
  {
   "cell_type": "markdown",
   "metadata": {},
   "source": [
    "**Histogram w/ KDE Approx. & PDF of the Feature Vector**"
   ]
  },
  {
   "cell_type": "code",
   "execution_count": 7,
   "metadata": {},
   "outputs": [
    {
     "name": "stderr",
     "output_type": "stream",
     "text": [
      "/Users/Chris/anaconda/envs/ml_env/lib/python3.6/site-packages/scipy/stats/stats.py:1713: FutureWarning: Using a non-tuple sequence for multidimensional indexing is deprecated; use `arr[tuple(seq)]` instead of `arr[seq]`. In the future this will be interpreted as an array index, `arr[np.array(seq)]`, which will result either in an error or a different result.\n",
      "  return np.add.reduce(sorted[indexer] * weights, axis=axis) / sumval\n"
     ]
    },
    {
     "data": {
      "text/plain": [
       "<matplotlib.legend.Legend at 0x131332f60>"
      ]
     },
     "execution_count": 7,
     "metadata": {},
     "output_type": "execute_result"
    },
    {
     "data": {
      "image/png": "[encoded data removed]",
      "text/plain": [
       "<Figure size 720x360 with 1 Axes>"
      ]
     },
     "metadata": {
      "needs_background": "light"
     },
     "output_type": "display_data"
    }
   ],
   "source": [
    "# Creating Gaussian Plot Function\n",
    "def gaussianPlotter(vector):\n",
    "    \"\"\"\n",
    "    Calculates and plots a Gaussian Probability Density Function (PDF)\n",
    "    \n",
    "    Parameters\n",
    "    ----------\n",
    "    vector : array-like, shape (n_samples, n_features)\n",
    "            \n",
    "    Returns\n",
    "    -------\n",
    "    output : matplotlib plt.plot()\n",
    "    \"\"\"\n",
    "    mean = vector.mean()\n",
    "    std_dev = vector.std()\n",
    "    normal_pdf = (1/np.sqrt(2*np.pi*std_dev**2))*np.exp(-((vector.sort_values() - mean)**2)/(2*std_dev**2))\n",
    "    plt.plot(vector.sort_values(), normal_pdf, color= 'red', label= 'Normal PDF')\n",
    "\n",
    "# Creates the figure, title, and labels \n",
    "# Plots a Frequency distribution along w/ a Kernel Density Estimate\n",
    "plt.figure(figsize= (10,5))\n",
    "\n",
    "## Gaussian Kernel is used to estimate a Gaussian PDF\n",
    "sns.distplot(features_DSH, bins= 10, kde= True, color= '#1f77b4', \n",
    "             kde_kws= {'kernel': 'gau', 'label': 'KDE: Estimated PDF', \n",
    "                       'color': 'black', 'lw': 3})\n",
    "\n",
    "## Gaussian PDF plotting function\n",
    "gaussianPlotter(features_DSH)\n",
    "\n",
    "## Plot Labels\n",
    "plt.title('Frequency & Probability Distribution of Study Times');\n",
    "plt.ylabel('Kernel Density Estimate');\n",
    "plt.xlim(25, 71)\n",
    "plt.legend(loc= 'best')"
   ]
  },
  {
   "cell_type": "markdown",
   "metadata": {},
   "source": [
    "**Histogram w/ KDE Approx. & PDF of the Target Vector**"
   ]
  },
  {
   "cell_type": "code",
   "execution_count": 8,
   "metadata": {},
   "outputs": [
    {
     "data": {
      "text/plain": [
       "<matplotlib.legend.Legend at 0x133f422e8>"
      ]
     },
     "execution_count": 8,
     "metadata": {},
     "output_type": "execute_result"
    },
    {
     "data": {
      "image/png": "[encoded data removed]",
      "text/plain": [
       "<Figure size 720x360 with 1 Axes>"
      ]
     },
     "metadata": {
      "needs_background": "light"
     },
     "output_type": "display_data"
    }
   ],
   "source": [
    "# Creates the figure, title, and labels \n",
    "# Plots a Frequency distribution along w/ a Kernel Density Estimate\n",
    "plt.figure(figsize= (10,5))\n",
    "\n",
    "## Gaussian Kernel is used to estimate a Gaussian PDF\n",
    "sns.distplot(Target_DSH, bins= 10, kde= True, color= '#1f77b4', \n",
    "             kde_kws= {'kernel': 'gau', 'label': 'KDE: Estimated PDF', \n",
    "                       'color': 'black', 'lw': 3})\n",
    "\n",
    "## Gaussian PDF plotting function\n",
    "gaussianPlotter(Target_DSH)\n",
    "\n",
    "## Plot Labels\n",
    "plt.title('Frequency & Probability Distribution of Test Scores');\n",
    "plt.ylabel('Kernel Density Estimate');\n",
    "plt.xlim(30, 120)\n",
    "plt.legend(loc= 'best')"
   ]
  },
  {
   "cell_type": "markdown",
   "metadata": {},
   "source": [
    "* The histograms show that the distribution of Study Times and Test Scores are close to 'normal', and just barely skewed. We can assume the following properties: approximately 68% of the scores fall within 1 deviation of the mean, about 95% within 2 deviations, and 99.7% within 3 deviations. \n",
    "\n",
    "\n",
    "* We could also reinforce this histogram with a box plot which is another way to visualize the distribution. Quartiles, dispersion, and skewness are front and center with box plots. We use the `sns.boxplot()` function to demonstrate."
   ]
  },
  {
   "cell_type": "markdown",
   "metadata": {},
   "source": [
    "**Box Plot of the Features Vector**"
   ]
  },
  {
   "cell_type": "code",
   "execution_count": 9,
   "metadata": {},
   "outputs": [
    {
     "data": {
      "image/png": "[encoded data removed]",
      "text/plain": [
       "<Figure size 720x360 with 1 Axes>"
      ]
     },
     "metadata": {
      "needs_background": "light"
     },
     "output_type": "display_data"
    }
   ],
   "source": [
    "# Creates the figure, title, and labels \n",
    "# Plots a Box Plot\n",
    "plt.figure(figsize= (10,5))\n",
    "\n",
    "# Plotting the boxplot of the features\n",
    "sns.boxplot(features_DSH, color= 'red')\n",
    "\n",
    "# Plot Labels\n",
    "plt.title('Box Plot of the Feature');"
   ]
  },
  {
   "cell_type": "markdown",
   "metadata": {},
   "source": [
    "**Box Plot of the Target Vector**"
   ]
  },
  {
   "cell_type": "code",
   "execution_count": 10,
   "metadata": {},
   "outputs": [
    {
     "data": {
      "image/png": "[encoded data removed]",
      "text/plain": [
       "<Figure size 720x360 with 1 Axes>"
      ]
     },
     "metadata": {
      "needs_background": "light"
     },
     "output_type": "display_data"
    }
   ],
   "source": [
    "# Creates the figure, title, and labels \n",
    "# Plots a Box Plot\n",
    "plt.figure(figsize= (10,5))\n",
    "\n",
    "# Plotting the boxplot of the features\n",
    "sns.boxplot(Target_DSH, color= 'red')\n",
    "\n",
    "# Plot Labels\n",
    "plt.title('Box Plot of the Target');"
   ]
  },
  {
   "cell_type": "markdown",
   "metadata": {},
   "source": [
    "* Based on the box plot it seems the distribution of points barely shows any skewness and is more normal in appearence.  \n",
    "\n",
    "\n",
    "* The dataset is really small, however, so visualizations will be limited. In the next section, we'll describe Linear Regression theoretically, then implement Scikit-Learn and Tensorflow methods."
   ]
  },
  {
   "cell_type": "markdown",
   "metadata": {},
   "source": [
    "### Linear Regression Theory\n",
    "\n",
    "[Back to Contents](#Contents) | [Normal Equations](#Normal-Equation:) | [Cost Function](#Cost-Function:)"
   ]
  },
  {
   "cell_type": "markdown",
   "metadata": {},
   "source": [
    "* Linear Regression is a method that is used to model relationships between a target and its features. You can think of the features as independent variables, and the target values as dependent variables. Linear Regression is commonly used for forecasting and predicting quantitive reponses; It is very successful in that domain. Linear Regression, at its simplest, takes on the following form:\n",
    "$$\\space$$\n",
    "$$\\mathbf{\\hat{y} = \\vec{x_{1}}\\cdot\\hat{\\beta_1} + \\hat{\\beta_0}}$$\n",
    "$$\\space$$  \n",
    "    * '$\\hat{\\beta_m}$' (in this case $m = 0, 1$) represents the weights, or parameters you have to find in order satisfy the linear combination. For linear regression by the Least Squares Method, this is an approximation  \n",
    "    $$\\space$$\n",
    "    * '$\\hat{\\beta_0}$' also represents the intercept/bias\n",
    "    $$\\space$$\n",
    "    * '$\\vec{x_{1}}$' represents the independent variable which is a feature (column vector) of the dataset. $x_{0}$ is a variable for the bias term but $x_{0} = 1$ which is why it seems absent above\n",
    "    $$\\space$$\n",
    "    * '$\\hat{y}$' is the dependent variable, or predicted value of the dataset. It's also a column vector"
   ]
  },
  {
   "cell_type": "markdown",
   "metadata": {},
   "source": [
    "* If a target depends on multiple features, Multiple-Linear (more than 1 feature variable) Regression can be used. It can be expressed using the following linear combination:  \n",
    "$$\\space$$\n",
    "$$\\mathbf{\\hat{y} = \\vec{x_{1}}\\cdot\\hat{\\beta_1} + \\vec{x_{2}}\\cdot\\hat{\\beta_2} + \\vec{x_{3}}\\cdot\\hat{\\beta_3} + ... + \\vec{x_{m}}\\cdot\\hat{\\beta_m} + \\hat{\\beta_0}}$$\n",
    "$$\\space$$ \n",
    "    * '$m$' represents the number of features\n",
    "    * '$\\hat{\\beta_m}$' (in this case $m = 0,1,2,3,...$) represents the weights, or parameters \n",
    "    * '$\\hat{\\beta_0}$' also represents the intercept/bias\n",
    "    * '$x_{m}$' (where $m = 1,2,3,...$) represents the independent variable which is a feature (column vector) of the dataset. '$x_{m}$' has '$n$' instances, where $n = 1,2,3,...$  \n",
    "    * $x_{0}$ is still present. It equals 1 for all instances, '$n$'\n",
    "    * '$\\hat{y}$' is the dependent variable, or the predicted value"
   ]
  },
  {
   "cell_type": "markdown",
   "metadata": {},
   "source": [
    "* However, whether it's simple or multiple-linear regression, it can be more convenient to  express the above linear combinations (which are in vector form) in their matrix form: \n",
    "$$\\space$$\n",
    "$$\\hat{y} = X \\cdot \\mathbf{\\hat{\\beta}}$$\n",
    "$$\\space$$\n",
    "    * where '$\\hat{\\beta}$' represents the weights, or parameters you have to find. $\\hat{\\beta}$ is column vector of parameters $\\hat{\\beta_m}$. \n",
    "    $$\\space$$\n",
    "    $$\\hat{\\beta} =\n",
    "    \\left[{\\begin{array}{c}\n",
    "    \\hat{\\beta_0} \\\\\n",
    "    \\hat{\\beta_1} \\\\\n",
    "    \\vdots \\\\\n",
    "    \\hat{\\beta_m} \\\\\n",
    "    \\end{array} } \\right]$$\n",
    "    $$\\space$$\n",
    "    * '$X$' represents the the independent variables, the feature values as a matrix\n",
    "    $$\\space$$\n",
    "    $$X =\n",
    "    \\left[{\\begin{matrix}\n",
    "    1 & x_{1,1} & x_{2,1} & \\cdots & x_{m,1} \\\\\n",
    "    1 & x_{1,2} & x_{2,2} & \\cdots & x_{m,2} \\\\\n",
    "    \\vdots & \\vdots & \\vdots & \\ddots & \\vdots \\\\\n",
    "    1 & x_{1,n} & x_{2,n} & \\cdots & x_{m,n} \\\\\n",
    "    \\end{matrix} } \\right]$$\n",
    "    $$\\space$$\n",
    "    * '$\\hat{y}$' is the dependent variable which is the predicted value, or target vector\n",
    "    $$\\space$$\n",
    "    $$\\hat{y} =\n",
    "    \\left[{\\begin{array}{c}\n",
    "    \\hat{y_1} \\\\\n",
    "    \\hat{y_2} \\\\\n",
    "    \\vdots \\\\\n",
    "    \\hat{y_n} \\\\\n",
    "    \\end{array} } \\right]$$\n",
    "    $$\\space$$"
   ]
  },
  {
   "cell_type": "markdown",
   "metadata": {},
   "source": [
    "* Matrix Form is more convenient because fitting the model using Linear Regression is commonly done with the Least Squares Method (and Normal Equations). This is regardless of the method of implemention, whether it's our own method, Scikit-Learn, or Tensorflow.\n",
    "    \n",
    "##### Normal Equation:\n",
    "\n",
    "[Back to Contents](#Contents) | [Linear Regression Theory](#Linear-Regression-Theory) | [Cost Function](#Cost-Function:) \n",
    "\n",
    "\n",
    "* A Normal Equation, like the one shown below, is an equation that describes the orthogonal relationship between the residual vector $\\big(\\epsilon = y - X \\cdot \\hat{\\beta}\\big)$ and the plane $\\big\\{X \\cdot \\vec{\\beta} \\space | \\space \\beta \\in R^n \\big\\}$ where '$\\vec{\\beta}$' is the ***exact*** parameter vector needed to solve $y = X \\cdot \\vec{\\beta}$. $\\space \\vec{\\beta} =\n",
    "\\left[{\\begin{array}{c}\n",
    "\\beta_0 \\\\\n",
    "\\vdots \\\\\n",
    "\\beta_m \\\\\n",
    "\\end{array} } \\right]$. \n",
    "\n",
    "\n",
    "* However, since we have a dataset with more instances '$n$' than features '$m$' to describe them, the result is an inconsistent system. Inconsistent systems indicate that the best we can do are approximations, meaning '$\\hat{y}$' and '$\\mathbf{\\hat{\\beta}}$': \n",
    "\n",
    "> **Normal equations for least squares**\n",
    "> $$X^T \\hat{y} = X^T X \\cdot \\mathbf{\\hat{\\beta}}$$\n",
    "\n",
    "  \n",
    "* We want the best approximations, of course, and the way to do that is by minimizing a cost function.     "
   ]
  },
  {
   "cell_type": "markdown",
   "metadata": {},
   "source": [
    "##### Cost Function:\n",
    "\n",
    "[Back to Contents](#Contents) | [Linear Regression Theory](#Linear-Regression-Theory) | [Normal Equations](#Normal-Equation:) \n",
    "\n",
    "* The cost function that we want minimize expresses the size of the residual vector. In other words, minimizing the cost function minimizes the size of the residual vector.\n",
    "\n",
    "\n",
    "* There are many cost functions that we could use to describe the size of the residual vector, $\\epsilon$. However minimizing one, minimizes the others as they are closely related. Some cost functions include:\n",
    "\n",
    "> ***Types of Cost Functions:***  \n",
    "> * **2-Norm:** $||\\epsilon||_{2} = \\sqrt{\\sum_{j = 1}^{m}\\epsilon_m^2}$  \n",
    "> * **Squared Error (SE):** $\\big(||\\epsilon||_{2} \\big)^2 = \\sum_{j = 1}^{m}\\epsilon_m^2$  \n",
    "> $\\space$  \n",
    "> * **Mean Squared Error (MSE):** $\\frac{\\big(||\\epsilon||_{2} \\big)^2}{m} = \\frac{1}{m}\\sum_{j = 1}^{m}\\epsilon_m^2$ \n",
    "> $$\\space$$  \n",
    "> * **Root Mean Squared Error (RMSE):** $\\frac{||\\epsilon||_{2}}{\\sqrt{m}} = \\sqrt{\\frac{1}{m}\\sum_{j = 1}^{m}\\epsilon_m^2}$    \n",
    "\n",
    "\n",
    "* To minimize the cost function, we have to find the solution to the Normal Equation. In other words, we have to find the value of the approximated vector $\\mathbf{\\hat{\\beta}}$. We rewrite the the Normal Equation in terms of $\\mathbf{\\hat{\\beta}}$ to get the following:\n",
    "\n",
    "> ***Solution to the Normal Equation:***\n",
    "> $$\\mathbf{\\hat{\\beta}} = \\big(X^T X\\big)^{-1} X^T \\hat{y}$$\n",
    "\n",
    "\n",
    "* In the following sections, we'll provide a demonstration via 2 implementations: Scikit-Learn, and TensorFlow."
   ]
  },
  {
   "cell_type": "markdown",
   "metadata": {},
   "source": [
    "### Linear Regression via Scikit-Learn \n",
    "\n",
    "| [Back to Contents](#Contents) | [Train/Test Validation Strategy](#Implementation-via-Train/Test-Validation-Strategy:) | [$k$-fold Cross Validation](#$k$-fold-Cross-Validation:) | [Measuring Performance](#Measuring-Performance:) | [Visualizations](#Visualizations:)\n",
    "\n",
    "* First, we'll implement the Linear Regression Model using the simple Train/Test Validation Stategy \n",
    "* Then, we'll follow up with an implementation using K-Fold Cross Validation \n",
    "* We'll examine the model performance by looking at the RMSE\n",
    "* Finally, we'll plot a visualization of the model against the data points"
   ]
  },
  {
   "cell_type": "markdown",
   "metadata": {},
   "source": [
    "##### Implementation via Train/Test Validation Strategy:\n",
    "\n",
    "| [Back to Contents](#Contents) | [Linear-Regression-via-Scikit-Learn](#Linear-Regression-via-Scikit-Learn) | [$k$-fold Cross Validation](#$k$-fold-Cross-Validation:) | [Measuring Performance](#Measuring-Performance:) | [Visualizations](#Visualizations:)\n",
    "\n",
    "\n",
    "* For this implementation, we do several things: create the model, fit the data using the training set, and create predictions.  \n",
    "\n",
    "* Creating a function to find the Residuals is also done for this implementation."
   ]
  },
  {
   "cell_type": "code",
   "execution_count": 11,
   "metadata": {},
   "outputs": [],
   "source": [
    "# Creating a function to find the Residuals \n",
    "def finding_residuals(X, y, beta0, beta1):\n",
    "    \"\"\"\n",
    "    Finds the residual \n",
    "    \n",
    "    Parameters\n",
    "    ----------\n",
    "    X : array-like or sparse matrix, shape (n_samples, n_features)\n",
    " \n",
    "    y : array_like, shape (n_targets)\n",
    "\n",
    "    beta0 : A float, the approximated intercept. \n",
    "            An element of the least square solution, Column Vector beta\n",
    "            \n",
    "    beta1 : A float, the approximated intercept. \n",
    "            An element of the least square solution, Column Vector beta \n",
    "            \n",
    "    Returns\n",
    "    -------\n",
    "    output : Array-like, the residuals\n",
    "    \"\"\"\n",
    "    beta = np.array([beta0, beta1])\n",
    "    X = np.hstack((np.ones(X.shape), X))\n",
    "    return y.reshape(10,1) - np.dot(X, beta.reshape(-1,1))"
   ]
  },
  {
   "cell_type": "markdown",
   "metadata": {},
   "source": [
    "* We also compare the predicted scores with actual test scores by finding the residuals. If our model is good, then the length of the residual should not be significantly large."
   ]
  },
  {
   "cell_type": "code",
   "execution_count": 12,
   "metadata": {
    "scrolled": false
   },
   "outputs": [
    {
     "name": "stdout",
     "output_type": "stream",
     "text": [
      "\n",
      "Predicted Test Scores: \n",
      "[ 94.99769926  78.62497891  83.61979053  61.47421276  71.30648722\n",
      " 100.44243462  93.98406058  66.20623052  82.82955018  58.07598427] \n",
      "\n",
      "Parameters (Slope/Intercept): \n",
      "[[1.31000868]\n",
      " [8.28846523]] \n",
      "\n",
      "Residual as the Difference between Test Scores & Predicted Scores: \n",
      "[[-11.1191346 ]\n",
      " [  7.04322424]\n",
      " [ -9.53566041]\n",
      " [  4.0880885 ]\n",
      " [  4.02475508]\n",
      " [  3.81466696]\n",
      " [ 24.60715672]\n",
      " [  7.4813338 ]\n",
      " [ -2.62202704]\n",
      " [  3.29092027]] \n",
      "\n",
      "Residual using (r = y - X*beta ): \n",
      "[[-11.1191346 ]\n",
      " [  7.04322424]\n",
      " [ -9.53566041]\n",
      " [  4.0880885 ]\n",
      " [  4.02475508]\n",
      " [  3.81466696]\n",
      " [ 24.60715672]\n",
      " [  7.4813338 ]\n",
      " [ -2.62202704]\n",
      " [  3.29092027]] \n",
      "\n",
      "RMSE: 9.95400163640461\n"
     ]
    },
    {
     "name": "stderr",
     "output_type": "stream",
     "text": [
      "/Users/Chris/anaconda/envs/ml_env/lib/python3.6/site-packages/sklearn/linear_model/base.py:485: RuntimeWarning: internal gelsd driver lwork query error, required iwork dimension not returned. This is likely the result of LAPACK bug 0038, fixed in LAPACK 3.2.2 (released July 21, 2010). Falling back to 'gelss' driver.\n",
      "  linalg.lstsq(X, y)\n"
     ]
    }
   ],
   "source": [
    "# Assigning Linear Regression to variable\n",
    "model_sklearn = LinearRegression()\n",
    "\n",
    "\n",
    "# Create a test set and training set\n",
    "X_train, X_test, y_train, y_test = train_test_split(features_DSH.to_numpy().reshape(-1,1), \n",
    "                                                    Target_DSH.to_numpy(), test_size= 0.10, \n",
    "                                                    random_state= 30)\n",
    "\n",
    "# Fitting the model to the training set\n",
    "model_sklearn.fit(X_train, y_train)\n",
    "\n",
    "# Predictions \n",
    "y_pred = model_sklearn.predict(X_test)\n",
    "printString = 'Residual as the Difference between Test Scores & Predicted Scores: \\n{} \\n'\n",
    "printString_ = 'Residual using (r = y - X*beta ): \\n{} \\n'\n",
    "printStr = 'Parameters (Slope/Intercept): \\n{} \\n'\n",
    "parameters = np.array([model_sklearn.coef_[0], model_sklearn.intercept_]).reshape(2,1)\n",
    "print('\\nPredicted Test Scores: \\n{} \\n'.format(y_pred))\n",
    "print(printStr.format(parameters))\n",
    "print(printString.format((y_test - y_pred).reshape(10,1)))\n",
    "print(printString_.format(finding_residuals(X_test, y_test, \n",
    "                                            model_sklearn.intercept_, \n",
    "                                            model_sklearn.coef_[0])))\n",
    "print('RMSE: {}'.format(np.sqrt(metrics.mean_squared_error(y_test, y_pred))))"
   ]
  },
  {
   "cell_type": "markdown",
   "metadata": {},
   "source": [
    "* We found the residuals with two, but equivalent, ways: \n",
    "    \n",
    "    1. Finding the difference between the true test scores and predicted scores which I find to be more intuitive. It answers the question on how close are our predictions to our real scores.\n",
    "    2. Using $\\epsilon = y - X \\cdot \\hat{\\beta}$ to find the length of the residuals.\n",
    "    \n",
    "\n",
    "* This shows pretty reasonable results as there are no significantly large differences between predicted and real scores. \n",
    "\n",
    "\n",
    "* For a better description of performance, we'll look at the Root Mean Square Error (RMSE). It's printed here but we'll reserve the conversation for *Measuring Performance* section. For now, we'll discuss another and more effective validation strategy known as *k-fold Cross Validation* and the python method `cross_val_predict()`.  "
   ]
  },
  {
   "cell_type": "markdown",
   "metadata": {},
   "source": [
    "##### $k$-fold Cross Validation: \n",
    "\n",
    "| [Back to Contents](#Contents) | [Train/Test Validation Strategy](#Implementation-via-Train/Test-Validation-Strategy:) | [Linear-Regression-via-Scikit-Learn](#Linear-Regression-via-Scikit-Learn) | [Measuring Performance](#Measuring-Performance:) | [Visualizations](#Visualizations:)\n",
    "\n",
    "* $k$-fold Cross Validation is another validation strategy we'll use to test the reliability of our model.\n",
    "> In $k$-fold cross validation ($k = \\text{the number of splits}$), we're allowed to select the number of splits we would like to use to train/test the model. Each split participates in the training and testing phase of the model. In other words, each split will have a turn as the test set or *holdout set*; All the data gets used.\n",
    "\n",
    "* The reason we consider this strategy/method is because we lack data. While this is partly \n",
    "* We'll test whether our model performs roughly the same across all train/test splits. \n",
    " \n",
    "* The value of $k$ in our k-fold cross validation is set to 10. The code segment below shows how the data set is split into 10 train/test splits. \n",
    "\n",
    ">```python\n",
    "for train, test in KFold(10).split(features_DSH.to_numpy().reshape(-1,1)):\n",
    "    print('Train: \\n\\n', train, '\\n\\nTest: \\n\\n', test, '\\n\\n')```\n",
    "\n",
    "* Below we run the k-fold cross validation and find the predictions (and residuals)."
   ]
  },
  {
   "cell_type": "code",
   "execution_count": 13,
   "metadata": {},
   "outputs": [
    {
     "name": "stdout",
     "output_type": "stream",
     "text": [
      "\n",
      "First 10 predicted \"y\" values of the 100 instances, \"x\": \n",
      " \n",
      "[[51.43802312]\n",
      " [68.47821657]\n",
      " [94.76339392]\n",
      " [77.31544681]\n",
      " [67.24409421]\n",
      " [57.37566815]\n",
      " [62.47513362]\n",
      " [50.16397211]\n",
      " [83.2901182 ]\n",
      " [50.15048366]] \n",
      "\n",
      "Residuals for the First 10 predicted \"y\" values: \n",
      " \n",
      "[[-19.73101727]\n",
      " [-13.31253942]\n",
      " [-10.88482926]\n",
      " [-13.95665649]\n",
      " [-14.56111084]\n",
      " [ 22.79060729]\n",
      " [ -0.79109609]\n",
      " [  0.22869802]\n",
      " [ -3.08259506]\n",
      " [ 17.02017211]] \n",
      "\n"
     ]
    }
   ],
   "source": [
    "# 10-fold cross validation predictions\n",
    "predict_Linear = cross_val_predict(model_sklearn, features_DSH.to_numpy().reshape(-1,1), \n",
    "                                   Target_DSH.to_numpy().reshape(100,1), \n",
    "                                   cv= KFold(10, shuffle= False, random_state= 30))\n",
    "residuals_ = Target_DSH.to_numpy().reshape(-1,1)[::10] - predict_Linear[::10]\n",
    "print('\\nFirst 10 predicted \"y\" values of the 100 instances, \"x\": \\n \\n{} \\n'.format(predict_Linear[::10]))\n",
    "print('Residuals for the First 10 predicted \"y\" values: \\n \\n{} \\n'.format(residuals_))"
   ]
  },
  {
   "cell_type": "markdown",
   "metadata": {},
   "source": [
    "* Once again we do not have a large disparity between predicted and actual values. However, we'll use `cross_val_score()` and the **RMSE** performance metric (`scoring = 'neg_mean_squared_error'`) to find out the performance of our model."
   ]
  },
  {
   "cell_type": "markdown",
   "metadata": {},
   "source": [
    "##### Measuring Performance: \n",
    "\n",
    "| [Back to Contents](#Contents) | [Scikit-Learn Implementation](#Scikit-Learn-Implementation:) | [Train/Test Validation Strategy](#Implementation-via-Train/Test-Validation-Strategy:) | [$k$-fold Cross Validation](#$k$-fold-Cross-Validation:) | [Visualizations](#Visualizations:)\n",
    "\n",
    "* To measure performance, we chose the RMSE as a metric. Ideally, if our RMSE is low (the closer to zero, the better) we can say that model is representative of the data; The model fits the data pretty well.\n",
    "\n",
    "\n",
    "* As aforementioned, RMSE is a measure of accuracy. Generally speaking, if the RMSE is low then we consider the model to be pretty accurate.\n",
    "\n",
    "> ***\"The RMSE serves to aggregate the magnitudes of the errors in predictions for various times into a single measure of predictive power.\"*** - [source](https://en.wikipedia.org/wiki/Root-mean-square_deviation)   "
   ]
  },
  {
   "cell_type": "code",
   "execution_count": 14,
   "metadata": {
    "scrolled": true
   },
   "outputs": [
    {
     "name": "stdout",
     "output_type": "stream",
     "text": [
      "\n",
      "RMSE for Model (10-fold Cross Validation): \n",
      " \n",
      "[11.56076561 10.89848821 12.26753369  9.88276715 10.93823129 10.56155162\n",
      " 11.5727542   9.90417213  6.52713838 12.3179357 ] \n",
      "\n",
      "Average of the RMSE : 10.643133798341022 \n",
      "\n"
     ]
    }
   ],
   "source": [
    "# 10-fold cross validation scoring\n",
    "# Use 'sorted(metrics.SCORERS.keys())' for the valid scoring options\n",
    "scores_scikit = cross_val_score(model_sklearn, features_DSH.to_numpy().reshape(-1,1), \n",
    "                                Target_DSH.to_numpy().reshape(100,1), \n",
    "                                cv= KFold(10, shuffle= False, random_state= 42), \n",
    "                                scoring= 'neg_mean_squared_error')\n",
    "print('\\nRMSE for Model (10-fold Cross Validation): \\n \\n{} \\n'.format(np.sqrt(-scores_scikit)))\n",
    "print('Average of the RMSE : {} \\n'.format(np.sqrt(-scores_scikit).mean()))"
   ]
  },
  {
   "cell_type": "markdown",
   "metadata": {},
   "source": [
    "* Our error for the dataset is pretty low. We can interpret this is a successful model fitted to the data.\n",
    "\n",
    "* For the last section of our Scikit-Learn Implementation, we will provide visualizations of the model."
   ]
  },
  {
   "cell_type": "markdown",
   "metadata": {},
   "source": [
    "##### Visualizations:\n",
    "\n",
    "| [Back to Contents](#Contents) | [Linear-Regression-via-Scikit-Learn](#Linear-Regression-via-Scikit-Learn) | [Train/Test Validation Strategy](#Implementation-via-Train/Test-Validation-Strategy:) | [Measuring Performance](#Measuring-Performance:) | [$k$-fold Cross Validation](#$k$-fold-Cross-Validation:)\n",
    "\n",
    "* Here we provide a trendline that attempts to summarize the relationship between study time and test scores. The trendline confirms an earlier assumption we had (positive correlation between the amount of hours studied and test scores).\n",
    "\n",
    "\n",
    "* The first visualization will be directly from the implemention of our model. \n",
    "\n",
    "\n",
    "* The second is the same as the first; We calculate by hand using the sum of squares formulas to acquire the slope and intercept.\n",
    "\n",
    "\n",
    "**Visualization 1: Scikit-Learn Model Implementation**"
   ]
  },
  {
   "cell_type": "code",
   "execution_count": 15,
   "metadata": {
    "scrolled": true
   },
   "outputs": [
    {
     "data": {
      "image/png": "[encoded data removed]",
      "text/plain": [
       "<Figure size 720x360 with 1 Axes>"
      ]
     },
     "metadata": {
      "needs_background": "light"
     },
     "output_type": "display_data"
    }
   ],
   "source": [
    "# plotting the points in a scatter plot\n",
    "plt.figure(figsize=(10, 5))\n",
    "plt.scatter(features_DSH, Target_DSH,marker='*',color = '#1f77b4');\n",
    "\n",
    "# fitting the model \n",
    "model_sklearn.fit(features_DSH.to_numpy().reshape(-1,1), Target_DSH)\n",
    "plt.plot(features_DSH, model_sklearn.coef_* features_DSH + model_sklearn.intercept_, color = 'k')\n",
    "plt.title('Linear Regression Model')\n",
    "plt.xlabel('Features')\n",
    "plt.ylabel('Target');"
   ]
  },
  {
   "cell_type": "markdown",
   "metadata": {},
   "source": [
    "**Visualization 2: Hand Calculations using Sum of Squares Formulas**\n",
    "\n",
    "* The functions used to craft the graph where based off the following equations:\n",
    "\n",
    "$$S S_{xy} = \\sum x_i y_i - \\frac{(\\sum x_i \\sum y_i)}{n}$$\n",
    "\n",
    "$$S S_{xx} = \\sum x_i^2 - \\frac{(\\sum x_i)^2}{n}$$\n",
    "\n",
    "$$m = \\frac{S S_{xy}}{S S_{xx}}$$\n",
    "\n",
    "$$b = \\bar{y} - m * \\bar{x}$$\n",
    "\n",
    "$$\\text{where } n = \\text{ number of points}$$\n",
    "\n"
   ]
  },
  {
   "cell_type": "code",
   "execution_count": 16,
   "metadata": {},
   "outputs": [
    {
     "name": "stdout",
     "output_type": "stream",
     "text": [
      "The slope is: 1.3224310227553753 and the intercept is: 7.991020982269632\n",
      "\n",
      "RMSE 10.761679391448236\n"
     ]
    },
    {
     "data": {
      "image/png": "[encoded data removed]",
      "text/plain": [
       "<Figure size 720x360 with 1 Axes>"
      ]
     },
     "metadata": {
      "needs_background": "light"
     },
     "output_type": "display_data"
    }
   ],
   "source": [
    "# Creating functions to calculate the sum of squares\n",
    "def ssXY(x, y):\n",
    "    \"\"\"Calculates the Sum of Squares for 'x' and 'y'.\"\"\"\n",
    "    n = y.size\n",
    "    return sum(x*y) - ((sum(x)*sum(y))/n)\n",
    "\n",
    "    \n",
    "def ssXX(x):\n",
    "    \"\"\"Calculates the Sum of Squares for 'x'.\"\"\"\n",
    "    n = x.size\n",
    "    return sum(x*x) - ((sum(x)*sum(x))/n)\n",
    "\n",
    "# Finding/Printing the value of the slope and intercept\n",
    "slope = ssXY(features_DSH, Target_DSH)/ssXX(features_DSH)\n",
    "intercept = Target_DSH.mean() - slope * features_DSH.mean()\n",
    "print('The slope is: {1} and the intercept is: {0}'.format(intercept, slope))\n",
    "\n",
    "# Plotting the points in a scatter plot\n",
    "plt.figure(figsize= (10, 5))\n",
    "plt.scatter(features_DSH, Target_DSH,marker='*',color = '#1f77b4');\n",
    "\n",
    "# Printing the value of the RMSE\n",
    "print('\\nRMSE',np.sqrt(metrics.mean_squared_error(Target_DSH, predict_Linear)))\n",
    "\n",
    "# Plotting the model \n",
    "plt.plot(features_DSH, slope* features_DSH + intercept, color = 'k')\n",
    "plt.title('Linear Regression Model')\n",
    "plt.xlabel('Features')\n",
    "plt.ylabel('Target');"
   ]
  },
  {
   "cell_type": "markdown",
   "metadata": {},
   "source": [
    "* We now have a pretty good visual representation of the trend of the data (and the relationship between study time and test scores).\n",
    "\n",
    "\n",
    "* However, there is a caveat. We do seem to have a few outliers which skew our results (very small skewing as mentioned before) slightly.\n",
    "\n",
    "\n",
    "* Next we'll take a look at the implementation via tensorflow.\n",
    "\n",
    "\n",
    "### Linear Regression via Tensorflow\n",
    "\n",
    "| [Back to Contents](#Contents) | [Tensorflow Linear Regression Class](#Tensorflow-Linear-Regression-Class:) | [Train/Test Validation Strategy](#Train/Test-Validation-Strategy:) | [$k$-fold Cross Validation](#K-fold-Cross-Validation:) | [Measuring Performance](#Performance-Measure:) | \n",
    "\n",
    "* First, we'll implement the Linear Regression Model via Tensorflow \n",
    "* We'll examine the model performance by looking at the RMSE\n",
    "* Finally, we'll plot a visualization of the model against the data points\n",
    "\n",
    "##### Tensorflow Linear Regression Class:\n",
    "\n",
    "**Class using Normal Equations $\\big[\\space \\mathbf{\\hat{\\beta}} = \\big(X^T X\\big)^{-1} X^T \\hat{y} \\space \\big]$ as base** "
   ]
  },
  {
   "cell_type": "code",
   "execution_count": 17,
   "metadata": {},
   "outputs": [],
   "source": [
    "class TensorflowLinearRegression():\n",
    "    \n",
    "    def __init__(self, coef_= None, intercept_= None):\n",
    "        # creating/initializing attributes\n",
    "        self.coef_ = coef_\n",
    "        self.intercept_ = intercept_\n",
    "\n",
    "    def fit(self, data, target):\n",
    "        \"\"\"\n",
    "        Finds the the approximated least square solution. \n",
    "\n",
    "        Parameters\n",
    "        ----------\n",
    "        data: array-like or sparse matrix, shape (n_samples, n_features)\n",
    "\n",
    "        target: array_like, shape (n_samples)\n",
    "\n",
    "        Returns\n",
    "        -------\n",
    "        beta : array-like, the approximated least square solution. \n",
    "        \"\"\"\n",
    "        \n",
    "        # I normally use pandas dataframes to visualize data in tabular format\n",
    "        # but the below tensorflow and numpy methods work best using number arrays\n",
    "        # so the conditional statement below checks the type of the object in question\n",
    "        # if the object I use is a pandas dataframe then it converts it to a numpy array\n",
    "        # before reshaping, else it just reshapes the object in question \n",
    "        # (assume numpy, scipy array type). \n",
    "        if str(type(data)) == \"<class 'pandas.core.series.Series'>\":\n",
    "            # Converts pandas dataframe to numpy array\n",
    "            data = data.to_numpy().reshape(data.shape[0], 1)\n",
    "            target = target.to_numpy().reshape(data.shape[0], 1)\n",
    "        else:\n",
    "            # redefines the shape\n",
    "            data = data.reshape(data.shape[0], 1)\n",
    "            target = target.reshape(data.shape[0], 1)\n",
    "\n",
    "        # Adds Bias Term\n",
    "        data = np.hstack((np.ones(data.shape[0]).reshape(data.shape[0], 1), data))\n",
    "\n",
    "        # Creates the graph and variable initializer\n",
    "        X = tf.placeholder(dtype= tf.float64, shape= None, name= 'X')\n",
    "        y = tf.placeholder(dtype= tf.float64, shape= None, name= 'y')\n",
    "        XT = tf.transpose(X)\n",
    "        beta = tf.matmul(tf.matrix_inverse(tf.matmul(XT, X)), tf.matmul(XT, y))\n",
    "        init = tf.global_variables_initializer()\n",
    "\n",
    "        # Starts a session and runs the graph\n",
    "        with tf.Session() as sess:\n",
    "            init.run()\n",
    "            result = beta.eval(feed_dict= {X: data, y: target})\n",
    "        \n",
    "        # Overwrites attributes w/ values of result \n",
    "        # (the vector beta which is the Least Squares Solution)\n",
    "        self.intercept_, self.coef_ = result[0], result[1]\n",
    "        \n",
    "        return self\n",
    "    \n",
    "    def predict(self, data):\n",
    "        \"\"\"\n",
    "        Predicts future test scores based on parameters found during training \n",
    "\n",
    "        Parameters\n",
    "        ----------\n",
    "        data: array-like or sparse matrix, shape (n_samples, n_features)\n",
    "\n",
    "        Returns\n",
    "        -------\n",
    "        result : array-like, the predicted values found using hyperparameters. \n",
    "        \"\"\"\n",
    "        # Creating Tensorflow graph: defining input nodes (data), nodes for the weights\n",
    "        # (coeff, bias), and an output node (ypred). \n",
    "        data = tf.constant(data, dtype= tf.float64)\n",
    "        coeff = tf.constant(self.coef_, dtype= tf.float64, \n",
    "                            shape= [self.coef_.shape[0], 1])\n",
    "        bias = tf.constant(self.intercept_, dtype= tf.float64, \n",
    "                           shape= [self.intercept_.shape[0], 1])\n",
    "        \n",
    "        # Predictions based on the best fit line (yhat = beta1*x1 + beta0)\n",
    "        ypred = tf.add(tf.multiply(coeff, data), bias) \n",
    "        \n",
    "        # Creating Tensorflow graph: initializer node also created\n",
    "        init = tf.global_variables_initializer()\n",
    "        \n",
    "        # Running Tensorflow graph\n",
    "        with tf.Session() as sess:\n",
    "            init.run()\n",
    "            result = ypred.eval()    \n",
    "            \n",
    "        return result\n",
    "    \n",
    "    def rmse(self, data, target):\n",
    "        \"\"\"\n",
    "        Finds the Root Means Square Error. This is the cost or loss function by which\n",
    "        we evaluate our model.\n",
    "\n",
    "        Parameters\n",
    "        ----------\n",
    "        data : array-like or sparse matrix, shape (n_samples, n_features)\n",
    "\n",
    "        target : array_like, shape (n_targets)\n",
    "\n",
    "        Returns\n",
    "        -------\n",
    "        output : Array-like, the residuals\n",
    "        \"\"\"\n",
    "        \n",
    "        beta0 = self.intercept_\n",
    "        beta1 = self.coef_\n",
    "        \n",
    "        # A function the calculates the residuals\n",
    "        def residuals(data, target, beta0, beta1):\n",
    "            \"\"\"\n",
    "            Finds the residual \n",
    "\n",
    "            Parameters\n",
    "            ----------\n",
    "            data : array-like or sparse matrix, shape (n_samples, n_features)\n",
    "\n",
    "            target : array_like, shape (n_targets)\n",
    "\n",
    "            beta0 : A float, the approximated intercept. \n",
    "                    An element of the least square solution, Column Vector beta\n",
    "\n",
    "            beta1 : A float, the approximated intercept. \n",
    "                    An element of the least square solution, Column Vector beta \n",
    "\n",
    "            Returns\n",
    "            -------\n",
    "            result : Array-like, the residuals\n",
    "            \"\"\"\n",
    "            \n",
    "            # Computes the residual (epsilon = y - X*beta)\n",
    "            beta = np.array([beta0, beta1]) # forms on \n",
    "            data = np.hstack((np.ones(data.shape), data)) # adds bias column\n",
    "            \n",
    "            # Stores the residual (epsilon = y - X*beta) in result and returns it\n",
    "            result = target.reshape(target.shape[0], 1) - np.dot(data, beta.reshape(-1,1))\n",
    "            \n",
    "            return result \n",
    "        \n",
    "        # Creating Tensorflow graph: all parameters are being converted into tensors.\n",
    "        m = tf.constant(residuals(data, target, beta0, beta1).shape[0], \n",
    "                        dtype= tf.float64, shape= None, name= 'm')\n",
    "        epsilon = tf.constant(residuals(data, target, beta0, beta1), \n",
    "                              dtype= tf.float64, shape= None, name= 'eps') \n",
    "        \n",
    "        # Calculates the Root Mean Square Error (RMSE)\n",
    "        rmse = tf.sqrt(tf.divide(tf.reduce_sum(tf.pow(epsilon, 2)), m))\n",
    "        \n",
    "        # Creating Tensorflow graph: initializer node also created\n",
    "        init = tf.global_variables_initializer()\n",
    "        \n",
    "        # Running Tensorflow graph\n",
    "        with tf.Session() as sess:\n",
    "            init.run()\n",
    "            result = rmse.eval()\n",
    "            \n",
    "        return result\n"
   ]
  },
  {
   "cell_type": "markdown",
   "metadata": {},
   "source": [
    "##### Train/Test Validation Strategy:\n",
    "\n",
    "| [Back to Contents](#Contents) | [Tensorflow Linear Regression Class](#Tensorflow-Linear-Regression-Class:) | [$k$-fold Cross Validation](#K-fold-Cross-Validation:) | [Measuring Performance](#Performance-Measure:) | \n",
    "\n",
    "**Part 1: Finding the Slope/Intercept**"
   ]
  },
  {
   "cell_type": "code",
   "execution_count": 18,
   "metadata": {},
   "outputs": [
    {
     "name": "stdout",
     "output_type": "stream",
     "text": [
      "Slope: 1.310008676209769 and Intercept: 8.28846523098241 of the approximated model\n"
     ]
    }
   ],
   "source": [
    "linearRegModel = TensorflowLinearRegression()\n",
    "linearRegModel.fit(X_train, y_train)\n",
    "statement = 'Slope: {0} and Intercept: {1} of the approximated model'\n",
    "print(statement.format(linearRegModel.coef_[0], linearRegModel.intercept_[0]))"
   ]
  },
  {
   "cell_type": "markdown",
   "metadata": {},
   "source": [
    "##### Performance Measure:\n",
    "\n",
    "| [Back to Contents](#Contents) | [Tensorflow Linear Regression Class](#Tensorflow-Linear-Regression-Class:) | [$k$-fold Cross Validation](#K-fold-Cross-Validation:) | [Test/Train Validation Strategy](#Train/Test-Validation-Strategy:) | \n",
    "\n",
    "**Part 1: Finding the residuals**"
   ]
  },
  {
   "cell_type": "code",
   "execution_count": 19,
   "metadata": {},
   "outputs": [
    {
     "name": "stdout",
     "output_type": "stream",
     "text": [
      "Residuals: \n",
      "\n",
      "[[-11.1191346 ]\n",
      " [  7.04322424]\n",
      " [ -9.53566041]\n",
      " [  4.0880885 ]\n",
      " [  4.02475508]\n",
      " [  3.81466696]\n",
      " [ 24.60715672]\n",
      " [  7.4813338 ]\n",
      " [ -2.62202704]\n",
      " [  3.29092027]] \n",
      " \n",
      "of the predicted values\n"
     ]
    }
   ],
   "source": [
    "pred = linearRegModel.predict(X_test)\n",
    "statement_ = 'Residuals: \\n\\n{0} \\n \\nof the predicted values'\n",
    "print(statement_.format(y_test.reshape(y_test.shape[0], 1) - pred))"
   ]
  },
  {
   "cell_type": "markdown",
   "metadata": {},
   "source": [
    "**Part 2: Finding the Root Mean Square Error**"
   ]
  },
  {
   "cell_type": "code",
   "execution_count": 20,
   "metadata": {},
   "outputs": [
    {
     "name": "stdout",
     "output_type": "stream",
     "text": [
      "The Root Mean Square Error for the model: 9.954001636404632\n"
     ]
    }
   ],
   "source": [
    "statemnt = 'The Root Mean Square Error for the model: {}'\n",
    "container = linearRegModel.rmse(X_test, y_test)\n",
    "print(statemnt.format(container))"
   ]
  },
  {
   "cell_type": "markdown",
   "metadata": {},
   "source": [
    "##### K-fold Cross Validation:\n",
    "\n",
    "| [Back to Contents](#Contents) | [Tensorflow Linear Regression Class](#Tensorflow-Linear-Regression-Class:) | [Measuring Performance](#Performance-Measure:) | [Test/Train Validation Strategy](#Train/Test-Validation-Strategy:) | \n",
    "\n",
    "**Part 1: Reporting score by creating a function called `scorer()` which calculates the Root Mean Square Error.**"
   ]
  },
  {
   "cell_type": "code",
   "execution_count": 21,
   "metadata": {},
   "outputs": [],
   "source": [
    "def scorer(estimator, features, target, n_splits, On= True):\n",
    "    \"\"\"\n",
    "    Does k-fold cross validation and reports scores over all splits \n",
    "\n",
    "    Parameters\n",
    "    ----------\n",
    "    estimator : object, the ML model we want to use\n",
    "    \n",
    "    features : array-like or sparse matrix, shape (n_samples, n_features)\n",
    "\n",
    "    target : array_like, shape (n_targets)\n",
    "\n",
    "    n_splits : int, the number of splits \n",
    "    \n",
    "    On : bool, True or False. By default, set to True. Determines whether we \n",
    "         shuffle our data before performing splits and scoring. \n",
    "\n",
    "    Returns\n",
    "    -------\n",
    "    result : Array-like, the scores\n",
    "    \"\"\"\n",
    "    \n",
    "    # This functions does two things: checks the type of features/target, and generates\n",
    "    # 'k' test/train splits using a generator function. \n",
    "    def kfold_split(features, target, n_splits, On):\n",
    "        \n",
    "        #generator function used to generate 'k' test/train splits. \n",
    "        def dataset_generator():\n",
    "            for train_index, test_index in KFold(n_splits, shuffle= On).split(features):\n",
    "                features_train, features_test = features[train_index], features[test_index]\n",
    "                target_train, target_test = target[train_index], target[test_index]\n",
    "                yield np.array([features_train, features_test, target_train, target_test])\n",
    "        \n",
    "        # I normally use pandas dataframes to visualize data in tabular format\n",
    "        # but the below tensorflow and numpy methods work best using number arrays\n",
    "        # so the conditional statement below checks the type of the object in question\n",
    "        # if the object I use is a pandas dataframe then it converts it to a numpy array\n",
    "        # before reshaping, else it just reshapes the object in question \n",
    "        # (assume numpy, scipy array type).\n",
    "        if str(type(features)) == \"<class 'pandas.core.series.Series'>\":\n",
    "            # Converts pandas dataframe to numpy array\n",
    "            features = features.to_numpy().reshape(features.shape[0], 1)\n",
    "            target = target.to_numpy().reshape(features.shape[0], 1)\n",
    "        else:\n",
    "            # redefines the shape\n",
    "            features = features.reshape(features.shape[0], 1)\n",
    "            target = target.reshape(features.shape[0], 1)\n",
    "\n",
    "        return dataset_generator()\n",
    "\n",
    "    # assigns generator to variable\n",
    "    dataSplitter = kfold_split(features_DSH, Target_DSH, n_splits, On)\n",
    "    \n",
    "    # empty container to store results\n",
    "    container = []\n",
    "    \n",
    "    # loop used to create the test/train splits, fit each split, find RMSE, then appends\n",
    "    # result to empty container\n",
    "    for i in range(n_splits):\n",
    "        features_train, features_test, target_train, target_test = next(dataSplitter)\n",
    "        estimator.fit(features_train, target_train)\n",
    "        container.append(estimator.rmse(features_test, target_test))\n",
    "        \n",
    "    return np.array(container)"
   ]
  },
  {
   "cell_type": "code",
   "execution_count": 22,
   "metadata": {},
   "outputs": [
    {
     "name": "stdout",
     "output_type": "stream",
     "text": [
      "\n",
      "RMSE for Model (10-fold Cross Validation): \n",
      " \n",
      "[11.83247257  7.34833086 10.7375845   8.52638042 12.45865879 11.77211372\n",
      " 10.83933933 10.67438215 12.22930235  8.6850065 ] \n",
      "\n",
      "Average of the RMSE : 10.51035711946597 \n",
      "\n"
     ]
    }
   ],
   "source": [
    "# 10-fold cross validation scoring\n",
    "numSplits = 10\n",
    "estimator_ = TensorflowLinearRegression()\n",
    "scores_TF = scorer(estimator_, features_DSH, Target_DSH, numSplits)\n",
    "print('\\nRMSE for Model (10-fold Cross Validation): \\n \\n{} \\n'.format(scores_TF))\n",
    "print('Average of the RMSE : {} \\n'.format(scores_TF.mean()))"
   ]
  },
  {
   "cell_type": "markdown",
   "metadata": {},
   "source": [
    "**Part 2: Reporting first 10 predictions by creating a function called `predictor()` which does k-fold cross validation, then gives 10 predictions.**"
   ]
  },
  {
   "cell_type": "code",
   "execution_count": 23,
   "metadata": {},
   "outputs": [],
   "source": [
    "def predictor(estimator, features, target, n_splits, On= True):\n",
    "    \"\"\"\n",
    "    Does k-fold cross validation and reports the predictions from the model used \n",
    "\n",
    "    Parameters\n",
    "    ----------\n",
    "    estimator : object, the ML model we want to use\n",
    "    \n",
    "    features : array-like or sparse matrix, shape (n_samples, n_features)\n",
    "\n",
    "    target : array_like, shape (n_targets)\n",
    "\n",
    "    n_splits : int, the number of splits \n",
    "    \n",
    "    On : bool, True or False. By default, set to True. Determines whether we \n",
    "         shuffle our data before performing splits and scoring. \n",
    "\n",
    "    Returns\n",
    "    -------\n",
    "    result : Array-like, the predictions\n",
    "    \"\"\"\n",
    "    \n",
    "    # This functions does two things: checks the type of features/target, and generates\n",
    "    # 'k' test/train splits using a generator function.\n",
    "    def kfold_split(features, target, n_splits, On):\n",
    "        \n",
    "        # generator function used to generate 'k' test/train splits.\n",
    "        def dataset_generator():\n",
    "            for train_index, test_index in KFold(n_splits, shuffle= On).split(features):\n",
    "                features_train, features_test = features[train_index], features[test_index]\n",
    "                target_train, target_test = target[train_index], target[test_index]\n",
    "                yield np.array([features_train, features_test, target_train, target_test])\n",
    "\n",
    "        # I normally use pandas dataframes to visualize data in tabular format\n",
    "        # but the below tensorflow and numpy methods work best using number arrays\n",
    "        # so the conditional statement below checks the type of the object in question\n",
    "        # if the object I use is a pandas dataframe then it converts it to a numpy array\n",
    "        # before reshaping, else it just reshapes the object in question \n",
    "        # (assume numpy, scipy array type).\n",
    "        if str(type(features)) == \"<class 'pandas.core.series.Series'>\":\n",
    "            # Converts pandas dataframe to numpy array\n",
    "            features = features.to_numpy().reshape(features.shape[0], 1)\n",
    "            target = target.to_numpy().reshape(features.shape[0], 1)\n",
    "        else:\n",
    "            # redefines the shape\n",
    "            features = features.reshape(features.shape[0], 1)\n",
    "            target = target.reshape(features.shape[0], 1)\n",
    "\n",
    "        return dataset_generator()\n",
    "    \n",
    "    # assigns generator to variable\n",
    "    dataSplitter = kfold_split(features_DSH, Target_DSH, n_splits, On)\n",
    "    \n",
    "    # empty container to store results\n",
    "    container = []\n",
    "    \n",
    "    # loop used to create the test/train splits, fit each split, find RMSE, then appends\n",
    "    # result to empty container\n",
    "    for i in range(n_splits):\n",
    "        features_train, features_test, target_train, target_test = next(dataSplitter)\n",
    "        estimator.fit(features_train, target_train)\n",
    "        container.append(estimator.predict(features_test))\n",
    "    \n",
    "    # reshapes the container to mimic shape of original target\n",
    "    reshaper = estimator.predict(features_test).shape[0] * n_splits    \n",
    "    \n",
    "    return np.array(container).reshape(reshaper,1)"
   ]
  },
  {
   "cell_type": "code",
   "execution_count": 24,
   "metadata": {
    "scrolled": true
   },
   "outputs": [
    {
     "name": "stdout",
     "output_type": "stream",
     "text": [
      "\n",
      "First 10 predicted \"y\" values of the 100 instances, \"x\": \n",
      " \n",
      "[[51.43802312]\n",
      " [79.34461344]\n",
      " [90.15218385]\n",
      " [71.40764797]\n",
      " [87.86205026]\n",
      " [81.63239205]\n",
      " [77.72417907]\n",
      " [60.50336028]\n",
      " [72.24707065]\n",
      " [78.17525426]] \n",
      "\n"
     ]
    }
   ],
   "source": [
    "predictions_TF = predictor(estimator_, features_DSH, Target_DSH, numSplits, False)[:10]\n",
    "print('\\nFirst 10 predicted \"y\" values of the 100 instances, \"x\": \\n \\n{} \\n'.format(predictions_TF))"
   ]
  },
  {
   "cell_type": "markdown",
   "metadata": {},
   "source": [
    "* **Refer to the [Visualizations](#Visualizations:) section to see the visualizations of the model. Tensorflow and Scikit-Learn results are the same.**\n",
    "\n",
    "\n",
    "### Gradient Descent via Tensorflow\n",
    "\n",
    "| [Back to Contents](#Contents) |  | [Tensorflow Gradient Descent Class](#Tensorflow-Gradient-Descent-Class:) | [Train/Test Split Validation Strategy](#Train/Test-Split-Validation-Strategy:) | [$k$-fold Cross Validation](#K-fold-Cross-Validation:) | [Measuring Performance](#Performance-Measure:) | [Visualizations](#Visualizations-of-Gradient-Descent) |\n",
    "\n",
    "* First, we'll implement the Gradient Descent Model via Tensorflow \n",
    "* We'll examine the model performance by looking at the RMSE\n",
    "* Finally, we'll plot a visualization of the model against the data points"
   ]
  },
  {
   "cell_type": "code",
   "execution_count": null,
   "metadata": {},
   "outputs": [],
   "source": []
  },
  {
   "cell_type": "markdown",
   "metadata": {},
   "source": [
    "##### Tensorflow Gradient Descent Class:\n",
    "\n",
    "* Before we implement the model, we'll go over some of the math and concepts behind the model.\n",
    "* \n",
    "\n",
    "| [Back to Contents](#Contents) |  | [Tensorflow Gradient Descent Class](#Tensorflow-Gradient-Descent-Class:) | [Train/Test Split Validation Strategy](#Train/Test-Split-Validation-Strategy:) | [$k$-fold Cross Validation](#K-fold-Cross-Validation:) | [Measuring Performance](#Performance-Measure:) | [Visualizations](#Visualizations-of-Gradient-Descent) |"
   ]
  },
  {
   "cell_type": "code",
   "execution_count": null,
   "metadata": {},
   "outputs": [],
   "source": []
  }
 ],
 "metadata": {
  "kernelspec": {
   "display_name": "Programming_Practice",
   "language": "python",
   "name": "programming_practice"
  },
  "language_info": {
   "codemirror_mode": {
    "name": "ipython",
    "version": 3
   },
   "file_extension": ".py",
   "mimetype": "text/x-python",
   "name": "python",
   "nbconvert_exporter": "python",
   "pygments_lexer": "ipython3",
   "version": "3.6.7"
  }
 },
 "nbformat": 4,
 "nbformat_minor": 2
}
