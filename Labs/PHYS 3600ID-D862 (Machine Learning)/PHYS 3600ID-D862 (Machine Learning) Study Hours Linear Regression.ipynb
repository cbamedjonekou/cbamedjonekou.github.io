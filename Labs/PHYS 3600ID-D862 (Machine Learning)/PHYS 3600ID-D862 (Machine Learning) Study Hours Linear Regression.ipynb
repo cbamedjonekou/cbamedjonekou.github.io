{
 "cells": [
  {
   "cell_type": "markdown",
   "metadata": {},
   "source": [
    "**Name: Christ-Brian Amedjonekou**  \n",
    "**Date: 04/16/2019**  \n",
    "**PHYS 3600ID-D862 (Machine Learning) Study Hours Linear Regression**  \n",
    "**Spring 2019, Section: D862, Code: 37026**  \n",
    "**Instructor: Viviana Acquaviva**"
   ]
  },
  {
   "cell_type": "markdown",
   "metadata": {},
   "source": [
    "### Abstract"
   ]
  },
  {
   "cell_type": "markdown",
   "metadata": {},
   "source": [
    "Here, we use the Study Hours Dataset. It's a simple dataset which we'll use to illustrate the Linear Regression | Gradient Descent Models. The Study Hours Dataset contains one feature vector (amount of hours studied) and one target vector (scores on the exam), both of which are continuous, so Regression seems appropriate here. Since the dataset is simple we expect it to be clean, so no preprosessing is necessary. First, we'll create a Linear Regression Model from scratch, then we'll use both Tensorflow and Scikit-Learn implementations. Then, we'll evaluate the model's performance, find/tune the hyperparameters, and the provide visualizations of our results.\n",
    "\n",
    "#### Contents:\n",
    "\n",
    "1. [Data Exploration](#Data-Exploration)"
   ]
  },
  {
   "cell_type": "markdown",
   "metadata": {},
   "source": [
    "### Packages   "
   ]
  },
  {
   "cell_type": "code",
   "execution_count": 2,
   "metadata": {},
   "outputs": [],
   "source": [
    "import numpy as np\n",
    "import pandas as pd\n",
    "import matplotlib.pyplot as plt\n",
    "from sklearn.linear_model import LogisticRegression\n",
    "from sklearn.linear_model import LinearRegression\n",
    "from sklearn.model_selection import train_test_split\n",
    "from sklearn.model_selection import StratifiedKFold\n",
    "from sklearn import metrics\n",
    "from sklearn.model_selection import cross_val_score, cross_val_predict\n",
    "%matplotlib inline"
   ]
  },
  {
   "cell_type": "markdown",
   "metadata": {},
   "source": [
    "### Data Exploration"
   ]
  },
  {
   "cell_type": "markdown",
   "metadata": {},
   "source": [
    "* We import and label out dataset."
   ]
  },
  {
   "cell_type": "code",
   "execution_count": 3,
   "metadata": {},
   "outputs": [],
   "source": [
    "DSH_df = pd.read_csv('Datasets/data_students_hours.csv', names= ['Feature', 'Labels'])\n",
    "features_DSH = np.array(DSH_df['Feature'])\n",
    "labels_DSH = np.array(DSH_df['Labels'])"
   ]
  },
  {
   "cell_type": "markdown",
   "metadata": {},
   "source": [
    "8 \\. In the linear regression notebook, we went through an example and calculated the model coefficients of a linear regression model applied to these data. In the plot of the best fit line, what is the meaning of m and b?\n",
    "\n",
    "* **'m' represents the slope of the best fit line, while 'b' is a representation of the intercept of the best fit line. These weights/parameters are approximated by the LinearRegression() model**"
   ]
  },
  {
   "cell_type": "code",
   "execution_count": 13,
   "metadata": {},
   "outputs": [],
   "source": [
    "# 5-fold cross validation predictions\n",
    "predict_Linear = cross_val_predict(linearModel, features_DSH.reshape(-1,1), labels_DSH, cv= 5)"
   ]
  },
  {
   "cell_type": "code",
   "execution_count": 14,
   "metadata": {},
   "outputs": [
    {
     "name": "stdout",
     "output_type": "stream",
     "text": [
      "$R^2$ scores: 0.5782980814154777\n"
     ]
    },
    {
     "data": {
      "text/plain": [
       "Text(0, 0.5, 'F(Features)')"
      ]
     },
     "execution_count": 14,
     "metadata": {},
     "output_type": "execute_result"
    },
    {
     "data": {
      "image/png": "[encoded data removed]",
      "text/plain": [
       "<Figure size 432x288 with 1 Axes>"
      ]
     },
     "metadata": {
      "needs_background": "light"
     },
     "output_type": "display_data"
    }
   ],
   "source": [
    "# plotting the points in a scatter plot\n",
    "plt.scatter(features_DSH, labels_DSH,marker='*',color = 'm');\n",
    "\n",
    "print('$R^2$ scores:',metrics.r2_score(labels_DSH, predict_Linear))\n",
    "\n",
    "# fitting the model \n",
    "linearModel.fit(features_DSH.reshape(-1,1), labels_DSH)\n",
    "plt.plot(features_DSH, linearModel.coef_* features_DSH + linearModel.intercept_, color = 'k')\n",
    "plt.title('Linear Regression Model')\n",
    "plt.xlabel('Features')\n",
    "plt.ylabel('F(Features)')"
   ]
  },
  {
   "cell_type": "markdown",
   "metadata": {},
   "source": [
    "9\\. However these can also be calculated by hand using the formulas on the linear regression slides. Code up the formulas below and report your coefficients for slope and intercept.\n",
    "\n",
    "$$S S_{xy} = \\sum x_i y_i - \\frac{(\\sum x_i \\sum y_i)}{n}$$\n",
    "\n",
    "$$S S_{xx} = \\sum x_i^2 - \\frac{(\\sum x_i)^2}{n}$$\n",
    "\n",
    "$$m = \\frac{S S_{xy}}{S S_{xx}}$$\n",
    "\n",
    "$$b = \\bar{y} - m * \\bar{x}$$\n",
    "\n",
    "$$\\text{where } n = \\text{ number of points and the overhead bar represent the mean.}$$\n",
    "\n"
   ]
  },
  {
   "cell_type": "code",
   "execution_count": 15,
   "metadata": {},
   "outputs": [],
   "source": [
    "def ssXY(x, y):\n",
    "    \"\"\"Calculates the Sum of Squares for 'x' and 'y'.\"\"\"\n",
    "    n = y.size\n",
    "    return sum(x*y) - ((sum(x)*sum(y))/n)\n",
    "\n",
    "    \n",
    "def ssXX(x):\n",
    "    \"\"\"Calculates the Sum of Squares for 'x'.\"\"\"\n",
    "    n = x.size\n",
    "    return sum(x*x) - ((sum(x)*sum(x))/n)"
   ]
  },
  {
   "cell_type": "code",
   "execution_count": 16,
   "metadata": {},
   "outputs": [],
   "source": [
    "slope = ssXY(features_DSH, labels_DSH)/ssXX(features_DSH)\n",
    "intercept = labels_DSH.mean() - slope * features_DSH.mean()"
   ]
  },
  {
   "cell_type": "code",
   "execution_count": 17,
   "metadata": {
    "scrolled": true
   },
   "outputs": [
    {
     "name": "stdout",
     "output_type": "stream",
     "text": [
      "The slope is: 1.3224310227553753 and the intercept is: 7.991020982269632\n"
     ]
    }
   ],
   "source": [
    "print('The slope is: {1} and the intercept is: {0}'.format(intercept, slope))"
   ]
  },
  {
   "cell_type": "code",
   "execution_count": 18,
   "metadata": {},
   "outputs": [
    {
     "name": "stdout",
     "output_type": "stream",
     "text": [
      "$R^2$ scores: 0.5782980814154777\n"
     ]
    },
    {
     "data": {
      "text/plain": [
       "Text(0, 0.5, 'F(Features)')"
      ]
     },
     "execution_count": 18,
     "metadata": {},
     "output_type": "execute_result"
    },
    {
     "data": {
      "image/png": "[encoded data removed]",
      "text/plain": [
       "<Figure size 432x288 with 1 Axes>"
      ]
     },
     "metadata": {
      "needs_background": "light"
     },
     "output_type": "display_data"
    }
   ],
   "source": [
    "# plotting the points in a scatter plot\n",
    "plt.scatter(features_DSH, labels_DSH,marker='*',color = 'm');\n",
    "\n",
    "print('$R^2$ scores:',metrics.r2_score(labels_DSH, predict_Linear))\n",
    "\n",
    "# fitting the model \n",
    "plt.plot(features_DSH, slope* features_DSH + intercept, color = 'k')\n",
    "plt.title('Linear Regression Model')\n",
    "plt.xlabel('Features')\n",
    "plt.ylabel('F(Features)')"
   ]
  },
  {
   "cell_type": "markdown",
   "metadata": {},
   "source": [
    "10\\. Looking at the data (hours vs scores), do you think it would make sense to fit these data using a logistic regression model? Why or why not?\n",
    "\n",
    "* **Based on the label data below, Logistic Regression would not be ideal at all. Tt would not make sense to fit this data using a logistic regression model. The reason is because we don't have or expect categorical predictions. Specically, I mean that the target vector ```labels_DSH ``` isn't categorical (n true/false, yes/no, up/down, etc). Check ```labels_DSH[:20] ```**"
   ]
  },
  {
   "cell_type": "code",
   "execution_count": 19,
   "metadata": {},
   "outputs": [
    {
     "data": {
      "text/plain": [
       "array([31.70700585, 68.77759598, 62.5623823 , 71.54663223, 87.23092513,\n",
       "       78.21151827, 79.64197305, 59.17148932, 75.3312423 , 71.30087989,\n",
       "       55.16567715, 82.47884676, 62.00892325, 75.39287043, 81.43619216,\n",
       "       60.72360244, 82.89250373, 97.37989686, 48.84715332, 56.87721319])"
      ]
     },
     "execution_count": 19,
     "metadata": {},
     "output_type": "execute_result"
    }
   ],
   "source": [
    "labels_DSH[:20]"
   ]
  },
  {
   "cell_type": "markdown",
   "metadata": {},
   "source": [
    "Extra credit: Run the gradient descent notebook and report the coefficients you found here. Calculate the cost function (found in the linear regression notebook) for the slope, intercept values you found with the gradient descent method and the values you found above, using the formulas. Which set of values is best? "
   ]
  }
 ],
 "metadata": {
  "kernelspec": {
   "display_name": "Python 3",
   "language": "python",
   "name": "python3"
  },
  "language_info": {
   "codemirror_mode": {
    "name": "ipython",
    "version": 3
   },
   "file_extension": ".py",
   "mimetype": "text/x-python",
   "name": "python",
   "nbconvert_exporter": "python",
   "pygments_lexer": "ipython3",
   "version": "3.6.7"
  }
 },
 "nbformat": 4,
 "nbformat_minor": 2
}
