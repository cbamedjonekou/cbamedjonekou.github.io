{
 "cells": [
  {
   "cell_type": "markdown",
   "metadata": {},
   "source": [
    "**Name: Christ-Brian Amedjonekou**  \n",
    "**Date: 2/25/2019**  \n",
    "**PHYS 3600ID-D862 (Machine Learning) HW 2**  \n",
    "**Spring 2019, Section: D862, Code: 37026**  \n",
    "**Instructor: Viviana Acquaviva**\n",
    "\n",
    "\n",
    "***I certify that my work is my own.***"
   ]
  },
  {
   "cell_type": "markdown",
   "metadata": {},
   "source": [
    "## Packages"
   ]
  },
  {
   "cell_type": "code",
   "execution_count": 1,
   "metadata": {},
   "outputs": [],
   "source": [
    "import numpy as np\n",
    "import pandas as pd\n",
    "from matplotlib import pyplot as plt\n",
    "import scipy as sci\n",
    "import seaborn as sns\n",
    "import math as m"
   ]
  },
  {
   "cell_type": "markdown",
   "metadata": {},
   "source": [
    "## Tasks"
   ]
  },
  {
   "cell_type": "markdown",
   "metadata": {},
   "source": [
    "The worksheet is organized as a series of tasks. You can edit this notebook directly by adding code (and comment) cells to perform these tasks. You will need to import packages, even if this is not explicitly requested.\n",
    "\n",
    "One function from a package that we haven't mentioned so far but you might need is scipy.integrate (numerical integration)."
   ]
  },
  {
   "cell_type": "markdown",
   "metadata": {
    "collapsed": true
   },
   "source": [
    "#### Task 1: import the data from the file sn_data.txt\n",
    "\n",
    "This data set contains three columns. \n",
    "\n",
    "The first one is the redshift of the supernovae. Redshift is a measure of the velocity at which supernovae are moving away from us. Redshift = 0 means no motion, increasing values represent increasing velocity. Redshift has no units.\n",
    "\n",
    "The second column is the distance of the supernovae, expressed in the units of Mpc (megaparsec). Mega = 1 Million; 1 parsec (pc) = 3.26 light years.\n",
    "\n",
    "The third column contains the error on the distance (let's call it sigma(d)), again expressed in Mpc."
   ]
  },
  {
   "cell_type": "code",
   "execution_count": 2,
   "metadata": {},
   "outputs": [
    {
     "data": {
      "text/html": [
       "<div>\n",
       "<style scoped>\n",
       "    .dataframe tbody tr th:only-of-type {\n",
       "        vertical-align: middle;\n",
       "    }\n",
       "\n",
       "    .dataframe tbody tr th {\n",
       "        vertical-align: top;\n",
       "    }\n",
       "\n",
       "    .dataframe thead th {\n",
       "        text-align: right;\n",
       "    }\n",
       "</style>\n",
       "<table border=\"1\" class=\"dataframe\">\n",
       "  <thead>\n",
       "    <tr style=\"text-align: right;\">\n",
       "      <th></th>\n",
       "      <th>#z</th>\n",
       "      <th>d</th>\n",
       "      <th>d_err</th>\n",
       "    </tr>\n",
       "  </thead>\n",
       "  <tbody>\n",
       "    <tr>\n",
       "      <th>0</th>\n",
       "      <td>0.010</td>\n",
       "      <td>51.5229</td>\n",
       "      <td>8.77905</td>\n",
       "    </tr>\n",
       "    <tr>\n",
       "      <th>1</th>\n",
       "      <td>0.010</td>\n",
       "      <td>43.6516</td>\n",
       "      <td>7.63887</td>\n",
       "    </tr>\n",
       "    <tr>\n",
       "      <th>2</th>\n",
       "      <td>0.010</td>\n",
       "      <td>55.4626</td>\n",
       "      <td>9.96117</td>\n",
       "    </tr>\n",
       "    <tr>\n",
       "      <th>3</th>\n",
       "      <td>0.013</td>\n",
       "      <td>63.6796</td>\n",
       "      <td>9.09091</td>\n",
       "    </tr>\n",
       "    <tr>\n",
       "      <th>4</th>\n",
       "      <td>0.013</td>\n",
       "      <td>55.7186</td>\n",
       "      <td>7.69781</td>\n",
       "    </tr>\n",
       "    <tr>\n",
       "      <th>5</th>\n",
       "      <td>0.014</td>\n",
       "      <td>66.9885</td>\n",
       "      <td>8.94630</td>\n",
       "    </tr>\n",
       "    <tr>\n",
       "      <th>6</th>\n",
       "      <td>0.014</td>\n",
       "      <td>66.6807</td>\n",
       "      <td>8.90520</td>\n",
       "    </tr>\n",
       "    <tr>\n",
       "      <th>7</th>\n",
       "      <td>0.014</td>\n",
       "      <td>76.9130</td>\n",
       "      <td>10.27170</td>\n",
       "    </tr>\n",
       "    <tr>\n",
       "      <th>8</th>\n",
       "      <td>0.015</td>\n",
       "      <td>82.4138</td>\n",
       "      <td>10.62680</td>\n",
       "    </tr>\n",
       "    <tr>\n",
       "      <th>9</th>\n",
       "      <td>0.016</td>\n",
       "      <td>80.5378</td>\n",
       "      <td>10.01400</td>\n",
       "    </tr>\n",
       "  </tbody>\n",
       "</table>\n",
       "</div>"
      ],
      "text/plain": [
       "      #z        d     d_err\n",
       "0  0.010  51.5229   8.77905\n",
       "1  0.010  43.6516   7.63887\n",
       "2  0.010  55.4626   9.96117\n",
       "3  0.013  63.6796   9.09091\n",
       "4  0.013  55.7186   7.69781\n",
       "5  0.014  66.9885   8.94630\n",
       "6  0.014  66.6807   8.90520\n",
       "7  0.014  76.9130  10.27170\n",
       "8  0.015  82.4138  10.62680\n",
       "9  0.016  80.5378  10.01400"
      ]
     },
     "execution_count": 2,
     "metadata": {},
     "output_type": "execute_result"
    }
   ],
   "source": [
    "# my\n",
    "supernova = pd.read_excel('Datasets/sn_data.xlsx')\n",
    "supernova.head(10)"
   ]
  },
  {
   "cell_type": "code",
   "execution_count": 3,
   "metadata": {},
   "outputs": [
    {
     "data": {
      "text/html": [
       "<div>\n",
       "<style scoped>\n",
       "    .dataframe tbody tr th:only-of-type {\n",
       "        vertical-align: middle;\n",
       "    }\n",
       "\n",
       "    .dataframe tbody tr th {\n",
       "        vertical-align: top;\n",
       "    }\n",
       "\n",
       "    .dataframe thead th {\n",
       "        text-align: right;\n",
       "    }\n",
       "</style>\n",
       "<table border=\"1\" class=\"dataframe\">\n",
       "  <thead>\n",
       "    <tr style=\"text-align: right;\">\n",
       "      <th></th>\n",
       "      <th>#z</th>\n",
       "      <th>d</th>\n",
       "      <th>d_err</th>\n",
       "    </tr>\n",
       "  </thead>\n",
       "  <tbody>\n",
       "    <tr>\n",
       "      <th>201</th>\n",
       "      <td>1.305</td>\n",
       "      <td>7979.95</td>\n",
       "      <td>1102.470</td>\n",
       "    </tr>\n",
       "    <tr>\n",
       "      <th>202</th>\n",
       "      <td>1.340</td>\n",
       "      <td>9638.29</td>\n",
       "      <td>1375.960</td>\n",
       "    </tr>\n",
       "    <tr>\n",
       "      <th>203</th>\n",
       "      <td>1.370</td>\n",
       "      <td>11117.30</td>\n",
       "      <td>1279.930</td>\n",
       "    </tr>\n",
       "    <tr>\n",
       "      <th>204</th>\n",
       "      <td>1.390</td>\n",
       "      <td>9549.93</td>\n",
       "      <td>835.602</td>\n",
       "    </tr>\n",
       "    <tr>\n",
       "      <th>205</th>\n",
       "      <td>1.755</td>\n",
       "      <td>11749.00</td>\n",
       "      <td>1893.710</td>\n",
       "    </tr>\n",
       "  </tbody>\n",
       "</table>\n",
       "</div>"
      ],
      "text/plain": [
       "        #z         d     d_err\n",
       "201  1.305   7979.95  1102.470\n",
       "202  1.340   9638.29  1375.960\n",
       "203  1.370  11117.30  1279.930\n",
       "204  1.390   9549.93   835.602\n",
       "205  1.755  11749.00  1893.710"
      ]
     },
     "execution_count": 3,
     "metadata": {},
     "output_type": "execute_result"
    }
   ],
   "source": [
    "supernova.tail(5)"
   ]
  },
  {
   "cell_type": "markdown",
   "metadata": {},
   "source": [
    "#### Task 2: Make an errorbar plot of this data set.\n",
    "\n",
    "Place redshift (z) on the x axis, distance on the y axis, and sigma(d) as the error on the distance. Add labels to the axes and don't forget the units."
   ]
  },
  {
   "cell_type": "code",
   "execution_count": 4,
   "metadata": {},
   "outputs": [
    {
     "data": {
      "image/png": "[encoded data removed]",
      "text/plain": [
       "<Figure size 432x288 with 1 Axes>"
      ]
     },
     "metadata": {
      "needs_background": "light"
     },
     "output_type": "display_data"
    }
   ],
   "source": [
    "x, y, yerr = supernova['#z'], supernova['d'], supernova['d_err']\n",
    "fig, ax1 = plt.figure(), plt.subplot()\n",
    "ax1.errorbar(x, y, yerr, marker= '.', ls= 'None')\n",
    "ax1.set(xlabel= 'Redshift (Z)', ylabel= 'Distance (Light Years)', title= 'Red Shift vs. Distance');"
   ]
  },
  {
   "cell_type": "markdown",
   "metadata": {},
   "source": [
    "#### A few words on our model\n",
    "\n",
    "The plot that you just made just shows the data. Now what we want to do is to build different models for the distance of these supernovae, and then choose the model that works best.\n",
    "\n",
    "Our model for the distance (called \"Luminosity Distance\" by physicists) is a function of different parameters: \n",
    "\n",
    "- z (the redshift) is the independent variable; in other words, our model for the distance will return a distance for any redshift value.\n",
    "\n",
    "- Omegam is the percentage of matter in the Universe, and it's a number between 0 and 1;\n",
    "\n",
    "- OmegaDE is the percentage of Dark Energy in the Universe; we can assume that Omegam + OmegaDE = 1 (so the Universe only contains matter and dark energy), which simplifies our model a little bit, because we can write OmegaDE = 1 - Omegam;\n",
    "\n",
    "- H0 is the Hubble constant, which gives the current rate of expansion of the Universe; we will fix it in the beginning to be = 70 km/s/Mpc;\n",
    "\n",
    "- c is the speed of light in km/s; c = 2.99 x 10**5. This is a constant of nature so we won't need to change it.\n",
    "\n",
    "Here comes our model:"
   ]
  },
  {
   "cell_type": "markdown",
   "metadata": {},
   "source": [
    "\n",
    "\\begin{align}\n",
    "D_L(z,\\Omega_m, H_0, c) = \\,(1+z) \\frac{c}{H_0}\\int_0^z \\frac{dx}{\\sqrt{\\Omega_m(1+x)^3 + \\Omega_{DE}}} \n",
    "\\end{align}"
   ]
  },
  {
   "cell_type": "markdown",
   "metadata": {},
   "source": [
    "#### Task 3: Complete this function definition.\n",
    "\n",
    "Notes: \n",
    "\n",
    "1. Omega_DE is not a parameter of the function, so make sure you write your function as a function of Omega_m only.\n",
    "\n",
    "2. It might be easier to first define a function for the integrand\n",
    "       \n",
    "3. You might find useful to invoke the scipy.integrate.quad function of the scipy package and to look at the examples here\n",
    "       \n",
    "https://docs.scipy.org/doc/scipy-0.18.1/reference/tutorial/integrate.html\n",
    "\n",
    "       \n",
    "def LumDist(z, Omegam = 0.7, H0 = 70, ckms = 2.9979 $\\times 10^5$) :\n",
    "\n",
    "    ###write the function here\n"
   ]
  },
  {
   "cell_type": "code",
   "execution_count": 5,
   "metadata": {},
   "outputs": [],
   "source": [
    "def LumDist(z, omega_m= 0.7, H_0= 70, c_km_s= 2.9979*m.pow(10, 5)):\n",
    "    \"\"\"Calculates the Luminosity Distance\"\"\"\n",
    "    # sci.integrate.quad(integrand, 0, z)[1] is the error\n",
    "    constant = (1 + z)*(c_km_s/H_0)\n",
    "    integrand = lambda x: 1/m.sqrt(omega_m * m.pow(1 + x, 3) + (1 - omega_m))\n",
    "    return constant * sci.integrate.quad(integrand, 0, z)[0] "
   ]
  },
  {
   "cell_type": "markdown",
   "metadata": {},
   "source": [
    "#### Task 4\n",
    "\n",
    "1. Answer the questions: What are the arguments of the LumDist function? Which ones have default values?\n",
    "\n",
    "    * **z (redshift), omega_m (the percentage of matter in the Universe), H_0 is the Hubble constant (the current rate of expansion of the Universe), c (the speed of light in km/s).**\n",
    "    $$\\space$$\n",
    "    * **omega_m (the percentage of matter in the Universe), H_0 is the Hubble constant (the current rate of expansion of the Universe), c (the speed of light in km/s) have default values.**\n",
    "    $$\\space$$\n",
    "2. Check that LumDist(1) ~ 5512 and LumDist(0.5) ~ 2522"
   ]
  },
  {
   "cell_type": "code",
   "execution_count": 6,
   "metadata": {},
   "outputs": [
    {
     "data": {
      "text/plain": [
       "5512.274175117096"
      ]
     },
     "execution_count": 6,
     "metadata": {},
     "output_type": "execute_result"
    }
   ],
   "source": [
    "LumDist(1)"
   ]
  },
  {
   "cell_type": "code",
   "execution_count": 7,
   "metadata": {
    "scrolled": true
   },
   "outputs": [
    {
     "data": {
      "text/plain": [
       "2521.9714288948917"
      ]
     },
     "execution_count": 7,
     "metadata": {},
     "output_type": "execute_result"
    }
   ],
   "source": [
    "LumDist(0.5)"
   ]
  },
  {
   "cell_type": "markdown",
   "metadata": {},
   "source": [
    "#### Task 5\n",
    "\n",
    "Vectorize the function so we can give it a 1D array of redshifts as input. Check that it works by \n",
    "defining a numpy array as the first column of your supernova data and feeding it to your function."
   ]
  },
  {
   "cell_type": "code",
   "execution_count": 8,
   "metadata": {},
   "outputs": [
    {
     "data": {
      "text/plain": [
       "array([43.02919451, 43.02919451, 43.02919451, 56.01606079, 56.01606079,\n",
       "       60.35295154, 60.35295154, 60.35295154, 64.69379657, 69.03858787,\n",
       "       69.03858787])"
      ]
     },
     "execution_count": 8,
     "metadata": {},
     "output_type": "execute_result"
    }
   ],
   "source": [
    "LumDist_vectorized = np.vectorize(LumDist)\n",
    "LumDist_vectorized(supernova['#z'])[0:11]"
   ]
  },
  {
   "cell_type": "markdown",
   "metadata": {},
   "source": [
    "#### Task 6\n",
    "\n",
    "Plot the data with error bars as before, and then the luminosity distance values for the supernovae predicted by these three models:\n",
    "    \n",
    "Model 1: Omega_m = 0 \n",
    "    \n",
    "Model 2: Omega_m = 0.3\n",
    "    \n",
    "Model 3: Omega_m = 1\n",
    "\n",
    "Make sure you add labels for all the models.\n",
    "    \n"
   ]
  },
  {
   "cell_type": "code",
   "execution_count": 9,
   "metadata": {},
   "outputs": [
    {
     "data": {
      "image/png": "[encoded data removed]",
      "text/plain": [
       "<Figure size 432x288 with 1 Axes>"
      ]
     },
     "metadata": {
      "needs_background": "light"
     },
     "output_type": "display_data"
    }
   ],
   "source": [
    "fig, ax1 = plt.figure(), plt.subplot()\n",
    "ax1.errorbar(x, y, yerr, marker= '.', ls= 'None', label= 'Error')\n",
    "ax1.plot(x, LumDist_vectorized(supernova['#z'], omega_m= 0), c= 'b', lw= 2, label= 'Omega_m = 0')\n",
    "ax1.plot(x, LumDist_vectorized(supernova['#z'], omega_m= 0.3), c= 'r', lw= 2, label= 'Omega_m = 0.3')\n",
    "ax1.plot(x, LumDist_vectorized(supernova['#z'], omega_m= 1), c= 'g', lw= 2, label= 'Omega_m = 1')\n",
    "ax1.set(xlabel= 'Redshift (Z)', ylabel= 'Distance (Light Years)', title= 'Red Shift vs. Distance');\n",
    "ax1.legend()\n",
    "ax1.grid(True)"
   ]
  },
  {
   "cell_type": "markdown",
   "metadata": {
    "collapsed": true
   },
   "source": [
    "#### Task 7\n",
    "\n",
    "Answer the following questions:\n",
    "\n",
    "1. What are the Omega_DE values for the above models? Which model contains no Dark Energy at all?\n",
    "\n",
    "    * when $\\Omega_m = 0; \\space \\Omega_{DE} = 1 - \\Omega_m = 1$, indicating there's only Dark Energy.\n",
    "    * when $\\Omega_m = 0.3; \\space \\Omega_{DE} = 1 - \\Omega_m = 0.7$, indicating there's $0.7$ Dark Energy.\n",
    "    * when $\\Omega_m = 1; \\space \\Omega_{DE} = 1 - \\Omega_m = 0$, indicating there's no Dark Energy.\n",
    "    * Model $\\Omega_m = 1$ contains no Dark Energy at all.\n",
    "    $$\\space$$\n",
    "2. Just judging by eye, which model seems to be the best fit to the data and why?\n",
    "\n",
    "    * $\\Omega_m = 0.3; \\space \\Omega_{DE} = 1 - \\Omega_m = 0.7$, is the model that seems to be the best fit to the data as it hits the majority of points. "
   ]
  },
  {
   "cell_type": "markdown",
   "metadata": {},
   "source": [
    "#### Task 8\n",
    "\n",
    "It is now time to define a proper function to judge whether these models are good fit to the data. This is done through the $\\chi^2$ function that we mentioned in the \"Fit a line\" worksheet.\n",
    "\n",
    "Complete the following function:\n",
    "\n",
    "def chi2(x,x_err,y): \n",
    "\n",
    "    Write a function that computes the chi2 between a vector containing measurements (x) and their experimental errors (x_err), with respect to a vector of model predictions y \n",
    "\n",
    "   "
   ]
  },
  {
   "cell_type": "code",
   "execution_count": 10,
   "metadata": {},
   "outputs": [],
   "source": [
    "def model(x,m,b):\n",
    "    return m*x+b #straight line\n",
    "\n",
    "def chi2(m,b,x,y,err):\n",
    "    \"\"\"computes the chi2 between a vector containing measurements (x) \n",
    "    and their experimental errors (x_err), with respect to a vector \n",
    "    of model predictions y \"\"\"\n",
    "    return np.sum(((model(x,m,b) - y)**2)/err**2)"
   ]
  },
  {
   "cell_type": "markdown",
   "metadata": {},
   "source": [
    "#### Task 9\n",
    "\n",
    "Calculate the $\\chi^2$ of the model with Omega_m = 0.3. \n",
    "    \n",
    "(Hint: your \"y\" vector is the vector of luminosity distances for all the supernovae)"
   ]
  },
  {
   "cell_type": "code",
   "execution_count": 17,
   "metadata": {},
   "outputs": [
    {
     "data": {
      "text/plain": [
       "308.1221776880534"
      ]
     },
     "execution_count": 17,
     "metadata": {},
     "output_type": "execute_result"
    }
   ],
   "source": [
    "chi2(1, 0, supernova['d'], LumDist_vectorized(supernova['#z'], omega_m= 0.3), yerr)"
   ]
  },
  {
   "cell_type": "markdown",
   "metadata": {},
   "source": [
    "#### Task 10\n",
    "\n",
    "And now the magic begins!\n",
    "\n",
    "1. Calculate and save the $\\chi^2$ values for different models with values of Omega_m between 0 and 1, spaced every 0.05.\n",
    "\n",
    "2. Create a scatter plot that has the values of Omega_m on the x axis, and the value of the $\\chi^2$ on the y axis."
   ]
  },
  {
   "cell_type": "code",
   "execution_count": 20,
   "metadata": {},
   "outputs": [
    {
     "data": {
      "text/plain": [
       "array([ 447.81951104,  312.94109452,  254.30626851,  237.20959594,\n",
       "        245.73655416,  271.14400378,  308.12217769,  353.22912659,\n",
       "        404.12843292,  459.17881165,  517.19650109,  577.30986224,\n",
       "        638.86642538,  701.37131864,  764.4452659 ,  827.79521495,\n",
       "        891.19335824,  954.4618712 , 1017.46163137, 1080.08376209])"
      ]
     },
     "execution_count": 20,
     "metadata": {},
     "output_type": "execute_result"
    }
   ],
   "source": [
    "allchi2 = np.array([chi2(1,0,supernova['d'],LumDist_vectorized(supernova['#z'], omega_m= number),yerr) for number in np.arange(0, 1, 0.05)])\n",
    "allchi2\n"
   ]
  },
  {
   "cell_type": "code",
   "execution_count": 21,
   "metadata": {},
   "outputs": [
    {
     "data": {
      "image/png": "[encoded data removed]",
      "text/plain": [
       "<Figure size 432x288 with 1 Axes>"
      ]
     },
     "metadata": {
      "needs_background": "light"
     },
     "output_type": "display_data"
    }
   ],
   "source": [
    "omegaM = np.arange(0, 1, 0.05)\n",
    "fig; ax2 = plt.subplot()\n",
    "ax2.scatter(omegaM, allchi2, c='r')\n",
    "ax2.set(xlabel= 'Omega_M', ylabel= '$\\chi^2$', title= 'Omega_M vs. $\\chi^2$');"
   ]
  },
  {
   "cell_type": "markdown",
   "metadata": {},
   "source": [
    "#### Task 11\n",
    "\n",
    "Find the model with the lowest $\\chi^2$ and answer the questions:\n",
    "\n",
    "* shown below:"
   ]
  },
  {
   "cell_type": "code",
   "execution_count": 22,
   "metadata": {},
   "outputs": [
    {
     "data": {
      "text/plain": [
       "237.20959594170736"
      ]
     },
     "execution_count": 22,
     "metadata": {},
     "output_type": "execute_result"
    }
   ],
   "source": [
    "allchi2.min()"
   ]
  },
  {
   "cell_type": "markdown",
   "metadata": {},
   "source": [
    "1. Which value of Omega_m corresponds to this model? "
   ]
  },
  {
   "cell_type": "code",
   "execution_count": 25,
   "metadata": {},
   "outputs": [
    {
     "data": {
      "text/plain": [
       "0.15000000000000002"
      ]
     },
     "execution_count": 25,
     "metadata": {},
     "output_type": "execute_result"
    }
   ],
   "source": [
    "omegaM[3]"
   ]
  },
  {
   "cell_type": "markdown",
   "metadata": {},
   "source": [
    "2. Which value of Omega_DE corresponds to this model?"
   ]
  },
  {
   "cell_type": "code",
   "execution_count": 26,
   "metadata": {},
   "outputs": [
    {
     "data": {
      "text/plain": [
       "0.85"
      ]
     },
     "execution_count": 26,
     "metadata": {},
     "output_type": "execute_result"
    }
   ],
   "source": [
    "1 - omegaM[3]"
   ]
  },
  {
   "cell_type": "markdown",
   "metadata": {},
   "source": [
    "3. Based on your answers, is a non-zero value of Dark Energy supported by the data?\n",
    "\n",
    "    * Yes it is supported."
   ]
  },
  {
   "cell_type": "markdown",
   "metadata": {},
   "source": [
    "#### Task 12 (optional, for Extra Credit)\n",
    "\n",
    "Repeat the $\\chi^2$ analysis for a two parameter model, with Omega_m varying between 0 and 1 in 0.05 intervals \n",
    "and H_0, the Hubble constant, varying between 50 and 80 km/s/Mpc in intervals of 5 km/s/Mpc.\n",
    "\n",
    "What are the values of Omega_m and H_0 that correspond to the lowest $\\chi^2$? How do your conclusions change in this case?\n",
    "\n"
   ]
  }
 ],
 "metadata": {
  "kernelspec": {
   "display_name": "Python 3",
   "language": "python",
   "name": "python3"
  },
  "language_info": {
   "codemirror_mode": {
    "name": "ipython",
    "version": 3
   },
   "file_extension": ".py",
   "mimetype": "text/x-python",
   "name": "python",
   "nbconvert_exporter": "python",
   "pygments_lexer": "ipython3",
   "version": "3.6.7"
  }
 },
 "nbformat": 4,
 "nbformat_minor": 2
}
