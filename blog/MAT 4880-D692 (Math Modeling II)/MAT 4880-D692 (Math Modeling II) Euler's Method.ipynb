{
 "cells": [
  {
   "cell_type": "markdown",
   "metadata": {},
   "source": [
    "## Euler's Method\n",
    "\n",
    "* We're using the logistics model $\\frac{dx}{dt} = 0.5x(1-x)$ and the discrete approximation using Euler's Method $x_{n+1} = x_n + \\Delta t * 0.5x_n (1-x_n)$ w/ $x(0) = 0.05$"
   ]
  },
  {
   "cell_type": "code",
   "execution_count": 1,
   "metadata": {},
   "outputs": [],
   "source": [
    "import numpy as np\n",
    "import matplotlib.pyplot as plt"
   ]
  },
  {
   "cell_type": "code",
   "execution_count": 2,
   "metadata": {},
   "outputs": [],
   "source": [
    "x0 = 0.05\n",
    "A = x0/(1-x0)\n",
    "f = lambda t: 1 / (1 + A*np.e**(-0.5*t))"
   ]
  },
  {
   "cell_type": "code",
   "execution_count": 4,
   "metadata": {},
   "outputs": [
    {
     "data": {
      "text/plain": [
       "218181.81818181818"
      ]
     },
     "execution_count": 4,
     "metadata": {},
     "output_type": "execute_result"
    }
   ],
   "source": [
    "int(N)"
   ]
  },
  {
   "cell_type": "code",
   "execution_count": 17,
   "metadata": {},
   "outputs": [
    {
     "data": {
      "text/plain": [
       "<matplotlib.legend.Legend at 0x10d3bf978>"
      ]
     },
     "execution_count": 17,
     "metadata": {},
     "output_type": "execute_result"
    },
    {
     "data": {
      "image/png": "[encoded data removed]",
      "text/plain": [
       "<Figure size 432x288 with 1 Axes>"
      ]
     },
     "metadata": {
      "needs_background": "light"
     },
     "output_type": "display_data"
    }
   ],
   "source": [
    "t = np.linspace(0, 600, 600)\n",
    "fig, ax = plt.subplots()\n",
    "\n",
    "delT = 0.55\n",
    "L = [[0, x0]]\n",
    "N = 120\n",
    "for i in range(N):\n",
    "    deltaX1 = lambda x: 0.5*x*(1-x)\n",
    "    t_last, x_last = L[-1][0], L[-1][1]\n",
    "    t_next = t_last + delT\n",
    "    x_next = x_last + (delT * deltaX1(x_last))\n",
    "    L.append([t_next, x_next])\n",
    "L = np.array(L)\n",
    "\n",
    "ax.plot(t, f(t), c= 'b', lw= '3', label= 'Analytical Solution')\n",
    "ax.scatter(L[:,0], L[:,1], c= 'r', label= 'Discrete Approximation')\n",
    "ax.set(xlabel= 't', ylabel='f(t)', \n",
    "       title= 'Analytical Solution vs Discrete Approximation | t vs. f(t)')\n",
    "ax.legend(loc= 'best')"
   ]
  },
  {
   "cell_type": "code",
   "execution_count": null,
   "metadata": {},
   "outputs": [],
   "source": [
    "L"
   ]
  },
  {
   "cell_type": "code",
   "execution_count": null,
   "metadata": {},
   "outputs": [],
   "source": [
    "blanks = []\n",
    "for time in t:\n",
    "    blanks.append([time, f(time)])"
   ]
  },
  {
   "cell_type": "code",
   "execution_count": null,
   "metadata": {},
   "outputs": [],
   "source": [
    "blanks"
   ]
  },
  {
   "cell_type": "code",
   "execution_count": null,
   "metadata": {},
   "outputs": [],
   "source": []
  }
 ],
 "metadata": {
  "kernelspec": {
   "display_name": "Programming_Practice",
   "language": "python",
   "name": "programming_practice"
  },
  "language_info": {
   "codemirror_mode": {
    "name": "ipython",
    "version": 3
   },
   "file_extension": ".py",
   "mimetype": "text/x-python",
   "name": "python",
   "nbconvert_exporter": "python",
   "pygments_lexer": "ipython3",
   "version": "3.6.7"
  }
 },
 "nbformat": 4,
 "nbformat_minor": 2
}
