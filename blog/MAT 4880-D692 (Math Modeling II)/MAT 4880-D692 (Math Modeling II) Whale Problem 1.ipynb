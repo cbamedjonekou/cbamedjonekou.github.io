{
 "cells": [
  {
   "cell_type": "markdown",
   "metadata": {},
   "source": [
    "**Name: Christ-Brian Amedjonekou**  \n",
    "**Date: 2/04/2019**  \n",
    "**MAT 4880-D692 (Math Modeling II) Deer Problem HW 1**  \n",
    "**Spring 2019, Section: D692, Code: 36561**  \n",
    "**Instructor: Johann Thiel**"
   ]
  },
  {
   "cell_type": "markdown",
   "metadata": {},
   "source": [
    "# Section 4.1 - Steady State Analysis\n",
    "\n",
    "* The simplest growth model is the one described and calculated below:\n",
    "\n",
    "$$\\frac{dB}{dt} = rB - aB^2$$  \n",
    "\n",
    "* For growth models, and in general, dynamical models, we assume the following is true as to keep our model simple:\n",
    "\n",
    "    * Growth is unrestricted; There's an abundance of room, and other resources need to sustain life. \n",
    "    * Therefore, $\\text{the growth rate} = rB$ is proportional to the size of the species.\n",
    "    * There's a self limiting factor; As population of a species increases, individuals of the species compete against each other for resource.\n",
    "    * Therefore, $\\text{the self limiting factor} = aB^2$ inhibits growth.\n",
    "    * We also have a carrying capacity which can be defined in terms of $r$ and $a$, shown below:\n",
    "    \n",
    "    $$\\frac{dB}{dt} = rB - aB^2 = rB\\Big(1 - \\frac{a}{r}B \\Big) = rB\\Big(1 - \\frac{B}{K} \\Big); \\text{ where } K = \\cfrac{1}{\\frac{a}{r}}= \\frac{r}{a}$$  \n",
    "    \n",
    "    * It's reasonable for to assume that for growth models, and for dynamical models in general, growth is linear to smaller populations, and then curtails off for as populations increase. \n",
    "        * If $r$, the growth rate, is larger than $a$, the limiting factor, there's more room to grow.\n",
    "        * The opposite is also true; If $r < a$ there's less room to grow.\n",
    "    $$\\space$$\n",
    "    * We find equilibrium points (when the system isn't changing) by setting the growth function, or dynamical system, to zero. Shown below:\n",
    "    \n",
    "    $$\\frac{dB}{dt} = rB\\Big(1 - \\frac{B}{K} \\Big) = 0$$\n",
    "    $$\\space$$\n",
    "        * The growth function equals to zero when $B = 0; B = K = \\frac{r}{a}$ \n",
    "    $$\\space$$    \n",
    "    \n",
    "    \n",
    "* The formal theory is shown below:\n",
    "    $$\\space$$\n",
    "    * When we model a dynamical model in steady state, we are given the functions:\n",
    "    \n",
    "    $$f_1(x_1,...,x_n)$$\n",
    "    $$.$$\n",
    "    $$.$$\n",
    "    $$.$$\n",
    "    $$f_n(x_1,...,x_n)$$\n",
    "    $$\\space$$\n",
    "    * which are defined on a subset, called $S$, in the set of real numbers called $R^N$. \n",
    "    * The functions $f_1,...,f_n$ represent the rate of change $\\Big(\\cfrac{\\partial x_1}{\\partial t},...,\\cfrac{\\partial x_n}{\\partial t}\\Big)$ of each variable $x_1,...,x_n$, respectively.\n",
    "    * A point, $x_1,...,x_n$, in the subset $S$ is called an equilibrium point given that:\n",
    "    $$f_1(x_1,...,x_n) = 0$$\n",
    "    $$.$$\n",
    "    $$.$$\n",
    "    $$.$$\n",
    "    $$f_n(x_1,...,x_n) = 0$$\n",
    "    \n",
    "    * at that point. The rate of change of each of the variables, $x_1,...,x_n$, is equal to zero so the system is at rest.\n",
    "    * The variables, $x_1,...,x_n$, are called state variables.\n",
    "    * $S$, the subset of $R^N$, is called the state space.\n",
    "    * Functions, $f(x_1,...,x_n)$, depend only on the current state, $x_1,...,x_n$, of the system. What this means gives rise to the following:\n",
    "    $$\\space$$\n",
    "        * Knowledge of the current state of the system is all we need to know to determine the entire future of the system.\n",
    "        * Once a dynamical system reaches steady state, it remains there forever. This is because the rate of change hits zero. \n",
    "            * No change means that you are constant. \n",
    "        \n",
    " \n",
    "    "
   ]
  },
  {
   "cell_type": "markdown",
   "metadata": {},
   "source": [
    "# Solving the Dynamical Model, \"Whale Problem\", using the Five-Step Method \n",
    "\n",
    "### Step 1: List your variables and Assumptions\n",
    "\n",
    "**Variables**\n",
    "\n",
    "* $B = \\text{number of Blue Whales}$  \n",
    "* $g_B = \\text{growth rate of the Blue Whale Population}$  \n",
    "* $a_B = \\text{self limiting factor of the Blue Whale Population}$  \n",
    "\n",
    "**Assumptions**\n",
    "\n",
    "* $g_B = 0.05B$\n",
    "* $a_B = \\frac{0.05B^2}{150000}, \\text{ where } K = 150000$\n",
    "* $P\\geq 0$\n",
    "\n",
    "\n",
    "### Step 2: Select the modeling approach\n",
    "\n",
    "$$\\frac{dB}{dt} = rB - aB^2$$  \n",
    "\n",
    "\n",
    "### Step 3: Formulate the model\n",
    "\n",
    "* We do that down below\n",
    "\n",
    "$$\\frac{dB}{dt} = 0.05B \\Big(1 − \\frac{B}{150000}\\Big)$$"
   ]
  },
  {
   "cell_type": "markdown",
   "metadata": {},
   "source": [
    "### Modules"
   ]
  },
  {
   "cell_type": "code",
   "execution_count": 1,
   "metadata": {},
   "outputs": [],
   "source": [
    "# Modules being called\n",
    "import math as m\n",
    "import numpy as np\n",
    "from sympy.solvers import solve\n",
    "import sympy as sp\n",
    "from matplotlib import pyplot as plt\n",
    "import pandas as pd"
   ]
  },
  {
   "cell_type": "markdown",
   "metadata": {},
   "source": [
    "### Variables"
   ]
  },
  {
   "cell_type": "code",
   "execution_count": 2,
   "metadata": {},
   "outputs": [],
   "source": [
    "# Writing the Model for the deer population\n",
    "B = sp.symbols('B')\n",
    "#dPdt = sp.Function('dPdt')\n",
    "\n",
    "# init_session() displays LaTeX version of outputs; 'quiet= True' stops \n",
    "# init_session from printing messages regarding its status\n",
    "sp.init_printing()"
   ]
  },
  {
   "cell_type": "markdown",
   "metadata": {},
   "source": [
    "### Sympy Rendition"
   ]
  },
  {
   "cell_type": "code",
   "execution_count": 3,
   "metadata": {},
   "outputs": [
    {
     "data": {
      "image/png": "[encoded data removed]",
      "text/latex": [
       "$$0.05 B \\left(- \\frac{B}{150000} + 1\\right)$$"
      ],
      "text/plain": [
       "       ⎛    B       ⎞\n",
       "0.05⋅B⋅⎜- ────── + 1⎟\n",
       "       ⎝  150000    ⎠"
      ]
     },
     "execution_count": 3,
     "metadata": {},
     "output_type": "execute_result"
    }
   ],
   "source": [
    "# Output\n",
    "dBdt = (0.05 * B)*(1 - B/150000)\n",
    "dBdt"
   ]
  },
  {
   "cell_type": "markdown",
   "metadata": {},
   "source": [
    "### Step 4: Solve the Model\n",
    "\n",
    "* We do that down below\n",
    "\n",
    "$$\\frac{dB}{dt} = 0.05B \\Big(1 − \\frac{B}{150000}\\Big) = 0$$"
   ]
  },
  {
   "cell_type": "markdown",
   "metadata": {},
   "source": [
    "### Equilibrium Points"
   ]
  },
  {
   "cell_type": "markdown",
   "metadata": {},
   "source": [
    "***(a) The equilibrium points to the Blue Whale Population are shown below. They occur when $\\frac{dB}{dt} = 0$***"
   ]
  },
  {
   "cell_type": "code",
   "execution_count": 4,
   "metadata": {
    "scrolled": true
   },
   "outputs": [
    {
     "name": "stdout",
     "output_type": "stream",
     "text": [
      "Equilibrium Points: (0.0,) and (150000.000000000,)\n"
     ]
    }
   ],
   "source": [
    "# Solution to the model(Equilibrium Point)\n",
    "\n",
    "equilibrium_points = solve([dBdt], B)\n",
    "print('Equilibrium Points: {} and {}'.format(equilibrium_points[0], equilibrium_points[1]))"
   ]
  },
  {
   "cell_type": "markdown",
   "metadata": {},
   "source": [
    "### Functions"
   ]
  },
  {
   "cell_type": "code",
   "execution_count": 5,
   "metadata": {},
   "outputs": [],
   "source": [
    "def dB_dt(blue):\n",
    "    \"\"\"Calculates the rate of change of deer Population\"\"\"\n",
    "    dBxdt = (0.05 * blue)*(1 - blue/150000)\n",
    "    return dBxdt\n",
    "\n",
    "def dBdt_table(start, finish):\n",
    "    \"\"\"Creates table for the above deer population. \n",
    "    Takes start and finish variables.\"\"\"\n",
    "    dictionary = {'P':np.arange(start,finish), 'dBdt': dB_dt(np.arange(start,finish))}\n",
    "    df = pd.DataFrame.from_dict(dictionary)\n",
    "    return df"
   ]
  },
  {
   "cell_type": "markdown",
   "metadata": {},
   "source": [
    "***(b,1) The sign of $\\frac{dB}{dt}$ if $B < 0$, is shown below; The sign is negative for all values. It should also be neglected as we cannot have negative Blue Whales.***"
   ]
  },
  {
   "cell_type": "code",
   "execution_count": 6,
   "metadata": {},
   "outputs": [
    {
     "data": {
      "text/html": [
       "<div>\n",
       "<style scoped>\n",
       "    .dataframe tbody tr th:only-of-type {\n",
       "        vertical-align: middle;\n",
       "    }\n",
       "\n",
       "    .dataframe tbody tr th {\n",
       "        vertical-align: top;\n",
       "    }\n",
       "\n",
       "    .dataframe thead th {\n",
       "        text-align: right;\n",
       "    }\n",
       "</style>\n",
       "<table border=\"1\" class=\"dataframe\">\n",
       "  <thead>\n",
       "    <tr style=\"text-align: right;\">\n",
       "      <th></th>\n",
       "      <th>P</th>\n",
       "      <th>dBdt</th>\n",
       "    </tr>\n",
       "  </thead>\n",
       "  <tbody>\n",
       "    <tr>\n",
       "      <th>0</th>\n",
       "      <td>-9</td>\n",
       "      <td>-0.450027</td>\n",
       "    </tr>\n",
       "    <tr>\n",
       "      <th>1</th>\n",
       "      <td>-8</td>\n",
       "      <td>-0.400021</td>\n",
       "    </tr>\n",
       "    <tr>\n",
       "      <th>2</th>\n",
       "      <td>-7</td>\n",
       "      <td>-0.350016</td>\n",
       "    </tr>\n",
       "    <tr>\n",
       "      <th>3</th>\n",
       "      <td>-6</td>\n",
       "      <td>-0.300012</td>\n",
       "    </tr>\n",
       "    <tr>\n",
       "      <th>4</th>\n",
       "      <td>-5</td>\n",
       "      <td>-0.250008</td>\n",
       "    </tr>\n",
       "    <tr>\n",
       "      <th>5</th>\n",
       "      <td>-4</td>\n",
       "      <td>-0.200005</td>\n",
       "    </tr>\n",
       "    <tr>\n",
       "      <th>6</th>\n",
       "      <td>-3</td>\n",
       "      <td>-0.150003</td>\n",
       "    </tr>\n",
       "    <tr>\n",
       "      <th>7</th>\n",
       "      <td>-2</td>\n",
       "      <td>-0.100001</td>\n",
       "    </tr>\n",
       "    <tr>\n",
       "      <th>8</th>\n",
       "      <td>-1</td>\n",
       "      <td>-0.050000</td>\n",
       "    </tr>\n",
       "  </tbody>\n",
       "</table>\n",
       "</div>"
      ],
      "text/plain": [
       "   P      dBdt\n",
       "0 -9 -0.450027\n",
       "1 -8 -0.400021\n",
       "2 -7 -0.350016\n",
       "3 -6 -0.300012\n",
       "4 -5 -0.250008\n",
       "5 -4 -0.200005\n",
       "6 -3 -0.150003\n",
       "7 -2 -0.100001\n",
       "8 -1 -0.050000"
      ]
     },
     "execution_count": 6,
     "metadata": {},
     "output_type": "execute_result"
    }
   ],
   "source": [
    "dBdt_table(-9,0)"
   ]
  },
  {
   "cell_type": "markdown",
   "metadata": {},
   "source": [
    "***(b,2) The sign of $\\frac{dB}{dt}$ if $0< B < 150000$, is shown below; The sign is positive for all values. You'll notice the equillibrian points at 0 and 150000. The rate of change (growth) of the Blue WHate Population equals 0 when there are no Blue Whales and when Blue Whales reaches its carrying capacity.***"
   ]
  },
  {
   "cell_type": "code",
   "execution_count": 7,
   "metadata": {},
   "outputs": [
    {
     "data": {
      "text/html": [
       "<div>\n",
       "<style scoped>\n",
       "    .dataframe tbody tr th:only-of-type {\n",
       "        vertical-align: middle;\n",
       "    }\n",
       "\n",
       "    .dataframe tbody tr th {\n",
       "        vertical-align: top;\n",
       "    }\n",
       "\n",
       "    .dataframe thead th {\n",
       "        text-align: right;\n",
       "    }\n",
       "</style>\n",
       "<table border=\"1\" class=\"dataframe\">\n",
       "  <thead>\n",
       "    <tr style=\"text-align: right;\">\n",
       "      <th></th>\n",
       "      <th>P</th>\n",
       "      <th>dBdt</th>\n",
       "    </tr>\n",
       "  </thead>\n",
       "  <tbody>\n",
       "    <tr>\n",
       "      <th>0</th>\n",
       "      <td>0</td>\n",
       "      <td>0.000000</td>\n",
       "    </tr>\n",
       "    <tr>\n",
       "      <th>1</th>\n",
       "      <td>1</td>\n",
       "      <td>0.050000</td>\n",
       "    </tr>\n",
       "    <tr>\n",
       "      <th>2</th>\n",
       "      <td>2</td>\n",
       "      <td>0.099999</td>\n",
       "    </tr>\n",
       "    <tr>\n",
       "      <th>3</th>\n",
       "      <td>3</td>\n",
       "      <td>0.149997</td>\n",
       "    </tr>\n",
       "    <tr>\n",
       "      <th>4</th>\n",
       "      <td>4</td>\n",
       "      <td>0.199995</td>\n",
       "    </tr>\n",
       "    <tr>\n",
       "      <th>5</th>\n",
       "      <td>5</td>\n",
       "      <td>0.249992</td>\n",
       "    </tr>\n",
       "    <tr>\n",
       "      <th>6</th>\n",
       "      <td>6</td>\n",
       "      <td>0.299988</td>\n",
       "    </tr>\n",
       "  </tbody>\n",
       "</table>\n",
       "</div>"
      ],
      "text/plain": [
       "   P      dBdt\n",
       "0  0  0.000000\n",
       "1  1  0.050000\n",
       "2  2  0.099999\n",
       "3  3  0.149997\n",
       "4  4  0.199995\n",
       "5  5  0.249992\n",
       "6  6  0.299988"
      ]
     },
     "execution_count": 7,
     "metadata": {},
     "output_type": "execute_result"
    }
   ],
   "source": [
    "dBdt_table(0,150000).head(7)"
   ]
  },
  {
   "cell_type": "code",
   "execution_count": 8,
   "metadata": {},
   "outputs": [
    {
     "data": {
      "text/html": [
       "<div>\n",
       "<style scoped>\n",
       "    .dataframe tbody tr th:only-of-type {\n",
       "        vertical-align: middle;\n",
       "    }\n",
       "\n",
       "    .dataframe tbody tr th {\n",
       "        vertical-align: top;\n",
       "    }\n",
       "\n",
       "    .dataframe thead th {\n",
       "        text-align: right;\n",
       "    }\n",
       "</style>\n",
       "<table border=\"1\" class=\"dataframe\">\n",
       "  <thead>\n",
       "    <tr style=\"text-align: right;\">\n",
       "      <th></th>\n",
       "      <th>P</th>\n",
       "      <th>dBdt</th>\n",
       "    </tr>\n",
       "  </thead>\n",
       "  <tbody>\n",
       "    <tr>\n",
       "      <th>149994</th>\n",
       "      <td>149994</td>\n",
       "      <td>0.299988</td>\n",
       "    </tr>\n",
       "    <tr>\n",
       "      <th>149995</th>\n",
       "      <td>149995</td>\n",
       "      <td>0.249992</td>\n",
       "    </tr>\n",
       "    <tr>\n",
       "      <th>149996</th>\n",
       "      <td>149996</td>\n",
       "      <td>0.199995</td>\n",
       "    </tr>\n",
       "    <tr>\n",
       "      <th>149997</th>\n",
       "      <td>149997</td>\n",
       "      <td>0.149997</td>\n",
       "    </tr>\n",
       "    <tr>\n",
       "      <th>149998</th>\n",
       "      <td>149998</td>\n",
       "      <td>0.099999</td>\n",
       "    </tr>\n",
       "    <tr>\n",
       "      <th>149999</th>\n",
       "      <td>149999</td>\n",
       "      <td>0.050000</td>\n",
       "    </tr>\n",
       "    <tr>\n",
       "      <th>150000</th>\n",
       "      <td>150000</td>\n",
       "      <td>0.000000</td>\n",
       "    </tr>\n",
       "  </tbody>\n",
       "</table>\n",
       "</div>"
      ],
      "text/plain": [
       "             P      dBdt\n",
       "149994  149994  0.299988\n",
       "149995  149995  0.249992\n",
       "149996  149996  0.199995\n",
       "149997  149997  0.149997\n",
       "149998  149998  0.099999\n",
       "149999  149999  0.050000\n",
       "150000  150000  0.000000"
      ]
     },
     "execution_count": 8,
     "metadata": {},
     "output_type": "execute_result"
    }
   ],
   "source": [
    "dBdt_table(0,150001).tail(7)"
   ]
  },
  {
   "cell_type": "markdown",
   "metadata": {},
   "source": [
    "***(b,3) The sign of $\\frac{dB}{dt}$ if $B > 150000$, is shown below; The sign is negative for all values. Again the Blue Whale Population cannot be negative therefore this value can be neglected***"
   ]
  },
  {
   "cell_type": "code",
   "execution_count": 9,
   "metadata": {},
   "outputs": [
    {
     "data": {
      "text/html": [
       "<div>\n",
       "<style scoped>\n",
       "    .dataframe tbody tr th:only-of-type {\n",
       "        vertical-align: middle;\n",
       "    }\n",
       "\n",
       "    .dataframe tbody tr th {\n",
       "        vertical-align: top;\n",
       "    }\n",
       "\n",
       "    .dataframe thead th {\n",
       "        text-align: right;\n",
       "    }\n",
       "</style>\n",
       "<table border=\"1\" class=\"dataframe\">\n",
       "  <thead>\n",
       "    <tr style=\"text-align: right;\">\n",
       "      <th></th>\n",
       "      <th>P</th>\n",
       "      <th>dBdt</th>\n",
       "    </tr>\n",
       "  </thead>\n",
       "  <tbody>\n",
       "    <tr>\n",
       "      <th>0</th>\n",
       "      <td>150001</td>\n",
       "      <td>-0.050000</td>\n",
       "    </tr>\n",
       "    <tr>\n",
       "      <th>1</th>\n",
       "      <td>150002</td>\n",
       "      <td>-0.100001</td>\n",
       "    </tr>\n",
       "    <tr>\n",
       "      <th>2</th>\n",
       "      <td>150003</td>\n",
       "      <td>-0.150003</td>\n",
       "    </tr>\n",
       "    <tr>\n",
       "      <th>3</th>\n",
       "      <td>150004</td>\n",
       "      <td>-0.200005</td>\n",
       "    </tr>\n",
       "    <tr>\n",
       "      <th>4</th>\n",
       "      <td>150005</td>\n",
       "      <td>-0.250008</td>\n",
       "    </tr>\n",
       "    <tr>\n",
       "      <th>5</th>\n",
       "      <td>150006</td>\n",
       "      <td>-0.300012</td>\n",
       "    </tr>\n",
       "    <tr>\n",
       "      <th>6</th>\n",
       "      <td>150007</td>\n",
       "      <td>-0.350016</td>\n",
       "    </tr>\n",
       "  </tbody>\n",
       "</table>\n",
       "</div>"
      ],
      "text/plain": [
       "        P      dBdt\n",
       "0  150001 -0.050000\n",
       "1  150002 -0.100001\n",
       "2  150003 -0.150003\n",
       "3  150004 -0.200005\n",
       "4  150005 -0.250008\n",
       "5  150006 -0.300012\n",
       "6  150007 -0.350016"
      ]
     },
     "execution_count": 9,
     "metadata": {},
     "output_type": "execute_result"
    }
   ],
   "source": [
    "dBdt_table(150001,160000).head(7)"
   ]
  },
  {
   "cell_type": "code",
   "execution_count": 10,
   "metadata": {
    "scrolled": true
   },
   "outputs": [
    {
     "data": {
      "text/html": [
       "<div>\n",
       "<style scoped>\n",
       "    .dataframe tbody tr th:only-of-type {\n",
       "        vertical-align: middle;\n",
       "    }\n",
       "\n",
       "    .dataframe tbody tr th {\n",
       "        vertical-align: top;\n",
       "    }\n",
       "\n",
       "    .dataframe thead th {\n",
       "        text-align: right;\n",
       "    }\n",
       "</style>\n",
       "<table border=\"1\" class=\"dataframe\">\n",
       "  <thead>\n",
       "    <tr style=\"text-align: right;\">\n",
       "      <th></th>\n",
       "      <th>P</th>\n",
       "      <th>dBdt</th>\n",
       "    </tr>\n",
       "  </thead>\n",
       "  <tbody>\n",
       "    <tr>\n",
       "      <th>9992</th>\n",
       "      <td>159993</td>\n",
       "      <td>-532.936683</td>\n",
       "    </tr>\n",
       "    <tr>\n",
       "      <th>9993</th>\n",
       "      <td>159994</td>\n",
       "      <td>-532.993345</td>\n",
       "    </tr>\n",
       "    <tr>\n",
       "      <th>9994</th>\n",
       "      <td>159995</td>\n",
       "      <td>-533.050008</td>\n",
       "    </tr>\n",
       "    <tr>\n",
       "      <th>9995</th>\n",
       "      <td>159996</td>\n",
       "      <td>-533.106672</td>\n",
       "    </tr>\n",
       "    <tr>\n",
       "      <th>9996</th>\n",
       "      <td>159997</td>\n",
       "      <td>-533.163336</td>\n",
       "    </tr>\n",
       "    <tr>\n",
       "      <th>9997</th>\n",
       "      <td>159998</td>\n",
       "      <td>-533.220001</td>\n",
       "    </tr>\n",
       "    <tr>\n",
       "      <th>9998</th>\n",
       "      <td>159999</td>\n",
       "      <td>-533.276667</td>\n",
       "    </tr>\n",
       "  </tbody>\n",
       "</table>\n",
       "</div>"
      ],
      "text/plain": [
       "           P        dBdt\n",
       "9992  159993 -532.936683\n",
       "9993  159994 -532.993345\n",
       "9994  159995 -533.050008\n",
       "9995  159996 -533.106672\n",
       "9996  159997 -533.163336\n",
       "9997  159998 -533.220001\n",
       "9998  159999 -533.276667"
      ]
     },
     "execution_count": 10,
     "metadata": {},
     "output_type": "execute_result"
    }
   ],
   "source": [
    "dBdt_table(150001,160000).tail(7)"
   ]
  },
  {
   "cell_type": "markdown",
   "metadata": {},
   "source": [
    "### Plotting Vector Field"
   ]
  },
  {
   "cell_type": "code",
   "execution_count": 11,
   "metadata": {},
   "outputs": [
    {
     "data": {
      "text/plain": [
       "<matplotlib.streamplot.StreamplotSet at 0x11684c898>"
      ]
     },
     "execution_count": 11,
     "metadata": {},
     "output_type": "execute_result"
    },
    {
     "data": {
      "image/png": "[encoded data removed]",
      "text/plain": [
       "<Figure size 432x288 with 1 Axes>"
      ]
     },
     "metadata": {
      "needs_background": "light"
     },
     "output_type": "display_data"
    }
   ],
   "source": [
    "%matplotlib inline\n",
    "#----------------------------------------------------------------------------------\n",
    "# Creates the superimposed plot for stream plot of the model, as well as dPdt = 0\n",
    "#----------------------------------------------------------------------------------\n",
    "\n",
    "# Part 1: Creates the length of the 'X' (Days) and 'Y'(Deer Population) Axis \n",
    "x, y = np.linspace(0, 10000), np.linspace(0, 200000)\n",
    "X, Y = np.meshgrid(x, y)\n",
    "\n",
    "# Part 2: The approximated points of the function dP/dt which we'll use for the plot.\n",
    "U, V = X, dB_dt(Y)\n",
    "\n",
    "# Part 3: Creating the figure for the plot\n",
    "fig, ax1 = plt.subplots()\n",
    "\n",
    "# Part 4: Creating the plots for dP/dt = 0, the Nullclines\n",
    "\n",
    "ax1.plot([0,10000],[150000,150000], 'r-', lw=2, label='Blue Whale-Nullcline')\n",
    "\n",
    "# Part 5: Sets the axis, and equilibrium information for the plot\n",
    "ax1.set(title= 'Blue Whale Problem Model', xlabel= 'Days', ylabel ='Blue Whale Population')\n",
    "ax1.tick_params(axis='Blue Whale Population', labelcolor='r')\n",
    "ax1.legend(loc= 'upper right')\n",
    "\n",
    "# Part 6: Plots the streamplot which represents the vector plot.\n",
    "ax1.streamplot(X, Y, U, V)"
   ]
  },
  {
   "cell_type": "markdown",
   "metadata": {},
   "source": [
    "### Step 5: Answer the Question\n",
    "\n",
    "* **Based on the graph the dynamical model seems to indicate that the whale population will stabilize at the euilibrium Point: 150000.**"
   ]
  }
 ],
 "metadata": {
  "kernelspec": {
   "display_name": "Programming_Practice",
   "language": "python",
   "name": "programming_practice"
  },
  "language_info": {
   "codemirror_mode": {
    "name": "ipython",
    "version": 3
   },
   "file_extension": ".py",
   "mimetype": "text/x-python",
   "name": "python",
   "nbconvert_exporter": "python",
   "pygments_lexer": "ipython3",
   "version": "3.6.7"
  }
 },
 "nbformat": 4,
 "nbformat_minor": 2
}
