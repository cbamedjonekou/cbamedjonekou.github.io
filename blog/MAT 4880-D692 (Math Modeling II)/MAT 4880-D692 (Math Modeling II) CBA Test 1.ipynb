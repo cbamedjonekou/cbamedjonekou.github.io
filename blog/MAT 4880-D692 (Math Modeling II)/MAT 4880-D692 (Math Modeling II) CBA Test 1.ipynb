{
 "cells": [
  {
   "cell_type": "markdown",
   "metadata": {},
   "source": [
    "**Name: Christ-Brian Amedjonekou**  \n",
    "**Date: 2/25/2019**  \n",
    "**MAT 4880-D692 (Math Modeling II) Test 1**  \n",
    "**Spring 2019, Section: D692, Code: 36561**  \n",
    "**Instructor: Johann Thiel**"
   ]
  },
  {
   "cell_type": "markdown",
   "metadata": {},
   "source": [
    "# Problem 1: Shark vs. Seals Population Model\n",
    "\n",
    "* Part A: is shown here\n",
    "\n",
    "**Variables**\n",
    "\n",
    "$g_{\\text{Sharks}} = \\text{Growth Rate of the Sharks}$\n",
    "\n",
    "$g_{\\text{Seals}} = \\text{Growth Rate of the Seals}$\n",
    "\n",
    "$c_{\\text{Sharks}} = \\text{Competition Term for the Sharks}$\n",
    "\n",
    "$c_{\\text{Seals}} = \\text{Competition Term for the Seals}$\n",
    "\n",
    "**Assumptions**\n",
    "\n",
    "$g_{\\text{Sharks}} = 0.03*\\text{Sharks} \\Big(1 - \\frac{\\text{Sharks}}{45000}\\Big)$\n",
    "\n",
    "$g_{\\text{Seals}} = 0.11*\\text{Seals} \\Big(1 - \\frac{\\text{Seals}}{150000}\\Big)$\n",
    "\n",
    "$c_{\\text{Sharks}} = + \\frac{0.02}{150000}*\\text{Sharks} * \\text{Seals}$\n",
    "\n",
    "$c_{\\text{Seals}} = - \\frac{0.06}{45000}*\\text{Sharks} * \\text{Seals}$\n",
    "\n",
    "$\\text{Sharks}, \\space \\text{Seals} \\geq 0$\n",
    "\n",
    "**Objective**\n",
    "\n",
    "* Finding if Sharks and Seals can coexist in the system.\n",
    "* If 11% for Seals is incorrect find the minimum growth possible for coexistance"
   ]
  },
  {
   "cell_type": "markdown",
   "metadata": {},
   "source": [
    "## Packages"
   ]
  },
  {
   "cell_type": "code",
   "execution_count": 1,
   "metadata": {},
   "outputs": [],
   "source": [
    "import numpy as np\n",
    "from sympy.solvers import solve, solveset\n",
    "import sympy as sp\n",
    "from matplotlib import pyplot as plt\n",
    "import math as m\n",
    "import pandas as pd"
   ]
  },
  {
   "cell_type": "markdown",
   "metadata": {},
   "source": [
    "## Variables"
   ]
  },
  {
   "cell_type": "code",
   "execution_count": 2,
   "metadata": {},
   "outputs": [],
   "source": [
    "# Growth Rates: (g_Sharks = g_X, Sharks = X); (g_Seals = g_Y, Seals = Y)\n",
    "X, Y = sp.symbols('X Y')\n",
    "\n",
    "# I realized after the test so I made the correction. I uzed \"X\" instead of \"Y\"\n",
    "g_X, g_Y = 0.03 * X * (1 - X/45000), 0.11 * Y * (1 - Y/150000) \n",
    "\n",
    "# Competition Terms: (c_Sharks = c_X, Sharks = X); (c_Seals = c_Y, Seals = Y)\n",
    "c_X, c_Y = (0.02/150000)*X*Y, (0.06/45000)*X*Y\n",
    "\n",
    "# dX/dt and dY/dt\n",
    "dXdt, dYdt = g_X + c_X, g_Y - c_Y\n",
    "sp.init_printing()"
   ]
  },
  {
   "cell_type": "markdown",
   "metadata": {},
   "source": [
    "## Functions"
   ]
  },
  {
   "cell_type": "code",
   "execution_count": 3,
   "metadata": {},
   "outputs": [],
   "source": [
    "def dX_dt(sharks, seals):\n",
    "    gX = 0.03 * sharks * (1 - sharks/45000)\n",
    "    cX = (0.02/150000)*sharks*seals\n",
    "    diffX_dt = gX + cX\n",
    "    return diffX_dt\n",
    "\n",
    "\n",
    "def dY_dt(sharks, seals):\n",
    "    gY = 0.11 * Y * (1 - X/150000)\n",
    "    cY = (0.06/45000)*X*Y\n",
    "    diffY_dt = gY - cY\n",
    "    return diffY_dt"
   ]
  },
  {
   "cell_type": "markdown",
   "metadata": {},
   "source": [
    "## Equillibrium Points\n",
    "\n",
    "* Part B: is shown below via this Equillibrium Section, and Plot Section"
   ]
  },
  {
   "cell_type": "code",
   "execution_count": 4,
   "metadata": {},
   "outputs": [
    {
     "data": {
      "image/png": "[encoded data removed]",
      "text/latex": [
       "$$\\left [ \\left ( 0.0, \\quad 0.0\\right ), \\quad \\left ( 0.0, \\quad 150000.0\\right ), \\quad \\left ( 45000.0, \\quad 0.0\\right ), \\quad \\left ( 55000.0, \\quad 50000.0\\right )\\right ]$$"
      ],
      "text/plain": [
       "[(0.0, 0.0), (0.0, 150000.0), (45000.0, 0.0), (55000.0, 50000.0)]"
      ]
     },
     "execution_count": 4,
     "metadata": {},
     "output_type": "execute_result"
    }
   ],
   "source": [
    "solve([dXdt,dYdt], X, Y)"
   ]
  },
  {
   "cell_type": "markdown",
   "metadata": {},
   "source": [
    "## Nullclines"
   ]
  },
  {
   "cell_type": "code",
   "execution_count": 5,
   "metadata": {},
   "outputs": [
    {
     "data": {
      "image/png": "[encoded data removed]",
      "text/latex": [
       "$$\\left ( 0.0\\right )$$"
      ],
      "text/plain": [
       "(0.0,)"
      ]
     },
     "execution_count": 5,
     "metadata": {},
     "output_type": "execute_result"
    }
   ],
   "source": [
    "solve([dXdt], X)[0]"
   ]
  },
  {
   "cell_type": "code",
   "execution_count": 6,
   "metadata": {},
   "outputs": [
    {
     "data": {
      "image/png": "[encoded data removed]",
      "text/latex": [
       "$$\\left ( 0.2 Y + 45000.0\\right )$$"
      ],
      "text/plain": [
       "(0.2⋅Y + 45000.0,)"
      ]
     },
     "execution_count": 6,
     "metadata": {},
     "output_type": "execute_result"
    }
   ],
   "source": [
    "solve([dXdt], X)[1]"
   ]
  },
  {
   "cell_type": "code",
   "execution_count": 7,
   "metadata": {
    "scrolled": true
   },
   "outputs": [
    {
     "data": {
      "image/png": "[encoded data removed]",
      "text/latex": [
       "$$\\left ( 0.0\\right )$$"
      ],
      "text/plain": [
       "(0.0,)"
      ]
     },
     "execution_count": 7,
     "metadata": {},
     "output_type": "execute_result"
    }
   ],
   "source": [
    "solve([dYdt], Y)[0]"
   ]
  },
  {
   "cell_type": "code",
   "execution_count": 8,
   "metadata": {},
   "outputs": [
    {
     "data": {
      "image/png": "[encoded data removed]",
      "text/latex": [
       "$$\\left ( - 1.81818181818182 X + 150000.0\\right )$$"
      ],
      "text/plain": [
       "(-1.81818181818182⋅X + 150000.0,)"
      ]
     },
     "execution_count": 8,
     "metadata": {},
     "output_type": "execute_result"
    }
   ],
   "source": [
    "solve([dYdt], Y)[1]"
   ]
  },
  {
   "cell_type": "markdown",
   "metadata": {},
   "source": [
    "## Plot"
   ]
  },
  {
   "cell_type": "code",
   "execution_count": 9,
   "metadata": {},
   "outputs": [
    {
     "data": {
      "image/png": "[encoded data removed]",
      "text/plain": [
       "<Figure size 432x288 with 1 Axes>"
      ]
     },
     "metadata": {
      "needs_background": "light"
     },
     "output_type": "display_data"
    }
   ],
   "source": [
    "x, y = np.linspace(0, 60000), np.linspace(0, 200000)\n",
    "X, Y = np.meshgrid(x, y)\n",
    "U, V = dX_dt(X, Y), dY_dt(X, Y)\n",
    "X1, X2, Y1, Y2 = 0.2*y + 45000.0, 0 * y, -1.81818181818182*x +150000.0, 0 * x\n",
    "fig, ax1 = plt.subplots()\n",
    "ax1.streamplot(X, Y, U, V)\n",
    "ax1.plot(X1, y, color= 'b', ls= '--', lw= 3, label= 'shark-nullcline')\n",
    "ax1.plot(X2, y, color= 'b', ls= '--', lw= 6)\n",
    "ax1.plot(x, Y1, color= 'r', ls= '--', lw= 3, label= 'seal-nullcline')\n",
    "ax1.plot(x, Y2, color= 'r', ls= '--', lw= 3)\n",
    "ax1.set(xlabel= 'sharks', ylabel= 'seals', title= 'Sharks vs Seals', xlim= (0, 60000));\n"
   ]
  },
  {
   "cell_type": "markdown",
   "metadata": {},
   "source": [
    "## Conclusions\n",
    "\n",
    "* ***Part C: It appears as though the equillibrium is stable because the vector seem to be traveling towards it***\n",
    "    * **Correction: I failed to classify all points**\n",
    "    $$\\space$$\n",
    "    * **(0.0, 0.0), (0.0,150000.0), (45000.0, 0.0) are all unstable as the vectors point away from them.**\n",
    "    * **(55000.0, 50000.0) is stable as the vectors all converge to this point.** \n",
    "\n",
    "\n",
    "* Part D: As a result of the vectors traveling towards the equillibrium point I believe that the two species can coexist.\n",
    "$$\\space$$\n",
    "* ***Part E: [10 points] Suppose that the assumption of a 11% growth rate per year for the seals is incorrect. What is the smallest growth rate for the seals that will guarantee coexistence is possible?***\n",
    "    $$\\space$$\n",
    "    * **Correction: I did not complete this portion on the exam.**\n",
    "    * Based on what was calculated below, as long as $r_2$, the growth rate for seals, is greater than 6% there will be stable equilibrium (coexistance).\n",
    "    * **The inequality indicates that the minimum value is $0.0600000733333871$ or $6.00000733333871 \\%$**\n",
    "    * **I say $7\\%$ is better** "
   ]
  },
  {
   "cell_type": "code",
   "execution_count": 10,
   "metadata": {},
   "outputs": [],
   "source": [
    "# Growth Rates: (g_Sharks = g_X, Sharks = X); (g_Seals = g_Y, Seals = Y)\n",
    "X, Y, r2 = sp.symbols('X Y r2')\n",
    "g_X, g_Y = 0.03 * X * (1 - X/45000), r2 * Y * (1 - Y/150000)\n",
    "\n",
    "# Competition Terms: (c_Sharks = c_X, Sharks = X); (c_Seals = c_Y, Seals = Y)\n",
    "c_X, c_Y = (0.02/150000)*X*Y, (0.06/45000)*X*Y\n",
    "\n",
    "# dX/dt and dY/dt\n",
    "dXdt, dYdt = g_X + c_X, g_Y - c_Y"
   ]
  },
  {
   "cell_type": "code",
   "execution_count": 11,
   "metadata": {},
   "outputs": [
    {
     "data": {
      "image/png": "[encoded data removed]",
      "text/latex": [
       "$$\\left ( \\frac{1875000.0 r_{2}}{25.0 r_{2} + 1.0}, \\quad \\frac{3750000.0 r_{2} - 225000.0}{25.0 r_{2} + 1.0}\\right )$$"
      ],
      "text/plain": [
       "⎛ 1875000.0⋅r₂  3750000.0⋅r₂ - 225000.0⎞\n",
       "⎜─────────────, ───────────────────────⎟\n",
       "⎝25.0⋅r₂ + 1.0       25.0⋅r₂ + 1.0     ⎠"
      ]
     },
     "execution_count": 11,
     "metadata": {},
     "output_type": "execute_result"
    }
   ],
   "source": [
    "eq1 = solve([dXdt,dYdt], X, Y)[3]\n",
    "eq1"
   ]
  },
  {
   "cell_type": "code",
   "execution_count": 12,
   "metadata": {},
   "outputs": [
    {
     "data": {
      "image/png": "[encoded data removed]",
      "text/latex": [
       "$$\\left [ 0.0\\right ]$$"
      ],
      "text/plain": [
       "[0.0]"
      ]
     },
     "execution_count": 12,
     "metadata": {},
     "output_type": "execute_result"
    }
   ],
   "source": [
    "solve(eq1[0], r2)"
   ]
  },
  {
   "cell_type": "code",
   "execution_count": 13,
   "metadata": {
    "scrolled": true
   },
   "outputs": [
    {
     "data": {
      "image/png": "[encoded data removed]",
      "text/latex": [
       "$$\\left(-\\infty, -0.04\\right) \\cup \\left(0, \\infty\\right)$$"
      ],
      "text/plain": [
       "(-∞, -0.04) ∪ (0, ∞)"
      ]
     },
     "execution_count": 13,
     "metadata": {},
     "output_type": "execute_result"
    }
   ],
   "source": [
    "solveset(eq1[0] > 0, r2, sp.Reals)"
   ]
  },
  {
   "cell_type": "code",
   "execution_count": 14,
   "metadata": {},
   "outputs": [
    {
     "data": {
      "image/png": "[encoded data removed]",
      "text/latex": [
       "$$\\left [ 0.06\\right ]$$"
      ],
      "text/plain": [
       "[0.06]"
      ]
     },
     "execution_count": 14,
     "metadata": {},
     "output_type": "execute_result"
    }
   ],
   "source": [
    "solve(eq1[1], r2)"
   ]
  },
  {
   "cell_type": "code",
   "execution_count": 15,
   "metadata": {},
   "outputs": [
    {
     "data": {
      "image/png": "[encoded data removed]",
      "text/latex": [
       "$$\\left(-\\infty, -0.04\\right) \\cup \\left(0.06, \\infty\\right)$$"
      ],
      "text/plain": [
       "(-∞, -0.04) ∪ (0.06, ∞)"
      ]
     },
     "execution_count": 15,
     "metadata": {},
     "output_type": "execute_result"
    }
   ],
   "source": [
    "solveset(eq1[1] > 0, r2, sp.Reals)"
   ]
  },
  {
   "cell_type": "markdown",
   "metadata": {},
   "source": [
    "# Problem 2: Discrete Dynamical System"
   ]
  },
  {
   "cell_type": "code",
   "execution_count": 28,
   "metadata": {},
   "outputs": [],
   "source": [
    "x1, x2, a = sp.symbols('x1 x2 a')\n",
    "deltaX1, deltaX2 = x1 + x2, 2*x1**2 - x2 + a\n",
    "sp.init_printing()"
   ]
  },
  {
   "cell_type": "code",
   "execution_count": 29,
   "metadata": {},
   "outputs": [
    {
     "data": {
      "image/png": "[encoded data removed]",
      "text/latex": [
       "$$x_{1} + x_{2}$$"
      ],
      "text/plain": [
       "x₁ + x₂"
      ]
     },
     "execution_count": 29,
     "metadata": {},
     "output_type": "execute_result"
    }
   ],
   "source": [
    "deltaX1"
   ]
  },
  {
   "cell_type": "code",
   "execution_count": 30,
   "metadata": {},
   "outputs": [
    {
     "data": {
      "image/png": "[encoded data removed]",
      "text/latex": [
       "$$a + 2 x_{1}^{2} - x_{2}$$"
      ],
      "text/plain": [
       "        2     \n",
       "a + 2⋅x₁  - x₂"
      ]
     },
     "execution_count": 30,
     "metadata": {},
     "output_type": "execute_result"
    }
   ],
   "source": [
    "deltaX2"
   ]
  },
  {
   "cell_type": "markdown",
   "metadata": {},
   "source": [
    "## Equillibrium Points"
   ]
  },
  {
   "cell_type": "code",
   "execution_count": 35,
   "metadata": {},
   "outputs": [
    {
     "data": {
      "image/png": "[encoded data removed]",
      "text/latex": [
       "$$\\left [ \\left ( - \\frac{\\sqrt{- 8 a + 1}}{4} - \\frac{1}{4}, \\quad \\frac{\\sqrt{- 8 a + 1}}{4} + \\frac{1}{4}\\right ), \\quad \\left ( \\frac{\\sqrt{- 8 a + 1}}{4} - \\frac{1}{4}, \\quad - \\frac{\\sqrt{- 8 a + 1}}{4} + \\frac{1}{4}\\right )\\right ]$$"
      ],
      "text/plain": [
       "⎡⎛    __________        __________    ⎞  ⎛  __________          __________    \n",
       "⎢⎜  ╲╱ -8⋅a + 1    1  ╲╱ -8⋅a + 1    1⎟  ⎜╲╱ -8⋅a + 1    1    ╲╱ -8⋅a + 1    1\n",
       "⎢⎜- ──────────── - ─, ──────────── + ─⎟, ⎜──────────── - ─, - ──────────── + ─\n",
       "⎣⎝       4         4       4         4⎠  ⎝     4         4         4         4\n",
       "\n",
       "⎞⎤\n",
       "⎟⎥\n",
       "⎟⎥\n",
       "⎠⎦"
      ]
     },
     "execution_count": 35,
     "metadata": {},
     "output_type": "execute_result"
    }
   ],
   "source": [
    "eq2 = solve([deltaX1, deltaX2], x1, x2)\n",
    "eq2"
   ]
  },
  {
   "cell_type": "markdown",
   "metadata": {},
   "source": [
    "## Finding $x_1(2)$ and $x_2(2)$\n",
    "\n",
    "$x_1(0) = 3$  \n",
    "\n",
    "$x_2(0) = 2$  \n",
    "\n",
    "**-------------------------------------------------------------**\n",
    "\n",
    "$\\Delta x_1 = x_1 + x_2 = 3 + 2 = 5$  \n",
    "\n",
    "$\\Delta x_2 = 2x_1^2 - x_2 + \\alpha = 2(3)^2 - 2 + 1 = 17$  \n",
    "\n",
    "$x_1(1) = x_1(0) + \\Delta x_1 = 3 + 5 = 8$  \n",
    "\n",
    "$x_2(1) = x_2(0) + \\Delta x_2 = 2 + 17 = 19$  \n",
    "\n",
    "**-------------------------------------------------------------**\n",
    "\n",
    "$\\Delta x_1 = x_1 + x_2 = 8 + 19 = 27$  \n",
    "\n",
    "$\\Delta x_2 = 2x_1^2 - x_2 + \\alpha = 2(8)^2 - 19 + 1 = 110$  \n",
    "\n",
    "\n",
    "$x_1(2) = x_1(1) + \\Delta x_1 = 8 + 27 = 35$  \n",
    "\n",
    "$x_2(2) = x_2(1) + \\Delta x_2 = 19 + 110 = 129$  "
   ]
  },
  {
   "cell_type": "code",
   "execution_count": 20,
   "metadata": {},
   "outputs": [],
   "source": [
    "def delta_X1(x_1, x_2):\n",
    "    return x_1 + x_2\n",
    "\n",
    "\n",
    "def delta_X2(x_1, x_2, alpha):\n",
    "    return 2*m.pow(x_1, 2) - x_2 + alpha"
   ]
  },
  {
   "cell_type": "code",
   "execution_count": 32,
   "metadata": {},
   "outputs": [
    {
     "data": {
      "text/html": [
       "<div>\n",
       "<style scoped>\n",
       "    .dataframe tbody tr th:only-of-type {\n",
       "        vertical-align: middle;\n",
       "    }\n",
       "\n",
       "    .dataframe tbody tr th {\n",
       "        vertical-align: top;\n",
       "    }\n",
       "\n",
       "    .dataframe thead th {\n",
       "        text-align: right;\n",
       "    }\n",
       "</style>\n",
       "<table border=\"1\" class=\"dataframe\">\n",
       "  <thead>\n",
       "    <tr style=\"text-align: right;\">\n",
       "      <th></th>\n",
       "      <th>X_1</th>\n",
       "      <th>X_2</th>\n",
       "    </tr>\n",
       "  </thead>\n",
       "  <tbody>\n",
       "    <tr>\n",
       "      <th>0</th>\n",
       "      <td>3.0</td>\n",
       "      <td>2.0</td>\n",
       "    </tr>\n",
       "    <tr>\n",
       "      <th>1</th>\n",
       "      <td>8.0</td>\n",
       "      <td>19.0</td>\n",
       "    </tr>\n",
       "    <tr>\n",
       "      <th>2</th>\n",
       "      <td>35.0</td>\n",
       "      <td>129.0</td>\n",
       "    </tr>\n",
       "  </tbody>\n",
       "</table>\n",
       "</div>"
      ],
      "text/plain": [
       "    X_1    X_2\n",
       "0   3.0    2.0\n",
       "1   8.0   19.0\n",
       "2  35.0  129.0"
      ]
     },
     "execution_count": 32,
     "metadata": {},
     "output_type": "execute_result"
    }
   ],
   "source": [
    "x1_, x2_, alpha = 3, 2, 1\n",
    "x1_list, x2_list = [],[]\n",
    "x1_list.append(x1_)\n",
    "x2_list.append(x2_)\n",
    "for i in range(2):\n",
    "    x1_new = x1_list[i] + delta_X1(x1_list[i], x2_list[i])\n",
    "    x2_new = x2_list[i] + delta_X2(x1_list[i], x2_list[i], alpha)\n",
    "    x1_list.append(x1_new)\n",
    "    x2_list.append(x2_new)\n",
    "    \n",
    "    \n",
    "data1 = {'X_1': x1_list, 'X_2': x2_list}\n",
    "df1 = pd.DataFrame.from_dict(data1)\n",
    "df1"
   ]
  },
  {
   "cell_type": "code",
   "execution_count": 33,
   "metadata": {},
   "outputs": [
    {
     "name": "stdout",
     "output_type": "stream",
     "text": [
      "The value for x1(2) is: 35.0\n"
     ]
    }
   ],
   "source": [
    "print('The value for x1(2) is: {}'.format(df1['X_1'].iloc[2]))"
   ]
  },
  {
   "cell_type": "code",
   "execution_count": 34,
   "metadata": {
    "scrolled": true
   },
   "outputs": [
    {
     "name": "stdout",
     "output_type": "stream",
     "text": [
      "The value for x2(2) is: 129.0\n"
     ]
    }
   ],
   "source": [
    "print('The value for x2(2) is: {}'.format(df1['X_2'].iloc[2]))"
   ]
  },
  {
   "cell_type": "markdown",
   "metadata": {},
   "source": [
    "# Problem 3:\n",
    "\n",
    "**For what values of α does the system in question 2 have no real equilibrium points? Justify.**\n",
    "\n",
    "* Because of the negative in the square root term, if $\\alpha > 0$, you'll end up with imaginary parts. "
   ]
  }
 ],
 "metadata": {
  "kernelspec": {
   "display_name": "Programming_Practice",
   "language": "python",
   "name": "programming_practice"
  },
  "language_info": {
   "codemirror_mode": {
    "name": "ipython",
    "version": 3
   },
   "file_extension": ".py",
   "mimetype": "text/x-python",
   "name": "python",
   "nbconvert_exporter": "python",
   "pygments_lexer": "ipython3",
   "version": "3.6.7"
  }
 },
 "nbformat": 4,
 "nbformat_minor": 2
}
